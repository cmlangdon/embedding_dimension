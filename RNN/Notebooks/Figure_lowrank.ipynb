{
 "cells": [
  {
   "cell_type": "code",
   "execution_count": 1,
   "id": "initial_id",
   "metadata": {
    "collapsed": true,
    "ExecuteTime": {
     "end_time": "2024-09-12T18:40:21.078032Z",
     "start_time": "2024-09-12T18:40:21.075276Z"
    }
   },
   "outputs": [],
   "source": [
    "# Construct network with rank k connectivity and check if dimension of dynamics\n",
    "# is low rank"
   ]
  },
  {
   "cell_type": "code",
   "outputs": [
    {
     "name": "stdout",
     "output_type": "stream",
     "text": [
      "/Users/cl1704/PycharmProjects/clustering_in_rnns\n"
     ]
    }
   ],
   "source": [
    "cd /Users/cl1704/PycharmProjects/clustering_in_rnns"
   ],
   "metadata": {
    "collapsed": false,
    "ExecuteTime": {
     "end_time": "2024-09-13T17:26:13.624769Z",
     "start_time": "2024-09-13T17:26:13.616589Z"
    }
   },
   "id": "252fc441b2520eb9",
   "execution_count": 2
  },
  {
   "cell_type": "code",
   "outputs": [],
   "source": [
    "from Experiment_1.TwoAFCTask import generate_trials\n",
    "import networkx as nx\n",
    "import pandas as pd\n",
    "import matplotlib\n",
    "import matplotlib.pyplot as plt\n",
    "from matplotlib import gridspec\n",
    "import seaborn as sns\n",
    "from Experiment_1.net import *\n",
    "import os\n",
    "import statsmodels.api as sm\n",
    "import scipy.optimize as opt\n",
    "import math\n",
    "#from psychometrics import *\n",
    "from sklearn.cluster import DBSCAN\n",
    "from scipy.stats import ortho_group\n",
    "\n",
    "from sklearn.decomposition import PCA\n",
    "import networkx as nx\n",
    "from sklearn.cluster import KMeans\n",
    "plt.rcParams[\"axes.grid\"] = False\n",
    "from sklearn.manifold import TSNE\n",
    "matplotlib.rcParams['axes.linewidth'] = .5"
   ],
   "metadata": {
    "collapsed": false,
    "ExecuteTime": {
     "end_time": "2024-09-13T17:26:14.213817Z",
     "start_time": "2024-09-13T17:26:13.835492Z"
    }
   },
   "id": "bf44b732759855ae",
   "execution_count": 3
  },
  {
   "cell_type": "code",
   "outputs": [],
   "source": [
    "import torch\n",
    "import torch.nn as nn\n",
    "import numpy as np\n",
    "#from scipy.sparse import random\n",
    "from scipy import stats\n",
    "from numpy import linalg\n",
    "from sklearn.decomposition import PCA\n",
    "from torch.utils.data import TensorDataset, DataLoader\n",
    "import random as rdm\n",
    "from Connectivity import *\n",
    "if torch.cuda.is_available():\n",
    "    device = 'cuda'\n",
    "else:\n",
    "    device = 'cpu'\n",
    "\n",
    "class NetRates(torch.nn.Module):\n",
    "    def __init__(self, n, alpha = .2, sigma_rec=0.15,sigma_in=0.2, input_size=6, output_size=2,dale=False,activation = torch.nn.ReLU(),dropout = 5 ):\n",
    "        super(NetRates, self).__init__()\n",
    "        self.alpha = torch.tensor(alpha)\n",
    "        self.sigma_rec = torch.tensor(sigma_rec)\n",
    "        self.sigma_in = torch.tensor(sigma_in)\n",
    "        self.n = n\n",
    "        self.input_size = input_size\n",
    "        self.output_size = output_size\n",
    "        self.activation = activation\n",
    "        self.dale = dale\n",
    "        self.dropout = dropout\n",
    "        \n",
    "        # Connectivity\n",
    "        self.recurrent_layer = nn.Linear(self.n, self.n, bias=True)\n",
    "        self.recurrent_layer.weight.data.fill_diagonal_(0)\n",
    "        self.recurrent_layer.weight.data.normal_(mean=0., std=0.025).to(device=device)\n",
    "\n",
    "        self.recurrent_layer.bias.data.normal_(mean=0.2, std=0).to(device=device)\n",
    "        self.recurrent_layer.bias.requires_grad = False\n",
    "\n",
    "        self.input_layer = nn.Linear(self.input_size, self.n, bias=False)\n",
    "        self.input_layer.weight.data.normal_(mean=.2, std=0.025).to(device=device)\n",
    "        #self.input_layer.weight.data = torch.where(torch.rand_like(self.input_layer.weight.data)> 0.5, -self.input_layer.weight.data, self.input_layer.weight.data)\n",
    "\n",
    "        self.output_layer = nn.Linear(self.n, self.output_size, bias=False)\n",
    "        self.output_layer.weight.data.normal_(mean=0.2, std=0.025).to(device=device)\n",
    "        #self.output_layer.weight.data = torch.where(torch.rand_like(self.output_layer.weight.data)> 0.5, -self.output_layer.weight.data, self.output_layer.weight.data)\n",
    "\n",
    "\n",
    "        # init_connectivity(self, device,self.n, radius=1.5, recurrent_sparsity=1, input_sparsity=1, output_sparsity=1,\n",
    "        #                   input_size=2, output_size=2)\n",
    "\n",
    "    # Dynamics\n",
    "    def forward(self, u,initial_states = None):\n",
    "        t = u.shape[1]\n",
    "        if initial_states is None:\n",
    "            states = torch.zeros(u.shape[0], 1, self.n, device=device)\n",
    "        else:\n",
    "            states = initial_states\n",
    "        batch_size = states.shape[0]\n",
    "        input_noise = torch.sqrt(2 / self.alpha * self.sigma_in ** 2) * torch.empty(batch_size, t, self.input_size).normal_(mean=0,\n",
    "                                                                                                              std=1).to(\n",
    "            device=device)\n",
    "      \n",
    "        recurrent_noise = torch.zeros(batch_size, t, self.n).to(device=device)\n",
    "        inputs = self.input_layer(u+input_noise)\n",
    "        for i in range(t - 1):\n",
    "            state_new = (1 - self.alpha) * states[:, i, :] + self.alpha * (\n",
    "                self.activation(self.recurrent_layer(states[:, i, :]) + inputs[:, i, :]  ) + recurrent_noise[:, i, :])\n",
    "            states = torch.cat((states, state_new.unsqueeze_(1)), 1)\n",
    "\n",
    "        #dropout: randomly zero out the responses of some neurons\n",
    "        # if training:\n",
    "        #     dropped_units = rdm.sample(set(np.arange(states.shape[2])), self.dropout)\n",
    "        #     states[:, :, dropped_units] = 0\n",
    "        return states\n",
    "\n",
    "    def loss_function(self, x, z, u, mask, lvar, lstd,dim):\n",
    "        return self.mse_z(x,z,mask) + lvar * self.variance(x, dim) \n",
    "\n",
    "\n",
    "\n",
    "    def fit(self, u, z, mask, conditions, dim, lvar = 0,lstd = 0,epochs = 10000, lr=.01, verbose = False, weight_decay = 0):\n",
    "\n",
    "        my_dataset = TensorDataset(u, z, mask)  # create your datset\n",
    "        my_dataloader = DataLoader(my_dataset, batch_size=64)\n",
    "        \n",
    "        optimizer = torch.optim.Adam(self.parameters(), lr=lr, weight_decay = weight_decay)\n",
    "        epoch = 0\n",
    "        #mse_z=1\n",
    "        while epoch < epochs:\n",
    "            for batch_idx, (u_batch, z_batch, mask_batch) in enumerate(my_dataloader):\n",
    "                optimizer.zero_grad()\n",
    "                x_batch = self.forward(u_batch,training=True)\n",
    "                loss = self.loss_function(x_batch, z_batch, u_batch,mask_batch, lvar,lstd, dim)\n",
    "                loss.backward()\n",
    "                optimizer.step()\n",
    "                self.recurrent_layer.weight.data.fill_diagonal_(0)\n",
    "                # self.recurrent_layer.weight.data = torch.relu(\n",
    "                #     self.recurrent_layer.weight.data * self.dale_mask) * self.dale_mask\n",
    "                # self.input_layer.weight.data = self.input_mask * torch.relu(\n",
    "                #     self.input_layer.weight.data)\n",
    "                # self.output_layer.weight.data = self.output_mask * torch.relu(\n",
    "                #     self.output_layer.weight.data)\n",
    "                \n",
    "                #mse_z = self.mse_z(x, z, mask).item()\n",
    "    \n",
    "                epoch += 1\n",
    "                if verbose:\n",
    "                    if epoch % 50 == 0:\n",
    "                        x = self.forward(u)\n",
    "                        print('Epoch: {}/{}.............'.format(epoch, epochs), end=' ')\n",
    "                        print(\"mse_z: {:.4f}\".format(self.mse_z(x, z, mask).item()))\n",
    "                    \n",
    "    \n",
    "\n",
    "\n",
    "        \n",
    "\n"
   ],
   "metadata": {
    "collapsed": false,
    "ExecuteTime": {
     "end_time": "2024-09-13T17:26:14.223790Z",
     "start_time": "2024-09-13T17:26:14.219797Z"
    }
   },
   "id": "7899ffc7cfc21409",
   "execution_count": 4
  },
  {
   "cell_type": "code",
   "outputs": [],
   "source": [
    "\n",
    "\n",
    "\n",
    "class NetActivations(torch.nn.Module):\n",
    "    def __init__(self, n, alpha=.2, sigma_rec=0.15, sigma_in=0.2, input_size=2, output_size=2, dale=False,\n",
    "                 activation=torch.nn.ReLU()):\n",
    "        super(NetActivations, self).__init__()\n",
    "        self.alpha = torch.tensor(alpha)\n",
    "        self.sigma_rec = torch.tensor(sigma_rec)\n",
    "        self.sigma_in = torch.tensor(sigma_in)\n",
    "        self.n = n\n",
    "        self.input_size = input_size\n",
    "        self.output_size = output_size\n",
    "        self.activation = activation\n",
    "        self.dale = dale\n",
    "\n",
    "        # Connectivity\n",
    "        self.recurrent_layer = nn.Linear(self.n, self.n, bias=True)\n",
    "        #self.recurrent_layer.weight.data.normal_(mean=0., std=0.025).to(device=device)\n",
    "        self.recurrent_layer.weight.data.fill_diagonal_(0)\n",
    "        self.recurrent_layer.bias.data.normal_(mean=0, std=0).to(device=device)\n",
    "        self.recurrent_layer.bias.requires_grad = False\n",
    "\n",
    "        self.input_layer = nn.Linear(self.input_size, self.n, bias=False)\n",
    "        #self.input_layer.weight.data.normal_(mean=.2, std=.01).to(device=device)\n",
    "\n",
    "        self.output_layer = nn.Linear(self.n, self.output_size, bias=False)\n",
    "        self.output_layer.weight.data.normal_(mean=0, std=0.25).to(device=device)\n",
    "\n",
    "    # Dynamics\n",
    "    def forward(self, u, initial_states=None):\n",
    "        t = u.shape[1]\n",
    "        if initial_states is None:\n",
    "            states = torch.zeros(u.shape[0], 1, self.n, device=device)\n",
    "        else:\n",
    "            states = initial_states\n",
    "        batch_size = states.shape[0]\n",
    "        input_noise = torch.sqrt(2 / self.alpha * self.sigma_in ** 2) * torch.empty(batch_size, t,\n",
    "                                                                                    self.input_size).normal_(mean=0,\n",
    "                                                                                                             std=1).to(\n",
    "            device=device)\n",
    "\n",
    "        recurrent_noise = torch.zeros(batch_size, t, self.n).to(device=device)\n",
    "        inputs = self.input_layer(u + input_noise)\n",
    "        for i in range(t - 1):\n",
    "            state_new = (1 - self.alpha) * states[:, i, :] + self.alpha * (\n",
    "                    self.recurrent_layer(self.activation(states[:, i, :])) + inputs[:, i, :] + recurrent_noise[:, i, :])\n",
    "            states = torch.cat((states, state_new.unsqueeze_(1)), 1)\n",
    "        return states\n",
    "\n",
    "    def loss_function(self, x, z, mask, lvar, dim):\n",
    "        return self.mse_z(x, z, mask) + lvar * self.variance(x, dim)\n",
    "\n",
    "\n",
    "    def fit(self, u, z, mask, conditions, dim, lvar=0, epochs=10000, lr=.01, verbose=False, weight_decay=0):\n",
    "        optimizer = torch.optim.Adam(self.parameters(), lr=lr, weight_decay=weight_decay)\n",
    "        epoch = 0\n",
    "        while epoch < epochs:\n",
    "            optimizer.zero_grad()\n",
    "            x = self.forward(u)\n",
    "            loss = self.loss_function(x, z, mask, lvar, dim)\n",
    "            loss.backward()\n",
    "            optimizer.step()\n",
    "            self.recurrent_layer.weight.data.fill_diagonal_(0)\n",
    "\n",
    "            epoch += 1\n",
    "            if verbose:\n",
    "                if epoch % 50 == 0:\n",
    "                    print('Epoch: {}/{}.............'.format(epoch, epochs), end=' ')\n",
    "                    print(\"mse_z: {:.4f}\".format(self.mse_z(x, z, mask).item()))\n",
    "\n",
    "\n"
   ],
   "metadata": {
    "collapsed": false,
    "ExecuteTime": {
     "end_time": "2024-09-13T17:26:14.966152Z",
     "start_time": "2024-09-13T17:26:14.960303Z"
    }
   },
   "id": "2d5f817fb26b8563",
   "execution_count": 5
  },
  {
   "cell_type": "code",
   "outputs": [],
   "source": [],
   "metadata": {
    "collapsed": false,
    "ExecuteTime": {
     "end_time": "2024-09-13T17:26:15.236910Z",
     "start_time": "2024-09-13T17:26:15.231901Z"
    }
   },
   "id": "dbc4fed8c3f70396",
   "execution_count": 5
  },
  {
   "cell_type": "code",
   "outputs": [],
   "source": [
    "\n"
   ],
   "metadata": {
    "collapsed": false,
    "ExecuteTime": {
     "end_time": "2024-09-13T17:22:41.857850Z",
     "start_time": "2024-09-13T17:22:41.854663Z"
    }
   },
   "id": "d1a791641787badb",
   "execution_count": 255
  },
  {
   "cell_type": "code",
   "outputs": [],
   "source": [
    "rank = 4\n",
    "u = torch.zeros(900,75,rank)\n",
    "for k in range(900):\n",
    "    for r in range(rank):\n",
    "        u[k,:,r] = 5*torch.rand(1)*torch.sigmoid(2*torch.rand(1))\n",
    "\n",
    "\n",
    "N = 50\n",
    "rows = []\n",
    "variance_rates = []\n",
    "variance_activations = []\n",
    "# u, z, mask, conditions  = generate_trials(\n",
    "#                             n_trials=100)\n",
    "for run in range(200):\n",
    "    q = torch.tensor(ortho_group.rvs(N)[:,:rank]).float()\n",
    "    a = 2*torch.rand(rank,rank)-1\n",
    "    # b = 2*torch.rand(1,N)-1\n",
    "    # c = 2*torch.rand(1,N)-1\n",
    "    # d = 2*torch.rand(1,N)-1\n",
    "    # w = a.t() @b + c.t()@d\n",
    "    w= q @a@q.t()\n",
    "    ## = 2*torch.rand(N,N)-1\n",
    "    \n",
    "    w_in = q\n",
    "\n",
    "    \n",
    "    initial_states =  2*(torch.rand(u.shape[0],1,rank)) @ w_in.t() \n",
    "    # Rates\n",
    "    net = NetRates(n=N,input_size = rank,dale=False)\n",
    "    net.recurrent_layer.weight.data = w.float()\n",
    "    net.recurrent_layer.bias.data = torch.tensor(0).float()\n",
    "    net.input_layer.weight.data = 1*w_in\n",
    "    net.output_layer.weight.data = torch.zeros(2,N).float()\n",
    "    x = net(u,initial_states).detach().cpu().numpy()\n",
    "    pca = PCA().fit(x.reshape(-1,x.shape[2]))\n",
    "    variance_rates.append(np.sum(pca.explained_variance_ratio_[rank:]))\n",
    "    \n",
    "    # Activations\n",
    "    net = NetActivations(n=N,input_size = rank,dale=False)\n",
    "    net.recurrent_layer.weight.data = w.float()\n",
    "    net.recurrent_layer.bias.data = torch.tensor(0).float()\n",
    "    net.input_layer.weight.data = 1*w_in\n",
    "    net.output_layer.weight.data = torch.zeros(2,N).float()\n",
    "    x = net(u,initial_states).detach().cpu().numpy()\n",
    "    pca = PCA().fit(x.reshape(-1,x.shape[2]))\n",
    "    variance_activations.append(np.sum(pca.explained_variance_ratio_[rank:]))\n",
    "    # for component in range(10):\n",
    "    #     rows.append({'run':run,'component':component,'pca':pca.explained_variance_ratio_[component]})\n",
    "    # "
   ],
   "metadata": {
    "collapsed": false,
    "ExecuteTime": {
     "end_time": "2024-09-13T18:02:16.347493Z",
     "start_time": "2024-09-13T18:00:40.855133Z"
    }
   },
   "id": "127ee7776d0257ce",
   "execution_count": 109
  },
  {
   "cell_type": "code",
   "outputs": [
    {
     "data": {
      "text/plain": "<Figure size 150x150 with 1 Axes>",
      "image/png": "[encoded data removed]"
     },
     "metadata": {},
     "output_type": "display_data"
    }
   ],
   "source": [
    "rows = []\n",
    "for i in range(200):\n",
    "    rows.append({'type':'rates',\n",
    "                 'variance':variance_rates[i]})\n",
    "    rows.append({'type':'activations',\n",
    "                 'variance':variance_activations[i]})\n",
    "df = pd.DataFrame(rows)\n",
    "fig = plt.figure(figsize=(1.5,1.5))\n",
    "gs = gridspec.GridSpec(1,1)\n",
    "ax=fig.add_subplot(gs[0,0])\n",
    "sns.histplot(data = df, x = 'variance', hue = 'type',ax=ax,legend = False)\n",
    "ax.spines['right'].set_visible(False)\n",
    "ax.spines['top'].set_visible(False)\n",
    "ax.set_xlabel(r\"$\\frac{1}{\\lambda}\\sum_{i>4}\\lambda_i} $\", fontsize=8)\n",
    "ax.set_ylabel(\"Count\", fontsize=8)\n",
    "ax.xaxis.set_tick_params(labelsize=7,bottom=True)\n",
    "ax.yaxis.set_tick_params(labelsize=7,left=True)\n",
    "ax.spines['left'].set_color('black')\n",
    "ax.spines['bottom'].set_color('black')\n",
    "fig.savefig('Figures/Fig_2afc_a.jpg',\n",
    "    format='jpeg',\n",
    "    dpi=450,\n",
    "            bbox_inches='tight'\n",
    ")\n"
   ],
   "metadata": {
    "collapsed": false,
    "ExecuteTime": {
     "end_time": "2024-09-13T18:02:35.993920Z",
     "start_time": "2024-09-13T18:02:35.879251Z"
    }
   },
   "id": "fe18520e8b899e18",
   "execution_count": 111
  },
  {
   "cell_type": "code",
   "outputs": [
    {
     "data": {
      "text/plain": "[3.5357906001279947e-11,\n 3.4083897335435834e-11,\n 1.6831701063778108e-11,\n 1.3428264595955548e-11,\n 2.478122557336891e-11,\n 3.472916850738283e-11,\n 3.095080519658723e-11,\n 3.02936174986006e-11,\n 1.2922482089882672e-11,\n 1.8000937718455696e-11,\n 1.3822747573788493e-11,\n 3.4605105548436006e-11,\n 6.692356059260717e-12,\n 3.1463015055199096e-11,\n 2.19696584299388e-11,\n 2.060431666998511e-11,\n 2.2303495314477077e-11,\n 4.410188210210171e-11,\n 1.1468306298991948e-11,\n 1.0884151939417738e-11,\n 2.7201011552366348e-11,\n 9.475186846266683e-12,\n 1.475897498260802e-11,\n 1.6170764970552493e-11,\n 2.0546757999636143e-11,\n 1.428378060241817e-11,\n 1.3181878979505869e-11,\n 1.0617127809735993e-11,\n 3.329175012326535e-11,\n 1.950601526477052e-11,\n 6.4373115944815145e-12,\n 2.927770156674105e-11,\n 4.266810351513121e-11,\n 2.7285796986741423e-11,\n 3.963109078548791e-11,\n 4.008009664256345e-11,\n 5.0100398558019586e-11,\n 1.9081018012894127e-11,\n 1.5578129275678213e-11,\n 2.5195808853877422e-11,\n 2.187254702125699e-11,\n 3.733758135966571e-11,\n 3.480067714208088e-11,\n 1.5170248072502173e-11,\n 2.7134957678340896e-11,\n 1.1429062391213534e-11,\n 1.1216582184653138e-11,\n 2.5566535516797898e-11,\n 1.2848700875260599e-11,\n 2.5310916752703668e-11,\n 1.4389428987811319e-11,\n 2.0859001081324586e-11,\n 2.1284683748947714e-11,\n 1.199300771604056e-11,\n 3.389698618100832e-11,\n 1.5385940080212234e-11,\n 7.829158834438645e-12,\n 1.2118925826360441e-11,\n 1.9514868197989125e-11,\n 3.117434162610929e-11,\n 4.826800708429052e-11,\n 8.719747621150073e-12,\n 1.6754071146351002e-11,\n 1.3661592330518329e-11,\n 1.9372036088025607e-11,\n 2.809737541044017e-11,\n 1.1540113676390702e-11,\n 2.116759999463716e-11,\n 2.7469560097910918e-11,\n 2.955365652692034e-11,\n 3.3202252885919206e-11,\n 1.977008309823862e-11,\n 2.8841598736515025e-11,\n 1.2738867152552498e-11,\n 2.925443872753668e-11,\n 3.62653997267379e-11,\n 2.4047716069082277e-11,\n 2.280537134916611e-11,\n 1.4396201300868247e-11,\n 3.892153129516808e-11,\n 1.5117084169589505e-11,\n 1.9280855845281692e-11,\n 7.765726083018169e-12,\n 3.209365494350568e-11,\n 2.0693210320266148e-11,\n 2.5362081419336852e-11,\n 8.782305366444923e-12,\n 3.788167287810171e-11,\n 4.5983124326717627e-11,\n 4.816475557859667e-12,\n 8.9536985143794e-12,\n 2.133466107948205e-11,\n 1.4926704967394403e-11,\n 1.7345106803376822e-11,\n 5.943565471794233e-11,\n 3.0619948432036733e-11,\n 1.1418131787524834e-11,\n 5.9350148009106456e-12,\n 1.3891740296013419e-11,\n 1.8976742598798807e-11]"
     },
     "execution_count": 77,
     "metadata": {},
     "output_type": "execute_result"
    }
   ],
   "source": [
    "variance_activations"
   ],
   "metadata": {
    "collapsed": false,
    "ExecuteTime": {
     "end_time": "2024-09-13T17:38:58.950574Z",
     "start_time": "2024-09-13T17:38:58.948170Z"
    }
   },
   "id": "b7371b75862f4d9a",
   "execution_count": 77
  },
  {
   "cell_type": "code",
   "outputs": [
    {
     "data": {
      "text/plain": "<Axes: >"
     },
     "execution_count": 55,
     "metadata": {},
     "output_type": "execute_result"
    },
    {
     "data": {
      "text/plain": "<Figure size 640x480 with 1 Axes>",
      "image/png": "[encoded data removed]"
     },
     "metadata": {},
     "output_type": "display_data"
    }
   ],
   "source": [
    "plt.figure()\n",
    "sns.barplot(x = np.arange(10),y = pca.explained_variance_ratio_[:10])"
   ],
   "metadata": {
    "collapsed": false,
    "ExecuteTime": {
     "end_time": "2024-09-13T17:28:55.838533Z",
     "start_time": "2024-09-13T17:28:55.755831Z"
    }
   },
   "id": "3338a86eaffa795d",
   "execution_count": 55
  },
  {
   "cell_type": "code",
   "outputs": [
    {
     "data": {
      "text/plain": "<Axes: >"
     },
     "execution_count": 227,
     "metadata": {},
     "output_type": "execute_result"
    },
    {
     "data": {
      "text/plain": "<Figure size 640x480 with 2 Axes>",
      "image/png": "[encoded data removed]"
     },
     "metadata": {},
     "output_type": "display_data"
    }
   ],
   "source": [
    "plt.figure()\n",
    "sns.heatmap(u[2,:,:])"
   ],
   "metadata": {
    "collapsed": false,
    "ExecuteTime": {
     "end_time": "2024-09-13T17:20:45.085544Z",
     "start_time": "2024-09-13T17:20:44.986437Z"
    }
   },
   "id": "d86b5adf4d202e04",
   "execution_count": 227
  },
  {
   "cell_type": "code",
   "outputs": [],
   "source": [],
   "metadata": {
    "collapsed": false
   },
   "id": "a35fa3c5f6cfde31"
  }
 ],
 "metadata": {
  "kernelspec": {
   "display_name": "Python 3",
   "language": "python",
   "name": "python3"
  },
  "language_info": {
   "codemirror_mode": {
    "name": "ipython",
    "version": 2
   },
   "file_extension": ".py",
   "mimetype": "text/x-python",
   "name": "python",
   "nbconvert_exporter": "python",
   "pygments_lexer": "ipython2",
   "version": "2.7.6"
  }
 },
 "nbformat": 4,
 "nbformat_minor": 5
}
