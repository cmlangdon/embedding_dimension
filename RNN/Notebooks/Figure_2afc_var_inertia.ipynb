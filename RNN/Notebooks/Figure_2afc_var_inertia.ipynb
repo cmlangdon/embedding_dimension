{
 "cells": [
  {
   "cell_type": "markdown",
   "source": [
    "## Variance vs. inertia plots for 2afc (rates) models"
   ],
   "metadata": {
    "collapsed": false
   },
   "id": "b5fc5b9c797acd41"
  },
  {
   "cell_type": "code",
   "outputs": [
    {
     "name": "stdout",
     "output_type": "stream",
     "text": [
      "/Users/cl1704/PycharmProjects/clustering_in_rnns\n"
     ]
    }
   ],
   "source": [
    "cd /Users/cl1704/PycharmProjects/clustering_in_rnns"
   ],
   "metadata": {
    "collapsed": false,
    "ExecuteTime": {
     "end_time": "2025-03-31T01:27:22.712119Z",
     "start_time": "2025-03-31T01:27:22.708247Z"
    }
   },
   "id": "3876b9e5b5b7d933",
   "execution_count": 1
  },
  {
   "cell_type": "code",
   "outputs": [],
   "source": [
    "def compute_var(variance,n):\n",
    "    return np.sum(variance[n:])\n",
    "\n",
    "def compute_p(k, null_k):\n",
    "    return (np.sum(null_k<k)/len(null_k))"
   ],
   "metadata": {
    "collapsed": false,
    "ExecuteTime": {
     "end_time": "2025-03-31T01:27:22.715136Z",
     "start_time": "2025-03-31T01:27:22.712239Z"
    }
   },
   "id": "20dd0ac17ce760d4",
   "execution_count": 2
  },
  {
   "cell_type": "code",
   "outputs": [],
   "source": [
    "from Experiment_1.TwoAFCTask import generate_trials\n",
    "#from Experiment_5.SiegelMillerTask import generate_trials\n",
    "import networkx as nx\n",
    "import pandas as pd\n",
    "import matplotlib\n",
    "import matplotlib.pyplot as plt\n",
    "from matplotlib import gridspec\n",
    "import seaborn as sns\n",
    "from Experiment_1.net import *\n",
    "import os\n",
    "import statsmodels.api as sm\n",
    "import scipy.optimize as opt\n",
    "import math\n",
    "#from psychometrics import *\n",
    "from sklearn.cluster import DBSCAN\n",
    "from sklearn.decomposition import PCA\n",
    "import networkx as nx\n",
    "from sklearn.cluster import KMeans\n",
    "plt.rcParams[\"axes.grid\"] = False\n",
    "from sklearn.manifold import TSNE\n",
    "matplotlib.rcParams['axes.linewidth'] = .75"
   ],
   "metadata": {
    "collapsed": false,
    "ExecuteTime": {
     "end_time": "2025-03-31T01:27:23.756249Z",
     "start_time": "2025-03-31T01:27:22.714920Z"
    }
   },
   "id": "28a69b7e65597724",
   "execution_count": 3
  },
  {
   "cell_type": "code",
   "outputs": [
    {
     "name": "stdout",
     "output_type": "stream",
     "text": [
      "0.5623413251903491\n",
      "0.5623413251903491\n",
      "0.4216965034285822\n",
      "0.5623413251903491\n"
     ]
    },
    {
     "data": {
      "text/plain": "<Figure size 1400x200 with 4 Axes>",
      "image/png": "[encoded data removed]"
     },
     "metadata": {},
     "output_type": "display_data"
    }
   ],
   "source": [
    "import scipy.optimize as opt\n",
    "import math\n",
    "fig = plt.figure(figsize=(14,2))\n",
    "gs = gridspec.GridSpec(1,4,wspace = .35)\n",
    "ax0=fig.add_subplot(gs[0,0])\n",
    "ax1=fig.add_subplot(gs[0,1])\n",
    "ax2=fig.add_subplot(gs[0,2])\n",
    "ax3=fig.add_subplot(gs[0,3])\n",
    "axes = [ax0,ax1,ax2,ax3]\n",
    "\n",
    "df_list = []\n",
    "for filename in os.listdir('Experiment_1/Results_1'):\n",
    "    f = os.path.join('Experiment_1/Results_1', filename)\n",
    "    if os.path.isfile(f):\n",
    "        df_list.append(pd.read_pickle(f))\n",
    "original_df_act = pd.concat(df_list,ignore_index=True) \n",
    "original_df_act = original_df_act[original_df_act.mse_z<.035]\n",
    "#original_df_act = original_df_act[original_df_act.lambda_std==0.1]\n",
    "##original_df_act = original_df_act[original_df_act.sigma_rec==0]\n",
    "original_df_act = original_df_act[original_df_act.lr==0.005]\n",
    "#original_df_act = original_df_act[original_df_act.n==100]\n",
    "#original_df_act = original_df_act[original_df_act.beta==1.4]\n",
    "#original_df_act = original_df_act[original_df_act.activity_std<.01]\n",
    "#original_df_act = original_df_act[original_df_act.beta==5.]\n",
    "\n",
    "\n",
    "#original_df = original_df[original_df.k>1]\n",
    "parameters = []\n",
    "fit_rows = []\n",
    "\n",
    "for i in range(4):\n",
    "    ax = axes[i]\n",
    "    k = i+2\n",
    "    df = original_df_act.copy()\n",
    "    df['var'] = df.variance.apply(lambda x: compute_var(x,k))\n",
    "    df['k_inertia'] = df.inertia.apply(lambda x: x[k])\n",
    "    #df['var'] = np.log(df['var'])\n",
    "    #df = df[df.k>=k]\n",
    "    df = df[df.dim==k]\n",
    "    print(df.lvar.max())\n",
    "    #df = df[df['var']<-.35]\n",
    "    \n",
    "        # Construct null dataframe\n",
    "    rows = []\n",
    "    for index, row in df.iterrows():\n",
    "        null = row['null_inertia']\n",
    "        for run in range(null.shape[1]):\n",
    "            rows.append({'model_id':row['model_id'],\n",
    "                         'var':row['var'],\n",
    "                         'sigma_rec': row['sigma_rec'],\n",
    "                         'lr': row['lr'],\n",
    "            'run':run,\n",
    "            'inertia': null[k-1,run]})\n",
    "    null_df = pd.DataFrame(rows)     \n",
    "   # null_df = null_df.groupby(['model_id']).mean().reset_index()\n",
    "    sns.histplot(data=df, x='var',y='k_inertia',ax=ax,legend=False,alpha=1,bins=(45,45),hue = 'lr')\n",
    "    sns.histplot(data=null_df, x='var',y='inertia',ax=ax,legend=False,alpha=1,bins=(45,45),color='gray')\n",
    "\n",
    "\n",
    "    def f(x, a,b,c,d):\n",
    "        #return a + c * np.log(1 + np.exp(b * (x-d))) / b\n",
    "        #return a + c*np.log(1+np.exp(20 * (x-b)))/20\n",
    "        return  a + b/(1+np.exp(c*(x-d)))\n",
    "    # bounds = ([0,0,-np.inf,-np.inf],\n",
    "    #               [np.inf, np.inf,0,0])\n",
    "    bounds = ([0,0,-np.inf,-np.inf],\n",
    "                  [np.inf, np.inf,0,0])\n",
    "    x_values = np.linspace(df['var'].min(),df['var'].max(),20)\n",
    "    for lr in [0.001, 0.005]:\n",
    "        for sample in range(100):   \n",
    "            #try:\n",
    "            frac = .1\n",
    "            sample_df = df[df.lr == lr].sample(frac=frac)\n",
    "            x = sample_df['var'].values.astype(float)\n",
    "            y = sample_df.k_inertia.values\n",
    "    \n",
    "            sample_null_df = null_df[null_df.lr==lr].sample(frac=frac)\n",
    "            x_null = sample_null_df['var'].values.astype(float)\n",
    "            y_null = sample_null_df.inertia.values\n",
    "    \n",
    "            try:\n",
    "                popt, pcov = opt.curve_fit(f, x, y, method=\"trf\",max_nfev=10000,bounds = bounds)\n",
    "                #popt, pcov = opt.curve_fit(f, x, y, method=\"trf\",max_nfev=10000)\n",
    "                y_fit = f(x_values, *popt)\n",
    "    \n",
    "                for step in range(20):\n",
    "                    fit_rows.append({'sample':sample,\n",
    "                                     'step': step,\n",
    "                                     'k':k,\n",
    "                                     'lr':lr,\n",
    "                                 'type': 1,\n",
    "                                 'x':x_values[step],\n",
    "                                 'y': y_fit[step],\n",
    "                                 'a':popt[0]})\n",
    "            except:\n",
    "                continue\n",
    "        \n",
    "\n",
    "        try:\n",
    "            popt, pcov = opt.curve_fit(f, x_null, y_null, method=\"trf\",max_nfev=10000,bounds = bounds)\n",
    "            y_fit = f(x_values, *popt)\n",
    "            for step in range(20):\n",
    "                fit_rows.append({'sample':sample,\n",
    "                                 'step':step,\n",
    "                                 'k':k,\n",
    "                                 'lr':lr,\n",
    "                             'type': 0,\n",
    "                             'x':x_values[step],\n",
    "                             'y': y_fit[step],\n",
    "                             'a':popt[0]})\n",
    "        except:\n",
    "           continue\n",
    "  \n",
    "\n",
    "\n",
    "fit_df = pd.DataFrame(fit_rows)\n",
    "for k in range(3):\n",
    "    ax = axes[k]\n",
    "    sns.lineplot(data = fit_df[(fit_df.type==1) & (fit_df.k==k+2)], x= 'x', y='y',ax=ax,legend = False,lw=.5,color='tab:blue',alpha = 1,errorbar=None, linestyle='--',hue = 'lr')\n",
    "    sns.lineplot(data = fit_df[(fit_df.type==0)& (fit_df.k==k+2)], x= 'x', y='y',ax=ax,legend = False,lw=.5,color='gray',linestyle='--',alpha= .25, errorbar = None)\n",
    "\n",
    "for ax in [ax0,ax1,ax2,ax3]:\n",
    "#     \n",
    "    ax.spines['right'].set_visible(False)\n",
    "    ax.spines['top'].set_visible(False)\n",
    "    ax.set_ylabel('', fontsize=8)\n",
    "    ax.xaxis.set_tick_params(labelsize=6,bottom=True)\n",
    "    ax.yaxis.set_tick_params(labelsize=6,left=True)\n",
    "    ax.spines['left'].set_color('black')\n",
    "    ax.spines['bottom'].set_color('black')\n",
    "   # plt.yticks(list(plt.yticks()[0]) + [5.0])\n",
    "    ax.set_ylim(-.01,1)\n",
    "    #ax.set_xlim(-10,-2)\n",
    "ax1.set_yticklabels([])\n",
    "ax2.set_yticklabels([])\n",
    "ax3.set_yticklabels([])\n",
    "\n",
    "\n",
    "ax0.set_xlabel(\"Log \" + r\"$\\sum_{i>2}\\lambda_i$\", fontsize=6)\n",
    "ax1.set_xlabel(\"Log \" +r\"$\\sum_{i>3}\\lambda_i$\", fontsize=6)\n",
    "ax2.set_xlabel(\"Log \" +r\"$\\sum_{i>4}\\lambda_i$\", fontsize=6)\n",
    "ax3.set_xlabel(\"Log \" +r\"$\\sum_{i>5}\\lambda_i$\", fontsize=6)\n",
    "fig.savefig('/Users/cl1704/PycharmProjects/Clustering/Figures/MainFig_1_a.jpg',\n",
    "    format='jpeg',\n",
    "    dpi=450,\n",
    "    bbox_inches='tight'\n",
    "\n",
    "            )"
   ],
   "metadata": {
    "collapsed": false,
    "ExecuteTime": {
     "end_time": "2025-03-31T01:31:01.387557Z",
     "start_time": "2025-03-31T01:30:58.971729Z"
    }
   },
   "id": "e986753cd5e023c3",
   "execution_count": 9
  },
  {
   "cell_type": "code",
   "outputs": [
    {
     "ename": "NameError",
     "evalue": "name 'original_df' is not defined",
     "output_type": "error",
     "traceback": [
      "\u001B[0;31m---------------------------------------------------------------------------\u001B[0m",
      "\u001B[0;31mNameError\u001B[0m                                 Traceback (most recent call last)",
      "Cell \u001B[0;32mIn[6], line 1\u001B[0m\n\u001B[0;32m----> 1\u001B[0m \u001B[43moriginal_df\u001B[49m\n",
      "\u001B[0;31mNameError\u001B[0m: name 'original_df' is not defined"
     ]
    }
   ],
   "source": [
    "original_df"
   ],
   "metadata": {
    "collapsed": false,
    "ExecuteTime": {
     "end_time": "2025-03-31T01:29:25.010786Z",
     "start_time": "2025-03-31T01:29:24.995591Z"
    }
   },
   "id": "7e9b65296d5c2248",
   "execution_count": 6
  },
  {
   "cell_type": "code",
   "outputs": [
    {
     "data": {
      "text/plain": "<Axes: xlabel='activity_std', ylabel='Count'>"
     },
     "execution_count": 6,
     "metadata": {},
     "output_type": "execute_result"
    },
    {
     "data": {
      "text/plain": "<Figure size 640x480 with 1 Axes>",
      "image/png": "[encoded data removed]"
     },
     "metadata": {},
     "output_type": "display_data"
    }
   ],
   "source": [
    "k=2\n",
    "df = original_df_act.copy()\n",
    "df['var'] = df.variance.apply(lambda x: compute_var(x,k))\n",
    "df['k_inertia'] = df.inertia.apply(lambda x: x[k])\n",
    "df['var'] = np.log(df['var'])\n",
    "#df = df[df.k>=k]\n",
    "df = df[df.dim==k]\n",
    "df = df[df['var']<-4]\n",
    "df.activity_std = df.activity_std.astype(float)\n",
    "plt.figure()\n",
    "sns.histplot(data= df, x = 'activity_std',hue = 'lr')"
   ],
   "metadata": {
    "collapsed": false,
    "ExecuteTime": {
     "end_time": "2025-03-20T15:04:53.928520Z",
     "start_time": "2025-03-20T15:04:53.816481Z"
    }
   },
   "id": "5d4d3f6d3e6096ec",
   "execution_count": 6
  },
  {
   "cell_type": "code",
   "outputs": [
    {
     "data": {
      "text/plain": "      model_id                                              w_rec  \\\n2994  T1n5smOa  [[0.0, 0.001234026, -0.052101653, -0.003586580...   \n2848  Tuy6rZYh  [[0.0, -0.032331243, -0.017521225, 0.008727062...   \n2920  C4mbpDT8  [[0.0, -0.00040833585, 0.004261597, 0.00791602...   \n3076  KZ9pnU7s  [[0.0, -0.05028169, 0.009165385, -0.024140593,...   \n2692  hzwR9KdS  [[0.0, 0.00995647, -0.0032365462, 0.00432121, ...   \n...        ...                                                ...   \n1207  tItBQK9S  [[0.0, 0.026515983, 0.023802496, 0.023240117, ...   \n1217  PfxHZ3b8  [[0.0, -0.026715633, -0.064394005, -0.05155197...   \n969   tgarhcqH  [[0.0, -0.073897615, -0.02196925, -0.019803721...   \n739   q7L0XnXh  [[0.0, -0.08240289, 0.06682777, -0.041067682, ...   \n1213  z00Z5rNl  [[0.0, 0.039311104, 0.031219738, 0.11132324, 0...   \n\n                                                   w_in  \\\n2994  [[-0.034337297, -0.0007821807], [0.13146386, -...   \n2848  [[-0.09562893, -0.016768523], [-0.04756456, 0....   \n2920  [[-0.058637626, 0.13905656], [-0.0022663926, -...   \n3076  [[-0.080596596, 0.14070301], [-0.0142329745, -...   \n2692  [[-0.074854024, 0.1347311], [-0.073266156, 0.1...   \n...                                                 ...   \n1207  [[0.19016376, -0.1798076], [-0.13050973, -0.07...   \n1217  [[-0.0021947967, 0.07838191], [0.2307304, -0.1...   \n969   [[-0.06737507, 0.037100885], [-0.014068496, -0...   \n739   [[-0.027559508, -0.15280081], [-0.3447599, 0.0...   \n1213  [[0.056661475, -0.0233097], [-0.0022541257, 0....   \n\n                                                  w_out  \\\n2994  [[0.25213653, 0.00953815, 0.1282984, 0.0135795...   \n2848  [[0.04231965, 0.13507468, 0.013384173, 0.38216...   \n2920  [[0.0804867, 0.36675337, 0.064158, 0.08297191,...   \n3076  [[-0.01842947, 0.1043555, 0.018674418, 0.41642...   \n2692  [[0.10229318, 0.118357256, 0.0022106222, 0.091...   \n...                                                 ...   \n1207  [[0.03882334, 0.16731323, 0.18188961, 0.007890...   \n1217  [[0.109013245, 0.007822613, 0.036684904, 0.159...   \n969   [[-0.043951936, 0.4315435, 0.009624542, 0.0160...   \n739   [[0.07592425, 0.030854657, -0.042161353, 0.022...   \n1213  [[0.19735529, 0.1257045, 0.039349172, 0.170223...   \n\n                                                   bias     mse_z  \\\n2994  [0.07767935, 0.0018679115, 0.1391639, 0.007772...  0.028899   \n2848  [0.028736362, 0.049567465, 0.0481075, 0.090373...  0.029747   \n2920  [0.01053837, 0.10826324, 0.0103564495, 0.01210...  0.034501   \n3076  [0.053726416, 0.119029045, -0.001912556, 0.129...  0.029698   \n2692  [0.029307462, 0.034801275, 0.05856074, 0.02479...  0.031465   \n...                                                 ...       ...   \n1207  [-0.018064337, 0.07217583, 0.032588407, -0.098...  0.025155   \n1217  [0.02559871, -0.10528411, -0.017910428, -0.009...  0.027221   \n969   [0.11029392, 0.081862554, -0.104151234, -0.088...  0.031459   \n739   [-0.010535757, 0.09457476, -0.038361136, 0.025...  0.022642   \n1213  [-0.0016615196, -0.0022779768, 0.036605265, 0....  0.021769   \n\n      weight_decay  threshold  sigma_rec  lambda_std  ...      lvar  dim  k  \\\n2994         0.001      0.025        0.0         0.4  ...  0.177828    2  3   \n2848         0.001      0.025        0.0         0.4  ...  0.056234    2  3   \n2920         0.001      0.025        0.0         0.4  ...  0.133352    2  4   \n3076         0.001      0.025        0.0         0.4  ...  0.237137    2  3   \n2692         0.001      0.025        0.0         0.4  ...  0.100000    2  4   \n...            ...        ...        ...         ...  ...       ...  ... ..   \n1207         0.001      0.025        0.0         0.4  ... -0.316228    2  5   \n1217         0.001      0.025        0.0         0.4  ... -0.316228    2  5   \n969          0.001      0.025        0.0         0.4  ... -0.421697    2  5   \n739          0.001      0.025        0.0         0.4  ... -1.000000    2  5   \n1213         0.001      0.025        0.0         0.4  ... -0.316228    2  5   \n\n      p_value                                            inertia  \\\n2994      0.0  [0.49780177486097416, 0.25072837571540313, 0.0...   \n2848      0.0  [0.8705346657633243, 0.04709559550022584, 0.02...   \n2920      0.0  [0.6809310431380368, 0.3416291788866374, 0.026...   \n3076      0.0  [0.9105187074829932, 0.3456346450617284, 0.007...   \n2692      0.0  [0.7493669174871206, 0.28154777920156027, 0.03...   \n...       ...                                                ...   \n1207      0.0  [0.9547265928515929, 0.8838545713545714, 0.823...   \n1217      0.0  [0.9530683609141056, 0.8772226326503809, 0.816...   \n969       0.0  [0.9571930818229577, 0.8904600078802206, 0.829...   \n739       0.0  [0.9413658293215362, 0.8760883276957551, 0.823...   \n1213      0.0  [0.9526396173271173, 0.8811182336182336, 0.820...   \n\n      activity_std                                       null_inertia  \\\n2994    0.00712535  [[0.9964515211578868, 0.9976211288966678, 0.99...   \n2848   0.015508405  [[0.997828772650679, 0.9945356991383196, 0.993...   \n2920   0.004513012  [[0.9960693838554028, 0.9845453618951171, 0.99...   \n3076   0.012251571  [[0.9971984856251227, 0.9988233871296893, 0.99...   \n2692  0.0053239833  [[0.9938427046233322, 0.9992969513446616, 0.99...   \n...            ...                                                ...   \n1207   0.004419782  [[0.9898209530474934, 0.9917151080444496, 0.99...   \n1217  0.0049062637  [[0.9936518067051779, 0.9832037988128202, 0.99...   \n969    0.006129445  [[0.9939626590312202, 0.9899057416697103, 0.98...   \n739    0.011842735  [[0.9911950452377605, 0.9950717387722757, 0.99...   \n1213   0.004708752  [[0.9928432387870982, 0.9924435121871498, 0.99...   \n\n                                               variance       var k_inertia  \n2994  [0.7276882, 0.24980804, 0.019724878, 0.0016501... -3.794071  0.250728  \n2848  [0.84929883, 0.12014451, 0.024552297, 0.002724... -3.488170  0.047096  \n2920  [0.6524794, 0.3049275, 0.028734284, 0.01179000... -3.156060  0.341629  \n3076  [0.5657888, 0.39134178, 0.036535323, 0.0041310... -3.149596  0.345635  \n2692  [0.49559522, 0.45901406, 0.030336363, 0.012203... -3.092447  0.281548  \n...                                                 ...       ...       ...  \n1207  [0.10127259, 0.091502905, 0.08457155, 0.079715... -0.214154  0.883855  \n1217  [0.10000063, 0.09271162, 0.0905606, 0.08522631... -0.214075  0.877223  \n969   [0.10430225, 0.08785335, 0.08599953, 0.0806907... -0.213386  0.890460  \n739   [0.10765279, 0.08402506, 0.08188288, 0.0760291... -0.212795  0.876088  \n1213  [0.09846826, 0.09275053, 0.090451896, 0.085750... -0.212227  0.881118  \n\n[1055 rows x 22 columns]",
      "text/html": "<div>\n<style scoped>\n    .dataframe tbody tr th:only-of-type {\n        vertical-align: middle;\n    }\n\n    .dataframe tbody tr th {\n        vertical-align: top;\n    }\n\n    .dataframe thead th {\n        text-align: right;\n    }\n</style>\n<table border=\"1\" class=\"dataframe\">\n  <thead>\n    <tr style=\"text-align: right;\">\n      <th></th>\n      <th>model_id</th>\n      <th>w_rec</th>\n      <th>w_in</th>\n      <th>w_out</th>\n      <th>bias</th>\n      <th>mse_z</th>\n      <th>weight_decay</th>\n      <th>threshold</th>\n      <th>sigma_rec</th>\n      <th>lambda_std</th>\n      <th>...</th>\n      <th>lvar</th>\n      <th>dim</th>\n      <th>k</th>\n      <th>p_value</th>\n      <th>inertia</th>\n      <th>activity_std</th>\n      <th>null_inertia</th>\n      <th>variance</th>\n      <th>var</th>\n      <th>k_inertia</th>\n    </tr>\n  </thead>\n  <tbody>\n    <tr>\n      <th>2994</th>\n      <td>T1n5smOa</td>\n      <td>[[0.0, 0.001234026, -0.052101653, -0.003586580...</td>\n      <td>[[-0.034337297, -0.0007821807], [0.13146386, -...</td>\n      <td>[[0.25213653, 0.00953815, 0.1282984, 0.0135795...</td>\n      <td>[0.07767935, 0.0018679115, 0.1391639, 0.007772...</td>\n      <td>0.028899</td>\n      <td>0.001</td>\n      <td>0.025</td>\n      <td>0.0</td>\n      <td>0.4</td>\n      <td>...</td>\n      <td>0.177828</td>\n      <td>2</td>\n      <td>3</td>\n      <td>0.0</td>\n      <td>[0.49780177486097416, 0.25072837571540313, 0.0...</td>\n      <td>0.00712535</td>\n      <td>[[0.9964515211578868, 0.9976211288966678, 0.99...</td>\n      <td>[0.7276882, 0.24980804, 0.019724878, 0.0016501...</td>\n      <td>-3.794071</td>\n      <td>0.250728</td>\n    </tr>\n    <tr>\n      <th>2848</th>\n      <td>Tuy6rZYh</td>\n      <td>[[0.0, -0.032331243, -0.017521225, 0.008727062...</td>\n      <td>[[-0.09562893, -0.016768523], [-0.04756456, 0....</td>\n      <td>[[0.04231965, 0.13507468, 0.013384173, 0.38216...</td>\n      <td>[0.028736362, 0.049567465, 0.0481075, 0.090373...</td>\n      <td>0.029747</td>\n      <td>0.001</td>\n      <td>0.025</td>\n      <td>0.0</td>\n      <td>0.4</td>\n      <td>...</td>\n      <td>0.056234</td>\n      <td>2</td>\n      <td>3</td>\n      <td>0.0</td>\n      <td>[0.8705346657633243, 0.04709559550022584, 0.02...</td>\n      <td>0.015508405</td>\n      <td>[[0.997828772650679, 0.9945356991383196, 0.993...</td>\n      <td>[0.84929883, 0.12014451, 0.024552297, 0.002724...</td>\n      <td>-3.488170</td>\n      <td>0.047096</td>\n    </tr>\n    <tr>\n      <th>2920</th>\n      <td>C4mbpDT8</td>\n      <td>[[0.0, -0.00040833585, 0.004261597, 0.00791602...</td>\n      <td>[[-0.058637626, 0.13905656], [-0.0022663926, -...</td>\n      <td>[[0.0804867, 0.36675337, 0.064158, 0.08297191,...</td>\n      <td>[0.01053837, 0.10826324, 0.0103564495, 0.01210...</td>\n      <td>0.034501</td>\n      <td>0.001</td>\n      <td>0.025</td>\n      <td>0.0</td>\n      <td>0.4</td>\n      <td>...</td>\n      <td>0.133352</td>\n      <td>2</td>\n      <td>4</td>\n      <td>0.0</td>\n      <td>[0.6809310431380368, 0.3416291788866374, 0.026...</td>\n      <td>0.004513012</td>\n      <td>[[0.9960693838554028, 0.9845453618951171, 0.99...</td>\n      <td>[0.6524794, 0.3049275, 0.028734284, 0.01179000...</td>\n      <td>-3.156060</td>\n      <td>0.341629</td>\n    </tr>\n    <tr>\n      <th>3076</th>\n      <td>KZ9pnU7s</td>\n      <td>[[0.0, -0.05028169, 0.009165385, -0.024140593,...</td>\n      <td>[[-0.080596596, 0.14070301], [-0.0142329745, -...</td>\n      <td>[[-0.01842947, 0.1043555, 0.018674418, 0.41642...</td>\n      <td>[0.053726416, 0.119029045, -0.001912556, 0.129...</td>\n      <td>0.029698</td>\n      <td>0.001</td>\n      <td>0.025</td>\n      <td>0.0</td>\n      <td>0.4</td>\n      <td>...</td>\n      <td>0.237137</td>\n      <td>2</td>\n      <td>3</td>\n      <td>0.0</td>\n      <td>[0.9105187074829932, 0.3456346450617284, 0.007...</td>\n      <td>0.012251571</td>\n      <td>[[0.9971984856251227, 0.9988233871296893, 0.99...</td>\n      <td>[0.5657888, 0.39134178, 0.036535323, 0.0041310...</td>\n      <td>-3.149596</td>\n      <td>0.345635</td>\n    </tr>\n    <tr>\n      <th>2692</th>\n      <td>hzwR9KdS</td>\n      <td>[[0.0, 0.00995647, -0.0032365462, 0.00432121, ...</td>\n      <td>[[-0.074854024, 0.1347311], [-0.073266156, 0.1...</td>\n      <td>[[0.10229318, 0.118357256, 0.0022106222, 0.091...</td>\n      <td>[0.029307462, 0.034801275, 0.05856074, 0.02479...</td>\n      <td>0.031465</td>\n      <td>0.001</td>\n      <td>0.025</td>\n      <td>0.0</td>\n      <td>0.4</td>\n      <td>...</td>\n      <td>0.100000</td>\n      <td>2</td>\n      <td>4</td>\n      <td>0.0</td>\n      <td>[0.7493669174871206, 0.28154777920156027, 0.03...</td>\n      <td>0.0053239833</td>\n      <td>[[0.9938427046233322, 0.9992969513446616, 0.99...</td>\n      <td>[0.49559522, 0.45901406, 0.030336363, 0.012203...</td>\n      <td>-3.092447</td>\n      <td>0.281548</td>\n    </tr>\n    <tr>\n      <th>...</th>\n      <td>...</td>\n      <td>...</td>\n      <td>...</td>\n      <td>...</td>\n      <td>...</td>\n      <td>...</td>\n      <td>...</td>\n      <td>...</td>\n      <td>...</td>\n      <td>...</td>\n      <td>...</td>\n      <td>...</td>\n      <td>...</td>\n      <td>...</td>\n      <td>...</td>\n      <td>...</td>\n      <td>...</td>\n      <td>...</td>\n      <td>...</td>\n      <td>...</td>\n      <td>...</td>\n    </tr>\n    <tr>\n      <th>1207</th>\n      <td>tItBQK9S</td>\n      <td>[[0.0, 0.026515983, 0.023802496, 0.023240117, ...</td>\n      <td>[[0.19016376, -0.1798076], [-0.13050973, -0.07...</td>\n      <td>[[0.03882334, 0.16731323, 0.18188961, 0.007890...</td>\n      <td>[-0.018064337, 0.07217583, 0.032588407, -0.098...</td>\n      <td>0.025155</td>\n      <td>0.001</td>\n      <td>0.025</td>\n      <td>0.0</td>\n      <td>0.4</td>\n      <td>...</td>\n      <td>-0.316228</td>\n      <td>2</td>\n      <td>5</td>\n      <td>0.0</td>\n      <td>[0.9547265928515929, 0.8838545713545714, 0.823...</td>\n      <td>0.004419782</td>\n      <td>[[0.9898209530474934, 0.9917151080444496, 0.99...</td>\n      <td>[0.10127259, 0.091502905, 0.08457155, 0.079715...</td>\n      <td>-0.214154</td>\n      <td>0.883855</td>\n    </tr>\n    <tr>\n      <th>1217</th>\n      <td>PfxHZ3b8</td>\n      <td>[[0.0, -0.026715633, -0.064394005, -0.05155197...</td>\n      <td>[[-0.0021947967, 0.07838191], [0.2307304, -0.1...</td>\n      <td>[[0.109013245, 0.007822613, 0.036684904, 0.159...</td>\n      <td>[0.02559871, -0.10528411, -0.017910428, -0.009...</td>\n      <td>0.027221</td>\n      <td>0.001</td>\n      <td>0.025</td>\n      <td>0.0</td>\n      <td>0.4</td>\n      <td>...</td>\n      <td>-0.316228</td>\n      <td>2</td>\n      <td>5</td>\n      <td>0.0</td>\n      <td>[0.9530683609141056, 0.8772226326503809, 0.816...</td>\n      <td>0.0049062637</td>\n      <td>[[0.9936518067051779, 0.9832037988128202, 0.99...</td>\n      <td>[0.10000063, 0.09271162, 0.0905606, 0.08522631...</td>\n      <td>-0.214075</td>\n      <td>0.877223</td>\n    </tr>\n    <tr>\n      <th>969</th>\n      <td>tgarhcqH</td>\n      <td>[[0.0, -0.073897615, -0.02196925, -0.019803721...</td>\n      <td>[[-0.06737507, 0.037100885], [-0.014068496, -0...</td>\n      <td>[[-0.043951936, 0.4315435, 0.009624542, 0.0160...</td>\n      <td>[0.11029392, 0.081862554, -0.104151234, -0.088...</td>\n      <td>0.031459</td>\n      <td>0.001</td>\n      <td>0.025</td>\n      <td>0.0</td>\n      <td>0.4</td>\n      <td>...</td>\n      <td>-0.421697</td>\n      <td>2</td>\n      <td>5</td>\n      <td>0.0</td>\n      <td>[0.9571930818229577, 0.8904600078802206, 0.829...</td>\n      <td>0.006129445</td>\n      <td>[[0.9939626590312202, 0.9899057416697103, 0.98...</td>\n      <td>[0.10430225, 0.08785335, 0.08599953, 0.0806907...</td>\n      <td>-0.213386</td>\n      <td>0.890460</td>\n    </tr>\n    <tr>\n      <th>739</th>\n      <td>q7L0XnXh</td>\n      <td>[[0.0, -0.08240289, 0.06682777, -0.041067682, ...</td>\n      <td>[[-0.027559508, -0.15280081], [-0.3447599, 0.0...</td>\n      <td>[[0.07592425, 0.030854657, -0.042161353, 0.022...</td>\n      <td>[-0.010535757, 0.09457476, -0.038361136, 0.025...</td>\n      <td>0.022642</td>\n      <td>0.001</td>\n      <td>0.025</td>\n      <td>0.0</td>\n      <td>0.4</td>\n      <td>...</td>\n      <td>-1.000000</td>\n      <td>2</td>\n      <td>5</td>\n      <td>0.0</td>\n      <td>[0.9413658293215362, 0.8760883276957551, 0.823...</td>\n      <td>0.011842735</td>\n      <td>[[0.9911950452377605, 0.9950717387722757, 0.99...</td>\n      <td>[0.10765279, 0.08402506, 0.08188288, 0.0760291...</td>\n      <td>-0.212795</td>\n      <td>0.876088</td>\n    </tr>\n    <tr>\n      <th>1213</th>\n      <td>z00Z5rNl</td>\n      <td>[[0.0, 0.039311104, 0.031219738, 0.11132324, 0...</td>\n      <td>[[0.056661475, -0.0233097], [-0.0022541257, 0....</td>\n      <td>[[0.19735529, 0.1257045, 0.039349172, 0.170223...</td>\n      <td>[-0.0016615196, -0.0022779768, 0.036605265, 0....</td>\n      <td>0.021769</td>\n      <td>0.001</td>\n      <td>0.025</td>\n      <td>0.0</td>\n      <td>0.4</td>\n      <td>...</td>\n      <td>-0.316228</td>\n      <td>2</td>\n      <td>5</td>\n      <td>0.0</td>\n      <td>[0.9526396173271173, 0.8811182336182336, 0.820...</td>\n      <td>0.004708752</td>\n      <td>[[0.9928432387870982, 0.9924435121871498, 0.99...</td>\n      <td>[0.09846826, 0.09275053, 0.090451896, 0.085750...</td>\n      <td>-0.212227</td>\n      <td>0.881118</td>\n    </tr>\n  </tbody>\n</table>\n<p>1055 rows × 22 columns</p>\n</div>"
     },
     "execution_count": 9,
     "metadata": {},
     "output_type": "execute_result"
    }
   ],
   "source": [
    "\n",
    "df_list = []\n",
    "for filename in os.listdir('Experiment_1/Results_1'):\n",
    "    f = os.path.join('Experiment_1/Results_1', filename)\n",
    "    if os.path.isfile(f):\n",
    "        df_list.append(pd.read_pickle(f))\n",
    "original_df_act = pd.concat(df_list,ignore_index=True) \n",
    "original_df_act = original_df_act[original_df_act.mse_z<.035]\n",
    "original_df_act = original_df_act[original_df_act.lambda_std==0.4]\n",
    "original_df_act = original_df_act[original_df_act.sigma_rec==0.]\n",
    "original_df_act = original_df_act[original_df_act.lr==0.005]\n",
    "#original_df_act = original_df_act[original_df_act.activity_std<.01]\n",
    "\n",
    "k = 2\n",
    "new_df = original_df_act.copy()\n",
    "new_df['var'] = new_df.variance.apply(lambda x: compute_var(x,k))\n",
    "new_df['k_inertia'] = new_df.inertia.apply(lambda x: x[k-1])\n",
    "new_df['var'] = np.log(new_df['var'])\n",
    "#new_df = new_df[new_df.k>=k]\n",
    "new_df = new_df[new_df.dim==k]\n",
    "new_df.sort_values('var',ascending=True)"
   ],
   "metadata": {
    "collapsed": false,
    "ExecuteTime": {
     "end_time": "2025-03-28T12:30:46.891477Z",
     "start_time": "2025-03-28T12:30:46.363931Z"
    }
   },
   "id": "f590c2611a74a208",
   "execution_count": 9
  },
  {
   "cell_type": "code",
   "outputs": [],
   "source": [
    "from Experiment_1.net import *\n",
    "model_data = new_df[new_df.model_id=='T1n5smOa']\n",
    "net = Net(n=150,input_size = 2,dale=False)\n",
    "net.recurrent_layer.weight.data = torch.tensor(model_data['w_rec'].item())\n",
    "net.recurrent_layer.bias.data = torch.tensor(model_data['bias'].item())\n",
    "net.input_layer.weight.data = torch.tensor(model_data['w_in'].item())\n",
    "net.output_layer.weight.data = torch.tensor(model_data['w_out'].item())\n",
    "variance = model_data['var'].item()\n",
    "u, z, mask, conditions  = generate_trials(\n",
    "                            n_trials=25)\n",
    "x = net(u).detach().cpu().numpy()\n",
    "\n",
    "rows = []\n",
    "for k in range(u.shape[0]):\n",
    "    rows.append({'trial': k,\n",
    "                 'motion': conditions[k]['motion_coh'],\n",
    "                 'response': x[k, :, :]})\n",
    "df = pd.DataFrame(rows)\n",
    "df = df.groupby(['motion']).response.apply(lambda r: np.mean(np.stack(r), axis=0)).reset_index()\n",
    "\n",
    "#df = df.groupby('motion').response.apply(lambda r: np.mean(np.stack(r), axis=0)).reset_index()\n",
    "responses = np.stack(df.response.values)\n",
    "responses = responses.reshape(-1, responses.shape[2]).T\n",
    "\n",
    "#responses = responses[np.mean(responses, axis=1) >.15, :]\n",
    "\n",
    "# z_score\n",
    "responses = (responses - np.mean(responses, axis=1, keepdims=True)) / np.std(responses, axis=1, keepdims=True)\n",
    "responses = responses[~np.isnan(responses).any(axis=1)]\n",
    "\n"
   ],
   "metadata": {
    "collapsed": false,
    "ExecuteTime": {
     "end_time": "2025-03-28T12:31:47.977860Z",
     "start_time": "2025-03-28T12:31:47.902655Z"
    }
   },
   "id": "53f8ced8a648d43e",
   "execution_count": 11
  },
  {
   "cell_type": "code",
   "outputs": [
    {
     "data": {
      "text/plain": "0.084"
     },
     "execution_count": 53,
     "metadata": {},
     "output_type": "execute_result"
    }
   ],
   "source": [
    "np.sum(np.array(null)<inertia)/250"
   ],
   "metadata": {
    "collapsed": false,
    "ExecuteTime": {
     "end_time": "2025-02-14T17:40:38.903593Z",
     "start_time": "2025-02-14T17:40:38.891884Z"
    }
   },
   "id": "5d1fcd9cc062c6d8",
   "execution_count": 53
  },
  {
   "cell_type": "code",
   "outputs": [],
   "source": [],
   "metadata": {
    "collapsed": false
   },
   "id": "9af92a7efeb1572f"
  }
 ],
 "metadata": {
  "kernelspec": {
   "display_name": "Python 3",
   "language": "python",
   "name": "python3"
  },
  "language_info": {
   "codemirror_mode": {
    "name": "ipython",
    "version": 2
   },
   "file_extension": ".py",
   "mimetype": "text/x-python",
   "name": "python",
   "nbconvert_exporter": "python",
   "pygments_lexer": "ipython2",
   "version": "2.7.6"
  }
 },
 "nbformat": 4,
 "nbformat_minor": 5
}
