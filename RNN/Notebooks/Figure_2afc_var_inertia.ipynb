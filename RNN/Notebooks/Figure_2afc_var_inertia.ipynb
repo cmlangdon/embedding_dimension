{
 "cells": [
  {
   "cell_type": "markdown",
   "source": [
    "## Variance vs. inertia plots for 2afc (rates) models"
   ],
   "metadata": {
    "collapsed": false
   },
   "id": "b5fc5b9c797acd41"
  },
  {
   "cell_type": "code",
   "outputs": [
    {
     "name": "stdout",
     "output_type": "stream",
     "text": [
      "/Users/cl1704/PycharmProjects/embedding_dimension/RNN\n"
     ]
    }
   ],
   "source": [
    "cd /Users/cl1704/PycharmProjects/embedding_dimension/RNN"
   ],
   "metadata": {
    "collapsed": false,
    "ExecuteTime": {
     "end_time": "2025-05-02T20:07:29.045290Z",
     "start_time": "2025-05-02T20:07:29.041572Z"
    }
   },
   "id": "3876b9e5b5b7d933",
   "execution_count": 1
  },
  {
   "cell_type": "code",
   "outputs": [],
   "source": [
    "from Experiment_1.TwoAFCTask import generate_trials\n",
    "#from Experiment_5.SiegelMillerTask import generate_trials\n",
    "import networkx as nx\n",
    "import pandas as pd\n",
    "import matplotlib\n",
    "import torch\n",
    "import matplotlib.pyplot as plt\n",
    "from matplotlib import gridspec\n",
    "from sklearn.discriminant_analysis import LinearDiscriminantAnalysis\n",
    "\n",
    "import seaborn as sns\n",
    "from Experiment_1.net import *\n",
    "import os\n",
    "import numpy as np\n",
    "import statsmodels.api as sm\n",
    "import scipy.optimize as opt\n",
    "import math\n",
    "#from psychometrics import *\n",
    "from sklearn.cluster import DBSCAN\n",
    "from sklearn.decomposition import PCA\n",
    "import networkx as nx\n",
    "from sklearn.cluster import KMeans\n",
    "plt.rcParams[\"axes.grid\"] = False\n",
    "from sklearn.manifold import TSNE\n",
    "matplotlib.rcParams['axes.linewidth'] = .75"
   ],
   "metadata": {
    "collapsed": false,
    "ExecuteTime": {
     "end_time": "2025-05-02T20:07:30.137238Z",
     "start_time": "2025-05-02T20:07:29.045829Z"
    }
   },
   "id": "dca291f8e14b936a",
   "execution_count": 2
  },
  {
   "cell_type": "code",
   "outputs": [],
   "source": [
    "def compute_var(variance,n):\n",
    "    return np.sum(variance[n:])\n",
    "\n",
    "def compute_p(k, null_k):\n",
    "    return (np.sum(null_k<k)/len(null_k))"
   ],
   "metadata": {
    "collapsed": false,
    "ExecuteTime": {
     "end_time": "2025-05-02T20:07:30.141568Z",
     "start_time": "2025-05-02T20:07:30.137999Z"
    }
   },
   "id": "20dd0ac17ce760d4",
   "execution_count": 3
  },
  {
   "cell_type": "code",
   "outputs": [],
   "source": [],
   "metadata": {
    "collapsed": false,
    "ExecuteTime": {
     "end_time": "2025-05-02T20:07:43.268983Z",
     "start_time": "2025-05-02T20:07:43.265614Z"
    }
   },
   "id": "28a69b7e65597724",
   "execution_count": 3
  },
  {
   "cell_type": "code",
   "outputs": [
    {
     "name": "stdout",
     "output_type": "stream",
     "text": [
      "1.0\n",
      "1.0\n",
      "1.0\n",
      "1.0\n"
     ]
    },
    {
     "data": {
      "text/plain": "<Figure size 1000x200 with 4 Axes>",
      "image/png": "[encoded data removed]"
     },
     "metadata": {},
     "output_type": "display_data"
    }
   ],
   "source": [
    "# PLOT VARIANCE VS INERTIA\n",
    "import scipy.optimize as opt\n",
    "import math\n",
    "fig = plt.figure(figsize=(10,2))\n",
    "gs = gridspec.GridSpec(1,4,wspace = .5)\n",
    "ax0=fig.add_subplot(gs[0,0])\n",
    "ax1=fig.add_subplot(gs[0,1])\n",
    "ax2=fig.add_subplot(gs[0,2])\n",
    "ax3=fig.add_subplot(gs[0,3])\n",
    "axes = [ax0,ax1,ax2,ax3]\n",
    "\n",
    "df_list = []\n",
    "for filename in os.listdir('Experiment_1/Results_1'):\n",
    "    f = os.path.join('Experiment_1/Results_1', filename)\n",
    "    if os.path.isfile(f):\n",
    "        df_list.append(pd.read_pickle(f))\n",
    "original_df = pd.concat(df_list,ignore_index=True) \n",
    "original_df = original_df[original_df.mse_z<.035]\n",
    "#original_df_act = original_df_act[original_df_act.lambda_std==0.1]\n",
    "##original_df_act = original_df_act[original_df_act.sigma_rec==0]\n",
    "#original_df_act = original_df_act[original_df_act.lr==0.005]\n",
    "#original_df = original_df[original_df.n==100]\n",
    "#original_df_act = original_df_act[original_df_act.beta==1.4]\n",
    "#original_df = original_df[original_df.activity_std<.03]\n",
    "#original_df_act = original_df_act[original_df_act.beta==5.]\n",
    "\n",
    "\n",
    "#original_df = original_df[original_df.k>1]\n",
    "parameters = []\n",
    "fit_rows = []\n",
    "\n",
    "for i in range(4):\n",
    "    ax = axes[i]\n",
    "    k = i+2\n",
    "    df = original_df.copy()\n",
    "    df['var'] = df.variance.apply(lambda x: compute_var(x,k))\n",
    "    df['var_pre'] = df.variance.apply(lambda x: compute_var(x,k-1))\n",
    "    df['k_inertia'] = df.inertia.apply(lambda x: x[k-1])\n",
    "    #df = df[df['var_pre']>.25]\n",
    "    df['var'] = np.log(df['var'])\n",
    "    #df = df[df.k>=k]\n",
    "    df = df[df.dim==k]\n",
    "    print(df.lvar.max())\n",
    "    #df = df[df['var']<-.35]\n",
    "    \n",
    "        # Construct null dataframe\n",
    "    rows = []\n",
    "    for index, row in df.iterrows():\n",
    "        null = row['null_inertia']\n",
    "        for run in range(null.shape[1]):\n",
    "            rows.append({'model_id':row['model_id'],\n",
    "                         'var':row['var'],\n",
    "                         'sigma_rec': row['sigma_rec'],\n",
    "                         'lr': row['lr'],\n",
    "            'run':run,\n",
    "            'inertia': null[k-1,run]})\n",
    "    null_df = pd.DataFrame(rows)     \n",
    "   # null_df = null_df.groupby(['model_id']).mean().reset_index()\n",
    "    sns.histplot(data=df, x='var',y='k_inertia',ax=ax,legend=False,alpha=1,bins=(55,55))\n",
    "    sns.histplot(data=null_df, x='var',y='inertia',ax=ax,legend=False,alpha=1,bins=(45,45),color='gray')\n",
    "\n",
    "\n",
    "    def f(x, a,b,c,d):\n",
    "        #return a + c * np.log(1 + np.exp(b * (x-d))) / b\n",
    "        #return a + c*np.log(1+np.exp(20 * (x-b)))/20\n",
    "        return  a + b/(1+np.exp(c*(x-d)))\n",
    "    # bounds = ([0,0,-np.inf,-np.inf],\n",
    "    #               [np.inf, np.inf,0,0])\n",
    "    bounds = ([0,0,-np.inf,-np.inf],\n",
    "                  [np.inf, np.inf,0,0])\n",
    "    x_values = np.linspace(df['var'].min(),df['var'].max(),20)\n",
    "    #for lr in [0.001, 0.005]:\n",
    "    for sample in range(100):   \n",
    "        #try:\n",
    "        frac = .1\n",
    "        sample_df = df.sample(frac=frac)\n",
    "        x = sample_df['var'].values.astype(float)\n",
    "        y = sample_df.k_inertia.values\n",
    "\n",
    "        sample_null_df = null_df.sample(frac=frac)\n",
    "        x_null = sample_null_df['var'].values.astype(float)\n",
    "        y_null = sample_null_df.inertia.values\n",
    "\n",
    "        try:\n",
    "            popt, pcov = opt.curve_fit(f, x, y, method=\"trf\",max_nfev=10000,bounds = bounds)\n",
    "            #popt, pcov = opt.curve_fit(f, x, y, method=\"trf\",max_nfev=10000)\n",
    "            y_fit = f(x_values, *popt)\n",
    "\n",
    "            for step in range(20):\n",
    "                fit_rows.append({'sample':sample,\n",
    "                                 'step': step,\n",
    "                                 'k':k,\n",
    "                             'type': 1,\n",
    "                             'x':x_values[step],\n",
    "                             'y': y_fit[step],\n",
    "                             'a':popt[0]})\n",
    "        except:\n",
    "            continue\n",
    "    \n",
    "\n",
    "        try:\n",
    "            popt, pcov = opt.curve_fit(f, x_null, y_null, method=\"trf\",max_nfev=10000,bounds = bounds)\n",
    "            y_fit = f(x_values, *popt)\n",
    "            for step in range(20):\n",
    "                fit_rows.append({'sample':sample,\n",
    "                                 'step':step,\n",
    "                                 'k':k,\n",
    "                             'type': 0,\n",
    "                             'x':x_values[step],\n",
    "                             'y': y_fit[step],\n",
    "                             'a':popt[0]})\n",
    "        except:\n",
    "           continue\n",
    "  \n",
    "\n",
    "\n",
    "# fit_df = pd.DataFrame(fit_rows)\n",
    "# for k in range(3):\n",
    "#     ax = axes[k]\n",
    "#     sns.lineplot(data = fit_df[(fit_df.type==1) & (fit_df.k==k+2)], x= 'x', y='y',ax=ax,legend = False,lw=.5,color='tab:blue',alpha = 1,errorbar=None, linestyle='--')\n",
    "#     sns.lineplot(data = fit_df[(fit_df.type==0)& (fit_df.k==k+2)], x= 'x', y='y',ax=ax,legend = False,lw=.5,color='gray',linestyle='--',alpha= .25, errorbar = None)\n",
    "\n",
    "for ax in [ax0,ax1,ax2,ax3]:\n",
    "#     \n",
    "    ax.spines['right'].set_visible(False)\n",
    "    ax.spines['top'].set_visible(False)\n",
    "    ax.set_ylabel('', fontsize=8)\n",
    "    ax.xaxis.set_tick_params(labelsize=6,bottom=True)\n",
    "    ax.yaxis.set_tick_params(labelsize=6,left=True)\n",
    "    ax.spines['left'].set_color('black')\n",
    "    ax.spines['bottom'].set_color('black')\n",
    "   # plt.yticks(list(plt.yticks()[0]) + [5.0])\n",
    "    ax.set_ylim(-.1,1)\n",
    "    #ax.set_xlim(-.1,1)\n",
    "ax1.set_yticklabels([])\n",
    "ax2.set_yticklabels([])\n",
    "ax3.set_yticklabels([])\n",
    "\n",
    "\n",
    "ax0.set_xlabel(\"Log \" + r\"$\\sum_{i>2}\\lambda_i$\", fontsize=6)\n",
    "ax1.set_xlabel(\"Log \" +r\"$\\sum_{i>3}\\lambda_i$\", fontsize=6)\n",
    "ax2.set_xlabel(\"Log \" +r\"$\\sum_{i>4}\\lambda_i$\", fontsize=6)\n",
    "ax3.set_xlabel(\"Log \" +r\"$\\sum_{i>5}\\lambda_i$\", fontsize=6)\n",
    "fig.savefig('Figures/Figure_2_a.jpg',\n",
    "    format='jpeg',\n",
    "    dpi=450,\n",
    "    bbox_inches='tight'\n",
    "\n",
    "            )"
   ],
   "metadata": {
    "collapsed": false,
    "ExecuteTime": {
     "end_time": "2025-05-02T20:09:55.208515Z",
     "start_time": "2025-05-02T20:09:52.278892Z"
    }
   },
   "id": "e986753cd5e023c3",
   "execution_count": 6
  },
  {
   "cell_type": "code",
   "outputs": [
    {
     "data": {
      "text/plain": "      model_id                                              w_rec  \\\n4840  nJutuJKV  [[-0.038332462, -0.020136284, -0.058859542, -0...   \n4835  QihS7bw0  [[-0.016802512, -0.022744657, -0.01469344, -0....   \n4740  fvYe0Poa  [[-0.0629894, 0.06704233, -0.02895644, -0.0412...   \n4725  AF4rikUY  [[-0.08619885, -0.0411501, -0.043874457, -0.01...   \n4727  7rrouXLQ  [[-0.045861263, -0.028388944, -0.023476154, 0....   \n...        ...                                                ...   \n1017  ZcI932p7  [[0.16717099, 0.07130162, -0.06926736, -0.0813...   \n908   6dzdOOQW  [[0.09050355, -0.045784455, -0.08748076, -0.05...   \n1004  jYeaGwa7  [[0.16819106, -0.026536431, -0.10875644, -0.11...   \n1021  5naC0PgM  [[0.21480621, -0.06787044, -0.072154574, -0.14...   \n1011  YA43d2yo  [[0.2680931, -0.096623525, -0.20860046, -0.012...   \n\n                                                   w_in  \\\n4840  [[-0.08225296, -0.17846575], [-0.22390246, 0.3...   \n4835  [[-0.18447371, 0.18721141], [-0.16536076, 0.16...   \n4740  [[0.18283437, -0.18471147], [0.15945172, -0.16...   \n4725  [[-0.19407474, 0.25004452], [0.24409261, -0.15...   \n4727  [[0.22979216, -0.19453178], [-0.18514003, -0.1...   \n...                                                 ...   \n1017  [[-0.22284491, -0.22300118], [0.19501832, -0.2...   \n908   [[-0.063979246, -0.14624201], [-0.1106221, -0....   \n1004  [[0.13880847, 0.047837254], [0.21456137, -0.25...   \n1021  [[-0.40043676, 0.30941913], [-0.5094563, -0.08...   \n1011  [[-0.44853747, -0.033702616], [-0.13334396, 0....   \n\n                                                  w_out  \\\n4840  [[0.10443571, 0.024777222, 0.13472784, 0.29062...   \n4835  [[0.07257515, 0.09847708, 0.08362155, 0.027108...   \n4740  [[0.042786192, 0.47203034, 0.023555053, 0.0793...   \n4725  [[0.08130539, -0.0379015, -0.09197174, 0.41676...   \n4727  [[0.13293314, -0.00444125, 0.20400062, -0.0231...   \n...                                                 ...   \n1017  [[0.06798458, 0.022391252, 0.024471773, 0.0173...   \n908   [[0.040780276, 0.055325285, 0.15007772, 0.1853...   \n1004  [[0.23869263, 0.050042026, 0.23846881, 0.10846...   \n1021  [[0.24713036, -0.074195996, 0.088072196, 0.059...   \n1011  [[0.019294458, 0.021507617, 0.12801626, 0.1600...   \n\n                                                   bias     mse_z  \\\n4840  [0.2, 0.2, 0.2, 0.2, 0.2, 0.2, 0.2, 0.2, 0.2, ...  0.034273   \n4835  [0.2, 0.2, 0.2, 0.2, 0.2, 0.2, 0.2, 0.2, 0.2, ...  0.032930   \n4740  [0.2, 0.2, 0.2, 0.2, 0.2, 0.2, 0.2, 0.2, 0.2, ...  0.032298   \n4725  [0.2, 0.2, 0.2, 0.2, 0.2, 0.2, 0.2, 0.2, 0.2, ...  0.034799   \n4727  [0.2, 0.2, 0.2, 0.2, 0.2, 0.2, 0.2, 0.2, 0.2, ...  0.029881   \n...                                                 ...       ...   \n1017  [0.2, 0.2, 0.2, 0.2, 0.2, 0.2, 0.2, 0.2, 0.2, ...  0.027423   \n908   [0.2, 0.2, 0.2, 0.2, 0.2, 0.2, 0.2, 0.2, 0.2, ...  0.024540   \n1004  [0.2, 0.2, 0.2, 0.2, 0.2, 0.2, 0.2, 0.2, 0.2, ...  0.029631   \n1021  [0.2, 0.2, 0.2, 0.2, 0.2, 0.2, 0.2, 0.2, 0.2, ...  0.027127   \n1011  [0.2, 0.2, 0.2, 0.2, 0.2, 0.2, 0.2, 0.2, 0.2, ...  0.025718   \n\n      weight_decay  threshold  sigma_rec  lambda_std  ...      lvar  dim  k  \\\n4840         0.001      0.025        0.0         0.1  ...  1.000000    3  3   \n4835         0.001      0.025        0.0         0.1  ...  1.000000    3  3   \n4740         0.001      0.025        0.0         0.1  ...  0.749894    3  3   \n4725         0.001      0.025        0.0         0.1  ...  0.749894    3  3   \n4727         0.001      0.025        0.0         0.1  ...  0.749894    3  3   \n...            ...        ...        ...         ...  ...       ...  ... ..   \n1017         0.001      0.025        0.0         0.1  ... -1.000000    3  6   \n908          0.001      0.025        0.0         0.1  ... -0.749894    3  6   \n1004         0.001      0.025        0.0         0.1  ... -1.000000    3  6   \n1021         0.001      0.025        0.0         0.1  ... -1.000000    3  6   \n1011         0.001      0.025        0.0         0.1  ... -1.000000    3  6   \n\n      p_value                                            inertia  \\\n4840      0.0  [0.9430626736111111, 0.39400141782407405, 0.00...   \n4835      0.0  [0.9308104166666666, 0.31369444444444444, 0.00...   \n4740      0.0  [0.8909598958333333, 0.42342280092592594, 0.00...   \n4725      0.0  [0.8275739583333334, 0.3531861689814815, 0.000...   \n4727      0.0  [0.8954333912037037, 0.3121367476851852, 0.001...   \n...       ...                                                ...   \n1017      0.0  [0.9778479166666667, 0.9194945601851852, 0.873...   \n908       0.0  [0.9750097251146151, 0.9178355419171826, 0.868...   \n1004      0.0  [0.9738326388888889, 0.9125248263888889, 0.868...   \n1021      0.0  [0.9733501157407407, 0.9186485532407408, 0.868...   \n1011      0.0  [0.9729773148148149, 0.9188451388888889, 0.863...   \n\n      activity_std                                       null_inertia  \\\n4840      0.177247  [[0.9971577469613916, 0.9862271360730136, 0.98...   \n4835      0.049777  [[0.9903809212760196, 0.9952473777094432, 0.99...   \n4740      0.166702  [[0.9915303441614531, 0.9917394591147464, 0.99...   \n4725      0.144357  [[0.9936264032373353, 0.9970193076406723, 0.96...   \n4727      0.151079  [[0.9934489185816251, 0.9973085926831411, 0.99...   \n...            ...                                                ...   \n1017      0.151279  [[0.9853719416853602, 0.9866002483309451, 0.99...   \n908       0.173464  [[0.9879585983073754, 0.9833168412500806, 0.99...   \n1004      0.163340  [[0.9910816684027928, 0.9867804634285349, 0.99...   \n1021      0.138681  [[0.989344406226341, 0.9880023089140406, 0.992...   \n1011      0.221498  [[0.9905450149528203, 0.9881757510205302, 0.99...   \n\n                                               variance       var k_inertia  \n4840  [0.5679216, 0.37689045, 0.054772206, 0.0001810... -7.785337  0.000510  \n4835  [0.6510018, 0.29134944, 0.057207923, 0.0001883... -7.726675  0.001319  \n4740  [0.54835093, 0.40564522, 0.045496702, 0.000326... -7.586671  0.000604  \n4725  [0.6132213, 0.34278047, 0.043411463, 0.0002713... -7.440840  0.000769  \n4727  [0.65109056, 0.2986511, 0.04934943, 0.00050103... -7.003263  0.001057  \n...                                                 ...       ...       ...  \n1017  [0.083626814, 0.07360946, 0.07025736, 0.065144... -0.258115  0.873546  \n908   [0.081367224, 0.074157044, 0.07156416, 0.06801... -0.257591  0.868432  \n1004  [0.07819653, 0.075074874, 0.07180645, 0.066032... -0.254993  0.868060  \n1021  [0.07993016, 0.075053744, 0.06901064, 0.067700... -0.253596  0.868781  \n1011  [0.07736261, 0.072064675, 0.07075892, 0.066413... -0.248700  0.863525  \n\n[897 rows x 22 columns]",
      "text/html": "<div>\n<style scoped>\n    .dataframe tbody tr th:only-of-type {\n        vertical-align: middle;\n    }\n\n    .dataframe tbody tr th {\n        vertical-align: top;\n    }\n\n    .dataframe thead th {\n        text-align: right;\n    }\n</style>\n<table border=\"1\" class=\"dataframe\">\n  <thead>\n    <tr style=\"text-align: right;\">\n      <th></th>\n      <th>model_id</th>\n      <th>w_rec</th>\n      <th>w_in</th>\n      <th>w_out</th>\n      <th>bias</th>\n      <th>mse_z</th>\n      <th>weight_decay</th>\n      <th>threshold</th>\n      <th>sigma_rec</th>\n      <th>lambda_std</th>\n      <th>...</th>\n      <th>lvar</th>\n      <th>dim</th>\n      <th>k</th>\n      <th>p_value</th>\n      <th>inertia</th>\n      <th>activity_std</th>\n      <th>null_inertia</th>\n      <th>variance</th>\n      <th>var</th>\n      <th>k_inertia</th>\n    </tr>\n  </thead>\n  <tbody>\n    <tr>\n      <th>4840</th>\n      <td>nJutuJKV</td>\n      <td>[[-0.038332462, -0.020136284, -0.058859542, -0...</td>\n      <td>[[-0.08225296, -0.17846575], [-0.22390246, 0.3...</td>\n      <td>[[0.10443571, 0.024777222, 0.13472784, 0.29062...</td>\n      <td>[0.2, 0.2, 0.2, 0.2, 0.2, 0.2, 0.2, 0.2, 0.2, ...</td>\n      <td>0.034273</td>\n      <td>0.001</td>\n      <td>0.025</td>\n      <td>0.0</td>\n      <td>0.1</td>\n      <td>...</td>\n      <td>1.000000</td>\n      <td>3</td>\n      <td>3</td>\n      <td>0.0</td>\n      <td>[0.9430626736111111, 0.39400141782407405, 0.00...</td>\n      <td>0.177247</td>\n      <td>[[0.9971577469613916, 0.9862271360730136, 0.98...</td>\n      <td>[0.5679216, 0.37689045, 0.054772206, 0.0001810...</td>\n      <td>-7.785337</td>\n      <td>0.000510</td>\n    </tr>\n    <tr>\n      <th>4835</th>\n      <td>QihS7bw0</td>\n      <td>[[-0.016802512, -0.022744657, -0.01469344, -0....</td>\n      <td>[[-0.18447371, 0.18721141], [-0.16536076, 0.16...</td>\n      <td>[[0.07257515, 0.09847708, 0.08362155, 0.027108...</td>\n      <td>[0.2, 0.2, 0.2, 0.2, 0.2, 0.2, 0.2, 0.2, 0.2, ...</td>\n      <td>0.032930</td>\n      <td>0.001</td>\n      <td>0.025</td>\n      <td>0.0</td>\n      <td>0.1</td>\n      <td>...</td>\n      <td>1.000000</td>\n      <td>3</td>\n      <td>3</td>\n      <td>0.0</td>\n      <td>[0.9308104166666666, 0.31369444444444444, 0.00...</td>\n      <td>0.049777</td>\n      <td>[[0.9903809212760196, 0.9952473777094432, 0.99...</td>\n      <td>[0.6510018, 0.29134944, 0.057207923, 0.0001883...</td>\n      <td>-7.726675</td>\n      <td>0.001319</td>\n    </tr>\n    <tr>\n      <th>4740</th>\n      <td>fvYe0Poa</td>\n      <td>[[-0.0629894, 0.06704233, -0.02895644, -0.0412...</td>\n      <td>[[0.18283437, -0.18471147], [0.15945172, -0.16...</td>\n      <td>[[0.042786192, 0.47203034, 0.023555053, 0.0793...</td>\n      <td>[0.2, 0.2, 0.2, 0.2, 0.2, 0.2, 0.2, 0.2, 0.2, ...</td>\n      <td>0.032298</td>\n      <td>0.001</td>\n      <td>0.025</td>\n      <td>0.0</td>\n      <td>0.1</td>\n      <td>...</td>\n      <td>0.749894</td>\n      <td>3</td>\n      <td>3</td>\n      <td>0.0</td>\n      <td>[0.8909598958333333, 0.42342280092592594, 0.00...</td>\n      <td>0.166702</td>\n      <td>[[0.9915303441614531, 0.9917394591147464, 0.99...</td>\n      <td>[0.54835093, 0.40564522, 0.045496702, 0.000326...</td>\n      <td>-7.586671</td>\n      <td>0.000604</td>\n    </tr>\n    <tr>\n      <th>4725</th>\n      <td>AF4rikUY</td>\n      <td>[[-0.08619885, -0.0411501, -0.043874457, -0.01...</td>\n      <td>[[-0.19407474, 0.25004452], [0.24409261, -0.15...</td>\n      <td>[[0.08130539, -0.0379015, -0.09197174, 0.41676...</td>\n      <td>[0.2, 0.2, 0.2, 0.2, 0.2, 0.2, 0.2, 0.2, 0.2, ...</td>\n      <td>0.034799</td>\n      <td>0.001</td>\n      <td>0.025</td>\n      <td>0.0</td>\n      <td>0.1</td>\n      <td>...</td>\n      <td>0.749894</td>\n      <td>3</td>\n      <td>3</td>\n      <td>0.0</td>\n      <td>[0.8275739583333334, 0.3531861689814815, 0.000...</td>\n      <td>0.144357</td>\n      <td>[[0.9936264032373353, 0.9970193076406723, 0.96...</td>\n      <td>[0.6132213, 0.34278047, 0.043411463, 0.0002713...</td>\n      <td>-7.440840</td>\n      <td>0.000769</td>\n    </tr>\n    <tr>\n      <th>4727</th>\n      <td>7rrouXLQ</td>\n      <td>[[-0.045861263, -0.028388944, -0.023476154, 0....</td>\n      <td>[[0.22979216, -0.19453178], [-0.18514003, -0.1...</td>\n      <td>[[0.13293314, -0.00444125, 0.20400062, -0.0231...</td>\n      <td>[0.2, 0.2, 0.2, 0.2, 0.2, 0.2, 0.2, 0.2, 0.2, ...</td>\n      <td>0.029881</td>\n      <td>0.001</td>\n      <td>0.025</td>\n      <td>0.0</td>\n      <td>0.1</td>\n      <td>...</td>\n      <td>0.749894</td>\n      <td>3</td>\n      <td>3</td>\n      <td>0.0</td>\n      <td>[0.8954333912037037, 0.3121367476851852, 0.001...</td>\n      <td>0.151079</td>\n      <td>[[0.9934489185816251, 0.9973085926831411, 0.99...</td>\n      <td>[0.65109056, 0.2986511, 0.04934943, 0.00050103...</td>\n      <td>-7.003263</td>\n      <td>0.001057</td>\n    </tr>\n    <tr>\n      <th>...</th>\n      <td>...</td>\n      <td>...</td>\n      <td>...</td>\n      <td>...</td>\n      <td>...</td>\n      <td>...</td>\n      <td>...</td>\n      <td>...</td>\n      <td>...</td>\n      <td>...</td>\n      <td>...</td>\n      <td>...</td>\n      <td>...</td>\n      <td>...</td>\n      <td>...</td>\n      <td>...</td>\n      <td>...</td>\n      <td>...</td>\n      <td>...</td>\n      <td>...</td>\n      <td>...</td>\n    </tr>\n    <tr>\n      <th>1017</th>\n      <td>ZcI932p7</td>\n      <td>[[0.16717099, 0.07130162, -0.06926736, -0.0813...</td>\n      <td>[[-0.22284491, -0.22300118], [0.19501832, -0.2...</td>\n      <td>[[0.06798458, 0.022391252, 0.024471773, 0.0173...</td>\n      <td>[0.2, 0.2, 0.2, 0.2, 0.2, 0.2, 0.2, 0.2, 0.2, ...</td>\n      <td>0.027423</td>\n      <td>0.001</td>\n      <td>0.025</td>\n      <td>0.0</td>\n      <td>0.1</td>\n      <td>...</td>\n      <td>-1.000000</td>\n      <td>3</td>\n      <td>6</td>\n      <td>0.0</td>\n      <td>[0.9778479166666667, 0.9194945601851852, 0.873...</td>\n      <td>0.151279</td>\n      <td>[[0.9853719416853602, 0.9866002483309451, 0.99...</td>\n      <td>[0.083626814, 0.07360946, 0.07025736, 0.065144...</td>\n      <td>-0.258115</td>\n      <td>0.873546</td>\n    </tr>\n    <tr>\n      <th>908</th>\n      <td>6dzdOOQW</td>\n      <td>[[0.09050355, -0.045784455, -0.08748076, -0.05...</td>\n      <td>[[-0.063979246, -0.14624201], [-0.1106221, -0....</td>\n      <td>[[0.040780276, 0.055325285, 0.15007772, 0.1853...</td>\n      <td>[0.2, 0.2, 0.2, 0.2, 0.2, 0.2, 0.2, 0.2, 0.2, ...</td>\n      <td>0.024540</td>\n      <td>0.001</td>\n      <td>0.025</td>\n      <td>0.0</td>\n      <td>0.1</td>\n      <td>...</td>\n      <td>-0.749894</td>\n      <td>3</td>\n      <td>6</td>\n      <td>0.0</td>\n      <td>[0.9750097251146151, 0.9178355419171826, 0.868...</td>\n      <td>0.173464</td>\n      <td>[[0.9879585983073754, 0.9833168412500806, 0.99...</td>\n      <td>[0.081367224, 0.074157044, 0.07156416, 0.06801...</td>\n      <td>-0.257591</td>\n      <td>0.868432</td>\n    </tr>\n    <tr>\n      <th>1004</th>\n      <td>jYeaGwa7</td>\n      <td>[[0.16819106, -0.026536431, -0.10875644, -0.11...</td>\n      <td>[[0.13880847, 0.047837254], [0.21456137, -0.25...</td>\n      <td>[[0.23869263, 0.050042026, 0.23846881, 0.10846...</td>\n      <td>[0.2, 0.2, 0.2, 0.2, 0.2, 0.2, 0.2, 0.2, 0.2, ...</td>\n      <td>0.029631</td>\n      <td>0.001</td>\n      <td>0.025</td>\n      <td>0.0</td>\n      <td>0.1</td>\n      <td>...</td>\n      <td>-1.000000</td>\n      <td>3</td>\n      <td>6</td>\n      <td>0.0</td>\n      <td>[0.9738326388888889, 0.9125248263888889, 0.868...</td>\n      <td>0.163340</td>\n      <td>[[0.9910816684027928, 0.9867804634285349, 0.99...</td>\n      <td>[0.07819653, 0.075074874, 0.07180645, 0.066032...</td>\n      <td>-0.254993</td>\n      <td>0.868060</td>\n    </tr>\n    <tr>\n      <th>1021</th>\n      <td>5naC0PgM</td>\n      <td>[[0.21480621, -0.06787044, -0.072154574, -0.14...</td>\n      <td>[[-0.40043676, 0.30941913], [-0.5094563, -0.08...</td>\n      <td>[[0.24713036, -0.074195996, 0.088072196, 0.059...</td>\n      <td>[0.2, 0.2, 0.2, 0.2, 0.2, 0.2, 0.2, 0.2, 0.2, ...</td>\n      <td>0.027127</td>\n      <td>0.001</td>\n      <td>0.025</td>\n      <td>0.0</td>\n      <td>0.1</td>\n      <td>...</td>\n      <td>-1.000000</td>\n      <td>3</td>\n      <td>6</td>\n      <td>0.0</td>\n      <td>[0.9733501157407407, 0.9186485532407408, 0.868...</td>\n      <td>0.138681</td>\n      <td>[[0.989344406226341, 0.9880023089140406, 0.992...</td>\n      <td>[0.07993016, 0.075053744, 0.06901064, 0.067700...</td>\n      <td>-0.253596</td>\n      <td>0.868781</td>\n    </tr>\n    <tr>\n      <th>1011</th>\n      <td>YA43d2yo</td>\n      <td>[[0.2680931, -0.096623525, -0.20860046, -0.012...</td>\n      <td>[[-0.44853747, -0.033702616], [-0.13334396, 0....</td>\n      <td>[[0.019294458, 0.021507617, 0.12801626, 0.1600...</td>\n      <td>[0.2, 0.2, 0.2, 0.2, 0.2, 0.2, 0.2, 0.2, 0.2, ...</td>\n      <td>0.025718</td>\n      <td>0.001</td>\n      <td>0.025</td>\n      <td>0.0</td>\n      <td>0.1</td>\n      <td>...</td>\n      <td>-1.000000</td>\n      <td>3</td>\n      <td>6</td>\n      <td>0.0</td>\n      <td>[0.9729773148148149, 0.9188451388888889, 0.863...</td>\n      <td>0.221498</td>\n      <td>[[0.9905450149528203, 0.9881757510205302, 0.99...</td>\n      <td>[0.07736261, 0.072064675, 0.07075892, 0.066413...</td>\n      <td>-0.248700</td>\n      <td>0.863525</td>\n    </tr>\n  </tbody>\n</table>\n<p>897 rows × 22 columns</p>\n</div>"
     },
     "execution_count": 32,
     "metadata": {},
     "output_type": "execute_result"
    }
   ],
   "source": [
    "df = original_df.copy()\n",
    "\n",
    "# Restrict to networks with dim and compute variance above dim\n",
    "dim = 3\n",
    "df = df[df.dim == dim]\n",
    "df = df[df.k >= dim]\n",
    "df['var'] = df.variance.apply(lambda x: compute_var(x, dim))\n",
    "df['k_inertia'] = df.inertia.apply(lambda x: x[dim - 1])\n",
    "df['var'] = np.log(df['var'])\n",
    "df.sort_values('var', ascending=True)"
   ],
   "metadata": {
    "collapsed": false,
    "ExecuteTime": {
     "end_time": "2025-05-01T14:50:00.001501Z",
     "start_time": "2025-05-01T14:49:59.647114Z"
    }
   },
   "id": "738f5edb8b44f4ea",
   "execution_count": 32
  },
  {
   "cell_type": "code",
   "outputs": [],
   "source": [
    "## RESPONSE MATRIX\n",
    "model_data = df[df.model_id=='fvYe0Poa']\n",
    "net = Net(n=100,input_size = 2,dale=False)\n",
    "net.recurrent_layer.weight.data = torch.tensor(model_data['w_rec'].item())\n",
    "net.recurrent_layer.bias.data = torch.tensor(model_data['bias'].item())\n",
    "net.input_layer.weight.data = torch.tensor(model_data['w_in'].item())\n",
    "net.output_layer.weight.data = torch.tensor(model_data['w_out'].item())\n",
    "net.sigma_rec = 0.\n",
    "variance = model_data['var'].item()\n",
    "u, z, mask, conditions  = generate_trials(\n",
    "                            n_trials=25)\n",
    "x = net(u).detach().cpu().numpy()\n",
    "# activity_std = torch.std(torch.mean(x, dim=[0, 1])).detach().cpu().numpy() / torch.mean(torch.mean(x, dim=[0, 1])).detach().cpu().numpy()\n",
    "\n",
    "rows = []\n",
    "for k in range(u.shape[0]):\n",
    "    rows.append({'trial': k,\n",
    "                 'motion': conditions[k]['motion_coh'],\n",
    "                 'response': x[k, :, :]})\n",
    "df = pd.DataFrame(rows)\n",
    "df = df.groupby(['motion']).response.apply(lambda r: np.mean(np.stack(r), axis=0)).reset_index()\n",
    "\n",
    "#df = df.groupby('motion').response.apply(lambda r: np.mean(np.stack(r), axis=0)).reset_index()\n",
    "responses = np.stack(df.response.values)\n",
    "responses = responses.reshape(-1, responses.shape[2]).T\n",
    "\n",
    "responses = responses[np.mean(responses, axis=1) >.025, :]\n",
    "\n",
    "# z_score\n",
    "responses = (responses - np.mean(responses, axis=1, keepdims=True)) / np.std(responses, axis=1, keepdims=True)\n",
    "responses = responses[~np.isnan(responses).any(axis=1)]\n",
    "\n",
    "\n"
   ],
   "metadata": {
    "collapsed": false,
    "ExecuteTime": {
     "end_time": "2025-05-01T14:50:00.064179Z",
     "start_time": "2025-05-01T14:50:00.005848Z"
    }
   },
   "id": "774882b5ec6c4a7e",
   "execution_count": 33
  },
  {
   "cell_type": "code",
   "outputs": [
    {
     "data": {
      "text/plain": "4740    0.166702\nName: activity_std, dtype: float32"
     },
     "execution_count": 34,
     "metadata": {},
     "output_type": "execute_result"
    }
   ],
   "source": [
    "model_data['activity_std']"
   ],
   "metadata": {
    "collapsed": false,
    "ExecuteTime": {
     "end_time": "2025-05-01T14:50:04.860812Z",
     "start_time": "2025-05-01T14:50:04.858825Z"
    }
   },
   "id": "6dd528efc48399ad",
   "execution_count": 34
  },
  {
   "cell_type": "code",
   "outputs": [
    {
     "data": {
      "text/plain": "<Axes: xlabel='None', ylabel='Count'>"
     },
     "execution_count": 23,
     "metadata": {},
     "output_type": "execute_result"
    },
    {
     "data": {
      "text/plain": "<Figure size 640x480 with 1 Axes>",
      "image/png": "[encoded data removed]"
     },
     "metadata": {},
     "output_type": "display_data"
    }
   ],
   "source": [
    "plt.figure()\n",
    "sns.histplot(x = torch.diag(net.recurrent_layer.weight.data))"
   ],
   "metadata": {
    "collapsed": false,
    "ExecuteTime": {
     "end_time": "2025-05-01T14:44:35.709633Z",
     "start_time": "2025-05-01T14:44:35.626222Z"
    }
   },
   "id": "b0bf714bcadad13f",
   "execution_count": 23
  },
  {
   "cell_type": "code",
   "outputs": [
    {
     "data": {
      "text/plain": "<Axes: ylabel='Count'>"
     },
     "execution_count": 35,
     "metadata": {},
     "output_type": "execute_result"
    },
    {
     "data": {
      "text/plain": "<Figure size 640x480 with 1 Axes>",
      "image/png": "[encoded data removed]"
     },
     "metadata": {},
     "output_type": "display_data"
    }
   ],
   "source": [
    "plt.figure()\n",
    "sns.histplot(np.mean(x,axis=(0,1)))"
   ],
   "metadata": {
    "collapsed": false,
    "ExecuteTime": {
     "end_time": "2025-05-01T14:50:10.698055Z",
     "start_time": "2025-05-01T14:50:10.596700Z"
    }
   },
   "id": "a3ee4e8c2ece2e5b",
   "execution_count": 35
  },
  {
   "cell_type": "code",
   "outputs": [
    {
     "data": {
      "text/plain": "0.0009525149"
     },
     "execution_count": 12,
     "metadata": {},
     "output_type": "execute_result"
    }
   ],
   "source": [
    "np.std(np.std(x,axis=(0,1)))"
   ],
   "metadata": {
    "collapsed": false,
    "ExecuteTime": {
     "end_time": "2025-04-30T13:21:09.129092Z",
     "start_time": "2025-04-30T13:21:09.124297Z"
    }
   },
   "id": "f6dfa03f1162114",
   "execution_count": 12
  },
  {
   "cell_type": "code",
   "outputs": [
    {
     "data": {
      "text/plain": "0.028981054"
     },
     "execution_count": 13,
     "metadata": {},
     "output_type": "execute_result"
    }
   ],
   "source": [
    "np.std(np.mean(x,axis=(0,1)))/np.mean(np.mean(x,axis=(0,1)))"
   ],
   "metadata": {
    "collapsed": false,
    "ExecuteTime": {
     "end_time": "2025-04-30T13:21:09.779684Z",
     "start_time": "2025-04-30T13:21:09.776445Z"
    }
   },
   "id": "cb63254e1d15a32f",
   "execution_count": 13
  },
  {
   "cell_type": "code",
   "outputs": [
    {
     "data": {
      "text/plain": "0.021518556"
     },
     "execution_count": 14,
     "metadata": {},
     "output_type": "execute_result"
    }
   ],
   "source": [
    "np.std(np.std(x,axis=(0,1)))/np.mean(np.std(x,axis=(0,1)))"
   ],
   "metadata": {
    "collapsed": false,
    "ExecuteTime": {
     "end_time": "2025-04-30T13:21:10.447275Z",
     "start_time": "2025-04-30T13:21:10.441761Z"
    }
   },
   "id": "ee0e7015310814f3",
   "execution_count": 14
  },
  {
   "cell_type": "code",
   "outputs": [
    {
     "data": {
      "text/plain": "1.68251116715654"
     },
     "execution_count": 15,
     "metadata": {},
     "output_type": "execute_result"
    }
   ],
   "source": [
    "#np.std(np.mean(x,axis=(0,1)))\n",
    "from scipy.stats import norm, kurtosis\n",
    "#data = norm.rvs(size=1000, random_state=3)\n",
    "kurtosis(np.mean(x,axis=(0,1)))\n",
    "#from scipy.stats import skewtest\n",
    "#skewtest(np.mean(x,axis=(0,1)))td"
   ],
   "metadata": {
    "collapsed": false,
    "ExecuteTime": {
     "end_time": "2025-04-30T13:21:11.173962Z",
     "start_time": "2025-04-30T13:21:11.171318Z"
    }
   },
   "id": "dcbffc0f378d3a83",
   "execution_count": 15
  },
  {
   "cell_type": "code",
   "outputs": [],
   "source": [
    "data = np.mean(x,axis=(0,1))\n",
    "z = (data - np.mean(data))/np.std(data)"
   ],
   "metadata": {
    "collapsed": false,
    "ExecuteTime": {
     "end_time": "2025-04-23T13:24:12.625822Z",
     "start_time": "2025-04-23T13:24:12.622124Z"
    }
   },
   "id": "54ff6a487d91c762",
   "execution_count": 51
  },
  {
   "cell_type": "code",
   "outputs": [
    {
     "data": {
      "text/plain": "<Axes: ylabel='Count'>"
     },
     "execution_count": 52,
     "metadata": {},
     "output_type": "execute_result"
    },
    {
     "data": {
      "text/plain": "<Figure size 640x480 with 1 Axes>",
      "image/png": "[encoded data removed]"
     },
     "metadata": {},
     "output_type": "display_data"
    }
   ],
   "source": [
    "plt.figure()\n",
    "sns.histplot(data)"
   ],
   "metadata": {
    "collapsed": false,
    "ExecuteTime": {
     "end_time": "2025-04-23T13:24:13.505692Z",
     "start_time": "2025-04-23T13:24:13.419978Z"
    }
   },
   "id": "c3e239dcaab338b7",
   "execution_count": 52
  },
  {
   "cell_type": "code",
   "outputs": [
    {
     "data": {
      "text/plain": "<Axes: ylabel='Count'>"
     },
     "execution_count": 53,
     "metadata": {},
     "output_type": "execute_result"
    },
    {
     "data": {
      "text/plain": "<Figure size 640x480 with 1 Axes>",
      "image/png": "[encoded data removed]"
     },
     "metadata": {},
     "output_type": "display_data"
    }
   ],
   "source": [
    "plt.figure()\n",
    "sns.histplot(z)"
   ],
   "metadata": {
    "collapsed": false,
    "ExecuteTime": {
     "end_time": "2025-04-23T13:24:31.278267Z",
     "start_time": "2025-04-23T13:24:31.189923Z"
    }
   },
   "id": "db1774448a1faf77",
   "execution_count": 53
  },
  {
   "cell_type": "code",
   "outputs": [
    {
     "data": {
      "text/plain": "1.5377998e-07"
     },
     "execution_count": 54,
     "metadata": {},
     "output_type": "execute_result"
    }
   ],
   "source": [
    "np.mean(z)"
   ],
   "metadata": {
    "collapsed": false,
    "ExecuteTime": {
     "end_time": "2025-04-23T13:24:37.176972Z",
     "start_time": "2025-04-23T13:24:37.161699Z"
    }
   },
   "id": "6ef822180c51a7a4",
   "execution_count": 54
  },
  {
   "cell_type": "code",
   "outputs": [
    {
     "name": "stdout",
     "output_type": "stream",
     "text": [
      "0.0005710637314668714\n"
     ]
    },
    {
     "data": {
      "text/plain": "<Figure size 200x225 with 4 Axes>",
      "image/png": "[encoded data removed]"
     },
     "metadata": {},
     "output_type": "display_data"
    }
   ],
   "source": [
    "## CLUSTERED RESPONSE MATRIX        \n",
    "#_,k = compute_k(responses,5,25,.05)\n",
    "k = model_data.k.values[0]\n",
    "import matplotlib\n",
    "clustering = KMeans(n_clusters=k, n_init=20).fit(responses)\n",
    "total_variance = np.sum((responses.T - np.mean(responses.T, axis=0, keepdims=True)) ** 2)\n",
    "print(clustering.inertia_/total_variance)\n",
    "labels = clustering.labels_\n",
    "sort = np.argsort(labels)\n",
    "sorted_responses = responses[sort, :]\n",
    "sns.husl_palette(s=.4)\n",
    "network_pal = sns.husl_palette(pd.Series(np.sort(labels)).unique().size, s=1)\n",
    "lut = dict(zip(pd.Series(np.sort(labels)).unique(), network_pal))\n",
    "row_colors = pd.Series(np.sort(labels)).map(lut)\n",
    "g = sns.clustermap(pd.DataFrame((sorted_responses)), row_cluster=False, col_cluster=False, row_colors=row_colors,\n",
    "                   figsize=(2, 2.25), cbar_pos=None, xticklabels=False, yticklabels=False, center=0,cmap='Greys')\n",
    "ax = g.ax_heatmap\n",
    "\n",
    "g.savefig('Figures/Fig_2afc_b.jpg',\n",
    "          format='jpeg',\n",
    "          dpi=450,\n",
    "          bbox_inches='tight'\n",
    "          )"
   ],
   "metadata": {
    "collapsed": false,
    "ExecuteTime": {
     "end_time": "2025-05-01T14:50:19.252537Z",
     "start_time": "2025-05-01T14:50:18.730036Z"
    }
   },
   "id": "7cded082b7897c07",
   "execution_count": 36
  },
  {
   "cell_type": "code",
   "outputs": [
    {
     "data": {
      "text/plain": "<Figure size 150x150 with 1 Axes>",
      "image/png": "[encoded data removed]"
     },
     "metadata": {},
     "output_type": "display_data"
    }
   ],
   "source": [
    "# STATE SPACE\n",
    "#palette = sns.color_palette(\"coolwarm\", n_colors=50,as_cmap=False)\n",
    "palette = sns.husl_palette(75, s=1)\n",
    "\n",
    "net.sigma_in = 0.1\n",
    "net.sigma_rec = 0\n",
    "x = net.forward(u).detach().numpy()\n",
    "x = (x - np.mean(x, axis=(0, 1), keepdims=True)) / np.std(x, axis=(0, 1), keepdims=True)\n",
    "#x = net(u)\n",
    "n_components = 2\n",
    "pca = PCA()\n",
    "pca.fit(x.reshape(-1, x.shape[2]))\n",
    "x_proj = pca.transform(x.reshape(-1, x.shape[2])).reshape(x.shape[0], x.shape[1], x.shape[2])\n",
    "rows = []\n",
    "for k in range(u.shape[0]):\n",
    "    for t in range(u.shape[1]):\n",
    "        rows.append({'trial': k,\n",
    "                     'motion': conditions[k]['motion_coh'],\n",
    "                     'side': np.sign(conditions[k]['motion_coh']),\n",
    "                     't': t,\n",
    "                     'z_1': x_proj[k, t, 0],\n",
    "                     'z_2': x_proj[k, t, 1], })\n",
    "new_df = pd.DataFrame(rows)\n",
    "new_df_mean = new_df.groupby(['motion', 't']).mean().reset_index()\n",
    "fig = plt.figure(figsize=(1.5, 1.5))\n",
    "gs = gridspec.GridSpec(1, 1)\n",
    "ax = fig.add_subplot(gs[0, 0])\n",
    "\n",
    "sns.scatterplot(data=new_df,x='z_1',y='z_2',hue='t',ax=ax,legend=False,s=1,alpha=.1,edgecolor=None)\n",
    "    \n",
    "sns.scatterplot(data=new_df_mean, x='z_1', y='z_2', ax=ax, legend=False, s=3, alpha=.5, hue='t')\n",
    "# sns.scatterplot(data=new_df_mean[new_df_mean.t==74],x='z_1',y='z_2',ax=ax,legend=False,s=6,alpha=1,hue='theta',palette=palette)\n",
    "\n",
    "# Model predictions\n",
    "\n",
    "\n",
    "ax.spines['right'].set_visible(False)\n",
    "ax.spines['top'].set_visible(False)\n",
    "ax.spines['bottom'].set_visible(False)\n",
    "ax.spines['left'].set_visible(False)\n",
    "ax.set_xlabel(\"PC 1\", fontsize=7)\n",
    "ax.set_ylabel(\"PC 2\", fontsize=7)\n",
    "#ax.set_title(r'$\\sum_{i\\geq 2}\\lambda_i = $'+str(np.round(variance,4)),fontsize=8)\n",
    "ax.xaxis.set_tick_params(labelsize=7, bottom=True)\n",
    "ax.yaxis.set_tick_params(labelsize=7, left=True)\n",
    "ax.spines['left'].set_color('black')\n",
    "ax.spines['bottom'].set_color('black')\n",
    "ax.axes.get_xaxis().set_visible(False)\n",
    "ax.axes.get_yaxis().set_visible(False)\n",
    "plt.gca().patch.set_alpha(0)\n",
    "# ax.set_xlim(-1.25,1.25)\n",
    "# ax.set_ylim(-1.25,1.25)\n",
    "matplotlib.rcParams['savefig.transparent'] = True\n",
    "fig.savefig('Figures/Figure_1_b.jpg',\n",
    "            format='jpeg',\n",
    "            dpi=450,\n",
    "            bbox_inches='tight', transparent=True)"
   ],
   "metadata": {
    "collapsed": false,
    "ExecuteTime": {
     "end_time": "2025-05-01T14:50:24.313333Z",
     "start_time": "2025-05-01T14:50:23.570833Z"
    }
   },
   "id": "98373a71984a9f28",
   "execution_count": 37
  },
  {
   "cell_type": "code",
   "outputs": [
    {
     "data": {
      "text/plain": "[<matplotlib.lines.Line2D at 0x3671330a0>]"
     },
     "execution_count": 38,
     "metadata": {},
     "output_type": "execute_result"
    },
    {
     "data": {
      "text/plain": "<Figure size 640x480 with 1 Axes>",
      "image/png": "[encoded data removed]"
     },
     "metadata": {},
     "output_type": "display_data"
    }
   ],
   "source": [
    "plt.figure()\n",
    "plt.plot(pca.explained_variance_ratio_[:10],marker = '.')"
   ],
   "metadata": {
    "collapsed": false,
    "ExecuteTime": {
     "end_time": "2025-05-01T14:50:29.127496Z",
     "start_time": "2025-05-01T14:50:29.061222Z"
    }
   },
   "id": "f8af0019e2fc7633",
   "execution_count": 38
  },
  {
   "cell_type": "code",
   "outputs": [
    {
     "data": {
      "text/plain": "<Figure size 150x150 with 1 Axes>",
      "image/png": "[encoded data removed]"
     },
     "metadata": {},
     "output_type": "display_data"
    }
   ],
   "source": [
    "# STATE SPACE\n",
    "#palette = sns.color_palette(\"coolwarm\", n_colors=50,as_cmap=False)\n",
    "palette = sns.husl_palette(75, s=1)\n",
    "\n",
    "net.sigma_in = 0.1\n",
    "net.sigma_rec = 0\n",
    "output = net.output_layer(net.forward(u)).detach().numpy()\n",
    "#x = (x - np.mean(x, axis=(0, 1), keepdims=True)) / np.std(x, axis=(0, 1), keepdims=True)\n",
    "#x = net(u)\n",
    "n_components = 2\n",
    "pca = PCA()\n",
    "pca.fit(x.reshape(-1, x.shape[2]))\n",
    "#x_proj = pca.transform(x.reshape(-1, x.shape[2])).reshape(x.shape[0], x.shape[1], x.shape[2])\n",
    "rows = []\n",
    "for k in range(u.shape[0]):\n",
    "    for t in range(u.shape[1]):\n",
    "        rows.append({'trial': k,\n",
    "                     'motion': conditions[k]['motion_coh'],\n",
    "                     'side': np.sign(conditions[k]['motion_coh']),\n",
    "                     't': t,\n",
    "                     'z': output[k, t, 1],\n",
    "       })\n",
    "new_df = pd.DataFrame(rows)\n",
    "new_df_mean = new_df.groupby(['motion', 't']).mean().reset_index()\n",
    "fig = plt.figure(figsize=(1.5, 1.5))\n",
    "gs = gridspec.GridSpec(1, 1)\n",
    "ax = fig.add_subplot(gs[0, 0])\n",
    "\n",
    "sns.lineplot(data=new_df,x='t',y='z',hue='motion',ax=ax,legend=False,palette='coolwarm')\n",
    "    \n",
    "#sns.scatterplot(data=new_df_mean, x='z_1', y='z_2', ax=ax, legend=False, s=3, alpha=.5, hue='t')\n",
    "# sns.scatterplot(data=new_df_mean[new_df_mean.t==74],x='z_1',y='z_2',ax=ax,legend=False,s=6,alpha=1,hue='theta',palette=palette)\n",
    "\n",
    "# Model predictions\n",
    "\n",
    "\n",
    "ax.spines['right'].set_visible(False)\n",
    "ax.spines['top'].set_visible(False)\n",
    "ax.spines['bottom'].set_visible(False)\n",
    "ax.spines['left'].set_visible(False)\n",
    "ax.set_xlabel(\"PC 1\", fontsize=7)\n",
    "ax.set_ylabel(\"PC 2\", fontsize=7)\n",
    "#ax.set_title(r'$\\sum_{i\\geq 2}\\lambda_i = $'+str(np.round(variance,4)),fontsize=8)\n",
    "ax.xaxis.set_tick_params(labelsize=7, bottom=True)\n",
    "ax.yaxis.set_tick_params(labelsize=7, left=True)\n",
    "ax.spines['left'].set_color('black')\n",
    "ax.spines['bottom'].set_color('black')\n",
    "ax.axes.get_xaxis().set_visible(False)\n",
    "ax.axes.get_yaxis().set_visible(False)\n",
    "plt.gca().patch.set_alpha(0)\n",
    "# ax.set_xlim(-1.25,1.25)\n",
    "# ax.set_ylim(-1.25,1.25)\n",
    "matplotlib.rcParams['savefig.transparent'] = True\n",
    "fig.savefig('Figures/Figure_1_b.jpg',\n",
    "            format='jpeg',\n",
    "            dpi=450,\n",
    "            bbox_inches='tight', transparent=True)"
   ],
   "metadata": {
    "collapsed": false,
    "ExecuteTime": {
     "end_time": "2025-05-01T14:51:44.729292Z",
     "start_time": "2025-05-01T14:51:41.039572Z"
    }
   },
   "id": "a4a0260a707e8ac6",
   "execution_count": 41
  },
  {
   "cell_type": "code",
   "outputs": [
    {
     "name": "stdout",
     "output_type": "stream",
     "text": [
      "0.07322659730944465\n"
     ]
    },
    {
     "data": {
      "text/plain": "<Figure size 150x150 with 1 Axes>",
      "image/png": "[encoded data removed]"
     },
     "metadata": {},
     "output_type": "display_data"
    }
   ],
   "source": [
    "fig = plt.figure(figsize=(1.5, 1.5))\n",
    "gs = gridspec.GridSpec(1, 1)\n",
    "ax = fig.add_subplot(gs[0, 0])\n",
    "net = Net(n=100,input_size = 2,dale=False)\n",
    "net.recurrent_layer.weight.data = torch.tensor(model_data['w_rec'].item())\n",
    "net.recurrent_layer.bias.data = torch.tensor(model_data['bias'].item())\n",
    "net.input_layer.weight.data = torch.tensor(model_data['w_in'].item())\n",
    "net.output_layer.weight.data = torch.tensor(model_data['w_out'].item())\n",
    "\n",
    "\n",
    "x = net(u).detach().cpu().numpy()\n",
    "\n",
    "\n",
    "rows = []\n",
    "for trial in range(u.shape[0]):\n",
    "    rows.append({'trial': trial,\n",
    "                 'motion': conditions[trial]['motion_coh'],\n",
    "                 'response': x[trial, :, :]})\n",
    "model_df = pd.DataFrame(rows)\n",
    "model_df = model_df.groupby(['motion']).response.apply(lambda r: np.mean(np.stack(r), axis=0)).reset_index()\n",
    "\n",
    "responses = np.stack(model_df.response.values)\n",
    "responses = responses.reshape(-1, responses.shape[2]).T\n",
    "\n",
    "# z_score\n",
    "# responses = (responses - np.mean(responses, axis=1, keepdims=True)) / np.std(responses, axis=1, keepdims=True)\n",
    "# responses = responses[~np.isnan(responses).any(axis=1)]\n",
    "\n",
    "#responses = .001 * (2*np.random.rand(responses.shape[0],responses.shape[1])-1)\n",
    "total_variance = np.sum((responses.T - np.mean(responses.T, axis=0, keepdims=True)) ** 2)\n",
    "\n",
    "clustering = KMeans(n_clusters=2,n_init='auto').fit(responses)\n",
    "labels  = clustering.labels_\n",
    "print(clustering.inertia_/total_variance)\n",
    "\n",
    "#responses  = responses + .5*(2*np.random.rand(responses.shape[0],responses.shape[1])-1)\n",
    "\n",
    "X = responses\n",
    "y = labels\n",
    "#lda = LinearDiscriminantAnalysis(solver='eigen',  shrinkage=9e-1)\n",
    "lda = PCA()\n",
    "# parameters = {'tol':10**np.linspace(-2,-.5,25)}\n",
    "# from sklearn.model_selection import GridSearchCV\n",
    "# clf = GridSearchCV(lda, parameters,refit=True,error_score = np.nan,cv=5)\n",
    "# clf.fit(X, y)\n",
    "# lda = clf.best_estimator_\n",
    "x_proj = lda.fit_transform(X,y)\n",
    "\n",
    "\n",
    "    \n",
    "centers_proj = lda.transform(clustering.cluster_centers_)\n",
    "#scale = np.sum(PCA().fit(centers_proj).explained_variance_[:2])/100\n",
    "\n",
    "\n",
    "\n",
    "#x_proj = x_proj + 1*(2*np.random.rand(x_proj.shape[0],x_proj.shape[1])-1)\n",
    "network_pal = sns.husl_palette(pd.Series(np.sort(labels)).unique().size,s=1)\n",
    "\n",
    "lut = dict(zip(pd.Series(np.sort(labels)).unique(),network_pal))\n",
    "row_colors = pd.Series(np.sort(labels)).map(lut)\n",
    "\n",
    "#sns.scatterplot(x=x_proj[np.argsort(labels), 0], y=x_proj[np.argsort(labels), 1], color='gray',s=3,alpha=.5,ax=ax,edgecolor=None)\n",
    "sns.scatterplot(x=x_proj[:, 0], y=x_proj[:, 1], color='gray',s=3,alpha=.5,ax=ax,edgecolor=None)\n",
    "\n",
    "sns.scatterplot(x=centers_proj[:, 0], y=centers_proj[:, 1], color='k',s=6,alpha=1,ax=ax,edgecolor=None)\n",
    "\n",
    "# Make axis pretty\n",
    "ax.spines['right'].set_visible(False)\n",
    "ax.spines['top'].set_visible(False)\n",
    "ax.spines['left'].set_visible(False)\n",
    "ax.spines['bottom'].set_visible(False)\n",
    "ax.axes.get_xaxis().set_visible(False)\n",
    "ax.axes.get_yaxis().set_visible(False)\n",
    "ax.set_xlabel(\"PC 1\",fontsize=6)\n",
    "ax.set_ylabel(\"PC 2\",fontsize=6)\n",
    "#ax.set_title(r'$\\sum_{i\\geq 2}\\lambda_i = $'+str(np.round(variance,4)),fontsize=8)\n",
    "ax.xaxis.set_tick_params(labelsize=6,bottom=False)\n",
    "ax.yaxis.set_tick_params(labelsize=6,left=False)\n",
    "ax.spines['left'].set_color('black')\n",
    "ax.spines['bottom'].set_color('black')\n",
    "ax.text(.5,-.2,r'$\\sum_{i>3}\\lambda_i = $'+' '+str(np.round(model_data['var'].item(),4) ), horizontalalignment='center',\n",
    "verticalalignment='center', transform=ax.transAxes,fontsize = 3)\n",
    "\n",
    "fig.savefig('Figures/SIFig_2afcclustering.jpg',\n",
    "format='jpeg',\n",
    "dpi=450)"
   ],
   "metadata": {
    "collapsed": false,
    "ExecuteTime": {
     "end_time": "2025-04-29T02:52:16.860079Z",
     "start_time": "2025-04-29T02:52:16.674645Z"
    }
   },
   "id": "54759dd40c639b81",
   "execution_count": 42
  },
  {
   "cell_type": "code",
   "outputs": [
    {
     "data": {
      "text/plain": "0.084"
     },
     "execution_count": 53,
     "metadata": {},
     "output_type": "execute_result"
    }
   ],
   "source": [
    "np.sum(np.array(null)<inertia)/250"
   ],
   "metadata": {
    "collapsed": false,
    "ExecuteTime": {
     "end_time": "2025-02-14T17:40:38.903593Z",
     "start_time": "2025-02-14T17:40:38.891884Z"
    }
   },
   "id": "5d1fcd9cc062c6d8",
   "execution_count": 53
  },
  {
   "cell_type": "code",
   "outputs": [],
   "source": [],
   "metadata": {
    "collapsed": false
   },
   "id": "9af92a7efeb1572f"
  }
 ],
 "metadata": {
  "kernelspec": {
   "display_name": "Python 3",
   "language": "python",
   "name": "python3"
  },
  "language_info": {
   "codemirror_mode": {
    "name": "ipython",
    "version": 2
   },
   "file_extension": ".py",
   "mimetype": "text/x-python",
   "name": "python",
   "nbconvert_exporter": "python",
   "pygments_lexer": "ipython2",
   "version": "2.7.6"
  }
 },
 "nbformat": 4,
 "nbformat_minor": 5
}
