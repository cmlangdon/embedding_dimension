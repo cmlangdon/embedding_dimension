{
 "cells": [
  {
   "cell_type": "markdown",
   "source": [
    "## Variance vs. inertia plots for 2afc (rates) models"
   ],
   "metadata": {
    "collapsed": false
   },
   "id": "b5fc5b9c797acd41"
  },
  {
   "cell_type": "code",
   "outputs": [
    {
     "name": "stdout",
     "output_type": "stream",
     "text": [
      "/Users/cl1704/PycharmProjects/embedding_dimension/RNN\n"
     ]
    }
   ],
   "source": [
    "cd /Users/cl1704/PycharmProjects/embedding_dimension/RNN"
   ],
   "metadata": {
    "collapsed": false,
    "ExecuteTime": {
     "end_time": "2025-05-02T20:12:40.149857Z",
     "start_time": "2025-05-02T20:12:40.141095Z"
    }
   },
   "id": "3876b9e5b5b7d933",
   "execution_count": 12
  },
  {
   "cell_type": "code",
   "outputs": [],
   "source": [
    "from Experiment_1.TwoAFCTask import generate_trials\n",
    "#from Experiment_5.SiegelMillerTask import generate_trials\n",
    "import networkx as nx\n",
    "import pandas as pd\n",
    "import matplotlib\n",
    "import torch\n",
    "import matplotlib.pyplot as plt\n",
    "from matplotlib import gridspec\n",
    "from sklearn.discriminant_analysis import LinearDiscriminantAnalysis\n",
    "\n",
    "import seaborn as sns\n",
    "from Experiment_1.net import *\n",
    "import os\n",
    "import numpy as np\n",
    "import statsmodels.api as sm\n",
    "import scipy.optimize as opt\n",
    "import math\n",
    "#from psychometrics import *\n",
    "from sklearn.cluster import DBSCAN\n",
    "from sklearn.decomposition import PCA\n",
    "import networkx as nx\n",
    "from sklearn.cluster import KMeans\n",
    "plt.rcParams[\"axes.grid\"] = False\n",
    "from sklearn.manifold import TSNE\n",
    "matplotlib.rcParams['axes.linewidth'] = .75"
   ],
   "metadata": {
    "collapsed": false,
    "ExecuteTime": {
     "end_time": "2025-05-02T20:12:40.859310Z",
     "start_time": "2025-05-02T20:12:40.855601Z"
    }
   },
   "id": "dca291f8e14b936a",
   "execution_count": 13
  },
  {
   "cell_type": "code",
   "outputs": [],
   "source": [
    "def compute_var(variance,n):\n",
    "    return np.sum(variance[n:])\n",
    "\n",
    "def compute_p(k, null_k):\n",
    "    return (np.sum(null_k<k)/len(null_k))"
   ],
   "metadata": {
    "collapsed": false,
    "ExecuteTime": {
     "end_time": "2025-05-02T20:12:40.863222Z",
     "start_time": "2025-05-02T20:12:40.859171Z"
    }
   },
   "id": "20dd0ac17ce760d4",
   "execution_count": 14
  },
  {
   "cell_type": "code",
   "outputs": [
    {
     "name": "stdout",
     "output_type": "stream",
     "text": [
      "1.0\n",
      "1.0\n",
      "1.0\n",
      "1.0\n"
     ]
    },
    {
     "data": {
      "text/plain": "<Figure size 1000x200 with 4 Axes>",
      "image/png": "[encoded data removed]"
     },
     "metadata": {},
     "output_type": "display_data"
    }
   ],
   "source": [
    "# PLOT VARIANCE VS INERTIA\n",
    "import scipy.optimize as opt\n",
    "import math\n",
    "fig = plt.figure(figsize=(10,2))\n",
    "gs = gridspec.GridSpec(1,4,wspace = .5)\n",
    "ax0=fig.add_subplot(gs[0,0])\n",
    "ax1=fig.add_subplot(gs[0,1])\n",
    "ax2=fig.add_subplot(gs[0,2])\n",
    "ax3=fig.add_subplot(gs[0,3])\n",
    "axes = [ax0,ax1,ax2,ax3]\n",
    "\n",
    "df_list = []\n",
    "for filename in os.listdir('Experiment_1/Results_1'):\n",
    "    f = os.path.join('Experiment_1/Results_1', filename)\n",
    "    if os.path.isfile(f):\n",
    "        df_list.append(pd.read_pickle(f))\n",
    "original_df = pd.concat(df_list,ignore_index=True) \n",
    "original_df = original_df[original_df.mse_z<.035]\n",
    "#original_df_act = original_df_act[original_df_act.lambda_std==0.1]\n",
    "##original_df_act = original_df_act[original_df_act.sigma_rec==0]\n",
    "#original_df_act = original_df_act[original_df_act.lr==0.005]\n",
    "#original_df = original_df[original_df.n==100]\n",
    "#original_df_act = original_df_act[original_df_act.beta==1.4]\n",
    "#original_df = original_df[original_df.activity_std<.03]\n",
    "#original_df_act = original_df_act[original_df_act.beta==5.]\n",
    "\n",
    "\n",
    "#original_df = original_df[original_df.k>1]\n",
    "parameters = []\n",
    "fit_rows = []\n",
    "\n",
    "for i in range(4):\n",
    "    ax = axes[i]\n",
    "    k = i+2\n",
    "    df = original_df.copy()\n",
    "    df['var'] = df.variance.apply(lambda x: compute_var(x,k))\n",
    "    df['var_pre'] = df.variance.apply(lambda x: compute_var(x,k-1))\n",
    "    df['k_inertia'] = df.inertia.apply(lambda x: x[k-1])\n",
    "    #df = df[df['var_pre']>.25]\n",
    "    df['var'] = np.log(df['var'])\n",
    "    #df = df[df.k>=k]\n",
    "    df = df[df.dim==k]\n",
    "    print(df.lvar.max())\n",
    "    #df = df[df['var']<-.35]\n",
    "    \n",
    "        # Construct null dataframe\n",
    "    rows = []\n",
    "    for index, row in df.iterrows():\n",
    "        null = row['null_inertia']\n",
    "        for run in range(null.shape[1]):\n",
    "            rows.append({'model_id':row['model_id'],\n",
    "                         'var':row['var'],\n",
    "                         'sigma_rec': row['sigma_rec'],\n",
    "                         'lr': row['lr'],\n",
    "            'run':run,\n",
    "            'inertia': null[k-1,run]})\n",
    "    null_df = pd.DataFrame(rows)     \n",
    "   # null_df = null_df.groupby(['model_id']).mean().reset_index()\n",
    "    sns.histplot(data=df, x='var',y='k_inertia',ax=ax,legend=False,alpha=1,bins=(55,55))\n",
    "    sns.histplot(data=null_df, x='var',y='inertia',ax=ax,legend=False,alpha=1,bins=(45,45),color='gray')\n",
    "\n",
    "\n",
    "    def f(x, a,b,c,d):\n",
    "        #return a + c * np.log(1 + np.exp(b * (x-d))) / b\n",
    "        #return a + c*np.log(1+np.exp(20 * (x-b)))/20\n",
    "        return  a + b/(1+np.exp(c*(x-d)))\n",
    "    # bounds = ([0,0,-np.inf,-np.inf],\n",
    "    #               [np.inf, np.inf,0,0])\n",
    "    bounds = ([0,0,-np.inf,-np.inf],\n",
    "                  [np.inf, np.inf,0,0])\n",
    "    x_values = np.linspace(df['var'].min(),df['var'].max(),20)\n",
    "    #for lr in [0.001, 0.005]:\n",
    "    for sample in range(100):   \n",
    "        #try:\n",
    "        frac = .1\n",
    "        sample_df = df.sample(frac=frac)\n",
    "        x = sample_df['var'].values.astype(float)\n",
    "        y = sample_df.k_inertia.values\n",
    "\n",
    "        sample_null_df = null_df.sample(frac=frac)\n",
    "        x_null = sample_null_df['var'].values.astype(float)\n",
    "        y_null = sample_null_df.inertia.values\n",
    "\n",
    "        try:\n",
    "            popt, pcov = opt.curve_fit(f, x, y, method=\"trf\",max_nfev=10000,bounds = bounds)\n",
    "            #popt, pcov = opt.curve_fit(f, x, y, method=\"trf\",max_nfev=10000)\n",
    "            y_fit = f(x_values, *popt)\n",
    "\n",
    "            for step in range(20):\n",
    "                fit_rows.append({'sample':sample,\n",
    "                                 'step': step,\n",
    "                                 'k':k,\n",
    "                             'type': 1,\n",
    "                             'x':x_values[step],\n",
    "                             'y': y_fit[step],\n",
    "                             'a':popt[0]})\n",
    "        except:\n",
    "            continue\n",
    "    \n",
    "\n",
    "        try:\n",
    "            popt, pcov = opt.curve_fit(f, x_null, y_null, method=\"trf\",max_nfev=10000,bounds = bounds)\n",
    "            y_fit = f(x_values, *popt)\n",
    "            for step in range(20):\n",
    "                fit_rows.append({'sample':sample,\n",
    "                                 'step':step,\n",
    "                                 'k':k,\n",
    "                             'type': 0,\n",
    "                             'x':x_values[step],\n",
    "                             'y': y_fit[step],\n",
    "                             'a':popt[0]})\n",
    "        except:\n",
    "           continue\n",
    "  \n",
    "\n",
    "\n",
    "# fit_df = pd.DataFrame(fit_rows)\n",
    "# for k in range(3):\n",
    "#     ax = axes[k]\n",
    "#     sns.lineplot(data = fit_df[(fit_df.type==1) & (fit_df.k==k+2)], x= 'x', y='y',ax=ax,legend = False,lw=.5,color='tab:blue',alpha = 1,errorbar=None, linestyle='--')\n",
    "#     sns.lineplot(data = fit_df[(fit_df.type==0)& (fit_df.k==k+2)], x= 'x', y='y',ax=ax,legend = False,lw=.5,color='gray',linestyle='--',alpha= .25, errorbar = None)\n",
    "\n",
    "for ax in [ax0,ax1,ax2,ax3]:\n",
    "#     \n",
    "    ax.spines['right'].set_visible(False)\n",
    "    ax.spines['top'].set_visible(False)\n",
    "    ax.set_ylabel('', fontsize=8)\n",
    "    ax.xaxis.set_tick_params(labelsize=6,bottom=True)\n",
    "    ax.yaxis.set_tick_params(labelsize=6,left=True)\n",
    "    ax.spines['left'].set_color('black')\n",
    "    ax.spines['bottom'].set_color('black')\n",
    "   # plt.yticks(list(plt.yticks()[0]) + [5.0])\n",
    "    ax.set_ylim(-.1,1)\n",
    "    #ax.set_xlim(-.1,1)\n",
    "ax1.set_yticklabels([])\n",
    "ax2.set_yticklabels([])\n",
    "ax3.set_yticklabels([])\n",
    "\n",
    "\n",
    "ax0.set_xlabel(\"Log \" + r\"$\\sum_{i>2}\\lambda_i$\", fontsize=6)\n",
    "ax1.set_xlabel(\"Log \" +r\"$\\sum_{i>3}\\lambda_i$\", fontsize=6)\n",
    "ax2.set_xlabel(\"Log \" +r\"$\\sum_{i>4}\\lambda_i$\", fontsize=6)\n",
    "ax3.set_xlabel(\"Log \" +r\"$\\sum_{i>5}\\lambda_i$\", fontsize=6)\n",
    "fig.savefig('Figures/Figure_2_a.jpg',\n",
    "    format='jpeg',\n",
    "    dpi=450,\n",
    "    bbox_inches='tight'\n",
    "\n",
    "            )"
   ],
   "metadata": {
    "collapsed": false,
    "ExecuteTime": {
     "end_time": "2025-05-02T20:12:43.819696Z",
     "start_time": "2025-05-02T20:12:40.861237Z"
    }
   },
   "id": "e986753cd5e023c3",
   "execution_count": 15
  },
  {
   "cell_type": "code",
   "outputs": [
    {
     "data": {
      "text/plain": "      model_id                                              w_rec  \\\n4749  RDBREF8E  [[-0.021209477, 0.0060614874, 0.011299313, 0.0...   \n4471  1iF9O5F6  [[-0.333786, 0.09454689, 0.006861701, -0.11658...   \n4551  roCKujrc  [[-0.08623851, 0.00071821787, -0.14719994, -0....   \n4459  egWCBjry  [[-0.035177372, -0.1332044, -0.06089149, -0.03...   \n4165  Ii5y4pif  [[-0.012741966, -0.013065799, -0.010359002, -0...   \n...        ...                                                ...   \n1319  jJVYhMyp  [[0.29918098, 0.03616629, -0.14568089, 0.11045...   \n1406  5q6Jlatp  [[0.444559, -0.0025035532, 0.012394392, 0.0099...   \n896   3jMene8D  [[0.18860078, 0.0100223655, -0.035767023, 0.12...   \n1004  fXhUajTP  [[-0.0021196972, -0.05697463, -0.010409408, 0....   \n995   4Fwo5wQl  [[0.0056387004, -0.03312253, -0.02434376, -0.0...   \n\n                                                   w_in  \\\n4749  [[0.053480793, -0.11070258], [-0.048887774, 0....   \n4471  [[0.016159315, 0.058050293], [-0.011719039, -0...   \n4551  [[0.031194592, -0.09887883], [0.0380201, -0.06...   \n4459  [[-0.070551604, 0.0024324164], [-0.043124605, ...   \n4165  [[0.000437837, -0.02178393], [-0.013662214, -0...   \n...                                                 ...   \n1319  [[-0.40469974, 0.39255348], [-0.02506126, -0.0...   \n1406  [[-0.14521171, -0.1763202], [-0.05200789, 0.02...   \n896   [[0.06643714, 0.0036677192], [0.085630074, -0....   \n1004  [[-0.13387479, -0.1052526], [-0.36175445, 0.54...   \n995   [[0.005938792, -0.13374405], [-0.0834754, 0.06...   \n\n                                                  w_out  \\\n4749  [[-0.076435484, -0.036441695, -0.076533794, -0...   \n4471  [[-0.17434667, 0.1947864, -0.10962583, -0.1364...   \n4551  [[0.012671195, -0.035386164, -0.011540375, -0....   \n4459  [[0.0014668666, 0.004407808, 0.011441388, -0.0...   \n4165  [[0.0014711623, -0.039936934, 0.0009806488, -0...   \n...                                                 ...   \n1319  [[0.058770303, 0.007532212, 0.0014668572, -0.0...   \n1406  [[-0.030639298, -0.041795507, -0.07837398, 0.0...   \n896   [[0.1708109, -0.008182668, -0.1528664, -0.0336...   \n1004  [[-0.027794939, 0.24854037, 0.0013150336, 0.00...   \n995   [[0.001953373, 0.28725132, -0.061009612, 0.471...   \n\n                                                   bias     mse_z  \\\n4749  [0.2, 0.2, 0.2, 0.2, 0.2, 0.2, 0.2, 0.2, 0.2, ...  0.028003   \n4471  [0.2, 0.2, 0.2, 0.2, 0.2, 0.2, 0.2, 0.2, 0.2, ...  0.029041   \n4551  [0.2, 0.2, 0.2, 0.2, 0.2, 0.2, 0.2, 0.2, 0.2, ...  0.024033   \n4459  [0.2, 0.2, 0.2, 0.2, 0.2, 0.2, 0.2, 0.2, 0.2, ...  0.025638   \n4165  [0.2, 0.2, 0.2, 0.2, 0.2, 0.2, 0.2, 0.2, 0.2, ...  0.024114   \n...                                                 ...       ...   \n1319  [0.2, 0.2, 0.2, 0.2, 0.2, 0.2, 0.2, 0.2, 0.2, ...  0.024686   \n1406  [0.2, 0.2, 0.2, 0.2, 0.2, 0.2, 0.2, 0.2, 0.2, ...  0.028901   \n896   [0.2, 0.2, 0.2, 0.2, 0.2, 0.2, 0.2, 0.2, 0.2, ...  0.028746   \n1004  [0.2, 0.2, 0.2, 0.2, 0.2, 0.2, 0.2, 0.2, 0.2, ...  0.024882   \n995   [0.2, 0.2, 0.2, 0.2, 0.2, 0.2, 0.2, 0.2, 0.2, ...  0.024940   \n\n      weight_decay  threshold  sigma_rec  lambda_std  ...      lvar  dim  k  \\\n4749         0.001      0.025        0.0         0.0  ...  1.000000    3  3   \n4471         0.001      0.025        0.0         0.0  ...  0.421697    3  3   \n4551         0.001      0.025        0.0         0.0  ...  0.562341    3  3   \n4459         0.001      0.025        0.0         0.0  ...  0.421697    3  4   \n4165         0.001      0.025        0.0         0.0  ...  0.316228    3  6   \n...            ...        ...        ...         ...  ...       ...  ... ..   \n1319         0.001      0.025        0.0         0.0  ... -0.421697    3  6   \n1406         0.001      0.025        0.0         0.0  ... -0.562341    3  6   \n896          0.001      0.025        0.0         0.0  ... -0.749894    3  6   \n1004         0.001      0.025        0.0         0.0  ... -1.000000    3  6   \n995          0.001      0.025        0.0         0.0  ... -1.000000    3  6   \n\n      p_value                                            inertia  \\\n4749      0.0  [0.6143567182239057, 0.07213446312079125, 0.00...   \n4471      0.0  [0.7966600658275463, 0.08569746794524016, 0.00...   \n4551      0.0  [0.5045457175925926, 0.1590214975273569, 0.007...   \n4459      0.0  [0.6944071451822916, 0.14472271954571758, 0.05...   \n4165      0.0  [0.6404599144345238, 0.3093883566881614, 0.098...   \n...       ...                                                ...   \n1319      0.0  [0.9683397755066387, 0.899255110062893, 0.8531...   \n1406      0.0  [0.965886306980057, 0.9066045673076923, 0.8517...   \n896       0.0  [0.9703152356902357, 0.8995574494949495, 0.846...   \n1004      0.0  [0.977412603930461, 0.9214854969765685, 0.8702...   \n995       0.0  [0.9701704446191475, 0.9081302956848358, 0.861...   \n\n      activity_std                                       null_inertia  \\\n4749      3.013885  [[0.8524952573089324, 0.9656345591929126, 0.94...   \n4471      3.976779  [[0.8887926592208644, 0.9436621547615086, 0.94...   \n4551      3.077456  [[0.9168676674950798, 0.989775064339875, 0.959...   \n4459      2.538517  [[0.9908799115027653, 0.8365037695855202, 0.98...   \n4165      2.658531  [[0.8966142722117574, 0.920638324182821, 0.989...   \n...            ...                                                ...   \n1319      1.398668  [[0.9806055986059533, 0.9782634203352286, 0.99...   \n1406      1.414276  [[0.9800354838877865, 0.9823518330265189, 0.97...   \n896       1.384042  [[0.9885813988181859, 0.9862945388528298, 0.98...   \n1004      1.488084  [[0.9596385328828526, 0.9844916612492902, 0.98...   \n995       1.381938  [[0.9825146689704901, 0.9829556453794779, 0.97...   \n\n                                               variance       var k_inertia  \n4749  [0.6254884, 0.3398206, 0.034340393, 0.00022345... -7.955769  0.009471  \n4471  [0.7671614, 0.16590059, 0.065539576, 0.0010087... -6.572493  0.008590  \n4551  [0.8389589, 0.117071725, 0.041335892, 0.001111... -5.939476  0.007953  \n4459  [0.5943057, 0.3473274, 0.054281633, 0.00237356... -5.500370  0.057998  \n4165  [0.51295334, 0.3436893, 0.13864693, 0.00407764... -5.357970  0.098929  \n...                                                 ...       ...       ...  \n1319  [0.09162892, 0.08337828, 0.07465007, 0.0714226... -0.287225  0.853145  \n1406  [0.094495334, 0.07669, 0.07518688, 0.07274764,... -0.282857  0.851766  \n896   [0.09790888, 0.079699874, 0.06803839, 0.063317... -0.281895  0.846459  \n1004  [0.08765912, 0.079100005, 0.07544809, 0.067795... -0.277345  0.870227  \n995   [0.09124263, 0.07711158, 0.07245791, 0.0680481... -0.275506  0.861105  \n\n[978 rows x 22 columns]",
      "text/html": "<div>\n<style scoped>\n    .dataframe tbody tr th:only-of-type {\n        vertical-align: middle;\n    }\n\n    .dataframe tbody tr th {\n        vertical-align: top;\n    }\n\n    .dataframe thead th {\n        text-align: right;\n    }\n</style>\n<table border=\"1\" class=\"dataframe\">\n  <thead>\n    <tr style=\"text-align: right;\">\n      <th></th>\n      <th>model_id</th>\n      <th>w_rec</th>\n      <th>w_in</th>\n      <th>w_out</th>\n      <th>bias</th>\n      <th>mse_z</th>\n      <th>weight_decay</th>\n      <th>threshold</th>\n      <th>sigma_rec</th>\n      <th>lambda_std</th>\n      <th>...</th>\n      <th>lvar</th>\n      <th>dim</th>\n      <th>k</th>\n      <th>p_value</th>\n      <th>inertia</th>\n      <th>activity_std</th>\n      <th>null_inertia</th>\n      <th>variance</th>\n      <th>var</th>\n      <th>k_inertia</th>\n    </tr>\n  </thead>\n  <tbody>\n    <tr>\n      <th>4749</th>\n      <td>RDBREF8E</td>\n      <td>[[-0.021209477, 0.0060614874, 0.011299313, 0.0...</td>\n      <td>[[0.053480793, -0.11070258], [-0.048887774, 0....</td>\n      <td>[[-0.076435484, -0.036441695, -0.076533794, -0...</td>\n      <td>[0.2, 0.2, 0.2, 0.2, 0.2, 0.2, 0.2, 0.2, 0.2, ...</td>\n      <td>0.028003</td>\n      <td>0.001</td>\n      <td>0.025</td>\n      <td>0.0</td>\n      <td>0.0</td>\n      <td>...</td>\n      <td>1.000000</td>\n      <td>3</td>\n      <td>3</td>\n      <td>0.0</td>\n      <td>[0.6143567182239057, 0.07213446312079125, 0.00...</td>\n      <td>3.013885</td>\n      <td>[[0.8524952573089324, 0.9656345591929126, 0.94...</td>\n      <td>[0.6254884, 0.3398206, 0.034340393, 0.00022345...</td>\n      <td>-7.955769</td>\n      <td>0.009471</td>\n    </tr>\n    <tr>\n      <th>4471</th>\n      <td>1iF9O5F6</td>\n      <td>[[-0.333786, 0.09454689, 0.006861701, -0.11658...</td>\n      <td>[[0.016159315, 0.058050293], [-0.011719039, -0...</td>\n      <td>[[-0.17434667, 0.1947864, -0.10962583, -0.1364...</td>\n      <td>[0.2, 0.2, 0.2, 0.2, 0.2, 0.2, 0.2, 0.2, 0.2, ...</td>\n      <td>0.029041</td>\n      <td>0.001</td>\n      <td>0.025</td>\n      <td>0.0</td>\n      <td>0.0</td>\n      <td>...</td>\n      <td>0.421697</td>\n      <td>3</td>\n      <td>3</td>\n      <td>0.0</td>\n      <td>[0.7966600658275463, 0.08569746794524016, 0.00...</td>\n      <td>3.976779</td>\n      <td>[[0.8887926592208644, 0.9436621547615086, 0.94...</td>\n      <td>[0.7671614, 0.16590059, 0.065539576, 0.0010087...</td>\n      <td>-6.572493</td>\n      <td>0.008590</td>\n    </tr>\n    <tr>\n      <th>4551</th>\n      <td>roCKujrc</td>\n      <td>[[-0.08623851, 0.00071821787, -0.14719994, -0....</td>\n      <td>[[0.031194592, -0.09887883], [0.0380201, -0.06...</td>\n      <td>[[0.012671195, -0.035386164, -0.011540375, -0....</td>\n      <td>[0.2, 0.2, 0.2, 0.2, 0.2, 0.2, 0.2, 0.2, 0.2, ...</td>\n      <td>0.024033</td>\n      <td>0.001</td>\n      <td>0.025</td>\n      <td>0.0</td>\n      <td>0.0</td>\n      <td>...</td>\n      <td>0.562341</td>\n      <td>3</td>\n      <td>3</td>\n      <td>0.0</td>\n      <td>[0.5045457175925926, 0.1590214975273569, 0.007...</td>\n      <td>3.077456</td>\n      <td>[[0.9168676674950798, 0.989775064339875, 0.959...</td>\n      <td>[0.8389589, 0.117071725, 0.041335892, 0.001111...</td>\n      <td>-5.939476</td>\n      <td>0.007953</td>\n    </tr>\n    <tr>\n      <th>4459</th>\n      <td>egWCBjry</td>\n      <td>[[-0.035177372, -0.1332044, -0.06089149, -0.03...</td>\n      <td>[[-0.070551604, 0.0024324164], [-0.043124605, ...</td>\n      <td>[[0.0014668666, 0.004407808, 0.011441388, -0.0...</td>\n      <td>[0.2, 0.2, 0.2, 0.2, 0.2, 0.2, 0.2, 0.2, 0.2, ...</td>\n      <td>0.025638</td>\n      <td>0.001</td>\n      <td>0.025</td>\n      <td>0.0</td>\n      <td>0.0</td>\n      <td>...</td>\n      <td>0.421697</td>\n      <td>3</td>\n      <td>4</td>\n      <td>0.0</td>\n      <td>[0.6944071451822916, 0.14472271954571758, 0.05...</td>\n      <td>2.538517</td>\n      <td>[[0.9908799115027653, 0.8365037695855202, 0.98...</td>\n      <td>[0.5943057, 0.3473274, 0.054281633, 0.00237356...</td>\n      <td>-5.500370</td>\n      <td>0.057998</td>\n    </tr>\n    <tr>\n      <th>4165</th>\n      <td>Ii5y4pif</td>\n      <td>[[-0.012741966, -0.013065799, -0.010359002, -0...</td>\n      <td>[[0.000437837, -0.02178393], [-0.013662214, -0...</td>\n      <td>[[0.0014711623, -0.039936934, 0.0009806488, -0...</td>\n      <td>[0.2, 0.2, 0.2, 0.2, 0.2, 0.2, 0.2, 0.2, 0.2, ...</td>\n      <td>0.024114</td>\n      <td>0.001</td>\n      <td>0.025</td>\n      <td>0.0</td>\n      <td>0.0</td>\n      <td>...</td>\n      <td>0.316228</td>\n      <td>3</td>\n      <td>6</td>\n      <td>0.0</td>\n      <td>[0.6404599144345238, 0.3093883566881614, 0.098...</td>\n      <td>2.658531</td>\n      <td>[[0.8966142722117574, 0.920638324182821, 0.989...</td>\n      <td>[0.51295334, 0.3436893, 0.13864693, 0.00407764...</td>\n      <td>-5.357970</td>\n      <td>0.098929</td>\n    </tr>\n    <tr>\n      <th>...</th>\n      <td>...</td>\n      <td>...</td>\n      <td>...</td>\n      <td>...</td>\n      <td>...</td>\n      <td>...</td>\n      <td>...</td>\n      <td>...</td>\n      <td>...</td>\n      <td>...</td>\n      <td>...</td>\n      <td>...</td>\n      <td>...</td>\n      <td>...</td>\n      <td>...</td>\n      <td>...</td>\n      <td>...</td>\n      <td>...</td>\n      <td>...</td>\n      <td>...</td>\n      <td>...</td>\n    </tr>\n    <tr>\n      <th>1319</th>\n      <td>jJVYhMyp</td>\n      <td>[[0.29918098, 0.03616629, -0.14568089, 0.11045...</td>\n      <td>[[-0.40469974, 0.39255348], [-0.02506126, -0.0...</td>\n      <td>[[0.058770303, 0.007532212, 0.0014668572, -0.0...</td>\n      <td>[0.2, 0.2, 0.2, 0.2, 0.2, 0.2, 0.2, 0.2, 0.2, ...</td>\n      <td>0.024686</td>\n      <td>0.001</td>\n      <td>0.025</td>\n      <td>0.0</td>\n      <td>0.0</td>\n      <td>...</td>\n      <td>-0.421697</td>\n      <td>3</td>\n      <td>6</td>\n      <td>0.0</td>\n      <td>[0.9683397755066387, 0.899255110062893, 0.8531...</td>\n      <td>1.398668</td>\n      <td>[[0.9806055986059533, 0.9782634203352286, 0.99...</td>\n      <td>[0.09162892, 0.08337828, 0.07465007, 0.0714226...</td>\n      <td>-0.287225</td>\n      <td>0.853145</td>\n    </tr>\n    <tr>\n      <th>1406</th>\n      <td>5q6Jlatp</td>\n      <td>[[0.444559, -0.0025035532, 0.012394392, 0.0099...</td>\n      <td>[[-0.14521171, -0.1763202], [-0.05200789, 0.02...</td>\n      <td>[[-0.030639298, -0.041795507, -0.07837398, 0.0...</td>\n      <td>[0.2, 0.2, 0.2, 0.2, 0.2, 0.2, 0.2, 0.2, 0.2, ...</td>\n      <td>0.028901</td>\n      <td>0.001</td>\n      <td>0.025</td>\n      <td>0.0</td>\n      <td>0.0</td>\n      <td>...</td>\n      <td>-0.562341</td>\n      <td>3</td>\n      <td>6</td>\n      <td>0.0</td>\n      <td>[0.965886306980057, 0.9066045673076923, 0.8517...</td>\n      <td>1.414276</td>\n      <td>[[0.9800354838877865, 0.9823518330265189, 0.97...</td>\n      <td>[0.094495334, 0.07669, 0.07518688, 0.07274764,...</td>\n      <td>-0.282857</td>\n      <td>0.851766</td>\n    </tr>\n    <tr>\n      <th>896</th>\n      <td>3jMene8D</td>\n      <td>[[0.18860078, 0.0100223655, -0.035767023, 0.12...</td>\n      <td>[[0.06643714, 0.0036677192], [0.085630074, -0....</td>\n      <td>[[0.1708109, -0.008182668, -0.1528664, -0.0336...</td>\n      <td>[0.2, 0.2, 0.2, 0.2, 0.2, 0.2, 0.2, 0.2, 0.2, ...</td>\n      <td>0.028746</td>\n      <td>0.001</td>\n      <td>0.025</td>\n      <td>0.0</td>\n      <td>0.0</td>\n      <td>...</td>\n      <td>-0.749894</td>\n      <td>3</td>\n      <td>6</td>\n      <td>0.0</td>\n      <td>[0.9703152356902357, 0.8995574494949495, 0.846...</td>\n      <td>1.384042</td>\n      <td>[[0.9885813988181859, 0.9862945388528298, 0.98...</td>\n      <td>[0.09790888, 0.079699874, 0.06803839, 0.063317...</td>\n      <td>-0.281895</td>\n      <td>0.846459</td>\n    </tr>\n    <tr>\n      <th>1004</th>\n      <td>fXhUajTP</td>\n      <td>[[-0.0021196972, -0.05697463, -0.010409408, 0....</td>\n      <td>[[-0.13387479, -0.1052526], [-0.36175445, 0.54...</td>\n      <td>[[-0.027794939, 0.24854037, 0.0013150336, 0.00...</td>\n      <td>[0.2, 0.2, 0.2, 0.2, 0.2, 0.2, 0.2, 0.2, 0.2, ...</td>\n      <td>0.024882</td>\n      <td>0.001</td>\n      <td>0.025</td>\n      <td>0.0</td>\n      <td>0.0</td>\n      <td>...</td>\n      <td>-1.000000</td>\n      <td>3</td>\n      <td>6</td>\n      <td>0.0</td>\n      <td>[0.977412603930461, 0.9214854969765685, 0.8702...</td>\n      <td>1.488084</td>\n      <td>[[0.9596385328828526, 0.9844916612492902, 0.98...</td>\n      <td>[0.08765912, 0.079100005, 0.07544809, 0.067795...</td>\n      <td>-0.277345</td>\n      <td>0.870227</td>\n    </tr>\n    <tr>\n      <th>995</th>\n      <td>4Fwo5wQl</td>\n      <td>[[0.0056387004, -0.03312253, -0.02434376, -0.0...</td>\n      <td>[[0.005938792, -0.13374405], [-0.0834754, 0.06...</td>\n      <td>[[0.001953373, 0.28725132, -0.061009612, 0.471...</td>\n      <td>[0.2, 0.2, 0.2, 0.2, 0.2, 0.2, 0.2, 0.2, 0.2, ...</td>\n      <td>0.024940</td>\n      <td>0.001</td>\n      <td>0.025</td>\n      <td>0.0</td>\n      <td>0.0</td>\n      <td>...</td>\n      <td>-1.000000</td>\n      <td>3</td>\n      <td>6</td>\n      <td>0.0</td>\n      <td>[0.9701704446191475, 0.9081302956848358, 0.861...</td>\n      <td>1.381938</td>\n      <td>[[0.9825146689704901, 0.9829556453794779, 0.97...</td>\n      <td>[0.09124263, 0.07711158, 0.07245791, 0.0680481...</td>\n      <td>-0.275506</td>\n      <td>0.861105</td>\n    </tr>\n  </tbody>\n</table>\n<p>978 rows × 22 columns</p>\n</div>"
     },
     "execution_count": 16,
     "metadata": {},
     "output_type": "execute_result"
    }
   ],
   "source": [
    "df = original_df.copy()\n",
    "\n",
    "# Restrict to networks with dim and compute variance above dim\n",
    "dim = 3\n",
    "df = df[df.dim == dim]\n",
    "df = df[df.k >= dim]\n",
    "df['var'] = df.variance.apply(lambda x: compute_var(x, dim))\n",
    "df['k_inertia'] = df.inertia.apply(lambda x: x[dim - 1])\n",
    "df['var'] = np.log(df['var'])\n",
    "df.sort_values('var', ascending=True)"
   ],
   "metadata": {
    "collapsed": false,
    "ExecuteTime": {
     "end_time": "2025-05-02T20:12:44.165333Z",
     "start_time": "2025-05-02T20:12:43.819843Z"
    }
   },
   "id": "738f5edb8b44f4ea",
   "execution_count": 16
  },
  {
   "cell_type": "code",
   "outputs": [],
   "source": [
    "## RESPONSE MATRIX\n",
    "model_data = df[df.model_id=='RDBREF8E']\n",
    "net = Net(n=100,input_size = 2,dale=False)\n",
    "net.recurrent_layer.weight.data = torch.tensor(model_data['w_rec'].item())\n",
    "net.recurrent_layer.bias.data = torch.tensor(model_data['bias'].item())\n",
    "net.input_layer.weight.data = torch.tensor(model_data['w_in'].item())\n",
    "net.output_layer.weight.data = torch.tensor(model_data['w_out'].item())\n",
    "net.sigma_rec = 0.\n",
    "variance = model_data['var'].item()\n",
    "u, z, mask, conditions  = generate_trials(\n",
    "                            n_trials=25)\n",
    "x = net(u).detach().cpu().numpy()\n",
    "# activity_std = torch.std(torch.mean(x, dim=[0, 1])).detach().cpu().numpy() / torch.mean(torch.mean(x, dim=[0, 1])).detach().cpu().numpy()\n",
    "\n",
    "rows = []\n",
    "for k in range(u.shape[0]):\n",
    "    rows.append({'trial': k,\n",
    "                 'motion': conditions[k]['motion_coh'],\n",
    "                 'response': x[k, :, :]})\n",
    "df = pd.DataFrame(rows)\n",
    "df = df.groupby(['motion']).response.apply(lambda r: np.mean(np.stack(r), axis=0)).reset_index()\n",
    "\n",
    "#df = df.groupby('motion').response.apply(lambda r: np.mean(np.stack(r), axis=0)).reset_index()\n",
    "responses = np.stack(df.response.values)\n",
    "responses = responses.reshape(-1, responses.shape[2]).T\n",
    "\n",
    "responses = responses[np.mean(responses, axis=1) >.025, :]\n",
    "\n",
    "# z_score\n",
    "responses = (responses - np.mean(responses, axis=1, keepdims=True)) / np.std(responses, axis=1, keepdims=True)\n",
    "responses = responses[~np.isnan(responses).any(axis=1)]"
   ],
   "metadata": {
    "collapsed": false,
    "ExecuteTime": {
     "end_time": "2025-05-02T20:13:03.271674Z",
     "start_time": "2025-05-02T20:13:03.219519Z"
    }
   },
   "id": "774882b5ec6c4a7e",
   "execution_count": 18
  },
  {
   "cell_type": "code",
   "outputs": [
    {
     "data": {
      "text/plain": "4749    3.013885\nName: activity_std, dtype: float32"
     },
     "execution_count": 19,
     "metadata": {},
     "output_type": "execute_result"
    }
   ],
   "source": [
    "model_data['activity_std']"
   ],
   "metadata": {
    "collapsed": false,
    "ExecuteTime": {
     "end_time": "2025-05-02T20:13:03.919162Z",
     "start_time": "2025-05-02T20:13:03.908938Z"
    }
   },
   "id": "6dd528efc48399ad",
   "execution_count": 19
  },
  {
   "cell_type": "code",
   "outputs": [
    {
     "name": "stdout",
     "output_type": "stream",
     "text": [
      "0.007865028766670612\n"
     ]
    },
    {
     "data": {
      "text/plain": "<Figure size 200x225 with 4 Axes>",
      "image/png": "[encoded data removed]"
     },
     "metadata": {},
     "output_type": "display_data"
    }
   ],
   "source": [
    "## CLUSTERED RESPONSE MATRIX        \n",
    "#_,k = compute_k(responses,5,25,.05)\n",
    "k = model_data.k.values[0]\n",
    "import matplotlib\n",
    "clustering = KMeans(n_clusters=k, n_init=20).fit(responses)\n",
    "total_variance = np.sum((responses.T - np.mean(responses.T, axis=0, keepdims=True)) ** 2)\n",
    "print(clustering.inertia_/total_variance)\n",
    "labels = clustering.labels_\n",
    "sort = np.argsort(labels)\n",
    "sorted_responses = responses[sort, :]\n",
    "sns.husl_palette(s=.4)\n",
    "network_pal = sns.husl_palette(pd.Series(np.sort(labels)).unique().size, s=1)\n",
    "lut = dict(zip(pd.Series(np.sort(labels)).unique(), network_pal))\n",
    "row_colors = pd.Series(np.sort(labels)).map(lut)\n",
    "g = sns.clustermap(pd.DataFrame((sorted_responses)), row_cluster=False, col_cluster=False, row_colors=row_colors,\n",
    "                   figsize=(2, 2.25), cbar_pos=None, xticklabels=False, yticklabels=False, center=0,cmap='Greys')\n",
    "ax = g.ax_heatmap\n",
    "\n",
    "g.savefig('Figures/Fig_2afc_b.jpg',\n",
    "          format='jpeg',\n",
    "          dpi=450,\n",
    "          bbox_inches='tight'\n",
    "          )"
   ],
   "metadata": {
    "collapsed": false,
    "ExecuteTime": {
     "end_time": "2025-05-02T20:13:05.335731Z",
     "start_time": "2025-05-02T20:13:05.034299Z"
    }
   },
   "id": "7cded082b7897c07",
   "execution_count": 20
  },
  {
   "cell_type": "code",
   "outputs": [
    {
     "data": {
      "text/plain": "<Figure size 150x150 with 1 Axes>",
      "image/png": "[encoded data removed]"
     },
     "metadata": {},
     "output_type": "display_data"
    }
   ],
   "source": [
    "# STATE SPACE\n",
    "#palette = sns.color_palette(\"coolwarm\", n_colors=50,as_cmap=False)\n",
    "palette = sns.husl_palette(75, s=1)\n",
    "\n",
    "net.sigma_in = 0.1\n",
    "net.sigma_rec = 0\n",
    "x = net.forward(u).detach().numpy()\n",
    "x = (x - np.mean(x, axis=(0, 1), keepdims=True)) / np.std(x, axis=(0, 1), keepdims=True)\n",
    "#x = net(u)\n",
    "n_components = 2\n",
    "pca = PCA()\n",
    "pca.fit(x.reshape(-1, x.shape[2]))\n",
    "x_proj = pca.transform(x.reshape(-1, x.shape[2])).reshape(x.shape[0], x.shape[1], x.shape[2])\n",
    "rows = []\n",
    "for k in range(u.shape[0]):\n",
    "    for t in range(u.shape[1]):\n",
    "        rows.append({'trial': k,\n",
    "                     'motion': conditions[k]['motion_coh'],\n",
    "                     'side': np.sign(conditions[k]['motion_coh']),\n",
    "                     't': t,\n",
    "                     'z_1': x_proj[k, t, 0],\n",
    "                     'z_2': x_proj[k, t, 1], })\n",
    "new_df = pd.DataFrame(rows)\n",
    "new_df_mean = new_df.groupby(['motion', 't']).mean().reset_index()\n",
    "fig = plt.figure(figsize=(1.5, 1.5))\n",
    "gs = gridspec.GridSpec(1, 1)\n",
    "ax = fig.add_subplot(gs[0, 0])\n",
    "\n",
    "sns.scatterplot(data=new_df,x='z_1',y='z_2',hue='t',ax=ax,legend=False,s=1,alpha=.1,edgecolor=None)\n",
    "    \n",
    "sns.scatterplot(data=new_df_mean, x='z_1', y='z_2', ax=ax, legend=False, s=3, alpha=.5, hue='t')\n",
    "# sns.scatterplot(data=new_df_mean[new_df_mean.t==74],x='z_1',y='z_2',ax=ax,legend=False,s=6,alpha=1,hue='theta',palette=palette)\n",
    "\n",
    "# Model predictions\n",
    "\n",
    "\n",
    "ax.spines['right'].set_visible(False)\n",
    "ax.spines['top'].set_visible(False)\n",
    "ax.spines['bottom'].set_visible(False)\n",
    "ax.spines['left'].set_visible(False)\n",
    "ax.set_xlabel(\"PC 1\", fontsize=7)\n",
    "ax.set_ylabel(\"PC 2\", fontsize=7)\n",
    "#ax.set_title(r'$\\sum_{i\\geq 2}\\lambda_i = $'+str(np.round(variance,4)),fontsize=8)\n",
    "ax.xaxis.set_tick_params(labelsize=7, bottom=True)\n",
    "ax.yaxis.set_tick_params(labelsize=7, left=True)\n",
    "ax.spines['left'].set_color('black')\n",
    "ax.spines['bottom'].set_color('black')\n",
    "ax.axes.get_xaxis().set_visible(False)\n",
    "ax.axes.get_yaxis().set_visible(False)\n",
    "plt.gca().patch.set_alpha(0)\n",
    "# ax.set_xlim(-1.25,1.25)\n",
    "# ax.set_ylim(-1.25,1.25)\n",
    "matplotlib.rcParams['savefig.transparent'] = True\n",
    "fig.savefig('Figures/Figure_1_b.jpg',\n",
    "            format='jpeg',\n",
    "            dpi=450,\n",
    "            bbox_inches='tight', transparent=True)"
   ],
   "metadata": {
    "collapsed": false,
    "ExecuteTime": {
     "end_time": "2025-05-02T20:13:12.653268Z",
     "start_time": "2025-05-02T20:13:12.002642Z"
    }
   },
   "id": "98373a71984a9f28",
   "execution_count": 21
  },
  {
   "cell_type": "code",
   "outputs": [
    {
     "data": {
      "text/plain": "<Figure size 150x150 with 1 Axes>",
      "image/png": "[encoded data removed]"
     },
     "metadata": {},
     "output_type": "display_data"
    }
   ],
   "source": [
    "# STATE SPACE\n",
    "#palette = sns.color_palette(\"coolwarm\", n_colors=50,as_cmap=False)\n",
    "palette = sns.husl_palette(75, s=1)\n",
    "\n",
    "net.sigma_in = 0.1\n",
    "net.sigma_rec = 0\n",
    "output = net.output_layer(net.forward(u)).detach().numpy()\n",
    "#x = (x - np.mean(x, axis=(0, 1), keepdims=True)) / np.std(x, axis=(0, 1), keepdims=True)\n",
    "#x = net(u)\n",
    "n_components = 2\n",
    "pca = PCA()\n",
    "pca.fit(x.reshape(-1, x.shape[2]))\n",
    "#x_proj = pca.transform(x.reshape(-1, x.shape[2])).reshape(x.shape[0], x.shape[1], x.shape[2])\n",
    "rows = []\n",
    "for k in range(u.shape[0]):\n",
    "    for t in range(u.shape[1]):\n",
    "        rows.append({'trial': k,\n",
    "                     'motion': conditions[k]['motion_coh'],\n",
    "                     'side': np.sign(conditions[k]['motion_coh']),\n",
    "                     't': t,\n",
    "                     'z': output[k, t, 1]-output[k, t, 0],\n",
    "       })\n",
    "new_df = pd.DataFrame(rows)\n",
    "new_df_mean = new_df.groupby(['motion', 't']).mean().reset_index()\n",
    "fig = plt.figure(figsize=(1.5, 1.5))\n",
    "gs = gridspec.GridSpec(1, 1)\n",
    "ax = fig.add_subplot(gs[0, 0])\n",
    "\n",
    "sns.lineplot(data=new_df,x='t',y='z',hue='motion',ax=ax,legend=False,palette='coolwarm')\n",
    "    \n",
    "#sns.scatterplot(data=new_df_mean, x='z_1', y='z_2', ax=ax, legend=False, s=3, alpha=.5, hue='t')\n",
    "# sns.scatterplot(data=new_df_mean[new_df_mean.t==74],x='z_1',y='z_2',ax=ax,legend=False,s=6,alpha=1,hue='theta',palette=palette)\n",
    "\n",
    "# Model predictions\n",
    "\n",
    "\n",
    "ax.spines['right'].set_visible(False)\n",
    "ax.spines['top'].set_visible(False)\n",
    "ax.spines['bottom'].set_visible(False)\n",
    "ax.spines['left'].set_visible(False)\n",
    "ax.set_xlabel(\"PC 1\", fontsize=7)\n",
    "ax.set_ylabel(\"PC 2\", fontsize=7)\n",
    "#ax.set_title(r'$\\sum_{i\\geq 2}\\lambda_i = $'+str(np.round(variance,4)),fontsize=8)\n",
    "ax.xaxis.set_tick_params(labelsize=7, bottom=True)\n",
    "ax.yaxis.set_tick_params(labelsize=7, left=True)\n",
    "ax.spines['left'].set_color('black')\n",
    "ax.spines['bottom'].set_color('black')\n",
    "ax.axes.get_xaxis().set_visible(False)\n",
    "ax.axes.get_yaxis().set_visible(False)\n",
    "plt.gca().patch.set_alpha(0)\n",
    "# ax.set_xlim(-1.25,1.25)\n",
    "# ax.set_ylim(-1.25,1.25)\n",
    "matplotlib.rcParams['savefig.transparent'] = True\n",
    "fig.savefig('Figures/Figure_1_b.jpg',\n",
    "            format='jpeg',\n",
    "            dpi=450,\n",
    "            bbox_inches='tight', transparent=True)"
   ],
   "metadata": {
    "collapsed": false,
    "ExecuteTime": {
     "end_time": "2025-05-02T20:13:39.954905Z",
     "start_time": "2025-05-02T20:13:36.288512Z"
    }
   },
   "id": "a4a0260a707e8ac6",
   "execution_count": 23
  },
  {
   "cell_type": "code",
   "outputs": [],
   "source": [],
   "metadata": {
    "collapsed": false
   },
   "id": "a4de2c192fa67317"
  }
 ],
 "metadata": {
  "kernelspec": {
   "display_name": "Python 3",
   "language": "python",
   "name": "python3"
  },
  "language_info": {
   "codemirror_mode": {
    "name": "ipython",
    "version": 2
   },
   "file_extension": ".py",
   "mimetype": "text/x-python",
   "name": "python",
   "nbconvert_exporter": "python",
   "pygments_lexer": "ipython2",
   "version": "2.7.6"
  }
 },
 "nbformat": 4,
 "nbformat_minor": 5
}
