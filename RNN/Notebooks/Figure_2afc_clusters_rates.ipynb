{
 "cells": [
  {
   "cell_type": "code",
   "execution_count": 2,
   "id": "initial_id",
   "metadata": {
    "collapsed": true,
    "ExecuteTime": {
     "end_time": "2025-01-24T18:41:04.305535Z",
     "start_time": "2025-01-24T18:41:04.301137Z"
    }
   },
   "outputs": [
    {
     "name": "stdout",
     "output_type": "stream",
     "text": [
      "/Users/cl1704/PycharmProjects/clustering_in_rnns\n"
     ]
    }
   ],
   "source": [
    "cd /Users/cl1704/PycharmProjects/clustering_in_rnns"
   ]
  },
  {
   "cell_type": "code",
   "outputs": [],
   "source": [
    "from Experiment_1.TwoAFCTask import generate_trials\n",
    "#from Experiment_5.SiegelMillerTask import generate_trials\n",
    "import networkx as nx\n",
    "import pandas as pd\n",
    "from sklearn.discriminant_analysis import LinearDiscriminantAnalysis\n",
    "import matplotlib\n",
    "import matplotlib.pyplot as plt\n",
    "from matplotlib import gridspec\n",
    "import seaborn as sns\n",
    "from Experiment_1.net import *\n",
    "import os\n",
    "import statsmodels.api as sm\n",
    "import scipy.optimize as opt\n",
    "import math\n",
    "#from psychometrics import *\n",
    "from sklearn.cluster import DBSCAN\n",
    "from sklearn.decomposition import PCA\n",
    "import networkx as nx\n",
    "from sklearn.cluster import KMeans\n",
    "plt.rcParams[\"axes.grid\"] = False\n",
    "from sklearn.manifold import TSNE\n",
    "matplotlib.rcParams['axes.linewidth'] = .5"
   ],
   "metadata": {
    "collapsed": false,
    "ExecuteTime": {
     "end_time": "2025-01-24T18:41:05.669442Z",
     "start_time": "2025-01-24T18:41:04.482407Z"
    }
   },
   "id": "7950ac7fea844281",
   "execution_count": 3
  },
  {
   "cell_type": "code",
   "outputs": [],
   "source": [
    "def compute_var(variance,n):\n",
    "    return np.sum(variance[n:])\n",
    "\n",
    "def compute_p(k, null_k):\n",
    "    return np.sum(null_k<k)/len(null_k)"
   ],
   "metadata": {
    "collapsed": false,
    "ExecuteTime": {
     "end_time": "2025-01-24T18:41:05.672904Z",
     "start_time": "2025-01-24T18:41:05.670409Z"
    }
   },
   "id": "5db90c4bd3241e31",
   "execution_count": 4
  },
  {
   "cell_type": "code",
   "outputs": [],
   "source": [
    "df_list = []\n",
    "for filename in os.listdir('Experiment_1/Results_1'):\n",
    "    f = os.path.join('Experiment_1/Results_1', filename)\n",
    "    if os.path.isfile(f):\n",
    "        df_list.append(pd.read_pickle(f))\n",
    "original_df = pd.concat(df_list,ignore_index=True) \n",
    "original_df = original_df[original_df.mse_z<.035]\n",
    "original_df = original_df[original_df.lambda_std==0.1]\n",
    "original_df = original_df[original_df.sigma_rec==0.]"
   ],
   "metadata": {
    "collapsed": false,
    "ExecuteTime": {
     "end_time": "2025-01-24T18:46:33.969977Z",
     "start_time": "2025-01-24T18:46:33.156942Z"
    }
   },
   "id": "a54bc847dbc56e2c",
   "execution_count": 9
  },
  {
   "cell_type": "code",
   "outputs": [
    {
     "data": {
      "text/plain": "       model_id                                              w_rec  \\\n25397  jYnb1t49  [[0.0, -0.015319939, -0.005429096, -0.00074349...   \n26567  01f2JQVy  [[0.0, 0.03327231, -0.026236981, 0.03992407, 0...   \n27006  AwC2OWe4  [[0.0, 0.0049445895, -0.00094664324, -0.000950...   \n26980  rhkTViOU  [[0.0, -0.01985171, -0.019152373, -0.018945273...   \n12828  AvfFZAqS  [[0.0, 0.05137866, -0.018137574, 0.029651294, ...   \n...         ...                                                ...   \n4973   TrTsiLPy  [[0.0, 0.065707065, -0.021331094, 0.026969867,...   \n5361   5mEdpQ4v  [[0.0, 0.063069716, 0.18544628, -0.046159737, ...   \n5362   wAdZIVLi  [[0.0, -0.1076642, -0.007848445, 0.011482217, ...   \n4949   m7OvrOUh  [[0.0, -0.06623228, 0.01992941, -0.19070785, -...   \n4568   7k8lAf9W  [[0.0, -0.04909517, -0.0775103, -0.07214736, 0...   \n\n                                                    w_in  \\\n25397  [[0.09416382, -0.08489626], [-0.064286545, 0.0...   \n26567  [[0.07710718, -0.10512933], [-0.09913566, 0.07...   \n27006  [[0.07681806, -0.078121215], [-0.00045214337, ...   \n26980  [[-0.00017043085, 0.0010328332], [0.06324735, ...   \n12828  [[0.029173391, 0.0076649175], [0.18643485, 0.3...   \n...                                                  ...   \n4973   [[-0.49557042, 0.07904446], [0.14699034, 0.087...   \n5361   [[0.33686432, -0.6324757], [0.44959965, -0.532...   \n5362   [[-0.26900837, 0.5119223], [-0.013000042, -0.0...   \n4949   [[0.4327306, 0.54863584], [0.38025215, 0.14972...   \n4568   [[-0.31539792, 0.26182455], [0.3564871, 0.1790...   \n\n                                                   w_out  \\\n25397  [[0.092717834, -0.02782137, -0.0047635348, -0....   \n26567  [[0.15284432, -0.08241582, 0.0813824, 0.019602...   \n27006  [[0.0449669, 0.095191345, 0.011740451, -0.0057...   \n26980  [[0.0004508284, 0.07575397, 0.1234843, 0.05664...   \n12828  [[0.046302184, 0.07666066, -0.060695123, 0.073...   \n...                                                  ...   \n4973   [[0.03598884, 0.18201819, 0.068584375, -0.0556...   \n5361   [[0.08613065, 0.007467267, -0.056607123, 0.097...   \n5362   [[0.084756315, -0.024454063, 0.00209977, -0.04...   \n4949   [[0.09154222, -0.024178356, 0.03793496, -0.061...   \n4568   [[-0.07852694, 0.12943935, 0.11639893, 0.02277...   \n\n                                                    bias     mse_z  \\\n25397  [0.2, 0.2, 0.2, 0.2, 0.2, 0.2, 0.2, 0.2, 0.2, ...  0.031556   \n26567  [0.2, 0.2, 0.2, 0.2, 0.2, 0.2, 0.2, 0.2, 0.2, ...  0.031341   \n27006  [0.2, 0.2, 0.2, 0.2, 0.2, 0.2, 0.2, 0.2, 0.2, ...  0.028594   \n26980  [0.2, 0.2, 0.2, 0.2, 0.2, 0.2, 0.2, 0.2, 0.2, ...  0.032564   \n12828  [0.2, 0.2, 0.2, 0.2, 0.2, 0.2, 0.2, 0.2, 0.2, ...  0.032706   \n...                                                  ...       ...   \n4973   [0.2, 0.2, 0.2, 0.2, 0.2, 0.2, 0.2, 0.2, 0.2, ...  0.028499   \n5361   [0.2, 0.2, 0.2, 0.2, 0.2, 0.2, 0.2, 0.2, 0.2, ...  0.028879   \n5362   [0.2, 0.2, 0.2, 0.2, 0.2, 0.2, 0.2, 0.2, 0.2, ...  0.029998   \n4949   [0.2, 0.2, 0.2, 0.2, 0.2, 0.2, 0.2, 0.2, 0.2, ...  0.028343   \n4568   [0.2, 0.2, 0.2, 0.2, 0.2, 0.2, 0.2, 0.2, 0.2, ...  0.029838   \n\n       weight_decay  threshold  sigma_rec  lambda_std  ...      lvar  dim  k  \\\n25397         0.001       0.05        0.0         0.1  ...  0.443669    3  4   \n26567         0.001       0.05        0.0         0.1  ...  0.816140    3  4   \n27006         0.001       0.05        0.0         0.1  ...  1.000000    3  4   \n26980         0.001       0.05        0.0         0.1  ...  1.000000    3  4   \n12828         0.001       0.05        0.0         0.1  ... -0.006225    3  5   \n...             ...        ...        ...         ...  ...       ...  ... ..   \n4973          0.001       0.05        0.0         0.1  ... -0.666085    3  5   \n5361          0.001       0.05        0.0         0.1  ... -0.816140    3  5   \n5362          0.001       0.05        0.0         0.1  ... -0.816140    3  5   \n4949          0.001       0.05        0.0         0.1  ... -0.666085    3  5   \n4568          0.001       0.05        0.0         0.1  ... -0.543618    3  5   \n\n       p_value                                            inertia  \\\n25397      0.0  [0.9257901806832111, 0.43208949465175106, 0.15...   \n26567      0.0  [0.9152177725341627, 0.505907371151861, 0.1505...   \n27006      0.0  [0.9440105979617514, 0.4840859963011087, 0.150...   \n26980      0.0  [0.9106046279119661, 0.5302962146879885, 0.151...   \n12828      0.0  [0.8313486353914782, 0.22438213177393035, 0.15...   \n...        ...                                                ...   \n4973       0.0  [0.9203071350423117, 0.8346964459779254, 0.766...   \n5361       0.0  [0.9149015835580915, 0.8292824395528439, 0.768...   \n5362       0.0  [0.9106878346385844, 0.8343487289262704, 0.778...   \n4949       0.0  [0.9192888572910097, 0.8334071567012681, 0.786...   \n4568       0.0  [0.9119934400833951, 0.8266879937804152, 0.791...   \n\n       activity_std                                       null_inertia  \\\n25397   0.033744168  [[0.9945039823665199, 0.9925444660444008, 0.99...   \n26567   0.037938055  [[0.9966221883011726, 0.9860316757570887, 0.99...   \n27006    0.03820525  [[0.999664775789095, 0.9958710801447168, 0.994...   \n26980   0.025274863  [[0.9967385626284763, 0.9876249874331496, 0.99...   \n12828  0.0068292227  [[0.993594285135813, 0.9931359648983743, 0.994...   \n...             ...                                                ...   \n4973     0.02744277  [[0.9883956582495792, 0.9863030104078783, 0.99...   \n5361     0.02726848  [[0.9860561374196658, 0.9923891065102859, 0.98...   \n5362    0.026717903  [[0.9911940952934171, 0.9909906916666164, 0.99...   \n4949    0.026888864  [[0.9907798413465538, 0.9929718314497914, 0.98...   \n4568    0.022060119  [[0.9847061825032956, 0.9891300459752871, 0.98...   \n\n                                                variance k_inertia       var  \n25397  [0.5194930437092231, 0.41627208080171024, 0.05...  0.150234 -4.882088  \n26567  [0.5280931288058935, 0.4008277993186166, 0.054...  0.150508 -4.129273  \n27006  [0.5006431125916794, 0.4351300676821557, 0.056...  0.150984 -4.877298  \n26980  [0.5458191498670005, 0.38084036902286134, 0.07...  0.151013 -6.210400  \n12828  [0.637804213671332, 0.20930027179384833, 0.097...  0.151030 -2.885033  \n...                                                  ...       ...       ...  \n4973   [0.1349456012241902, 0.12034654736868285, 0.10...  0.766771 -0.444862  \n5361   [0.13818979958520275, 0.12667976717486537, 0.1...  0.768778 -0.466658  \n5362   [0.13299874817102986, 0.1249569637083314, 0.10...  0.778017 -0.451453  \n4949   [0.14889700576434986, 0.11879445927235677, 0.1...  0.786460 -0.465810  \n4568   [0.14159986953403497, 0.12224766354242568, 0.1...  0.791001 -0.462049  \n\n[1373 rows x 21 columns]",
      "text/html": "<div>\n<style scoped>\n    .dataframe tbody tr th:only-of-type {\n        vertical-align: middle;\n    }\n\n    .dataframe tbody tr th {\n        vertical-align: top;\n    }\n\n    .dataframe thead th {\n        text-align: right;\n    }\n</style>\n<table border=\"1\" class=\"dataframe\">\n  <thead>\n    <tr style=\"text-align: right;\">\n      <th></th>\n      <th>model_id</th>\n      <th>w_rec</th>\n      <th>w_in</th>\n      <th>w_out</th>\n      <th>bias</th>\n      <th>mse_z</th>\n      <th>weight_decay</th>\n      <th>threshold</th>\n      <th>sigma_rec</th>\n      <th>lambda_std</th>\n      <th>...</th>\n      <th>lvar</th>\n      <th>dim</th>\n      <th>k</th>\n      <th>p_value</th>\n      <th>inertia</th>\n      <th>activity_std</th>\n      <th>null_inertia</th>\n      <th>variance</th>\n      <th>k_inertia</th>\n      <th>var</th>\n    </tr>\n  </thead>\n  <tbody>\n    <tr>\n      <th>25397</th>\n      <td>jYnb1t49</td>\n      <td>[[0.0, -0.015319939, -0.005429096, -0.00074349...</td>\n      <td>[[0.09416382, -0.08489626], [-0.064286545, 0.0...</td>\n      <td>[[0.092717834, -0.02782137, -0.0047635348, -0....</td>\n      <td>[0.2, 0.2, 0.2, 0.2, 0.2, 0.2, 0.2, 0.2, 0.2, ...</td>\n      <td>0.031556</td>\n      <td>0.001</td>\n      <td>0.05</td>\n      <td>0.0</td>\n      <td>0.1</td>\n      <td>...</td>\n      <td>0.443669</td>\n      <td>3</td>\n      <td>4</td>\n      <td>0.0</td>\n      <td>[0.9257901806832111, 0.43208949465175106, 0.15...</td>\n      <td>0.033744168</td>\n      <td>[[0.9945039823665199, 0.9925444660444008, 0.99...</td>\n      <td>[0.5194930437092231, 0.41627208080171024, 0.05...</td>\n      <td>0.150234</td>\n      <td>-4.882088</td>\n    </tr>\n    <tr>\n      <th>26567</th>\n      <td>01f2JQVy</td>\n      <td>[[0.0, 0.03327231, -0.026236981, 0.03992407, 0...</td>\n      <td>[[0.07710718, -0.10512933], [-0.09913566, 0.07...</td>\n      <td>[[0.15284432, -0.08241582, 0.0813824, 0.019602...</td>\n      <td>[0.2, 0.2, 0.2, 0.2, 0.2, 0.2, 0.2, 0.2, 0.2, ...</td>\n      <td>0.031341</td>\n      <td>0.001</td>\n      <td>0.05</td>\n      <td>0.0</td>\n      <td>0.1</td>\n      <td>...</td>\n      <td>0.816140</td>\n      <td>3</td>\n      <td>4</td>\n      <td>0.0</td>\n      <td>[0.9152177725341627, 0.505907371151861, 0.1505...</td>\n      <td>0.037938055</td>\n      <td>[[0.9966221883011726, 0.9860316757570887, 0.99...</td>\n      <td>[0.5280931288058935, 0.4008277993186166, 0.054...</td>\n      <td>0.150508</td>\n      <td>-4.129273</td>\n    </tr>\n    <tr>\n      <th>27006</th>\n      <td>AwC2OWe4</td>\n      <td>[[0.0, 0.0049445895, -0.00094664324, -0.000950...</td>\n      <td>[[0.07681806, -0.078121215], [-0.00045214337, ...</td>\n      <td>[[0.0449669, 0.095191345, 0.011740451, -0.0057...</td>\n      <td>[0.2, 0.2, 0.2, 0.2, 0.2, 0.2, 0.2, 0.2, 0.2, ...</td>\n      <td>0.028594</td>\n      <td>0.001</td>\n      <td>0.05</td>\n      <td>0.0</td>\n      <td>0.1</td>\n      <td>...</td>\n      <td>1.000000</td>\n      <td>3</td>\n      <td>4</td>\n      <td>0.0</td>\n      <td>[0.9440105979617514, 0.4840859963011087, 0.150...</td>\n      <td>0.03820525</td>\n      <td>[[0.999664775789095, 0.9958710801447168, 0.994...</td>\n      <td>[0.5006431125916794, 0.4351300676821557, 0.056...</td>\n      <td>0.150984</td>\n      <td>-4.877298</td>\n    </tr>\n    <tr>\n      <th>26980</th>\n      <td>rhkTViOU</td>\n      <td>[[0.0, -0.01985171, -0.019152373, -0.018945273...</td>\n      <td>[[-0.00017043085, 0.0010328332], [0.06324735, ...</td>\n      <td>[[0.0004508284, 0.07575397, 0.1234843, 0.05664...</td>\n      <td>[0.2, 0.2, 0.2, 0.2, 0.2, 0.2, 0.2, 0.2, 0.2, ...</td>\n      <td>0.032564</td>\n      <td>0.001</td>\n      <td>0.05</td>\n      <td>0.0</td>\n      <td>0.1</td>\n      <td>...</td>\n      <td>1.000000</td>\n      <td>3</td>\n      <td>4</td>\n      <td>0.0</td>\n      <td>[0.9106046279119661, 0.5302962146879885, 0.151...</td>\n      <td>0.025274863</td>\n      <td>[[0.9967385626284763, 0.9876249874331496, 0.99...</td>\n      <td>[0.5458191498670005, 0.38084036902286134, 0.07...</td>\n      <td>0.151013</td>\n      <td>-6.210400</td>\n    </tr>\n    <tr>\n      <th>12828</th>\n      <td>AvfFZAqS</td>\n      <td>[[0.0, 0.05137866, -0.018137574, 0.029651294, ...</td>\n      <td>[[0.029173391, 0.0076649175], [0.18643485, 0.3...</td>\n      <td>[[0.046302184, 0.07666066, -0.060695123, 0.073...</td>\n      <td>[0.2, 0.2, 0.2, 0.2, 0.2, 0.2, 0.2, 0.2, 0.2, ...</td>\n      <td>0.032706</td>\n      <td>0.001</td>\n      <td>0.05</td>\n      <td>0.0</td>\n      <td>0.1</td>\n      <td>...</td>\n      <td>-0.006225</td>\n      <td>3</td>\n      <td>5</td>\n      <td>0.0</td>\n      <td>[0.8313486353914782, 0.22438213177393035, 0.15...</td>\n      <td>0.0068292227</td>\n      <td>[[0.993594285135813, 0.9931359648983743, 0.994...</td>\n      <td>[0.637804213671332, 0.20930027179384833, 0.097...</td>\n      <td>0.151030</td>\n      <td>-2.885033</td>\n    </tr>\n    <tr>\n      <th>...</th>\n      <td>...</td>\n      <td>...</td>\n      <td>...</td>\n      <td>...</td>\n      <td>...</td>\n      <td>...</td>\n      <td>...</td>\n      <td>...</td>\n      <td>...</td>\n      <td>...</td>\n      <td>...</td>\n      <td>...</td>\n      <td>...</td>\n      <td>...</td>\n      <td>...</td>\n      <td>...</td>\n      <td>...</td>\n      <td>...</td>\n      <td>...</td>\n      <td>...</td>\n      <td>...</td>\n    </tr>\n    <tr>\n      <th>4973</th>\n      <td>TrTsiLPy</td>\n      <td>[[0.0, 0.065707065, -0.021331094, 0.026969867,...</td>\n      <td>[[-0.49557042, 0.07904446], [0.14699034, 0.087...</td>\n      <td>[[0.03598884, 0.18201819, 0.068584375, -0.0556...</td>\n      <td>[0.2, 0.2, 0.2, 0.2, 0.2, 0.2, 0.2, 0.2, 0.2, ...</td>\n      <td>0.028499</td>\n      <td>0.001</td>\n      <td>0.05</td>\n      <td>0.0</td>\n      <td>0.1</td>\n      <td>...</td>\n      <td>-0.666085</td>\n      <td>3</td>\n      <td>5</td>\n      <td>0.0</td>\n      <td>[0.9203071350423117, 0.8346964459779254, 0.766...</td>\n      <td>0.02744277</td>\n      <td>[[0.9883956582495792, 0.9863030104078783, 0.99...</td>\n      <td>[0.1349456012241902, 0.12034654736868285, 0.10...</td>\n      <td>0.766771</td>\n      <td>-0.444862</td>\n    </tr>\n    <tr>\n      <th>5361</th>\n      <td>5mEdpQ4v</td>\n      <td>[[0.0, 0.063069716, 0.18544628, -0.046159737, ...</td>\n      <td>[[0.33686432, -0.6324757], [0.44959965, -0.532...</td>\n      <td>[[0.08613065, 0.007467267, -0.056607123, 0.097...</td>\n      <td>[0.2, 0.2, 0.2, 0.2, 0.2, 0.2, 0.2, 0.2, 0.2, ...</td>\n      <td>0.028879</td>\n      <td>0.001</td>\n      <td>0.05</td>\n      <td>0.0</td>\n      <td>0.1</td>\n      <td>...</td>\n      <td>-0.816140</td>\n      <td>3</td>\n      <td>5</td>\n      <td>0.0</td>\n      <td>[0.9149015835580915, 0.8292824395528439, 0.768...</td>\n      <td>0.02726848</td>\n      <td>[[0.9860561374196658, 0.9923891065102859, 0.98...</td>\n      <td>[0.13818979958520275, 0.12667976717486537, 0.1...</td>\n      <td>0.768778</td>\n      <td>-0.466658</td>\n    </tr>\n    <tr>\n      <th>5362</th>\n      <td>wAdZIVLi</td>\n      <td>[[0.0, -0.1076642, -0.007848445, 0.011482217, ...</td>\n      <td>[[-0.26900837, 0.5119223], [-0.013000042, -0.0...</td>\n      <td>[[0.084756315, -0.024454063, 0.00209977, -0.04...</td>\n      <td>[0.2, 0.2, 0.2, 0.2, 0.2, 0.2, 0.2, 0.2, 0.2, ...</td>\n      <td>0.029998</td>\n      <td>0.001</td>\n      <td>0.05</td>\n      <td>0.0</td>\n      <td>0.1</td>\n      <td>...</td>\n      <td>-0.816140</td>\n      <td>3</td>\n      <td>5</td>\n      <td>0.0</td>\n      <td>[0.9106878346385844, 0.8343487289262704, 0.778...</td>\n      <td>0.026717903</td>\n      <td>[[0.9911940952934171, 0.9909906916666164, 0.99...</td>\n      <td>[0.13299874817102986, 0.1249569637083314, 0.10...</td>\n      <td>0.778017</td>\n      <td>-0.451453</td>\n    </tr>\n    <tr>\n      <th>4949</th>\n      <td>m7OvrOUh</td>\n      <td>[[0.0, -0.06623228, 0.01992941, -0.19070785, -...</td>\n      <td>[[0.4327306, 0.54863584], [0.38025215, 0.14972...</td>\n      <td>[[0.09154222, -0.024178356, 0.03793496, -0.061...</td>\n      <td>[0.2, 0.2, 0.2, 0.2, 0.2, 0.2, 0.2, 0.2, 0.2, ...</td>\n      <td>0.028343</td>\n      <td>0.001</td>\n      <td>0.05</td>\n      <td>0.0</td>\n      <td>0.1</td>\n      <td>...</td>\n      <td>-0.666085</td>\n      <td>3</td>\n      <td>5</td>\n      <td>0.0</td>\n      <td>[0.9192888572910097, 0.8334071567012681, 0.786...</td>\n      <td>0.026888864</td>\n      <td>[[0.9907798413465538, 0.9929718314497914, 0.98...</td>\n      <td>[0.14889700576434986, 0.11879445927235677, 0.1...</td>\n      <td>0.786460</td>\n      <td>-0.465810</td>\n    </tr>\n    <tr>\n      <th>4568</th>\n      <td>7k8lAf9W</td>\n      <td>[[0.0, -0.04909517, -0.0775103, -0.07214736, 0...</td>\n      <td>[[-0.31539792, 0.26182455], [0.3564871, 0.1790...</td>\n      <td>[[-0.07852694, 0.12943935, 0.11639893, 0.02277...</td>\n      <td>[0.2, 0.2, 0.2, 0.2, 0.2, 0.2, 0.2, 0.2, 0.2, ...</td>\n      <td>0.029838</td>\n      <td>0.001</td>\n      <td>0.05</td>\n      <td>0.0</td>\n      <td>0.1</td>\n      <td>...</td>\n      <td>-0.543618</td>\n      <td>3</td>\n      <td>5</td>\n      <td>0.0</td>\n      <td>[0.9119934400833951, 0.8266879937804152, 0.791...</td>\n      <td>0.022060119</td>\n      <td>[[0.9847061825032956, 0.9891300459752871, 0.98...</td>\n      <td>[0.14159986953403497, 0.12224766354242568, 0.1...</td>\n      <td>0.791001</td>\n      <td>-0.462049</td>\n    </tr>\n  </tbody>\n</table>\n<p>1373 rows × 21 columns</p>\n</div>"
     },
     "execution_count": 39,
     "metadata": {},
     "output_type": "execute_result"
    }
   ],
   "source": [
    "df = df.sort_values('k_inertia')\n",
    "df[df.k_inertia>.15]"
   ],
   "metadata": {
    "collapsed": false,
    "ExecuteTime": {
     "end_time": "2025-01-24T18:53:20.910291Z",
     "start_time": "2025-01-24T18:53:20.543010Z"
    }
   },
   "id": "dccb3fd03fd0d6da",
   "execution_count": 39
  },
  {
   "cell_type": "code",
   "outputs": [
    {
     "name": "stdout",
     "output_type": "stream",
     "text": [
      "0.0037213935218294537\n",
      "0.15187660901349642\n",
      "0.19249285300925925\n",
      "0.2536002310647881\n",
      "0.4009536747685185\n",
      "0.4939853009259259\n",
      "0.6126490871121628\n",
      "0.691719675925926\n",
      "0.7349008680555555\n"
     ]
    },
    {
     "data": {
      "text/plain": "<Figure size 700x50 with 9 Axes>",
      "image/png": "[encoded data removed]"
     },
     "metadata": {},
     "output_type": "display_data"
    }
   ],
   "source": [
    "# Trial data for simulations\n",
    "u, z, mask, conditions  = generate_trials(\n",
    "                                    n_trials=100)\n",
    "\n",
    "\n",
    "\n",
    "fig = plt.figure(figsize=(7,.5))\n",
    "gs = gridspec.GridSpec(1,9,wspace = .5)\n",
    "\n",
    "# Load data for row\n",
    "df =original_df.copy()\n",
    "\n",
    "k = 3\n",
    "df  = df[df.dim==k]\n",
    "#df = df[df.k>=dim]\n",
    "df['k_inertia'] = df.inertia.apply(lambda x: x[k-1])\n",
    "df['var'] = df.variance.apply(lambda x: compute_var(x,k))\n",
    "df['var'] = np.log(df['var'])\n",
    "df = df.sort_values('var',ascending=True)\n",
    "#bins = np.linspace(-3,-.75,9)\n",
    "\n",
    "# \n",
    "# df['bin'] = pd.cut(df['var'],bins=bins)\n",
    "# df['mean'] = df.bin.apply(lambda x: np.mean([x.left,x.right]))\n",
    "# df['mean'] = df['mean'].astype(float).round(3)\n",
    "# bin_means = np.sort(df['mean'].unique())\n",
    "# For rates:\n",
    "idx = [25809,25397,12814,13614,12142,9549,10757,9035,7169]\n",
    "\n",
    "#bins = [0,.025,.05,.1,.2,.3,.4,.5,.6]\n",
    "for col in range(9):\n",
    "    # Create axis\n",
    "    ax=fig.add_subplot(gs[0,col])\n",
    "    # Load model data for column\n",
    "    \n",
    "    model_id = df[df.index==idx[col]].model_id.values[0]\n",
    "    #model_id  = df[ (df['mean'] ==bin_means[col] )].sort_values('var')['model_id'].values[1]\n",
    "    model_data = df[df.model_id==model_id]\n",
    "    #k = model_data['k'].item()\n",
    "    k = 3\n",
    "    # Simulate model\n",
    "    net = Net(n=100,input_size = 2,dale=False)\n",
    "    net.recurrent_layer.weight.data = torch.tensor(model_data['w_rec'].item())\n",
    "    net.recurrent_layer.bias.data = torch.tensor(model_data['bias'].item())\n",
    "    net.input_layer.weight.data = torch.tensor(model_data['w_in'].item())\n",
    "    net.output_layer.weight.data = torch.tensor(model_data['w_out'].item())\n",
    "\n",
    "\n",
    "    x = net(u).detach().cpu().numpy()\n",
    "\n",
    "    \n",
    "    rows = []\n",
    "    for trial in range(u.shape[0]):\n",
    "        rows.append({'trial': trial,\n",
    "                     'motion': conditions[trial]['motion_coh'],\n",
    "                     'response': x[trial, :, :]})\n",
    "    model_df = pd.DataFrame(rows)\n",
    "    model_df = model_df.groupby(['motion']).response.apply(lambda r: np.mean(np.stack(r), axis=0)).reset_index()\n",
    "\n",
    "    responses = np.stack(model_df.response.values)\n",
    "    responses = responses.reshape(-1, responses.shape[2]).T\n",
    "\n",
    "    # z_score\n",
    "    responses = (responses - np.mean(responses, axis=1, keepdims=True)) / np.std(responses, axis=1, keepdims=True)\n",
    "    responses = responses[~np.isnan(responses).any(axis=1)]\n",
    "    \n",
    "    #responses = .001 * (2*np.random.rand(responses.shape[0],responses.shape[1])-1)\n",
    "    total_variance = np.sum((responses.T - np.mean(responses.T, axis=0, keepdims=True)) ** 2)\n",
    "\n",
    "    clustering = KMeans(n_clusters=k,n_init='auto').fit(responses)\n",
    "    labels  = clustering.labels_\n",
    "    print(clustering.inertia_/total_variance)\n",
    "\n",
    "    #responses  = responses + .5*(2*np.random.rand(responses.shape[0],responses.shape[1])-1)\n",
    "    \n",
    "    X = responses\n",
    "    y = labels\n",
    "    lda = LinearDiscriminantAnalysis(solver='eigen',  shrinkage=9e-1)\n",
    "    \n",
    "    # parameters = {'tol':10**np.linspace(-2,-.5,25)}\n",
    "    # from sklearn.model_selection import GridSearchCV\n",
    "    # clf = GridSearchCV(lda, parameters,refit=True,error_score = np.nan,cv=5)\n",
    "    # clf.fit(X, y)\n",
    "    # lda = clf.best_estimator_\n",
    "    x_proj = lda.fit_transform(X,y)\n",
    "    \n",
    "\n",
    "        \n",
    "    centers_proj = lda.transform(clustering.cluster_centers_)\n",
    "    #scale = np.sum(PCA().fit(centers_proj).explained_variance_[:2])/100\n",
    "   \n",
    "    \n",
    "    \n",
    "    #x_proj = x_proj + 1*(2*np.random.rand(x_proj.shape[0],x_proj.shape[1])-1)\n",
    "    network_pal = sns.husl_palette(pd.Series(np.sort(labels)).unique().size,s=1)\n",
    "    \n",
    "    lut = dict(zip(pd.Series(np.sort(labels)).unique(),network_pal))\n",
    "    row_colors = pd.Series(np.sort(labels)).map(lut)\n",
    "    \n",
    "    sns.scatterplot(x=x_proj[np.argsort(labels), 0], y=x_proj[np.argsort(labels), 1], color='gray',s=3,alpha=.5,ax=ax,edgecolor=None)\n",
    "    sns.scatterplot(x=centers_proj[:, 0], y=centers_proj[:, 1], color='k',s=3,alpha=.5,ax=ax,edgecolor=None)\n",
    "\n",
    "    # Make axis pretty\n",
    "    ax.spines['right'].set_visible(False)\n",
    "    ax.spines['top'].set_visible(False)\n",
    "    ax.spines['left'].set_visible(False)\n",
    "    ax.spines['bottom'].set_visible(False)\n",
    "    ax.axes.get_xaxis().set_visible(False)\n",
    "    ax.axes.get_yaxis().set_visible(False)\n",
    "    ax.set_xlabel(\"PC 1\",fontsize=6)\n",
    "    ax.set_ylabel(\"PC 2\",fontsize=6)\n",
    "    #ax.set_title(r'$\\sum_{i\\geq 2}\\lambda_i = $'+str(np.round(variance,4)),fontsize=8)\n",
    "    ax.xaxis.set_tick_params(labelsize=6,bottom=False)\n",
    "    ax.yaxis.set_tick_params(labelsize=6,left=False)\n",
    "    ax.spines['left'].set_color('black')\n",
    "    ax.spines['bottom'].set_color('black')\n",
    "    ax.text(.5,-.2,r'$\\sum_{i>3}\\lambda_i = $'+' '+str(np.round(model_data['var'].item(),4) ), horizontalalignment='center',\n",
    " verticalalignment='center', transform=ax.transAxes,fontsize = 3)\n",
    "    \n",
    "fig.savefig('Figures/SIFig_2afcclustering.jpg',\n",
    "    format='jpeg',\n",
    "    dpi=450,\n",
    "            bbox_inches='tight')\n"
   ],
   "metadata": {
    "collapsed": false,
    "ExecuteTime": {
     "end_time": "2025-01-24T18:53:55.584975Z",
     "start_time": "2025-01-24T18:53:51.863806Z"
    }
   },
   "id": "de513ca768ba394c",
   "execution_count": 41
  },
  {
   "cell_type": "code",
   "outputs": [],
   "source": [],
   "metadata": {
    "collapsed": false,
    "ExecuteTime": {
     "end_time": "2024-11-14T21:46:53.012453Z",
     "start_time": "2024-11-14T21:46:53.011032Z"
    }
   },
   "id": "64997b956b40ebfd",
   "execution_count": 30
  },
  {
   "cell_type": "code",
   "outputs": [],
   "source": [],
   "metadata": {
    "collapsed": false
   },
   "id": "c1f4cbcd66ef7ed7"
  }
 ],
 "metadata": {
  "kernelspec": {
   "display_name": "Python 3",
   "language": "python",
   "name": "python3"
  },
  "language_info": {
   "codemirror_mode": {
    "name": "ipython",
    "version": 2
   },
   "file_extension": ".py",
   "mimetype": "text/x-python",
   "name": "python",
   "nbconvert_exporter": "python",
   "pygments_lexer": "ipython2",
   "version": "2.7.6"
  }
 },
 "nbformat": 4,
 "nbformat_minor": 5
}
