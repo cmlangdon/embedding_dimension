{
 "cells": [
  {
   "cell_type": "code",
   "outputs": [
    {
     "name": "stdout",
     "output_type": "stream",
     "text": [
      "/Users/cl1704/PycharmProjects/clustering_in_rnns\n"
     ]
    }
   ],
   "source": [
    "cd /Users/cl1704/PycharmProjects/clustering_in_rnns"
   ],
   "metadata": {
    "collapsed": false,
    "ExecuteTime": {
     "end_time": "2025-03-03T17:59:16.160996Z",
     "start_time": "2025-03-03T17:59:16.157978Z"
    }
   },
   "id": "383bebe902109cd4",
   "execution_count": 1
  },
  {
   "cell_type": "code",
   "outputs": [],
   "source": [
    "\n",
    "from Experiment_2.TwoAFCTask import generate_trials\n",
    "#from Experiment_5.SiegelMillerTask import generate_trials\n",
    "import networkx as nx\n",
    "import pandas as pd\n",
    "import matplotlib\n",
    "import matplotlib.pyplot as plt\n",
    "from matplotlib import gridspec\n",
    "import seaborn as sns\n",
    "from Experiment_2.net import *\n",
    "import os\n",
    "import statsmodels.api as sm\n",
    "import scipy.optimize as opt\n",
    "import math\n",
    "#from psychometrics import *\n",
    "from sklearn.cluster import DBSCAN\n",
    "from sklearn.decomposition import PCA\n",
    "\n",
    "from sklearn.cluster import KMeans\n",
    "\n",
    "plt.rcParams[\"axes.grid\"] = False\n",
    "from sklearn.manifold import TSNE\n",
    "\n",
    "matplotlib.rcParams['axes.linewidth'] = .5\n",
    "\n",
    "\n",
    "def compute_var(variance, n):\n",
    "    return np.sum(variance[n:])\n",
    "\n",
    "\n",
    "def compute_p(k, null_k):\n",
    "    return np.sum(null_k < k) / len(null_k)"
   ],
   "metadata": {
    "collapsed": false,
    "ExecuteTime": {
     "end_time": "2025-03-03T17:59:17.169508Z",
     "start_time": "2025-03-03T17:59:16.160754Z"
    }
   },
   "id": "cf6052d3717c1d8b",
   "execution_count": 2
  },
  {
   "cell_type": "code",
   "outputs": [
    {
     "ename": "IndexError",
     "evalue": "index 0 is out of bounds for axis 0 with size 0",
     "output_type": "error",
     "traceback": [
      "\u001B[0;31m---------------------------------------------------------------------------\u001B[0m",
      "\u001B[0;31mIndexError\u001B[0m                                Traceback (most recent call last)",
      "Cell \u001B[0;32mIn[4], line 45\u001B[0m\n\u001B[1;32m     42\u001B[0m ax\u001B[38;5;241m=\u001B[39mfig\u001B[38;5;241m.\u001B[39madd_subplot(gs[\u001B[38;5;241m0\u001B[39m,col])\n\u001B[1;32m     43\u001B[0m \u001B[38;5;66;03m# Load model data for column\u001B[39;00m\n\u001B[0;32m---> 45\u001B[0m model_id \u001B[38;5;241m=\u001B[39m \u001B[43mdf\u001B[49m\u001B[43m[\u001B[49m\u001B[43mdf\u001B[49m\u001B[38;5;241;43m.\u001B[39;49m\u001B[43mindex\u001B[49m\u001B[38;5;241;43m==\u001B[39;49m\u001B[43midx\u001B[49m\u001B[43m[\u001B[49m\u001B[43mcol\u001B[49m\u001B[43m]\u001B[49m\u001B[43m]\u001B[49m\u001B[38;5;241;43m.\u001B[39;49m\u001B[43mmodel_id\u001B[49m\u001B[38;5;241;43m.\u001B[39;49m\u001B[43mvalues\u001B[49m\u001B[43m[\u001B[49m\u001B[38;5;241;43m0\u001B[39;49m\u001B[43m]\u001B[49m\n\u001B[1;32m     46\u001B[0m \u001B[38;5;66;03m#model_id  = df[ (df['mean'] ==bin_means[col] )].sort_values('var')['model_id'].values[1]\u001B[39;00m\n\u001B[1;32m     47\u001B[0m model_data \u001B[38;5;241m=\u001B[39m df[df\u001B[38;5;241m.\u001B[39mmodel_id\u001B[38;5;241m==\u001B[39mmodel_id]\n",
      "\u001B[0;31mIndexError\u001B[0m: index 0 is out of bounds for axis 0 with size 0"
     ]
    },
    {
     "data": {
      "text/plain": "<Figure size 700x50 with 1 Axes>",
      "image/png": "[encoded data removed]"
     },
     "metadata": {},
     "output_type": "display_data"
    }
   ],
   "source": [
    "df_list = []\n",
    "for filename in os.listdir('Experiment_2/Results_2'):\n",
    "    f = os.path.join('Experiment_2/Results_2', filename)\n",
    "    if os.path.isfile(f):\n",
    "        df_list.append(pd.read_pickle(f))\n",
    "original_df = pd.concat(df_list,ignore_index=True) \n",
    "original_df = original_df[original_df.mse_z<.035]\n",
    "original_df = original_df[original_df.lambda_std==0.1]\n",
    "original_df = original_df[original_df.sigma_rec==0.]\n",
    "\n",
    "# Trial data for simulations\n",
    "u, z, mask, conditions  = generate_trials(\n",
    "                                    n_trials=100)\n",
    "palette = sns.color_palette(\"husl\", n_colors=75,as_cmap=False)\n",
    "\n",
    "\n",
    "fig = plt.figure(figsize=(7,.5))\n",
    "gs = gridspec.GridSpec(1,9,wspace = .5)\n",
    "\n",
    "# Load data for row\n",
    "df =original_df.copy()\n",
    "\n",
    "k = 3\n",
    "df  = df[df.dim==k]\n",
    "#df = df[df.k>=dim]\n",
    "df['k_inertia'] = df.inertia.apply(lambda x: x[k-1])\n",
    "df['var'] = df.variance.apply(lambda x: compute_var(x,k))\n",
    "df['var'] = np.log(df['var'])\n",
    "df = df.sort_values('var',ascending=True)\n",
    "#bins = np.linspace(-3,-.75,9)\n",
    "\n",
    "# \n",
    "# df['bin'] = pd.cut(df['var'],bins=bins)\n",
    "# df['mean'] = df.bin.apply(lambda x: np.mean([x.left,x.right]))\n",
    "# df['mean'] = df['mean'].astype(float).round(3)\n",
    "# bin_means = np.sort(df['mean'].unique())\n",
    "idx = [13282,13487,13324,10156,10318,13868,6643,5399,2306]\n",
    "\n",
    "#bins = [0,.025,.05,.1,.2,.3,.4,.5,.6]\n",
    "for col in range(9):\n",
    "    # Create axis\n",
    "    ax=fig.add_subplot(gs[0,col])\n",
    "    # Load model data for column\n",
    "    \n",
    "    model_id = df[df.index==idx[col]].model_id.values[0]\n",
    "    #model_id  = df[ (df['mean'] ==bin_means[col] )].sort_values('var')['model_id'].values[1]\n",
    "    model_data = df[df.model_id==model_id]\n",
    "\n",
    "    # Simulate model\n",
    "    net = Net(n=100,input_size = 2,dale=False)\n",
    "    net.recurrent_layer.weight.data = torch.tensor(model_data['w_rec'].item())\n",
    "    net.recurrent_layer.bias.data = torch.tensor(model_data['bias'].item())\n",
    "    net.input_layer.weight.data = torch.tensor(model_data['w_in'].item())\n",
    "    net.output_layer.weight.data = torch.tensor(model_data['w_out'].item())\n",
    "    palette = sns.color_palette(\"husl\", n_colors=75,as_cmap=False)\n",
    "    x = net(u)\n",
    "\n",
    "    pca = PCA()\n",
    "    pca.fit(x[:,:,:].detach().numpy().reshape(-1, x.shape[2]))\n",
    "    x_proj = pca.transform(x.detach().numpy().reshape(-1, x.shape[2])).reshape(x.shape[0],x.shape[1],x.shape[2])\n",
    "    rows = []\n",
    "    for k in range(u.shape[0]):\n",
    "        for t in range(u.shape[1]):\n",
    "            rows.append({'trial':k,\n",
    "                         'motion':conditions[k]['motion_coh'],\n",
    "                        't':t,\n",
    "                        'z_1':x_proj[k,t,0],\n",
    "                        'z_2':x_proj[k,t,1],\n",
    "                         'z_3':x_proj[k,t,2]})\n",
    "    new_df = pd.DataFrame(rows)\n",
    "    new_df_mean =new_df.groupby(['motion','t']).mean().reset_index()\n",
    "    sns.scatterplot(data=new_df_mean,x='z_1',y='z_2',hue='t',ax=ax,legend=False,s=2,alpha=.5,palette = palette,edgecolor=None)\n",
    "    \n",
    "    # Make axis pretty\n",
    "    ax.spines['right'].set_visible(False)\n",
    "    ax.spines['top'].set_visible(False)\n",
    "    ax.spines['left'].set_visible(False)\n",
    "    ax.spines['bottom'].set_visible(False)\n",
    "    ax.axes.get_xaxis().set_visible(False)\n",
    "    ax.axes.get_yaxis().set_visible(False)\n",
    "    ax.set_xlabel(\"PC 1\",fontsize=6)\n",
    "    ax.set_ylabel(\"PC 2\",fontsize=6)\n",
    "    #ax.set_title(r'$\\sum_{i\\geq 2}\\lambda_i = $'+str(np.round(variance,4)),fontsize=8)\n",
    "    ax.xaxis.set_tick_params(labelsize=6,bottom=False)\n",
    "    ax.yaxis.set_tick_params(labelsize=6,left=False)\n",
    "    ax.spines['left'].set_color('black')\n",
    "    ax.spines['bottom'].set_color('black')\n",
    " #    if row ==0:\n",
    "     #        ax.text(.5,-.2,r'$\\sum_{i>2}\\lambda_i=$'+' '+str(np.round(np.sum(pca.explained_variance_ratio_[row+2:]),3)), horizontalalignment='center',\n",
    "     # verticalalignment='center', transform=ax.transAxes,fontsize = 4)\n",
    "     #    if row ==1:\n",
    "     #        ax.text(.5,-.2,r'$\\sum_{i>3}\\lambda_i=$'+' '+str(np.round(np.sum(pca.explained_variance_ratio_[row+2:]),3)), horizontalalignment='center',\n",
    "     # verticalalignment='center', transform=ax.transAxes,fontsize = 4)\n",
    "     #    if row == 2:\n",
    "     #        ax.text(.5,-.2,r'$\\sum_{i>4}\\lambda_i=$'+' '+str(np.round(np.sum(pca.explained_variance_ratio_[row+2:]),3)), horizontalalignment='center',\n",
    "     # verticalalignment='center', transform=ax.transAxes,fontsize = 4)\n",
    "        \n",
    "fig.savefig('Figures/SIFig_2afcmanifolds.jpg',\n",
    "    format='jpeg',\n",
    "    dpi=450,\n",
    "            bbox_inches='tight')\n"
   ],
   "metadata": {
    "collapsed": true,
    "ExecuteTime": {
     "end_time": "2025-03-03T17:59:54.737233Z",
     "start_time": "2025-03-03T17:59:54.372947Z"
    }
   },
   "id": "initial_id",
   "execution_count": 4
  },
  {
   "cell_type": "code",
   "outputs": [],
   "source": [],
   "metadata": {
    "collapsed": false
   },
   "id": "6b2eb020f667e1be"
  }
 ],
 "metadata": {
  "kernelspec": {
   "display_name": "Python 3",
   "language": "python",
   "name": "python3"
  },
  "language_info": {
   "codemirror_mode": {
    "name": "ipython",
    "version": 2
   },
   "file_extension": ".py",
   "mimetype": "text/x-python",
   "name": "python",
   "nbconvert_exporter": "python",
   "pygments_lexer": "ipython2",
   "version": "2.7.6"
  }
 },
 "nbformat": 4,
 "nbformat_minor": 5
}
