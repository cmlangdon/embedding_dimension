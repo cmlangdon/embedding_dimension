{
 "cells": [
  {
   "cell_type": "code",
   "execution_count": null,
   "id": "initial_id",
   "metadata": {
    "collapsed": true,
    "ExecuteTime": {
     "end_time": "2025-02-24T16:14:02.898654Z",
     "start_time": "2025-02-24T16:14:02.895323Z"
    }
   },
   "outputs": [],
   "source": []
  },
  {
   "cell_type": "code",
   "outputs": [
    {
     "name": "stdout",
     "output_type": "stream",
     "text": [
      "/Users/cl1704/PycharmProjects/clustering_in_rnns\n"
     ]
    }
   ],
   "source": [
    "cd /Users/cl1704/PycharmProjects/clustering_in_rnns"
   ],
   "metadata": {
    "collapsed": false,
    "ExecuteTime": {
     "end_time": "2025-02-24T16:14:28.774313Z",
     "start_time": "2025-02-24T16:14:28.771697Z"
    }
   },
   "id": "68c944e63b190a96",
   "execution_count": 7
  },
  {
   "cell_type": "code",
   "outputs": [],
   "source": [
    "from Experiment_2.TwoAFCTask import generate_trials\n",
    "import pandas as pd\n",
    "from sklearn.discriminant_analysis import LinearDiscriminantAnalysis\n",
    "import matplotlib\n",
    "import matplotlib.pyplot as plt\n",
    "from matplotlib import gridspec\n",
    "import seaborn as sns\n",
    "from Experiment_2.net import *\n",
    "import os\n",
    "import statsmodels.api as sm\n",
    "import scipy.optimize as opt\n",
    "import math\n",
    "#from psychometrics import *\n",
    "\n",
    "from sklearn.decomposition import PCA\n",
    "from sklearn.cluster import KMeans\n",
    "plt.rcParams[\"axes.grid\"] = False\n",
    "from sklearn.manifold import TSNE\n",
    "matplotlib.rcParams['axes.linewidth'] = .5"
   ],
   "metadata": {
    "collapsed": false,
    "ExecuteTime": {
     "end_time": "2025-02-24T16:14:29.337149Z",
     "start_time": "2025-02-24T16:14:29.333917Z"
    }
   },
   "id": "e6e6898106a5df5f",
   "execution_count": 8
  },
  {
   "cell_type": "code",
   "outputs": [],
   "source": [
    "def compute_var(variance,n):\n",
    "    return np.sum(variance[n:])\n",
    "\n",
    "def compute_p(k, null_k):\n",
    "    return np.sum(null_k<k)/len(null_k)"
   ],
   "metadata": {
    "collapsed": false,
    "ExecuteTime": {
     "end_time": "2025-02-24T16:14:29.959755Z",
     "start_time": "2025-02-24T16:14:29.957760Z"
    }
   },
   "id": "43ab75be5fa7bdc7",
   "execution_count": 9
  },
  {
   "cell_type": "code",
   "outputs": [],
   "source": [
    "df_list = []\n",
    "for filename in os.listdir('Experiment_2/Results_2'):\n",
    "    f = os.path.join('Experiment_2/Results_2', filename)\n",
    "    if os.path.isfile(f):\n",
    "        df_list.append(pd.read_pickle(f))\n",
    "original_df = pd.concat(df_list,ignore_index=True) \n",
    "original_df = original_df[original_df.mse_z<.035]\n",
    "original_df = original_df[original_df.lambda_std==0.1]\n",
    "original_df = original_df[original_df.sigma_rec==0.]"
   ],
   "metadata": {
    "collapsed": false,
    "ExecuteTime": {
     "end_time": "2025-02-24T16:14:31.132791Z",
     "start_time": "2025-02-24T16:14:30.757875Z"
    }
   },
   "id": "809a13e7d165b8a5",
   "execution_count": 10
  },
  {
   "cell_type": "code",
   "outputs": [
    {
     "name": "stdout",
     "output_type": "stream",
     "text": [
      "0.3483413597617315\n",
      "0.31390165670158066\n",
      "0.3566994212962963\n",
      "0.31583640046296296\n",
      "0.3506207175925926\n",
      "0.3162768884579732\n",
      "0.3156596278171727\n",
      "0.355120527213024\n",
      "0.34944989576966384\n"
     ]
    },
    {
     "data": {
      "text/plain": "<Figure size 700x50 with 9 Axes>",
      "image/png": "[encoded data removed]"
     },
     "metadata": {},
     "output_type": "display_data"
    }
   ],
   "source": [
    "# Trial data for simulations\n",
    "u, z, mask, conditions  = generate_trials(\n",
    "                                    n_trials=100)\n",
    "\n",
    "\n",
    "\n",
    "fig = plt.figure(figsize=(7,.5))\n",
    "gs = gridspec.GridSpec(1,9,wspace = .5)\n",
    "\n",
    "# Load data for row\n",
    "df =original_df.copy()\n",
    "\n",
    "k = 3\n",
    "df  = df[df.dim==k]\n",
    "#df = df[df.k>=dim]\n",
    "df['k_inertia'] = df.inertia.apply(lambda x: x[k-1])\n",
    "df['var'] = df.variance.apply(lambda x: compute_var(x,k))\n",
    "df['var'] = np.log(df['var'])\n",
    "df = df.sort_values('var',ascending=True)\n",
    "#bins = np.linspace(-3,-.75,9)\n",
    "\n",
    "# \n",
    "# df['bin'] = pd.cut(df['var'],bins=bins)\n",
    "# df['mean'] = df.bin.apply(lambda x: np.mean([x.left,x.right]))\n",
    "# df['mean'] = df['mean'].astype(float).round(3)\n",
    "# bin_means = np.sort(df['mean'].unique())\n",
    "# For rates:\n",
    "idx = [13282,13487,13324,10156,10318,13868,6643,5399,2306]\n",
    "\n",
    "#bins = [0,.025,.05,.1,.2,.3,.4,.5,.6]\n",
    "for col in range(9):\n",
    "    # Create axis\n",
    "    ax=fig.add_subplot(gs[0,col])\n",
    "    # Load model data for column\n",
    "    \n",
    "    #model_id = df[df.index==idx[col]].model_id.values[0]\n",
    "    model_id = \"z1Sal2SL\"\n",
    "    #model_id  = df[ (df['mean'] ==bin_means[col] )].sort_values('var')['model_id'].values[1]\n",
    "    model_data = df[df.model_id==model_id]\n",
    "    #k = model_data['k'].item()\n",
    "    k = 3\n",
    "    # Simulate model\n",
    "    net = Net(n=200,input_size = 2,dale=False)\n",
    "    net.recurrent_layer.weight.data = torch.tensor(model_data['w_rec'].item())\n",
    "    net.recurrent_layer.bias.data = torch.tensor(model_data['bias'].item())\n",
    "    net.input_layer.weight.data = torch.tensor(model_data['w_in'].item())\n",
    "    net.output_layer.weight.data = torch.tensor(model_data['w_out'].item())\n",
    "\n",
    "\n",
    "    x = net(u).detach().cpu().numpy()\n",
    "\n",
    "    \n",
    "        \n",
    "    rows = []\n",
    "    for k in range(u.shape[0]):\n",
    "        rows.append({'trial': k,\n",
    "                     'motion': conditions[k]['motion_coh'],\n",
    "                     'response': x[k, :, :]})\n",
    "    new_df = pd.DataFrame(rows)\n",
    "    new_df = new_df.groupby(['motion']).response.apply(lambda r: np.mean(np.stack(r), axis=0)).reset_index()\n",
    "    \n",
    "    #df = df.groupby('motion').response.apply(lambda r: np.mean(np.stack(r), axis=0)).reset_index()\n",
    "    responses = np.stack(new_df.response.values)\n",
    "    responses = responses.reshape(-1, responses.shape[2]).T\n",
    "    \n",
    "    #responses = responses[np.mean(responses, axis=1) >.15, :]\n",
    "    \n",
    "    # z_score\n",
    "    responses = (responses - np.mean(responses, axis=1, keepdims=True)) / np.std(responses, axis=1, keepdims=True)\n",
    "    responses = responses[~np.isnan(responses).any(axis=1)]\n",
    "    \n",
    "    \n",
    "    \n",
    "    #responses = .001 * (2*np.random.rand(responses.shape[0],responses.shape[1])-1)\n",
    "    total_variance = np.sum((responses.T - np.mean(responses.T, axis=0, keepdims=True)) ** 2)\n",
    "\n",
    "    clustering = KMeans(n_clusters=3,n_init='auto').fit(responses)\n",
    "    labels  = clustering.labels_\n",
    "    print(clustering.inertia_/total_variance)\n",
    "\n",
    "    #responses  = responses + .5*(2*np.random.rand(responses.shape[0],responses.shape[1])-1)\n",
    "    \n",
    "    X = responses\n",
    "    y = labels\n",
    "    lda = LinearDiscriminantAnalysis(solver='eigen',  shrinkage=9e-1)\n",
    "    \n",
    "    # parameters = {'tol':10**np.linspace(-2,-.5,25)}\n",
    "    # from sklearn.model_selection import GridSearchCV\n",
    "    # clf = GridSearchCV(lda, parameters,refit=True,error_score = np.nan,cv=5)\n",
    "    # clf.fit(X, y)\n",
    "    # lda = clf.best_estimator_\n",
    "    x_proj = lda.fit_transform(X,y)\n",
    "    \n",
    "\n",
    "        \n",
    "    centers_proj = lda.transform(clustering.cluster_centers_)\n",
    "    #scale = np.sum(PCA().fit(centers_proj).explained_variance_[:2])/100\n",
    "   \n",
    "    \n",
    "    \n",
    "    #x_proj = x_proj + 1*(2*np.random.rand(x_proj.shape[0],x_proj.shape[1])-1)\n",
    "    network_pal = sns.husl_palette(pd.Series(np.sort(labels)).unique().size,s=1)\n",
    "    \n",
    "    lut = dict(zip(pd.Series(np.sort(labels)).unique(),network_pal))\n",
    "    row_colors = pd.Series(np.sort(labels)).map(lut)\n",
    "    \n",
    "    sns.scatterplot(x=x_proj[np.argsort(labels), 0], y=x_proj[np.argsort(labels), 1], color='gray',s=2,alpha=.5,ax=ax,edgecolor=None)\n",
    "    sns.scatterplot(x=centers_proj[:, 0], y=centers_proj[:, 1], color='k',s=3,alpha=.5,ax=ax,edgecolor=None)\n",
    "\n",
    "    # Make axis pretty\n",
    "    ax.spines['right'].set_visible(False)\n",
    "    ax.spines['top'].set_visible(False)\n",
    "    ax.spines['left'].set_visible(False)\n",
    "    ax.spines['bottom'].set_visible(False)\n",
    "    ax.axes.get_xaxis().set_visible(False)\n",
    "    ax.axes.get_yaxis().set_visible(False)\n",
    "    ax.set_xlabel(\"PC 1\",fontsize=6)\n",
    "    ax.set_ylabel(\"PC 2\",fontsize=6)\n",
    "    #ax.set_title(r'$\\sum_{i\\geq 2}\\lambda_i = $'+str(np.round(variance,4)),fontsize=8)\n",
    "    ax.xaxis.set_tick_params(labelsize=6,bottom=False)\n",
    "    ax.yaxis.set_tick_params(labelsize=6,left=False)\n",
    "    ax.spines['left'].set_color('black')\n",
    "    ax.spines['bottom'].set_color('black')\n",
    "    ax.text(.5,-.2,r'$\\sum_{i>3}\\lambda_i = $'+' '+str(np.round(model_data['var'].item(),4) ), horizontalalignment='center',\n",
    " verticalalignment='center', transform=ax.transAxes,fontsize = 3)\n",
    "    \n",
    "fig.savefig('Figures/SIFig_2afcclustering.jpg',\n",
    "    format='jpeg',\n",
    "    dpi=450,\n",
    "            bbox_inches='tight')\n"
   ],
   "metadata": {
    "collapsed": false,
    "ExecuteTime": {
     "end_time": "2025-02-24T16:15:31.296503Z",
     "start_time": "2025-02-24T16:15:27.104607Z"
    }
   },
   "id": "f58180f409e753a4",
   "execution_count": 13
  },
  {
   "cell_type": "code",
   "outputs": [
    {
     "data": {
      "text/plain": "'HkpwQGCq'"
     },
     "execution_count": 6,
     "metadata": {},
     "output_type": "execute_result"
    }
   ],
   "source": [
    "df.model_id.values[0]"
   ],
   "metadata": {
    "collapsed": false,
    "ExecuteTime": {
     "end_time": "2025-01-24T18:23:53.402726Z",
     "start_time": "2025-01-24T18:23:53.400279Z"
    }
   },
   "id": "ef1f7c06e4077a9c",
   "execution_count": 6
  },
  {
   "cell_type": "code",
   "outputs": [],
   "source": [],
   "metadata": {
    "collapsed": false
   },
   "id": "1f63b29895f14ba6",
   "execution_count": 30
  },
  {
   "cell_type": "code",
   "outputs": [],
   "source": [],
   "metadata": {
    "collapsed": false
   },
   "id": "b1c6bc0c5d43bd26"
  }
 ],
 "metadata": {
  "kernelspec": {
   "display_name": "Python 3",
   "language": "python",
   "name": "python3"
  },
  "language_info": {
   "codemirror_mode": {
    "name": "ipython",
    "version": 2
   },
   "file_extension": ".py",
   "mimetype": "text/x-python",
   "name": "python",
   "nbconvert_exporter": "python",
   "pygments_lexer": "ipython2",
   "version": "2.7.6"
  }
 },
 "nbformat": 4,
 "nbformat_minor": 5
}
