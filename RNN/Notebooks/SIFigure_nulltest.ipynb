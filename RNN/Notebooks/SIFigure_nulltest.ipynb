{
 "cells": [
  {
   "cell_type": "code",
   "execution_count": 1,
   "id": "initial_id",
   "metadata": {
    "collapsed": true,
    "ExecuteTime": {
     "end_time": "2025-03-11T18:05:11.456776Z",
     "start_time": "2025-03-11T18:05:11.399498Z"
    }
   },
   "outputs": [
    {
     "name": "stdout",
     "output_type": "stream",
     "text": [
      "/Users/cl1704/PycharmProjects/clustering_in_rnns\n"
     ]
    }
   ],
   "source": [
    "cd /Users/cl1704/PycharmProjects/clustering_in_rnns"
   ]
  },
  {
   "cell_type": "code",
   "outputs": [],
   "source": [
    "\n",
    "from Experiment_1.TwoAFCTask import generate_trials\n",
    "from Experiment_1.net import *\n",
    "import pandas as pd\n",
    "from scipy.stats import ortho_group\n",
    "from sklearn.discriminant_analysis import LinearDiscriminantAnalysis\n",
    "\n",
    "import matplotlib\n",
    "import matplotlib.pyplot as plt\n",
    "from matplotlib import gridspec\n",
    "import seaborn as sns\n",
    "import os\n",
    "import scipy.optimize as opt\n",
    "import math\n",
    "#from psychometrics import *\n",
    "from sklearn.cluster import DBSCAN\n",
    "from sklearn.decomposition import PCA\n",
    "import networkx as nx\n",
    "from sklearn.cluster import KMeans\n",
    "from scipy.stats import special_ortho_group\n",
    "plt.rcParams[\"axes.grid\"] = False\n",
    "matplotlib.rcParams['axes.linewidth'] = 1"
   ],
   "metadata": {
    "collapsed": false,
    "ExecuteTime": {
     "end_time": "2025-03-11T18:05:12.309074Z",
     "start_time": "2025-03-11T18:05:11.436991Z"
    }
   },
   "id": "e7c76059400186ad",
   "execution_count": 2
  },
  {
   "cell_type": "code",
   "outputs": [],
   "source": [
    "def compute_var(variance,n):\n",
    "    return np.sum(variance[n:])"
   ],
   "metadata": {
    "collapsed": false,
    "ExecuteTime": {
     "end_time": "2025-03-11T18:05:14.040691Z",
     "start_time": "2025-03-11T18:05:14.033825Z"
    }
   },
   "id": "339517937d01faf1",
   "execution_count": 3
  },
  {
   "cell_type": "code",
   "outputs": [],
   "source": [
    "df_list = []\n",
    "for filename in os.listdir('Experiment_1/Results_1'):\n",
    "    f = os.path.join('Experiment_1/Results_1', filename)\n",
    "    if os.path.isfile(f):\n",
    "        df_list.append(pd.read_pickle(f))\n",
    "original_df = pd.concat(df_list,ignore_index=True) \n",
    "original_df = original_df[original_df.mse_z<.035]\n",
    "original_df = original_df[original_df.lambda_std==0.1]\n",
    "original_df = original_df[original_df.activity_std<.01]\n",
    "original_df = original_df[original_df.sigma_rec==0.1]\n",
    "\n",
    "# Trial data for simulations\n",
    "u, z, mask, conditions  = generate_trials(\n",
    "                                    n_trials=25)\n",
    "palette = sns.color_palette(\"husl\", n_colors=50,as_cmap=False)\n",
    "\n",
    "\n",
    "\n",
    "\n",
    "# Load data for row\n",
    "df =original_df.copy()\n",
    "dim = 2\n",
    "k=2\n",
    "df  = df[df.dim==dim]\n",
    "df = df[df.k>=dim]\n",
    "df['k_inertia'] = df.inertia.apply(lambda x: x[k-1])\n",
    "df['var'] = df.variance.apply(lambda x: compute_var(x,dim))\n",
    "#df['var'] = np.log(df['var'])\n",
    "df = df.sort_values('var',ascending=True)\n",
    "#bins = np.linspace(-3,-.75,9)\n",
    "\n",
    "# \n"
   ],
   "metadata": {
    "collapsed": false,
    "ExecuteTime": {
     "end_time": "2025-03-11T18:24:13.257085Z",
     "start_time": "2025-03-11T18:24:12.701933Z"
    }
   },
   "id": "f7b66ece72b5bc44",
   "execution_count": 42
  },
  {
   "cell_type": "code",
   "outputs": [
    {
     "name": "stdout",
     "output_type": "stream",
     "text": [
      "7873    2\n",
      "Name: k, dtype: int64\n"
     ]
    },
    {
     "data": {
      "text/plain": "<Figure size 700x75 with 7 Axes>",
      "image/png": "[encoded data removed]"
     },
     "metadata": {},
     "output_type": "display_data"
    }
   ],
   "source": [
    "\n",
    "model_id = df.model_id.values[0]\n",
    "#model_id  = df[ (df['mean'] ==bin_means[col] )].sort_values('var')['model_id'].values[1]\n",
    "model_data = df[df.model_id==model_id]\n",
    "print(model_data['k'])\n",
    "# Simulate model\n",
    "net = Net(n=100,input_size = 2,dale=False)\n",
    "net.recurrent_layer.weight.data = torch.tensor(model_data['w_rec'].item())\n",
    "net.recurrent_layer.bias.data = torch.tensor(model_data['bias'].item())\n",
    "net.input_layer.weight.data = torch.tensor(model_data['w_in'].item())\n",
    "net.output_layer.weight.data = torch.tensor(model_data['w_out'].item())\n",
    "net.sigma_in=0.1\n",
    "palette = sns.color_palette(\"husl\", n_colors=50,as_cmap=False)\n",
    "x = net(u)\n",
    "x = x - torch.mean(x,dim=(0,1),keepdims=True)\n",
    "pca = PCA()\n",
    "pca.fit(x[:,:,:].detach().numpy().reshape(-1, x.shape[2]))\n",
    "\n",
    "n_steps = 7\n",
    "dim = 10\n",
    "fig = plt.figure(figsize=(7,.75))\n",
    "gs = gridspec.GridSpec(1,7,wspace=.5)\n",
    "\n",
    "#bins = [0,.025,.05,.1,.2,.3,.4,.5,.6]\n",
    "a0 = np.zeros((dim,dim))\n",
    "a1 = .4*np.random.rand(dim,dim)\n",
    "skew_0 = (a0 - a0.T) / 2\n",
    "skew_1 = (a1 - a1.T) / 2\n",
    "for col in range(n_steps):\n",
    "    # Create axis\n",
    "    ax=fig.add_subplot(gs[0,col])\n",
    "    \n",
    "    # One parameter family of rotations\n",
    "    \n",
    "    params = np.linspace(0,1,n_steps)\n",
    "    skew = skew_0 + params[col]*(skew_1-skew_0)\n",
    "    eye = np.eye(dim)\n",
    "    o = (eye - skew) @ np.linalg.inv(eye + skew)\n",
    "    o = pca.components_[:dim,:].T @ o @ pca.components_[:dim,:]\n",
    "    x_rot =  x @ torch.tensor(o).float()\n",
    "    x_proj = pca.transform(x_rot.detach().numpy().reshape(-1, x.shape[2])).reshape(x.shape[0],x.shape[1],100)\n",
    "            \n",
    "    #rot = ortho_group.rvs(3)\n",
    "    \n",
    "    rows = []\n",
    "    for k in range(u.shape[0]):\n",
    "        for t in range(u.shape[1]):\n",
    "            rows.append({'trial':k,\n",
    "                         'motion':conditions[k]['motion_coh'],\n",
    "                        't':t,\n",
    "                        'z_1':x_proj[k,t,0],\n",
    "                        'z_2':x_proj[k,t,1],\n",
    "                         'z_3':x_proj[k,t,2]})\n",
    "    new_df = pd.DataFrame(rows)\n",
    "    new_df_mean =new_df.groupby(['motion','t']).mean().reset_index()\n",
    "    \n",
    "    # new_df =new_df\n",
    "    # sns.scatterplot(data=new_df[new_df.t==74],x='z_1',y='z_2',hue='motion',ax=ax,legend=False,s=.5,alpha=.1,palette = palette,edgecolor=None)\n",
    "    # \n",
    "    # sns.scatterplot(data=new_df_mean[new_df_mean.t==74],x='z_1',y='z_2',hue='motion',ax=ax,legend=False,s=1,alpha=1,palette = palette,edgecolor=None)\n",
    "    palette = sns.husl_palette(n_colors = 50,s=1)\n",
    "    # sns.scatterplot(data=new_df,x='z_1',y='z_2',hue='t',ax=ax,legend=False,s=1,alpha=1,palette = sns.blend_palette([\"lightgray\", \"gray\"], as_cmap=True),edgecolor=None)\n",
    "    sns.scatterplot(data=new_df_mean,x='z_1',y='z_2',hue='t',ax=ax,legend=False,s=.75,alpha=1,palette = sns.light_palette(\"gray\",as_cmap=True),edgecolor=None)\n",
    "    sns.scatterplot(data=new_df_mean[new_df_mean.t>70],x='z_1',y='z_2',hue='motion',ax=ax,legend=False,s=2,alpha=1,palette = palette,edgecolor=None)\n",
    "    sns.scatterplot(data=new_df[new_df.t>70],x='z_1',y='z_2',hue='motion',ax=ax,legend=False,s=.25,alpha=.5,palette = palette,edgecolor=None)\n",
    "\n",
    "    \n",
    "    # Make axis pretty\n",
    "    ax.spines['right'].set_visible(False)\n",
    "    ax.spines['top'].set_visible(False)\n",
    "    ax.spines['left'].set_visible(False)\n",
    "    ax.spines['bottom'].set_visible(False)\n",
    "    ax.axes.get_xaxis().set_visible(False)\n",
    "    ax.axes.get_yaxis().set_visible(False)\n",
    "    ax.set_xlabel(\"PC 1\",fontsize=6)\n",
    "    ax.set_ylabel(\"PC 2\",fontsize=6)\n",
    "    #ax.set_title(r'$\\sum_{i\\geq 2}\\lambda_i = $'+str(np.round(variance,4)),fontsize=8)\n",
    "    ax.xaxis.set_tick_params(labelsize=6,bottom=False)\n",
    "    ax.yaxis.set_tick_params(labelsize=6,left=False)\n",
    "    ax.spines['left'].set_color('black')\n",
    "    ax.spines['bottom'].set_color('black')\n",
    "    #ax.set_xlim(-1,1)\n",
    "    #ax.set_ylim(-1,1)\n",
    " #    if row ==0:\n",
    "     #        ax.text(.5,-.2,r'$\\sum_{i>2}\\lambda_i=$'+' '+str(np.round(np.sum(pca.explained_variance_ratio_[row+2:]),3)), horizontalalignment='center',\n",
    "     # verticalalignment='center', transform=ax.transAxes,fontsize = 4)\n",
    "     #    if row ==1:\n",
    "     #        ax.text(.5,-.2,r'$\\sum_{i>3}\\lambda_i=$'+' '+str(np.round(np.sum(pca.explained_variance_ratio_[row+2:]),3)), horizontalalignment='center',\n",
    "     # verticalalignment='center', transform=ax.transAxes,fontsize = 4)\n",
    "     #    if row == 2:\n",
    "     #        ax.text(.5,-.2,r'$\\sum_{i>4}\\lambda_i=$'+' '+str(np.round(np.sum(pca.explained_variance_ratio_[row+2:]),3)), horizontalalignment='center',\n",
    "     # verticalalignment='center', transform=ax.transAxes,fontsize = 4)\n",
    "        \n",
    "fig.savefig('Figures/SIFig_2afcmanifolds.jpg',\n",
    "    format='jpeg',\n",
    "    dpi=450,\n",
    "            bbox_inches='tight')\n"
   ],
   "metadata": {
    "collapsed": false,
    "ExecuteTime": {
     "end_time": "2025-03-11T18:31:46.695704Z",
     "start_time": "2025-03-11T18:31:43.231659Z"
    }
   },
   "id": "55e5a52fd2debff7",
   "execution_count": 66
  },
  {
   "cell_type": "code",
   "outputs": [
    {
     "name": "stdout",
     "output_type": "stream",
     "text": [
      "0.0001756365038617782\n",
      "0.003605678040065101\n",
      "0.013325044937004564\n",
      "0.02894351782031429\n",
      "0.04989351505933106\n",
      "0.06944093406491295\n",
      "0.09137686361695987\n"
     ]
    },
    {
     "data": {
      "text/plain": "<Figure size 700x75 with 7 Axes>",
      "image/png": "[encoded data removed]"
     },
     "metadata": {},
     "output_type": "display_data"
    }
   ],
   "source": [
    "fig = plt.figure(figsize=(7,.75))\n",
    "gs = gridspec.GridSpec(1,n_steps,wspace = .5)\n",
    "\n",
    "#bins = [0,.025,.05,.1,.2,.3,.4,.5,.6]\n",
    "for col in range(n_steps):\n",
    "    # Create axis\n",
    "    ax=fig.add_subplot(gs[0,col])\n",
    "    \n",
    "    # One parameter family of rotations\n",
    "    a0 = np.zeros((dim,dim))\n",
    "    #a1 = .1*np.random.rand(dim,dim)\n",
    "    skew_0 = (a0 - a0.T) / 2\n",
    "    skew_1 = (a1 - a1.T) / 2\n",
    "    params = np.linspace(0,1,n_steps)\n",
    "    skew = skew_0 + params[col]*(skew_1-skew_0)\n",
    "    eye = np.eye(dim)\n",
    "    o = (eye - skew) @ np.linalg.inv(eye + skew)\n",
    "    o = pca.components_[:dim,:].T @ o @ pca.components_[:dim,:]\n",
    "    x_rot =  x @ torch.tensor(o).float()\n",
    "    x_rot =x_rot.detach().cpu().numpy()\n",
    "   # x_proj = pca.transform(x.detach().numpy().reshape(-1, x.shape[2])).reshape(x.shape[0],x.shape[1],3)\n",
    "    rows = []\n",
    "    for k in range(u.shape[0]):\n",
    "        rows.append({'trial': k,\n",
    "                     'motion': conditions[k]['motion_coh'],\n",
    "                     'response': x_rot[k, :, :]})\n",
    "    new_df = pd.DataFrame(rows)\n",
    "    new_df = new_df.groupby(['motion']).response.apply(lambda r: np.mean(np.stack(r), axis=0)).reset_index()\n",
    "    \n",
    "    #df = df.groupby('motion').response.apply(lambda r: np.mean(np.stack(r), axis=0)).reset_index()\n",
    "    responses = np.stack(new_df.response.values)\n",
    "    responses = responses.reshape(-1, responses.shape[2]).T\n",
    "    \n",
    "    #responses = responses[np.mean(responses, axis=1) >.15, :]\n",
    "    \n",
    "    # z_score\n",
    "    # responses = (responses - np.mean(responses, axis=1, keepdims=True)) / np.std(responses, axis=1, keepdims=True)\n",
    "    # responses = responses[~np.isnan(responses).any(axis=1)]\n",
    "    \n",
    "    \n",
    "    \n",
    "    #responses = .001 * (2*np.random.rand(responses.shape[0],responses.shape[1])-1)\n",
    "    total_variance = np.sum((responses.T - np.mean(responses.T, axis=0, keepdims=True)) ** 2)\n",
    "\n",
    "    clustering = KMeans(n_clusters=2,n_init='auto').fit(responses)\n",
    "    labels  = clustering.labels_\n",
    "    print(clustering.inertia_/total_variance)\n",
    "\n",
    "    #responses  = responses + .5*(2*np.random.rand(responses.shape[0],responses.shape[1])-1)\n",
    "    \n",
    "    X = responses\n",
    "    y = labels\n",
    "   # lda = LinearDiscriminantAnalysis(solver='eigen',  shrinkage=9e-1)\n",
    "    lda = PCA()\n",
    "    # parameters = {'tol':10**np.linspace(-2,-.5,25)}\n",
    "    # from sklearn.model_selection import GridSearchCV\n",
    "    # clf = GridSearchCV(lda, parameters,refit=True,error_score = np.nan,cv=5)\n",
    "    # clf.fit(X, y)\n",
    "    # lda = clf.best_estimator_\n",
    "    x_proj = lda.fit_transform(X)\n",
    "    \n",
    "\n",
    "        \n",
    "    centers_proj = lda.transform(clustering.cluster_centers_)\n",
    "    #scale = np.sum(PCA().fit(centers_proj).explained_variance_[:2])/100\n",
    "   \n",
    "    \n",
    "    \n",
    "    #x_proj = x_proj + 1*(2*np.random.rand(x_proj.shape[0],x_proj.shape[1])-1)\n",
    "    network_pal = sns.husl_palette(pd.Series(np.sort(labels)).unique().size,s=1)\n",
    "    \n",
    "    lut = dict(zip(pd.Series(np.sort(labels)).unique(),network_pal))\n",
    "    row_colors = pd.Series(np.sort(labels)).map(lut)\n",
    "    \n",
    "    sns.scatterplot(x=x_proj[np.argsort(labels), 0], y=x_proj[np.argsort(labels), 1], color='gray',s=1,alpha=1,ax=ax,edgecolor=None)\n",
    "    sns.scatterplot(x=centers_proj[:, 0], y=centers_proj[:, 1], color='k',s=3,alpha=1,ax=ax,edgecolor=None)\n",
    "    ax.spines['right'].set_visible(False)\n",
    "    ax.spines['top'].set_visible(False)\n",
    "    ax.spines['left'].set_visible(False)\n",
    "    ax.spines['bottom'].set_visible(False)\n",
    "    ax.axes.get_xaxis().set_visible(False)\n",
    "    ax.axes.get_yaxis().set_visible(False)\n",
    "    ax.set_xlabel(\"PC 1\",fontsize=6)\n",
    "    ax.set_ylabel(\"PC 2\",fontsize=6)\n",
    "    #ax.set_title(r'$\\sum_{i\\geq 2}\\lambda_i = $'+str(np.round(variance,4)),fontsize=8)\n",
    "    #ax.xaxis.set_tick_params(labelsize=6,bottom=False)\n",
    "    #ax.yaxis.set_tick_params(labelsize=6,left=False)\n",
    "    ax.spines['left'].set_color('black')\n",
    "    ax.spines['bottom'].set_color('black')\n",
    "    #ax.set_aspect('equal', adjustable='box')\n",
    "    #ax.set_xlim(-5,5)\n",
    "    #ax.set_ylim(-1,1)\n",
    "    fig.savefig('Figures/SIFig_2afcmanifolds_2.jpg',\n",
    "    format='jpeg',\n",
    "    dpi=450,\n",
    "            bbox_inches='tight')"
   ],
   "metadata": {
    "collapsed": false,
    "ExecuteTime": {
     "end_time": "2025-03-11T18:32:11.374455Z",
     "start_time": "2025-03-11T18:32:09.790901Z"
    }
   },
   "id": "40491eebf8807e2f",
   "execution_count": 69
  },
  {
   "cell_type": "code",
   "outputs": [
    {
     "data": {
      "text/plain": "(100, 675)"
     },
     "execution_count": 53,
     "metadata": {},
     "output_type": "execute_result"
    }
   ],
   "source": [
    "responses.shape"
   ],
   "metadata": {
    "collapsed": false,
    "ExecuteTime": {
     "end_time": "2025-01-23T21:47:29.171391Z",
     "start_time": "2025-01-23T21:47:29.168279Z"
    }
   },
   "id": "734820b2750b3a55",
   "execution_count": 53
  },
  {
   "cell_type": "code",
   "outputs": [
    {
     "data": {
      "text/plain": "-0.125"
     },
     "execution_count": 51,
     "metadata": {},
     "output_type": "execute_result"
    }
   ],
   "source": [
    "conditions[k]['motion_coh']"
   ],
   "metadata": {
    "collapsed": false,
    "ExecuteTime": {
     "end_time": "2025-01-23T21:44:20.851537Z",
     "start_time": "2025-01-23T21:44:20.845333Z"
    }
   },
   "id": "e3eafda77bb46f83",
   "execution_count": 51
  },
  {
   "cell_type": "code",
   "outputs": [
    {
     "data": {
      "text/plain": "     trial  motion                                           response\n0        0  0.0625  [[0.0, 0.0, 0.0, 0.0, 0.0, 0.0, 0.0, 0.0, 0.0,...\n1        1  0.0000  [[0.0, 0.0, 0.0, 0.0, 0.0, 0.0, 0.0, 0.0, 0.0,...\n2        2 -0.2500  [[0.0, 0.0, 0.0, 0.0, 0.0, 0.0, 0.0, 0.0, 0.0,...\n3        3  0.0625  [[0.0, 0.0, 0.0, 0.0, 0.0, 0.0, 0.0, 0.0, 0.0,...\n4        4  0.0625  [[0.0, 0.0, 0.0, 0.0, 0.0, 0.0, 0.0, 0.0, 0.0,...\n..     ...     ...                                                ...\n895    895  0.1250  [[0.0, 0.0, 0.0, 0.0, 0.0, 0.0, 0.0, 0.0, 0.0,...\n896    896 -0.2500  [[0.0, 0.0, 0.0, 0.0, 0.0, 0.0, 0.0, 0.0, 0.0,...\n897    897 -0.2500  [[0.0, 0.0, 0.0, 0.0, 0.0, 0.0, 0.0, 0.0, 0.0,...\n898    898 -0.2500  [[0.0, 0.0, 0.0, 0.0, 0.0, 0.0, 0.0, 0.0, 0.0,...\n899    899 -0.1250  [[0.0, 0.0, 0.0, 0.0, 0.0, 0.0, 0.0, 0.0, 0.0,...\n\n[900 rows x 3 columns]",
      "text/html": "<div>\n<style scoped>\n    .dataframe tbody tr th:only-of-type {\n        vertical-align: middle;\n    }\n\n    .dataframe tbody tr th {\n        vertical-align: top;\n    }\n\n    .dataframe thead th {\n        text-align: right;\n    }\n</style>\n<table border=\"1\" class=\"dataframe\">\n  <thead>\n    <tr style=\"text-align: right;\">\n      <th></th>\n      <th>trial</th>\n      <th>motion</th>\n      <th>response</th>\n    </tr>\n  </thead>\n  <tbody>\n    <tr>\n      <th>0</th>\n      <td>0</td>\n      <td>0.0625</td>\n      <td>[[0.0, 0.0, 0.0, 0.0, 0.0, 0.0, 0.0, 0.0, 0.0,...</td>\n    </tr>\n    <tr>\n      <th>1</th>\n      <td>1</td>\n      <td>0.0000</td>\n      <td>[[0.0, 0.0, 0.0, 0.0, 0.0, 0.0, 0.0, 0.0, 0.0,...</td>\n    </tr>\n    <tr>\n      <th>2</th>\n      <td>2</td>\n      <td>-0.2500</td>\n      <td>[[0.0, 0.0, 0.0, 0.0, 0.0, 0.0, 0.0, 0.0, 0.0,...</td>\n    </tr>\n    <tr>\n      <th>3</th>\n      <td>3</td>\n      <td>0.0625</td>\n      <td>[[0.0, 0.0, 0.0, 0.0, 0.0, 0.0, 0.0, 0.0, 0.0,...</td>\n    </tr>\n    <tr>\n      <th>4</th>\n      <td>4</td>\n      <td>0.0625</td>\n      <td>[[0.0, 0.0, 0.0, 0.0, 0.0, 0.0, 0.0, 0.0, 0.0,...</td>\n    </tr>\n    <tr>\n      <th>...</th>\n      <td>...</td>\n      <td>...</td>\n      <td>...</td>\n    </tr>\n    <tr>\n      <th>895</th>\n      <td>895</td>\n      <td>0.1250</td>\n      <td>[[0.0, 0.0, 0.0, 0.0, 0.0, 0.0, 0.0, 0.0, 0.0,...</td>\n    </tr>\n    <tr>\n      <th>896</th>\n      <td>896</td>\n      <td>-0.2500</td>\n      <td>[[0.0, 0.0, 0.0, 0.0, 0.0, 0.0, 0.0, 0.0, 0.0,...</td>\n    </tr>\n    <tr>\n      <th>897</th>\n      <td>897</td>\n      <td>-0.2500</td>\n      <td>[[0.0, 0.0, 0.0, 0.0, 0.0, 0.0, 0.0, 0.0, 0.0,...</td>\n    </tr>\n    <tr>\n      <th>898</th>\n      <td>898</td>\n      <td>-0.2500</td>\n      <td>[[0.0, 0.0, 0.0, 0.0, 0.0, 0.0, 0.0, 0.0, 0.0,...</td>\n    </tr>\n    <tr>\n      <th>899</th>\n      <td>899</td>\n      <td>-0.1250</td>\n      <td>[[0.0, 0.0, 0.0, 0.0, 0.0, 0.0, 0.0, 0.0, 0.0,...</td>\n    </tr>\n  </tbody>\n</table>\n<p>900 rows × 3 columns</p>\n</div>"
     },
     "execution_count": 50,
     "metadata": {},
     "output_type": "execute_result"
    }
   ],
   "source": [
    "model_df"
   ],
   "metadata": {
    "collapsed": false,
    "ExecuteTime": {
     "end_time": "2025-01-23T21:43:45.349709Z",
     "start_time": "2025-01-23T21:43:45.207560Z"
    }
   },
   "id": "7c1400c656944d5d",
   "execution_count": 50
  },
  {
   "cell_type": "code",
   "outputs": [
    {
     "data": {
      "text/plain": "[{'motion_coh': -1.0, 'correct_choice': -1},\n {'motion_coh': -1.0, 'correct_choice': -1},\n {'motion_coh': 0.0625, 'correct_choice': 1},\n {'motion_coh': 0.0, 'correct_choice': -1},\n {'motion_coh': 1.0, 'correct_choice': 1},\n {'motion_coh': 0.125, 'correct_choice': 1},\n {'motion_coh': -0.0625, 'correct_choice': -1},\n {'motion_coh': -0.125, 'correct_choice': -1},\n {'motion_coh': 1.0, 'correct_choice': 1},\n {'motion_coh': -1.0, 'correct_choice': -1},\n {'motion_coh': 0.25, 'correct_choice': 1},\n {'motion_coh': 0.0, 'correct_choice': -1},\n {'motion_coh': -0.0625, 'correct_choice': -1},\n {'motion_coh': 1.0, 'correct_choice': 1},\n {'motion_coh': -0.0625, 'correct_choice': -1},\n {'motion_coh': -1.0, 'correct_choice': -1},\n {'motion_coh': 1.0, 'correct_choice': 1},\n {'motion_coh': 0.25, 'correct_choice': 1},\n {'motion_coh': -0.25, 'correct_choice': -1},\n {'motion_coh': 0.125, 'correct_choice': 1},\n {'motion_coh': -0.25, 'correct_choice': -1},\n {'motion_coh': -0.0625, 'correct_choice': -1},\n {'motion_coh': -0.25, 'correct_choice': -1},\n {'motion_coh': 0.25, 'correct_choice': 1},\n {'motion_coh': 0.0625, 'correct_choice': 1},\n {'motion_coh': -1.0, 'correct_choice': -1},\n {'motion_coh': 0.0625, 'correct_choice': 1},\n {'motion_coh': -1.0, 'correct_choice': -1},\n {'motion_coh': 0.125, 'correct_choice': 1},\n {'motion_coh': 0.125, 'correct_choice': 1},\n {'motion_coh': 0.25, 'correct_choice': 1},\n {'motion_coh': -0.25, 'correct_choice': -1},\n {'motion_coh': 0.0625, 'correct_choice': 1},\n {'motion_coh': 0.125, 'correct_choice': 1},\n {'motion_coh': -0.25, 'correct_choice': -1},\n {'motion_coh': -0.25, 'correct_choice': -1},\n {'motion_coh': 0.25, 'correct_choice': 1},\n {'motion_coh': -1.0, 'correct_choice': -1},\n {'motion_coh': 0.25, 'correct_choice': 1},\n {'motion_coh': 0.0, 'correct_choice': -1},\n {'motion_coh': 0.0625, 'correct_choice': 1},\n {'motion_coh': -0.25, 'correct_choice': -1},\n {'motion_coh': 0.0625, 'correct_choice': 1},\n {'motion_coh': 0.0625, 'correct_choice': 1},\n {'motion_coh': 0.0625, 'correct_choice': 1},\n {'motion_coh': 0.125, 'correct_choice': 1},\n {'motion_coh': 1.0, 'correct_choice': 1},\n {'motion_coh': -0.0625, 'correct_choice': -1},\n {'motion_coh': -1.0, 'correct_choice': -1},\n {'motion_coh': -0.125, 'correct_choice': -1},\n {'motion_coh': 1.0, 'correct_choice': 1},\n {'motion_coh': 0.0, 'correct_choice': -1},\n {'motion_coh': 0.0, 'correct_choice': -1},\n {'motion_coh': -0.25, 'correct_choice': -1},\n {'motion_coh': -1.0, 'correct_choice': -1},\n {'motion_coh': -0.25, 'correct_choice': -1},\n {'motion_coh': -1.0, 'correct_choice': -1},\n {'motion_coh': -0.25, 'correct_choice': -1},\n {'motion_coh': 0.125, 'correct_choice': 1},\n {'motion_coh': 0.25, 'correct_choice': 1},\n {'motion_coh': 0.125, 'correct_choice': 1},\n {'motion_coh': -0.125, 'correct_choice': -1},\n {'motion_coh': 0.0625, 'correct_choice': 1},\n {'motion_coh': 0.0, 'correct_choice': -1},\n {'motion_coh': -1.0, 'correct_choice': -1},\n {'motion_coh': 0.125, 'correct_choice': 1},\n {'motion_coh': -0.25, 'correct_choice': -1},\n {'motion_coh': -0.0625, 'correct_choice': -1},\n {'motion_coh': 1.0, 'correct_choice': 1},\n {'motion_coh': 0.0625, 'correct_choice': 1},\n {'motion_coh': 0.25, 'correct_choice': 1},\n {'motion_coh': -1.0, 'correct_choice': -1},\n {'motion_coh': -1.0, 'correct_choice': -1},\n {'motion_coh': 0.0625, 'correct_choice': 1},\n {'motion_coh': -1.0, 'correct_choice': -1},\n {'motion_coh': -0.125, 'correct_choice': -1},\n {'motion_coh': 0.0, 'correct_choice': -1},\n {'motion_coh': -0.0625, 'correct_choice': -1},\n {'motion_coh': -0.0625, 'correct_choice': -1},\n {'motion_coh': -0.0625, 'correct_choice': -1},\n {'motion_coh': 0.25, 'correct_choice': 1},\n {'motion_coh': -0.0625, 'correct_choice': -1},\n {'motion_coh': -0.25, 'correct_choice': -1},\n {'motion_coh': -0.125, 'correct_choice': -1},\n {'motion_coh': 0.0, 'correct_choice': -1},\n {'motion_coh': -1.0, 'correct_choice': -1},\n {'motion_coh': -0.125, 'correct_choice': -1},\n {'motion_coh': 0.0625, 'correct_choice': 1},\n {'motion_coh': 0.0, 'correct_choice': -1},\n {'motion_coh': -0.0625, 'correct_choice': -1},\n {'motion_coh': 0.125, 'correct_choice': 1},\n {'motion_coh': -0.0625, 'correct_choice': -1},\n {'motion_coh': -0.25, 'correct_choice': -1},\n {'motion_coh': -1.0, 'correct_choice': -1},\n {'motion_coh': 0.0625, 'correct_choice': 1},\n {'motion_coh': 0.0625, 'correct_choice': 1},\n {'motion_coh': 0.125, 'correct_choice': 1},\n {'motion_coh': 0.0625, 'correct_choice': 1},\n {'motion_coh': 0.0625, 'correct_choice': 1},\n {'motion_coh': 0.25, 'correct_choice': 1},\n {'motion_coh': 0.25, 'correct_choice': 1},\n {'motion_coh': 0.0625, 'correct_choice': 1},\n {'motion_coh': 0.125, 'correct_choice': 1},\n {'motion_coh': 1.0, 'correct_choice': 1},\n {'motion_coh': -0.125, 'correct_choice': -1},\n {'motion_coh': -0.125, 'correct_choice': -1},\n {'motion_coh': -0.25, 'correct_choice': -1},\n {'motion_coh': -1.0, 'correct_choice': -1},\n {'motion_coh': 0.0625, 'correct_choice': 1},\n {'motion_coh': -0.0625, 'correct_choice': -1},\n {'motion_coh': 1.0, 'correct_choice': 1},\n {'motion_coh': 0.0, 'correct_choice': -1},\n {'motion_coh': 0.25, 'correct_choice': 1},\n {'motion_coh': 0.25, 'correct_choice': 1},\n {'motion_coh': -0.125, 'correct_choice': -1},\n {'motion_coh': 0.25, 'correct_choice': 1},\n {'motion_coh': 0.0, 'correct_choice': -1},\n {'motion_coh': -1.0, 'correct_choice': -1},\n {'motion_coh': 1.0, 'correct_choice': 1},\n {'motion_coh': 0.125, 'correct_choice': 1},\n {'motion_coh': 0.0625, 'correct_choice': 1},\n {'motion_coh': 0.25, 'correct_choice': 1},\n {'motion_coh': 0.125, 'correct_choice': 1},\n {'motion_coh': 0.25, 'correct_choice': 1},\n {'motion_coh': -1.0, 'correct_choice': -1},\n {'motion_coh': -0.25, 'correct_choice': -1},\n {'motion_coh': 1.0, 'correct_choice': 1},\n {'motion_coh': 0.25, 'correct_choice': 1},\n {'motion_coh': 0.0625, 'correct_choice': 1},\n {'motion_coh': -0.125, 'correct_choice': -1},\n {'motion_coh': 1.0, 'correct_choice': 1},\n {'motion_coh': 1.0, 'correct_choice': 1},\n {'motion_coh': -1.0, 'correct_choice': -1},\n {'motion_coh': 0.25, 'correct_choice': 1},\n {'motion_coh': -0.0625, 'correct_choice': -1},\n {'motion_coh': 1.0, 'correct_choice': 1},\n {'motion_coh': 0.0625, 'correct_choice': 1},\n {'motion_coh': 0.0625, 'correct_choice': 1},\n {'motion_coh': -0.125, 'correct_choice': -1},\n {'motion_coh': -0.125, 'correct_choice': -1},\n {'motion_coh': -0.125, 'correct_choice': -1},\n {'motion_coh': -0.25, 'correct_choice': -1},\n {'motion_coh': -0.0625, 'correct_choice': -1},\n {'motion_coh': 0.0625, 'correct_choice': 1},\n {'motion_coh': -0.25, 'correct_choice': -1},\n {'motion_coh': -1.0, 'correct_choice': -1},\n {'motion_coh': 0.125, 'correct_choice': 1},\n {'motion_coh': 0.125, 'correct_choice': 1},\n {'motion_coh': 0.0625, 'correct_choice': 1},\n {'motion_coh': -0.0625, 'correct_choice': -1},\n {'motion_coh': 0.125, 'correct_choice': 1},\n {'motion_coh': 0.0, 'correct_choice': -1},\n {'motion_coh': 0.0, 'correct_choice': -1},\n {'motion_coh': 0.0, 'correct_choice': -1},\n {'motion_coh': 0.125, 'correct_choice': 1},\n {'motion_coh': -0.0625, 'correct_choice': -1},\n {'motion_coh': 1.0, 'correct_choice': 1},\n {'motion_coh': 0.0, 'correct_choice': -1},\n {'motion_coh': -0.0625, 'correct_choice': -1},\n {'motion_coh': 1.0, 'correct_choice': 1},\n {'motion_coh': 0.25, 'correct_choice': 1},\n {'motion_coh': 0.25, 'correct_choice': 1},\n {'motion_coh': -0.125, 'correct_choice': -1},\n {'motion_coh': 0.25, 'correct_choice': 1},\n {'motion_coh': -0.0625, 'correct_choice': -1},\n {'motion_coh': -0.25, 'correct_choice': -1},\n {'motion_coh': -0.25, 'correct_choice': -1},\n {'motion_coh': -1.0, 'correct_choice': -1},\n {'motion_coh': 1.0, 'correct_choice': 1},\n {'motion_coh': 1.0, 'correct_choice': 1},\n {'motion_coh': 0.0, 'correct_choice': -1},\n {'motion_coh': 0.25, 'correct_choice': 1},\n {'motion_coh': 0.125, 'correct_choice': 1},\n {'motion_coh': 0.0625, 'correct_choice': 1},\n {'motion_coh': 0.0625, 'correct_choice': 1},\n {'motion_coh': 0.125, 'correct_choice': 1},\n {'motion_coh': 0.125, 'correct_choice': 1},\n {'motion_coh': -0.0625, 'correct_choice': -1},\n {'motion_coh': 0.0625, 'correct_choice': 1},\n {'motion_coh': -1.0, 'correct_choice': -1},\n {'motion_coh': 0.0, 'correct_choice': -1},\n {'motion_coh': -0.0625, 'correct_choice': -1},\n {'motion_coh': -1.0, 'correct_choice': -1},\n {'motion_coh': 0.0, 'correct_choice': -1},\n {'motion_coh': 0.125, 'correct_choice': 1},\n {'motion_coh': 0.125, 'correct_choice': 1},\n {'motion_coh': -1.0, 'correct_choice': -1},\n {'motion_coh': 0.0, 'correct_choice': -1},\n {'motion_coh': -0.0625, 'correct_choice': -1},\n {'motion_coh': -0.0625, 'correct_choice': -1},\n {'motion_coh': 0.25, 'correct_choice': 1},\n {'motion_coh': 0.0, 'correct_choice': -1},\n {'motion_coh': 0.125, 'correct_choice': 1},\n {'motion_coh': -0.0625, 'correct_choice': -1},\n {'motion_coh': -0.125, 'correct_choice': -1},\n {'motion_coh': -0.125, 'correct_choice': -1},\n {'motion_coh': 0.25, 'correct_choice': 1},\n {'motion_coh': 0.25, 'correct_choice': 1},\n {'motion_coh': -0.125, 'correct_choice': -1},\n {'motion_coh': -0.25, 'correct_choice': -1},\n {'motion_coh': 0.0625, 'correct_choice': 1},\n {'motion_coh': -0.0625, 'correct_choice': -1},\n {'motion_coh': -0.125, 'correct_choice': -1},\n {'motion_coh': -0.25, 'correct_choice': -1},\n {'motion_coh': -0.125, 'correct_choice': -1},\n {'motion_coh': -0.25, 'correct_choice': -1},\n {'motion_coh': -0.125, 'correct_choice': -1},\n {'motion_coh': 0.125, 'correct_choice': 1},\n {'motion_coh': 0.25, 'correct_choice': 1},\n {'motion_coh': -0.125, 'correct_choice': -1},\n {'motion_coh': 0.0625, 'correct_choice': 1},\n {'motion_coh': 0.0, 'correct_choice': -1},\n {'motion_coh': -0.125, 'correct_choice': -1},\n {'motion_coh': 0.125, 'correct_choice': 1},\n {'motion_coh': 0.0625, 'correct_choice': 1},\n {'motion_coh': -0.0625, 'correct_choice': -1},\n {'motion_coh': 0.25, 'correct_choice': 1},\n {'motion_coh': -1.0, 'correct_choice': -1},\n {'motion_coh': -0.25, 'correct_choice': -1},\n {'motion_coh': 0.125, 'correct_choice': 1},\n {'motion_coh': 1.0, 'correct_choice': 1},\n {'motion_coh': -0.25, 'correct_choice': -1},\n {'motion_coh': -0.125, 'correct_choice': -1},\n {'motion_coh': -0.25, 'correct_choice': -1},\n {'motion_coh': -1.0, 'correct_choice': -1},\n {'motion_coh': 0.25, 'correct_choice': 1},\n {'motion_coh': -0.25, 'correct_choice': -1},\n {'motion_coh': -1.0, 'correct_choice': -1},\n {'motion_coh': -1.0, 'correct_choice': -1},\n {'motion_coh': 0.125, 'correct_choice': 1},\n {'motion_coh': 0.0625, 'correct_choice': 1},\n {'motion_coh': -0.0625, 'correct_choice': -1},\n {'motion_coh': -0.0625, 'correct_choice': -1},\n {'motion_coh': 0.0, 'correct_choice': -1},\n {'motion_coh': -0.0625, 'correct_choice': -1},\n {'motion_coh': -0.125, 'correct_choice': -1},\n {'motion_coh': 1.0, 'correct_choice': 1},\n {'motion_coh': -0.0625, 'correct_choice': -1},\n {'motion_coh': 0.0625, 'correct_choice': 1},\n {'motion_coh': -0.25, 'correct_choice': -1},\n {'motion_coh': -0.25, 'correct_choice': -1},\n {'motion_coh': 0.0, 'correct_choice': -1},\n {'motion_coh': 0.0625, 'correct_choice': 1},\n {'motion_coh': 1.0, 'correct_choice': 1},\n {'motion_coh': -0.125, 'correct_choice': -1},\n {'motion_coh': -0.25, 'correct_choice': -1},\n {'motion_coh': 1.0, 'correct_choice': 1},\n {'motion_coh': -0.0625, 'correct_choice': -1},\n {'motion_coh': -0.125, 'correct_choice': -1},\n {'motion_coh': -0.25, 'correct_choice': -1},\n {'motion_coh': -0.125, 'correct_choice': -1},\n {'motion_coh': 1.0, 'correct_choice': 1},\n {'motion_coh': 0.0625, 'correct_choice': 1},\n {'motion_coh': 1.0, 'correct_choice': 1},\n {'motion_coh': 0.25, 'correct_choice': 1},\n {'motion_coh': -0.125, 'correct_choice': -1},\n {'motion_coh': 0.125, 'correct_choice': 1},\n {'motion_coh': -0.125, 'correct_choice': -1},\n {'motion_coh': 1.0, 'correct_choice': 1},\n {'motion_coh': 1.0, 'correct_choice': 1},\n {'motion_coh': -0.25, 'correct_choice': -1},\n {'motion_coh': -0.0625, 'correct_choice': -1},\n {'motion_coh': 0.125, 'correct_choice': 1},\n {'motion_coh': -0.25, 'correct_choice': -1},\n {'motion_coh': -1.0, 'correct_choice': -1},\n {'motion_coh': 0.125, 'correct_choice': 1},\n {'motion_coh': 0.125, 'correct_choice': 1},\n {'motion_coh': 0.125, 'correct_choice': 1},\n {'motion_coh': 1.0, 'correct_choice': 1},\n {'motion_coh': -0.25, 'correct_choice': -1},\n {'motion_coh': -0.25, 'correct_choice': -1},\n {'motion_coh': -0.125, 'correct_choice': -1},\n {'motion_coh': 0.0625, 'correct_choice': 1},\n {'motion_coh': 0.125, 'correct_choice': 1},\n {'motion_coh': -0.125, 'correct_choice': -1},\n {'motion_coh': 0.0, 'correct_choice': -1},\n {'motion_coh': 0.125, 'correct_choice': 1},\n {'motion_coh': -1.0, 'correct_choice': -1},\n {'motion_coh': -1.0, 'correct_choice': -1},\n {'motion_coh': 0.0625, 'correct_choice': 1},\n {'motion_coh': 1.0, 'correct_choice': 1},\n {'motion_coh': -0.0625, 'correct_choice': -1},\n {'motion_coh': 0.0625, 'correct_choice': 1},\n {'motion_coh': 0.125, 'correct_choice': 1},\n {'motion_coh': 0.125, 'correct_choice': 1},\n {'motion_coh': 0.25, 'correct_choice': 1},\n {'motion_coh': 0.0, 'correct_choice': -1},\n {'motion_coh': 0.0, 'correct_choice': -1},\n {'motion_coh': 1.0, 'correct_choice': 1},\n {'motion_coh': 0.0625, 'correct_choice': 1},\n {'motion_coh': 0.125, 'correct_choice': 1},\n {'motion_coh': 0.0, 'correct_choice': -1},\n {'motion_coh': 0.0625, 'correct_choice': 1},\n {'motion_coh': -1.0, 'correct_choice': -1},\n {'motion_coh': 0.0, 'correct_choice': -1},\n {'motion_coh': -0.125, 'correct_choice': -1},\n {'motion_coh': 0.25, 'correct_choice': 1},\n {'motion_coh': -0.125, 'correct_choice': -1},\n {'motion_coh': 1.0, 'correct_choice': 1},\n {'motion_coh': -0.25, 'correct_choice': -1},\n {'motion_coh': 1.0, 'correct_choice': 1},\n {'motion_coh': 1.0, 'correct_choice': 1},\n {'motion_coh': 0.25, 'correct_choice': 1},\n {'motion_coh': -0.125, 'correct_choice': -1},\n {'motion_coh': 0.25, 'correct_choice': 1},\n {'motion_coh': 1.0, 'correct_choice': 1},\n {'motion_coh': 0.25, 'correct_choice': 1},\n {'motion_coh': -0.125, 'correct_choice': -1},\n {'motion_coh': 0.25, 'correct_choice': 1},\n {'motion_coh': -0.0625, 'correct_choice': -1},\n {'motion_coh': 0.0, 'correct_choice': -1},\n {'motion_coh': 0.25, 'correct_choice': 1},\n {'motion_coh': 0.25, 'correct_choice': 1},\n {'motion_coh': -1.0, 'correct_choice': -1},\n {'motion_coh': 0.25, 'correct_choice': 1},\n {'motion_coh': -0.0625, 'correct_choice': -1},\n {'motion_coh': 1.0, 'correct_choice': 1},\n {'motion_coh': 0.0625, 'correct_choice': 1},\n {'motion_coh': 1.0, 'correct_choice': 1},\n {'motion_coh': -0.125, 'correct_choice': -1},\n {'motion_coh': -0.125, 'correct_choice': -1},\n {'motion_coh': 1.0, 'correct_choice': 1},\n {'motion_coh': -1.0, 'correct_choice': -1},\n {'motion_coh': -0.0625, 'correct_choice': -1},\n {'motion_coh': -0.25, 'correct_choice': -1},\n {'motion_coh': 0.125, 'correct_choice': 1},\n {'motion_coh': 0.125, 'correct_choice': 1},\n {'motion_coh': 0.25, 'correct_choice': 1},\n {'motion_coh': 1.0, 'correct_choice': 1},\n {'motion_coh': 0.0, 'correct_choice': -1},\n {'motion_coh': 0.0625, 'correct_choice': 1},\n {'motion_coh': -0.125, 'correct_choice': -1},\n {'motion_coh': -0.125, 'correct_choice': -1},\n {'motion_coh': 0.0, 'correct_choice': -1},\n {'motion_coh': -0.0625, 'correct_choice': -1},\n {'motion_coh': -0.125, 'correct_choice': -1},\n {'motion_coh': 0.0, 'correct_choice': -1},\n {'motion_coh': -0.0625, 'correct_choice': -1},\n {'motion_coh': -0.25, 'correct_choice': -1},\n {'motion_coh': -0.0625, 'correct_choice': -1},\n {'motion_coh': 0.25, 'correct_choice': 1},\n {'motion_coh': 0.125, 'correct_choice': 1},\n {'motion_coh': -0.0625, 'correct_choice': -1},\n {'motion_coh': -0.125, 'correct_choice': -1},\n {'motion_coh': 0.125, 'correct_choice': 1},\n {'motion_coh': -0.0625, 'correct_choice': -1},\n {'motion_coh': 0.125, 'correct_choice': 1},\n {'motion_coh': -1.0, 'correct_choice': -1},\n {'motion_coh': -1.0, 'correct_choice': -1},\n {'motion_coh': 0.25, 'correct_choice': 1},\n {'motion_coh': 0.0625, 'correct_choice': 1},\n {'motion_coh': 1.0, 'correct_choice': 1},\n {'motion_coh': 0.125, 'correct_choice': 1},\n {'motion_coh': 1.0, 'correct_choice': 1},\n {'motion_coh': -0.125, 'correct_choice': -1},\n {'motion_coh': 1.0, 'correct_choice': 1},\n {'motion_coh': -0.125, 'correct_choice': -1},\n {'motion_coh': -0.125, 'correct_choice': -1},\n {'motion_coh': 0.0, 'correct_choice': -1},\n {'motion_coh': 1.0, 'correct_choice': 1},\n {'motion_coh': 0.0625, 'correct_choice': 1},\n {'motion_coh': 0.25, 'correct_choice': 1},\n {'motion_coh': 1.0, 'correct_choice': 1},\n {'motion_coh': -0.25, 'correct_choice': -1},\n {'motion_coh': 0.25, 'correct_choice': 1},\n {'motion_coh': 0.0, 'correct_choice': -1},\n {'motion_coh': 0.125, 'correct_choice': 1},\n {'motion_coh': -0.125, 'correct_choice': -1},\n {'motion_coh': 0.0625, 'correct_choice': 1},\n {'motion_coh': -0.125, 'correct_choice': -1},\n {'motion_coh': 1.0, 'correct_choice': 1},\n {'motion_coh': -0.25, 'correct_choice': -1},\n {'motion_coh': 0.25, 'correct_choice': 1},\n {'motion_coh': 0.125, 'correct_choice': 1},\n {'motion_coh': -0.125, 'correct_choice': -1},\n {'motion_coh': 0.25, 'correct_choice': 1},\n {'motion_coh': -0.0625, 'correct_choice': -1},\n {'motion_coh': 0.0625, 'correct_choice': 1},\n {'motion_coh': 0.25, 'correct_choice': 1},\n {'motion_coh': -1.0, 'correct_choice': -1},\n {'motion_coh': 0.25, 'correct_choice': 1},\n {'motion_coh': 0.125, 'correct_choice': 1},\n {'motion_coh': -1.0, 'correct_choice': -1},\n {'motion_coh': -0.25, 'correct_choice': -1},\n {'motion_coh': -1.0, 'correct_choice': -1},\n {'motion_coh': 0.25, 'correct_choice': 1},\n {'motion_coh': 0.25, 'correct_choice': 1},\n {'motion_coh': 0.0625, 'correct_choice': 1},\n {'motion_coh': 0.25, 'correct_choice': 1},\n {'motion_coh': -0.125, 'correct_choice': -1},\n {'motion_coh': 0.25, 'correct_choice': 1},\n {'motion_coh': -0.0625, 'correct_choice': -1},\n {'motion_coh': -0.125, 'correct_choice': -1},\n {'motion_coh': -1.0, 'correct_choice': -1},\n {'motion_coh': -1.0, 'correct_choice': -1},\n {'motion_coh': -0.25, 'correct_choice': -1},\n {'motion_coh': 0.0625, 'correct_choice': 1},\n {'motion_coh': -1.0, 'correct_choice': -1},\n {'motion_coh': 0.125, 'correct_choice': 1},\n {'motion_coh': -0.25, 'correct_choice': -1},\n {'motion_coh': 0.0, 'correct_choice': -1},\n {'motion_coh': 0.0625, 'correct_choice': 1},\n {'motion_coh': -1.0, 'correct_choice': -1},\n {'motion_coh': -0.0625, 'correct_choice': -1},\n {'motion_coh': 0.0625, 'correct_choice': 1},\n {'motion_coh': 0.125, 'correct_choice': 1},\n {'motion_coh': -1.0, 'correct_choice': -1},\n {'motion_coh': 1.0, 'correct_choice': 1},\n {'motion_coh': 0.0, 'correct_choice': -1},\n {'motion_coh': -0.0625, 'correct_choice': -1},\n {'motion_coh': 1.0, 'correct_choice': 1},\n {'motion_coh': -0.0625, 'correct_choice': -1},\n {'motion_coh': 0.0, 'correct_choice': -1},\n {'motion_coh': 0.0, 'correct_choice': -1},\n {'motion_coh': -0.125, 'correct_choice': -1},\n {'motion_coh': 0.0, 'correct_choice': -1},\n {'motion_coh': -0.0625, 'correct_choice': -1},\n {'motion_coh': -0.125, 'correct_choice': -1},\n {'motion_coh': -0.0625, 'correct_choice': -1},\n {'motion_coh': 0.0625, 'correct_choice': 1},\n {'motion_coh': 1.0, 'correct_choice': 1},\n {'motion_coh': -0.25, 'correct_choice': -1},\n {'motion_coh': -0.125, 'correct_choice': -1},\n {'motion_coh': 0.125, 'correct_choice': 1},\n {'motion_coh': -0.25, 'correct_choice': -1},\n {'motion_coh': 0.125, 'correct_choice': 1},\n {'motion_coh': -0.125, 'correct_choice': -1},\n {'motion_coh': -1.0, 'correct_choice': -1},\n {'motion_coh': 1.0, 'correct_choice': 1},\n {'motion_coh': 0.0625, 'correct_choice': 1},\n {'motion_coh': 0.25, 'correct_choice': 1},\n {'motion_coh': 0.125, 'correct_choice': 1},\n {'motion_coh': 0.0, 'correct_choice': -1},\n {'motion_coh': 0.0, 'correct_choice': -1},\n {'motion_coh': 1.0, 'correct_choice': 1},\n {'motion_coh': -1.0, 'correct_choice': -1},\n {'motion_coh': 1.0, 'correct_choice': 1},\n {'motion_coh': 0.0, 'correct_choice': -1},\n {'motion_coh': 0.0625, 'correct_choice': 1},\n {'motion_coh': 0.0, 'correct_choice': -1},\n {'motion_coh': 0.125, 'correct_choice': 1},\n {'motion_coh': -0.0625, 'correct_choice': -1},\n {'motion_coh': 0.125, 'correct_choice': 1},\n {'motion_coh': 0.125, 'correct_choice': 1},\n {'motion_coh': 0.0625, 'correct_choice': 1},\n {'motion_coh': -0.25, 'correct_choice': -1},\n {'motion_coh': 0.0625, 'correct_choice': 1},\n {'motion_coh': 0.25, 'correct_choice': 1},\n {'motion_coh': -0.25, 'correct_choice': -1},\n {'motion_coh': 0.25, 'correct_choice': 1},\n {'motion_coh': -0.25, 'correct_choice': -1},\n {'motion_coh': -0.25, 'correct_choice': -1},\n {'motion_coh': 1.0, 'correct_choice': 1},\n {'motion_coh': 1.0, 'correct_choice': 1},\n {'motion_coh': 0.25, 'correct_choice': 1},\n {'motion_coh': -0.125, 'correct_choice': -1},\n {'motion_coh': -1.0, 'correct_choice': -1},\n {'motion_coh': 0.25, 'correct_choice': 1},\n {'motion_coh': 1.0, 'correct_choice': 1},\n {'motion_coh': 1.0, 'correct_choice': 1},\n {'motion_coh': -1.0, 'correct_choice': -1},\n {'motion_coh': 0.25, 'correct_choice': 1},\n {'motion_coh': 0.0, 'correct_choice': -1},\n {'motion_coh': -0.0625, 'correct_choice': -1},\n {'motion_coh': -0.25, 'correct_choice': -1},\n {'motion_coh': 0.25, 'correct_choice': 1},\n {'motion_coh': 0.0625, 'correct_choice': 1},\n {'motion_coh': 0.0625, 'correct_choice': 1},\n {'motion_coh': -0.25, 'correct_choice': -1},\n {'motion_coh': -0.0625, 'correct_choice': -1},\n {'motion_coh': 0.125, 'correct_choice': 1},\n {'motion_coh': 0.0, 'correct_choice': -1},\n {'motion_coh': 0.0, 'correct_choice': -1},\n {'motion_coh': 0.125, 'correct_choice': 1},\n {'motion_coh': 0.0, 'correct_choice': -1},\n {'motion_coh': -1.0, 'correct_choice': -1},\n {'motion_coh': 1.0, 'correct_choice': 1},\n {'motion_coh': 0.0, 'correct_choice': -1},\n {'motion_coh': 0.0, 'correct_choice': -1},\n {'motion_coh': -1.0, 'correct_choice': -1},\n {'motion_coh': 0.25, 'correct_choice': 1},\n {'motion_coh': 1.0, 'correct_choice': 1},\n {'motion_coh': -0.25, 'correct_choice': -1},\n {'motion_coh': -0.25, 'correct_choice': -1},\n {'motion_coh': -0.125, 'correct_choice': -1},\n {'motion_coh': -0.25, 'correct_choice': -1},\n {'motion_coh': -0.25, 'correct_choice': -1},\n {'motion_coh': -0.0625, 'correct_choice': -1},\n {'motion_coh': 0.0, 'correct_choice': -1},\n {'motion_coh': -0.25, 'correct_choice': -1},\n {'motion_coh': 0.125, 'correct_choice': 1},\n {'motion_coh': -0.0625, 'correct_choice': -1},\n {'motion_coh': -0.0625, 'correct_choice': -1},\n {'motion_coh': 0.0, 'correct_choice': -1},\n {'motion_coh': -0.125, 'correct_choice': -1},\n {'motion_coh': 0.125, 'correct_choice': 1},\n {'motion_coh': 0.125, 'correct_choice': 1},\n {'motion_coh': -0.0625, 'correct_choice': -1},\n {'motion_coh': 0.25, 'correct_choice': 1},\n {'motion_coh': 0.0, 'correct_choice': -1},\n {'motion_coh': 0.25, 'correct_choice': 1},\n {'motion_coh': -1.0, 'correct_choice': -1},\n {'motion_coh': -0.25, 'correct_choice': -1},\n {'motion_coh': 0.125, 'correct_choice': 1},\n {'motion_coh': -0.125, 'correct_choice': -1},\n {'motion_coh': -0.25, 'correct_choice': -1},\n {'motion_coh': 0.0625, 'correct_choice': 1},\n {'motion_coh': -0.125, 'correct_choice': -1},\n {'motion_coh': 1.0, 'correct_choice': 1},\n {'motion_coh': 0.0, 'correct_choice': -1},\n {'motion_coh': 0.0, 'correct_choice': -1},\n {'motion_coh': 0.125, 'correct_choice': 1},\n {'motion_coh': -0.0625, 'correct_choice': -1},\n {'motion_coh': 0.0625, 'correct_choice': 1},\n {'motion_coh': 0.125, 'correct_choice': 1},\n {'motion_coh': 1.0, 'correct_choice': 1},\n {'motion_coh': -1.0, 'correct_choice': -1},\n {'motion_coh': -1.0, 'correct_choice': -1},\n {'motion_coh': 1.0, 'correct_choice': 1},\n {'motion_coh': 1.0, 'correct_choice': 1},\n {'motion_coh': 0.0, 'correct_choice': -1},\n {'motion_coh': -0.25, 'correct_choice': -1},\n {'motion_coh': 0.0625, 'correct_choice': 1},\n {'motion_coh': -1.0, 'correct_choice': -1},\n {'motion_coh': -0.25, 'correct_choice': -1},\n {'motion_coh': -0.125, 'correct_choice': -1},\n {'motion_coh': 0.0625, 'correct_choice': 1},\n {'motion_coh': -0.0625, 'correct_choice': -1},\n {'motion_coh': 0.0, 'correct_choice': -1},\n {'motion_coh': 0.0625, 'correct_choice': 1},\n {'motion_coh': 0.125, 'correct_choice': 1},\n {'motion_coh': -1.0, 'correct_choice': -1},\n {'motion_coh': -0.25, 'correct_choice': -1},\n {'motion_coh': -1.0, 'correct_choice': -1},\n {'motion_coh': -0.125, 'correct_choice': -1},\n {'motion_coh': -0.125, 'correct_choice': -1},\n {'motion_coh': 1.0, 'correct_choice': 1},\n {'motion_coh': 1.0, 'correct_choice': 1},\n {'motion_coh': -0.0625, 'correct_choice': -1},\n {'motion_coh': -0.0625, 'correct_choice': -1},\n {'motion_coh': -0.0625, 'correct_choice': -1},\n {'motion_coh': -0.25, 'correct_choice': -1},\n {'motion_coh': 0.125, 'correct_choice': 1},\n {'motion_coh': 0.25, 'correct_choice': 1},\n {'motion_coh': -1.0, 'correct_choice': -1},\n {'motion_coh': -0.125, 'correct_choice': -1},\n {'motion_coh': -1.0, 'correct_choice': -1},\n {'motion_coh': 1.0, 'correct_choice': 1},\n {'motion_coh': -0.25, 'correct_choice': -1},\n {'motion_coh': 0.25, 'correct_choice': 1},\n {'motion_coh': 0.25, 'correct_choice': 1},\n {'motion_coh': -0.25, 'correct_choice': -1},\n {'motion_coh': -0.0625, 'correct_choice': -1},\n {'motion_coh': -0.25, 'correct_choice': -1},\n {'motion_coh': 0.125, 'correct_choice': 1},\n {'motion_coh': 0.0, 'correct_choice': -1},\n {'motion_coh': 0.0625, 'correct_choice': 1},\n {'motion_coh': -0.125, 'correct_choice': -1},\n {'motion_coh': 0.0, 'correct_choice': -1},\n {'motion_coh': 0.0625, 'correct_choice': 1},\n {'motion_coh': 0.0, 'correct_choice': -1},\n {'motion_coh': 0.0, 'correct_choice': -1},\n {'motion_coh': 0.125, 'correct_choice': 1},\n {'motion_coh': 0.125, 'correct_choice': 1},\n {'motion_coh': 0.0, 'correct_choice': -1},\n {'motion_coh': 0.0, 'correct_choice': -1},\n {'motion_coh': 0.125, 'correct_choice': 1},\n {'motion_coh': -0.25, 'correct_choice': -1},\n {'motion_coh': -1.0, 'correct_choice': -1},\n {'motion_coh': 0.25, 'correct_choice': 1},\n {'motion_coh': -1.0, 'correct_choice': -1},\n {'motion_coh': -0.25, 'correct_choice': -1},\n {'motion_coh': -0.0625, 'correct_choice': -1},\n {'motion_coh': -1.0, 'correct_choice': -1},\n {'motion_coh': 0.0625, 'correct_choice': 1},\n {'motion_coh': -1.0, 'correct_choice': -1},\n {'motion_coh': 1.0, 'correct_choice': 1},\n {'motion_coh': 1.0, 'correct_choice': 1},\n {'motion_coh': 1.0, 'correct_choice': 1},\n {'motion_coh': 0.0, 'correct_choice': -1},\n {'motion_coh': 1.0, 'correct_choice': 1},\n {'motion_coh': -0.25, 'correct_choice': -1},\n {'motion_coh': 0.0625, 'correct_choice': 1},\n {'motion_coh': 0.25, 'correct_choice': 1},\n {'motion_coh': 1.0, 'correct_choice': 1},\n {'motion_coh': 0.125, 'correct_choice': 1},\n {'motion_coh': -0.125, 'correct_choice': -1},\n {'motion_coh': -1.0, 'correct_choice': -1},\n {'motion_coh': 0.0625, 'correct_choice': 1},\n {'motion_coh': -0.125, 'correct_choice': -1},\n {'motion_coh': -1.0, 'correct_choice': -1},\n {'motion_coh': -0.0625, 'correct_choice': -1},\n {'motion_coh': 0.0, 'correct_choice': -1},\n {'motion_coh': 1.0, 'correct_choice': 1},\n {'motion_coh': -0.0625, 'correct_choice': -1},\n {'motion_coh': 1.0, 'correct_choice': 1},\n {'motion_coh': 0.0, 'correct_choice': -1},\n {'motion_coh': -1.0, 'correct_choice': -1},\n {'motion_coh': 0.0625, 'correct_choice': 1},\n {'motion_coh': -0.25, 'correct_choice': -1},\n {'motion_coh': 0.125, 'correct_choice': 1},\n {'motion_coh': -0.125, 'correct_choice': -1},\n {'motion_coh': 0.25, 'correct_choice': 1},\n {'motion_coh': 0.0, 'correct_choice': -1},\n {'motion_coh': 1.0, 'correct_choice': 1},\n {'motion_coh': 1.0, 'correct_choice': 1},\n {'motion_coh': -1.0, 'correct_choice': -1},\n {'motion_coh': -1.0, 'correct_choice': -1},\n {'motion_coh': -0.125, 'correct_choice': -1},\n {'motion_coh': 1.0, 'correct_choice': 1},\n {'motion_coh': -0.125, 'correct_choice': -1},\n {'motion_coh': 0.125, 'correct_choice': 1},\n {'motion_coh': 0.125, 'correct_choice': 1},\n {'motion_coh': 1.0, 'correct_choice': 1},\n {'motion_coh': 0.25, 'correct_choice': 1},\n {'motion_coh': 0.25, 'correct_choice': 1},\n {'motion_coh': 1.0, 'correct_choice': 1},\n {'motion_coh': 0.125, 'correct_choice': 1},\n {'motion_coh': -1.0, 'correct_choice': -1},\n {'motion_coh': 0.0, 'correct_choice': -1},\n {'motion_coh': -0.0625, 'correct_choice': -1},\n {'motion_coh': 0.25, 'correct_choice': 1},\n {'motion_coh': 1.0, 'correct_choice': 1},\n {'motion_coh': 1.0, 'correct_choice': 1},\n {'motion_coh': -1.0, 'correct_choice': -1},\n {'motion_coh': 0.0625, 'correct_choice': 1},\n {'motion_coh': 0.0, 'correct_choice': -1},\n {'motion_coh': 1.0, 'correct_choice': 1},\n {'motion_coh': -0.125, 'correct_choice': -1},\n {'motion_coh': 0.125, 'correct_choice': 1},\n {'motion_coh': 0.0625, 'correct_choice': 1},\n {'motion_coh': 0.25, 'correct_choice': 1},\n {'motion_coh': 0.125, 'correct_choice': 1},\n {'motion_coh': -0.0625, 'correct_choice': -1},\n {'motion_coh': -0.0625, 'correct_choice': -1},\n {'motion_coh': 0.0, 'correct_choice': -1},\n {'motion_coh': 0.0625, 'correct_choice': 1},\n {'motion_coh': 0.0625, 'correct_choice': 1},\n {'motion_coh': -0.25, 'correct_choice': -1},\n {'motion_coh': 0.0625, 'correct_choice': 1},\n {'motion_coh': -1.0, 'correct_choice': -1},\n {'motion_coh': 0.25, 'correct_choice': 1},\n {'motion_coh': 0.125, 'correct_choice': 1},\n {'motion_coh': 1.0, 'correct_choice': 1},\n {'motion_coh': -0.0625, 'correct_choice': -1},\n {'motion_coh': -0.125, 'correct_choice': -1},\n {'motion_coh': 0.25, 'correct_choice': 1},\n {'motion_coh': 1.0, 'correct_choice': 1},\n {'motion_coh': -0.0625, 'correct_choice': -1},\n {'motion_coh': 0.125, 'correct_choice': 1},\n {'motion_coh': -1.0, 'correct_choice': -1},\n {'motion_coh': 0.0, 'correct_choice': -1},\n {'motion_coh': -1.0, 'correct_choice': -1},\n {'motion_coh': -0.25, 'correct_choice': -1},\n {'motion_coh': 0.0625, 'correct_choice': 1},\n {'motion_coh': -1.0, 'correct_choice': -1},\n {'motion_coh': 0.25, 'correct_choice': 1},\n {'motion_coh': -0.125, 'correct_choice': -1},\n {'motion_coh': 0.125, 'correct_choice': 1},\n {'motion_coh': 0.25, 'correct_choice': 1},\n {'motion_coh': 0.0, 'correct_choice': -1},\n {'motion_coh': -0.0625, 'correct_choice': -1},\n {'motion_coh': -0.25, 'correct_choice': -1},\n {'motion_coh': -0.25, 'correct_choice': -1},\n {'motion_coh': 0.0, 'correct_choice': -1},\n {'motion_coh': 0.25, 'correct_choice': 1},\n {'motion_coh': 0.0, 'correct_choice': -1},\n {'motion_coh': 0.0, 'correct_choice': -1},\n {'motion_coh': -0.125, 'correct_choice': -1},\n {'motion_coh': -0.125, 'correct_choice': -1},\n {'motion_coh': -0.25, 'correct_choice': -1},\n {'motion_coh': -1.0, 'correct_choice': -1},\n {'motion_coh': 1.0, 'correct_choice': 1},\n {'motion_coh': -0.25, 'correct_choice': -1},\n {'motion_coh': -0.125, 'correct_choice': -1},\n {'motion_coh': 0.0, 'correct_choice': -1},\n {'motion_coh': -1.0, 'correct_choice': -1},\n {'motion_coh': 1.0, 'correct_choice': 1},\n {'motion_coh': 0.0625, 'correct_choice': 1},\n {'motion_coh': 0.0, 'correct_choice': -1},\n {'motion_coh': -0.0625, 'correct_choice': -1},\n {'motion_coh': 0.25, 'correct_choice': 1},\n {'motion_coh': -0.125, 'correct_choice': -1},\n {'motion_coh': -0.0625, 'correct_choice': -1},\n {'motion_coh': 1.0, 'correct_choice': 1},\n {'motion_coh': -0.25, 'correct_choice': -1},\n {'motion_coh': 0.25, 'correct_choice': 1},\n {'motion_coh': -0.0625, 'correct_choice': -1},\n {'motion_coh': 0.125, 'correct_choice': 1},\n {'motion_coh': -0.125, 'correct_choice': -1},\n {'motion_coh': -0.25, 'correct_choice': -1},\n {'motion_coh': -0.125, 'correct_choice': -1},\n {'motion_coh': -0.125, 'correct_choice': -1},\n {'motion_coh': 0.0, 'correct_choice': -1},\n {'motion_coh': -0.25, 'correct_choice': -1},\n {'motion_coh': -0.25, 'correct_choice': -1},\n {'motion_coh': -0.25, 'correct_choice': -1},\n {'motion_coh': -0.25, 'correct_choice': -1},\n {'motion_coh': 0.125, 'correct_choice': 1},\n {'motion_coh': 0.0, 'correct_choice': -1},\n {'motion_coh': 1.0, 'correct_choice': 1},\n {'motion_coh': -0.125, 'correct_choice': -1},\n {'motion_coh': -1.0, 'correct_choice': -1},\n {'motion_coh': -0.125, 'correct_choice': -1},\n {'motion_coh': 0.125, 'correct_choice': 1},\n {'motion_coh': 0.125, 'correct_choice': 1},\n {'motion_coh': 0.25, 'correct_choice': 1},\n {'motion_coh': 1.0, 'correct_choice': 1},\n {'motion_coh': -0.125, 'correct_choice': -1},\n {'motion_coh': -0.0625, 'correct_choice': -1},\n {'motion_coh': -0.0625, 'correct_choice': -1},\n {'motion_coh': 0.0, 'correct_choice': -1},\n {'motion_coh': 0.25, 'correct_choice': 1},\n {'motion_coh': -0.25, 'correct_choice': -1},\n {'motion_coh': 0.0, 'correct_choice': -1},\n {'motion_coh': 0.0625, 'correct_choice': 1},\n {'motion_coh': -0.0625, 'correct_choice': -1},\n {'motion_coh': 0.25, 'correct_choice': 1},\n {'motion_coh': -0.25, 'correct_choice': -1},\n {'motion_coh': -0.0625, 'correct_choice': -1},\n {'motion_coh': 1.0, 'correct_choice': 1},\n {'motion_coh': -0.25, 'correct_choice': -1},\n {'motion_coh': -0.125, 'correct_choice': -1},\n {'motion_coh': 0.125, 'correct_choice': 1},\n {'motion_coh': 0.0, 'correct_choice': -1},\n {'motion_coh': -1.0, 'correct_choice': -1},\n {'motion_coh': 0.25, 'correct_choice': 1},\n {'motion_coh': -0.125, 'correct_choice': -1},\n {'motion_coh': -0.125, 'correct_choice': -1},\n {'motion_coh': -1.0, 'correct_choice': -1},\n {'motion_coh': -1.0, 'correct_choice': -1},\n {'motion_coh': -1.0, 'correct_choice': -1},\n {'motion_coh': -0.125, 'correct_choice': -1},\n {'motion_coh': -1.0, 'correct_choice': -1},\n {'motion_coh': -1.0, 'correct_choice': -1},\n {'motion_coh': -0.0625, 'correct_choice': -1},\n {'motion_coh': -1.0, 'correct_choice': -1},\n {'motion_coh': 1.0, 'correct_choice': 1},\n {'motion_coh': -1.0, 'correct_choice': -1},\n {'motion_coh': 0.0625, 'correct_choice': 1},\n {'motion_coh': 0.0, 'correct_choice': -1},\n {'motion_coh': -1.0, 'correct_choice': -1},\n {'motion_coh': -0.0625, 'correct_choice': -1},\n {'motion_coh': 1.0, 'correct_choice': 1},\n {'motion_coh': 0.25, 'correct_choice': 1},\n {'motion_coh': 0.125, 'correct_choice': 1},\n {'motion_coh': -0.25, 'correct_choice': -1},\n {'motion_coh': 0.0625, 'correct_choice': 1},\n {'motion_coh': -0.25, 'correct_choice': -1},\n {'motion_coh': 0.25, 'correct_choice': 1},\n {'motion_coh': 0.0625, 'correct_choice': 1},\n {'motion_coh': 0.25, 'correct_choice': 1},\n {'motion_coh': 0.125, 'correct_choice': 1},\n {'motion_coh': -0.0625, 'correct_choice': -1},\n {'motion_coh': 1.0, 'correct_choice': 1},\n {'motion_coh': -0.25, 'correct_choice': -1},\n {'motion_coh': -0.0625, 'correct_choice': -1},\n {'motion_coh': 0.0625, 'correct_choice': 1},\n {'motion_coh': 0.0, 'correct_choice': -1},\n {'motion_coh': -0.125, 'correct_choice': -1},\n {'motion_coh': -0.25, 'correct_choice': -1},\n {'motion_coh': -1.0, 'correct_choice': -1},\n {'motion_coh': -0.0625, 'correct_choice': -1},\n {'motion_coh': -0.25, 'correct_choice': -1},\n {'motion_coh': -0.0625, 'correct_choice': -1},\n {'motion_coh': 1.0, 'correct_choice': 1},\n {'motion_coh': -0.0625, 'correct_choice': -1},\n {'motion_coh': -0.0625, 'correct_choice': -1},\n {'motion_coh': -0.0625, 'correct_choice': -1},\n {'motion_coh': 0.125, 'correct_choice': 1},\n {'motion_coh': -1.0, 'correct_choice': -1},\n {'motion_coh': -0.125, 'correct_choice': -1},\n {'motion_coh': 0.25, 'correct_choice': 1},\n {'motion_coh': 0.0625, 'correct_choice': 1},\n {'motion_coh': 0.0, 'correct_choice': -1},\n {'motion_coh': 0.0625, 'correct_choice': 1},\n {'motion_coh': 0.0, 'correct_choice': -1},\n {'motion_coh': -0.0625, 'correct_choice': -1},\n {'motion_coh': 0.0, 'correct_choice': -1},\n {'motion_coh': 0.0625, 'correct_choice': 1},\n {'motion_coh': -0.25, 'correct_choice': -1},\n {'motion_coh': 0.25, 'correct_choice': 1},\n {'motion_coh': -1.0, 'correct_choice': -1},\n {'motion_coh': -0.25, 'correct_choice': -1},\n {'motion_coh': 0.0625, 'correct_choice': 1},\n {'motion_coh': 0.125, 'correct_choice': 1},\n {'motion_coh': 0.125, 'correct_choice': 1},\n {'motion_coh': 0.0625, 'correct_choice': 1},\n {'motion_coh': -1.0, 'correct_choice': -1},\n {'motion_coh': 0.0625, 'correct_choice': 1},\n {'motion_coh': 0.25, 'correct_choice': 1},\n {'motion_coh': 0.25, 'correct_choice': 1},\n {'motion_coh': 0.125, 'correct_choice': 1},\n {'motion_coh': 0.25, 'correct_choice': 1},\n {'motion_coh': 0.0, 'correct_choice': -1},\n {'motion_coh': 0.25, 'correct_choice': 1},\n {'motion_coh': 1.0, 'correct_choice': 1},\n {'motion_coh': -0.25, 'correct_choice': -1},\n {'motion_coh': 0.0625, 'correct_choice': 1},\n {'motion_coh': 0.125, 'correct_choice': 1},\n {'motion_coh': -0.0625, 'correct_choice': -1},\n {'motion_coh': 0.0625, 'correct_choice': 1},\n {'motion_coh': -1.0, 'correct_choice': -1},\n {'motion_coh': 1.0, 'correct_choice': 1},\n {'motion_coh': 0.0625, 'correct_choice': 1},\n {'motion_coh': 0.0, 'correct_choice': -1},\n {'motion_coh': 0.0, 'correct_choice': -1},\n {'motion_coh': 0.0, 'correct_choice': -1},\n {'motion_coh': 0.0625, 'correct_choice': 1},\n {'motion_coh': 0.125, 'correct_choice': 1},\n {'motion_coh': 0.25, 'correct_choice': 1},\n {'motion_coh': -0.125, 'correct_choice': -1},\n {'motion_coh': 0.25, 'correct_choice': 1},\n {'motion_coh': -0.25, 'correct_choice': -1},\n {'motion_coh': 0.0625, 'correct_choice': 1},\n {'motion_coh': 0.0, 'correct_choice': -1},\n {'motion_coh': -0.125, 'correct_choice': -1},\n {'motion_coh': -0.125, 'correct_choice': -1},\n {'motion_coh': 0.125, 'correct_choice': 1},\n {'motion_coh': -0.125, 'correct_choice': -1},\n {'motion_coh': 0.0, 'correct_choice': -1},\n {'motion_coh': -0.125, 'correct_choice': -1},\n {'motion_coh': 1.0, 'correct_choice': 1},\n {'motion_coh': -0.0625, 'correct_choice': -1},\n {'motion_coh': -0.125, 'correct_choice': -1},\n {'motion_coh': -0.125, 'correct_choice': -1},\n {'motion_coh': 0.25, 'correct_choice': 1},\n {'motion_coh': -0.25, 'correct_choice': -1},\n {'motion_coh': 0.0625, 'correct_choice': 1},\n {'motion_coh': -0.0625, 'correct_choice': -1},\n {'motion_coh': 0.0, 'correct_choice': -1},\n {'motion_coh': 1.0, 'correct_choice': 1},\n {'motion_coh': -0.125, 'correct_choice': -1},\n {'motion_coh': -0.25, 'correct_choice': -1},\n {'motion_coh': 0.25, 'correct_choice': 1},\n {'motion_coh': 0.0625, 'correct_choice': 1},\n {'motion_coh': 0.0625, 'correct_choice': 1},\n {'motion_coh': -1.0, 'correct_choice': -1},\n {'motion_coh': -0.0625, 'correct_choice': -1},\n {'motion_coh': -0.125, 'correct_choice': -1},\n {'motion_coh': -0.0625, 'correct_choice': -1},\n {'motion_coh': 1.0, 'correct_choice': 1},\n {'motion_coh': 0.0625, 'correct_choice': 1},\n {'motion_coh': 0.125, 'correct_choice': 1},\n {'motion_coh': 0.125, 'correct_choice': 1},\n {'motion_coh': -0.0625, 'correct_choice': -1},\n {'motion_coh': -1.0, 'correct_choice': -1},\n {'motion_coh': 1.0, 'correct_choice': 1},\n {'motion_coh': -1.0, 'correct_choice': -1},\n {'motion_coh': -0.125, 'correct_choice': -1},\n {'motion_coh': -0.0625, 'correct_choice': -1},\n {'motion_coh': -0.25, 'correct_choice': -1},\n {'motion_coh': -0.0625, 'correct_choice': -1},\n {'motion_coh': 0.0625, 'correct_choice': 1},\n {'motion_coh': 0.0, 'correct_choice': -1},\n {'motion_coh': 0.125, 'correct_choice': 1},\n {'motion_coh': -0.25, 'correct_choice': -1},\n {'motion_coh': -0.0625, 'correct_choice': -1},\n {'motion_coh': -1.0, 'correct_choice': -1},\n {'motion_coh': -0.25, 'correct_choice': -1},\n {'motion_coh': -0.0625, 'correct_choice': -1},\n {'motion_coh': 1.0, 'correct_choice': 1},\n {'motion_coh': 1.0, 'correct_choice': 1},\n {'motion_coh': 0.0, 'correct_choice': -1},\n {'motion_coh': 0.25, 'correct_choice': 1},\n {'motion_coh': -0.25, 'correct_choice': -1},\n {'motion_coh': 0.25, 'correct_choice': 1},\n {'motion_coh': 1.0, 'correct_choice': 1},\n {'motion_coh': 0.25, 'correct_choice': 1},\n {'motion_coh': 0.0625, 'correct_choice': 1},\n {'motion_coh': -0.125, 'correct_choice': -1},\n {'motion_coh': 0.0625, 'correct_choice': 1},\n {'motion_coh': -0.125, 'correct_choice': -1},\n {'motion_coh': 0.0, 'correct_choice': -1},\n {'motion_coh': 0.0, 'correct_choice': -1},\n {'motion_coh': -1.0, 'correct_choice': -1},\n {'motion_coh': -1.0, 'correct_choice': -1},\n {'motion_coh': 0.0, 'correct_choice': -1},\n {'motion_coh': -1.0, 'correct_choice': -1},\n {'motion_coh': 0.0, 'correct_choice': -1},\n {'motion_coh': 0.125, 'correct_choice': 1},\n {'motion_coh': -0.125, 'correct_choice': -1},\n {'motion_coh': 0.0625, 'correct_choice': 1},\n {'motion_coh': 0.125, 'correct_choice': 1},\n {'motion_coh': 1.0, 'correct_choice': 1},\n {'motion_coh': 1.0, 'correct_choice': 1},\n {'motion_coh': -0.0625, 'correct_choice': -1},\n {'motion_coh': 0.25, 'correct_choice': 1},\n {'motion_coh': 0.125, 'correct_choice': 1},\n {'motion_coh': -0.25, 'correct_choice': -1},\n {'motion_coh': -0.25, 'correct_choice': -1},\n {'motion_coh': -0.0625, 'correct_choice': -1},\n {'motion_coh': 0.0625, 'correct_choice': 1},\n {'motion_coh': -0.0625, 'correct_choice': -1},\n {'motion_coh': 0.0, 'correct_choice': -1},\n {'motion_coh': 0.125, 'correct_choice': 1},\n {'motion_coh': -1.0, 'correct_choice': -1},\n {'motion_coh': -1.0, 'correct_choice': -1},\n {'motion_coh': 0.0625, 'correct_choice': 1},\n {'motion_coh': 0.25, 'correct_choice': 1}]"
     },
     "execution_count": 43,
     "metadata": {},
     "output_type": "execute_result"
    }
   ],
   "source": [
    "conditions"
   ],
   "metadata": {
    "collapsed": false,
    "ExecuteTime": {
     "end_time": "2025-01-23T21:41:25.894335Z",
     "start_time": "2025-01-23T21:41:25.889052Z"
    }
   },
   "id": "35865305c1124c5f",
   "execution_count": 43
  },
  {
   "cell_type": "code",
   "outputs": [
    {
     "data": {
      "text/plain": "   motion                                           response\n0    0.25  [[0.0, 0.0, 0.0, 0.0, 0.0, 0.0, 0.0, 0.0, 0.0,...",
      "text/html": "<div>\n<style scoped>\n    .dataframe tbody tr th:only-of-type {\n        vertical-align: middle;\n    }\n\n    .dataframe tbody tr th {\n        vertical-align: top;\n    }\n\n    .dataframe thead th {\n        text-align: right;\n    }\n</style>\n<table border=\"1\" class=\"dataframe\">\n  <thead>\n    <tr style=\"text-align: right;\">\n      <th></th>\n      <th>motion</th>\n      <th>response</th>\n    </tr>\n  </thead>\n  <tbody>\n    <tr>\n      <th>0</th>\n      <td>0.25</td>\n      <td>[[0.0, 0.0, 0.0, 0.0, 0.0, 0.0, 0.0, 0.0, 0.0,...</td>\n    </tr>\n  </tbody>\n</table>\n</div>"
     },
     "execution_count": 42,
     "metadata": {},
     "output_type": "execute_result"
    }
   ],
   "source": [
    "model_df"
   ],
   "metadata": {
    "collapsed": false,
    "ExecuteTime": {
     "end_time": "2025-01-23T21:40:55.173955Z",
     "start_time": "2025-01-23T21:40:55.160255Z"
    }
   },
   "id": "9cd4ae03e5cfc514",
   "execution_count": 42
  },
  {
   "cell_type": "code",
   "outputs": [
    {
     "data": {
      "text/plain": "(900, 75, 3)"
     },
     "execution_count": 31,
     "metadata": {},
     "output_type": "execute_result"
    }
   ],
   "source": [
    "x_proj.shape"
   ],
   "metadata": {
    "collapsed": false,
    "ExecuteTime": {
     "end_time": "2025-01-23T21:30:26.945015Z",
     "start_time": "2025-01-23T21:30:26.939778Z"
    }
   },
   "id": "7087fb426e782eaf",
   "execution_count": 31
  },
  {
   "cell_type": "code",
   "outputs": [
    {
     "data": {
      "text/plain": "(900, 75, 100)"
     },
     "execution_count": 28,
     "metadata": {},
     "output_type": "execute_result"
    }
   ],
   "source": [
    "x_proj.shape"
   ],
   "metadata": {
    "collapsed": false,
    "ExecuteTime": {
     "end_time": "2025-01-23T21:29:43.039819Z",
     "start_time": "2025-01-23T21:29:43.034509Z"
    }
   },
   "id": "b3b0d13ca454ae6e",
   "execution_count": 28
  },
  {
   "cell_type": "code",
   "outputs": [
    {
     "data": {
      "text/plain": "(100, 100)"
     },
     "execution_count": 19,
     "metadata": {},
     "output_type": "execute_result"
    }
   ],
   "source": [
    "rot.shape"
   ],
   "metadata": {
    "collapsed": false,
    "ExecuteTime": {
     "end_time": "2025-01-23T21:25:59.494685Z",
     "start_time": "2025-01-23T21:25:59.485817Z"
    }
   },
   "id": "26585509db7a62f8",
   "execution_count": 19
  },
  {
   "cell_type": "code",
   "outputs": [],
   "source": [
    "def compute_k(responses,n_init,max_clusters,threshold):\n",
    "    inertia = []\n",
    "    for n_clusters in range(1, np.min([max_clusters,responses.shape[0]])):\n",
    "        kmeans = KMeans(n_clusters=n_clusters,n_init=n_init).fit(responses)\n",
    "        inertia.append(kmeans_r2(kmeans,responses))\n",
    "    #inertia = -np.diff(inertia)\n",
    "\n",
    "    for j in range(len(inertia)):\n",
    "        if inertia[j] < threshold:\n",
    "            break\n",
    "    k = j + 1\n",
    "    return inertia, k\n",
    "\n",
    "# Function for computing r2 for kmeans model\n",
    "def kmeans_r2(kmeans, responses ):\n",
    "    n_neurons = responses.shape[0]\n",
    "    cluster_means = kmeans.cluster_centers_\n",
    "    n_clusters = cluster_means.shape[0]\n",
    "    Q = np.zeros((n_neurons,n_clusters))\n",
    "    for i in range(n_clusters):\n",
    "        Q[kmeans.labels_ ==i, i] = 1\n",
    "\n",
    "    prediction  = Q @ cluster_means\n",
    "    squared_error  = np.sum((prediction - responses)**2)\n",
    "    total_variance = np.sum((responses.T - np.mean(responses.T,axis=0,keepdims=True))**2)\n",
    "    #total_variance = np.sum(PCA().fit(responses.T).explained_variance_)\n",
    "    return squared_error / total_variance"
   ],
   "metadata": {
    "collapsed": false,
    "ExecuteTime": {
     "end_time": "2025-01-23T21:23:02.882456Z",
     "start_time": "2025-01-23T21:23:02.879643Z"
    }
   },
   "id": "af337e68744c90e3",
   "execution_count": 6
  },
  {
   "cell_type": "code",
   "outputs": [],
   "source": [
    "def compute_var(variance,n):\n",
    "    return np.sum(variance[n:])"
   ],
   "metadata": {
    "collapsed": false,
    "ExecuteTime": {
     "end_time": "2025-01-24T19:56:44.847322Z",
     "start_time": "2025-01-24T19:56:44.843949Z"
    }
   },
   "id": "919fb3bc752eaab4",
   "execution_count": 5
  },
  {
   "cell_type": "code",
   "outputs": [
    {
     "data": {
      "text/plain": "      model_id                                              w_rec  \\\n1788  n4WsWOO0  [[0.0, 0.08878551, -0.09431521, 0.19407223, -0...   \n1778  w9k0IUGq  [[0.0, -0.05182088, -0.13394691, -0.15194768, ...   \n1781  T6hwW4wj  [[0.0, -0.112910315, -0.19688652, -0.042346153...   \n1786  Fafx1qvc  [[0.0, -0.07093212, -0.12322645, -0.037161365,...   \n1777  r8Z49j3x  [[0.0, -0.169528, -0.07637126, -0.0866043, -0....   \n...        ...                                                ...   \n1835  42FHoW3J  [[0.0, -0.029447515, -0.00028488575, -0.042827...   \n595   gdoznDLU  [[0.0, -0.004574438, -0.097044036, -0.06645142...   \n9     0CAd0xYl  [[0.0, -0.36195984, -0.061343715, -0.2976796, ...   \n1377  hXZ71YcQ  [[0.0, -0.114449695, -0.12558275, 0.039948963,...   \n1842  CHftHldV  [[0.0, -0.1214771, -0.080721416, -0.1175396, -...   \n\n                                                   w_in  \\\n1788  [[0.05286402, -0.035378523], [-0.016175332, 0....   \n1778  [[-0.02603788, 0.04400739], [0.060285937, -0.0...   \n1781  [[0.044536468, -0.037302267], [-0.035865776, 0...   \n1786  [[-0.026338447, 0.048330456], [0.06303045, -0....   \n1777  [[-0.03394388, 0.04868187], [0.05034492, -0.03...   \n...                                                 ...   \n1835  [[-0.016045555, 0.021368409], [-0.015539637, 0...   \n595   [[0.029362805, -0.006976664], [0.122878835, -0...   \n9     [[-0.20400564, 0.24003439], [-0.033435524, 0.0...   \n1377  [[-0.098105416, 0.113988325], [-0.050019793, 0...   \n1842  [[-0.009238932, 0.01812601], [-0.009006683, 0....   \n\n                                                  w_out  \\\n1788  [[0.27608454, 0.10196935, -0.19709608, -0.0217...   \n1778  [[0.2765544, 0.43978336, -0.16831374, -0.10700...   \n1781  [[0.3777422, 0.11967351, 0.37462753, 0.3544728...   \n1786  [[-0.18728492, 0.38299206, 0.6052442, 0.086496...   \n1777  [[-0.10399532, 0.40333092, 0.17044863, 0.25951...   \n...                                                 ...   \n1835  [[0.52684367, 0.28560016, -0.26395777, 0.25013...   \n595   [[1.7567675, 0.520626, 0.009970113, 0.3286349,...   \n9     [[-0.057435848, -0.11264955, 0.21283947, 0.098...   \n1377  [[-0.1867808, -0.35396722, -0.11195817, 0.3930...   \n1842  [[0.5911109, -0.046690457, 0.15061074, -0.2223...   \n\n                                                   bias     mse_z  \\\n1788  [0.2, 0.2, 0.2, 0.2, 0.2, 0.2, 0.2, 0.2, 0.2, ...  0.031172   \n1778  [0.2, 0.2, 0.2, 0.2, 0.2, 0.2, 0.2, 0.2, 0.2, ...  0.031937   \n1781  [0.2, 0.2, 0.2, 0.2, 0.2, 0.2, 0.2, 0.2, 0.2, ...  0.030361   \n1786  [0.2, 0.2, 0.2, 0.2, 0.2, 0.2, 0.2, 0.2, 0.2, ...  0.030803   \n1777  [0.2, 0.2, 0.2, 0.2, 0.2, 0.2, 0.2, 0.2, 0.2, ...  0.030724   \n...                                                 ...       ...   \n1835  [0.2, 0.2, 0.2, 0.2, 0.2, 0.2, 0.2, 0.2, 0.2, ...  0.027745   \n595   [0.2, 0.2, 0.2, 0.2, 0.2, 0.2, 0.2, 0.2, 0.2, ...  0.028809   \n9     [0.2, 0.2, 0.2, 0.2, 0.2, 0.2, 0.2, 0.2, 0.2, ...  0.028788   \n1377  [0.2, 0.2, 0.2, 0.2, 0.2, 0.2, 0.2, 0.2, 0.2, ...  0.032579   \n1842  [0.2, 0.2, 0.2, 0.2, 0.2, 0.2, 0.2, 0.2, 0.2, ...  0.031863   \n\n      weight_decay  threshold  \\\n1788           0.0       0.05   \n1778           0.0       0.05   \n1781           0.0       0.05   \n1786           0.0       0.05   \n1777           0.0       0.05   \n...            ...        ...   \n1835           0.0       0.05   \n595            0.0       0.05   \n9              0.0       0.05   \n1377           0.0       0.05   \n1842           0.0       0.05   \n\n                                                inertia  lvar  dim  n_neurons  \\\n1788  [0.72564336378999, 0.28280927611680573, 1.9058...  50.0    3         50   \n1778  [0.872810967126852, 0.3704667717513017, 3.0383...  50.0    3         50   \n1781  [0.9259492769150987, 0.34047559897510815, 7.05...  50.0    3         50   \n1786  [0.8525189363582747, 0.3733828659241424, 7.614...  50.0    3         50   \n1777  [0.9235168225331405, 0.35969759800217793, 8.86...  50.0    3         50   \n...                                                 ...   ...  ...        ...   \n1835  [0.8165493346983478, 0.27198883221047837, 0.02...  50.0    4         50   \n595   [0.8352367983039195, 0.4328657056483747, 0.044...   0.2    2         50   \n9     [0.8039241646547042, 0.3241956023598393, 0.036...   0.5    4         50   \n1377  [0.8755344412848151, 0.3595883580486868, 0.030...  10.0    4         50   \n1842  [0.8602144059052389, 0.3445838841504463, 0.037...  50.0    4         50   \n\n      k                                           variance  \\\n1788  3  [0.5408366, 0.44277668, 0.016385503, 7.319695e...   \n1778  3  [0.5605926, 0.41134694, 0.028058726, 8.3325966...   \n1781  3  [0.6387435, 0.32728627, 0.033968326, 1.3588361...   \n1786  3  [0.5561684, 0.41756567, 0.026263282, 1.322997e...   \n1777  3  [0.6313057, 0.33305338, 0.035637934, 1.7319852...   \n...  ..                                                ...   \n1835  3  [0.5676248, 0.37978253, 0.034265257, 0.0183106...   \n595   3  [0.5357448, 0.40565157, 0.040219463, 0.0087189...   \n9     3  [0.6234299, 0.3237862, 0.033449113, 0.01188237...   \n1377  3  [0.5220022, 0.41245022, 0.043239452, 0.0222802...   \n1842  3  [0.5257771, 0.4098129, 0.038670734, 0.02573099...   \n\n                                                 null_k       var  \n1788  [17, 17, 14, 16, 18, 18, 16, 16, 16, 16, 15, 1...  0.000001  \n1778  [17, 17, 19, 16, 18, 16, 16, 17, 17, 17, 17, 1...  0.000002  \n1781  [19, 17, 18, 17, 19, 20, 15, 17, 19, 17, 18, 1...  0.000002  \n1786  [18, 18, 16, 17, 16, 17, 18, 20, 19, 18, 18, 1...  0.000003  \n1777  [18, 18, 17, 21, 19, 16, 19, 20, 18, 18, 15, 1...  0.000003  \n...                                                 ...       ...  \n1835  [20, 21, 20, 22, 18, 20, 19, 22, 21, 18, 21, 2...  0.018327  \n595   [22, 21, 22, 21, 24, 20, 21, 22, 21, 21, 21, 2...  0.018384  \n9     [20, 21, 22, 22, 19, 18, 22, 22, 21, 21, 19, 2...  0.019335  \n1377  [20, 19, 23, 23, 22, 23, 23, 20, 21, 20, 21, 2...  0.022308  \n1842  [22, 20, 22, 22, 20, 22, 24, 22, 22, 21, 20, 2...  0.025739  \n\n[193 rows x 16 columns]",
      "text/html": "<div>\n<style scoped>\n    .dataframe tbody tr th:only-of-type {\n        vertical-align: middle;\n    }\n\n    .dataframe tbody tr th {\n        vertical-align: top;\n    }\n\n    .dataframe thead th {\n        text-align: right;\n    }\n</style>\n<table border=\"1\" class=\"dataframe\">\n  <thead>\n    <tr style=\"text-align: right;\">\n      <th></th>\n      <th>model_id</th>\n      <th>w_rec</th>\n      <th>w_in</th>\n      <th>w_out</th>\n      <th>bias</th>\n      <th>mse_z</th>\n      <th>weight_decay</th>\n      <th>threshold</th>\n      <th>inertia</th>\n      <th>lvar</th>\n      <th>dim</th>\n      <th>n_neurons</th>\n      <th>k</th>\n      <th>variance</th>\n      <th>null_k</th>\n      <th>var</th>\n    </tr>\n  </thead>\n  <tbody>\n    <tr>\n      <th>1788</th>\n      <td>n4WsWOO0</td>\n      <td>[[0.0, 0.08878551, -0.09431521, 0.19407223, -0...</td>\n      <td>[[0.05286402, -0.035378523], [-0.016175332, 0....</td>\n      <td>[[0.27608454, 0.10196935, -0.19709608, -0.0217...</td>\n      <td>[0.2, 0.2, 0.2, 0.2, 0.2, 0.2, 0.2, 0.2, 0.2, ...</td>\n      <td>0.031172</td>\n      <td>0.0</td>\n      <td>0.05</td>\n      <td>[0.72564336378999, 0.28280927611680573, 1.9058...</td>\n      <td>50.0</td>\n      <td>3</td>\n      <td>50</td>\n      <td>3</td>\n      <td>[0.5408366, 0.44277668, 0.016385503, 7.319695e...</td>\n      <td>[17, 17, 14, 16, 18, 18, 16, 16, 16, 16, 15, 1...</td>\n      <td>0.000001</td>\n    </tr>\n    <tr>\n      <th>1778</th>\n      <td>w9k0IUGq</td>\n      <td>[[0.0, -0.05182088, -0.13394691, -0.15194768, ...</td>\n      <td>[[-0.02603788, 0.04400739], [0.060285937, -0.0...</td>\n      <td>[[0.2765544, 0.43978336, -0.16831374, -0.10700...</td>\n      <td>[0.2, 0.2, 0.2, 0.2, 0.2, 0.2, 0.2, 0.2, 0.2, ...</td>\n      <td>0.031937</td>\n      <td>0.0</td>\n      <td>0.05</td>\n      <td>[0.872810967126852, 0.3704667717513017, 3.0383...</td>\n      <td>50.0</td>\n      <td>3</td>\n      <td>50</td>\n      <td>3</td>\n      <td>[0.5605926, 0.41134694, 0.028058726, 8.3325966...</td>\n      <td>[17, 17, 19, 16, 18, 16, 16, 17, 17, 17, 17, 1...</td>\n      <td>0.000002</td>\n    </tr>\n    <tr>\n      <th>1781</th>\n      <td>T6hwW4wj</td>\n      <td>[[0.0, -0.112910315, -0.19688652, -0.042346153...</td>\n      <td>[[0.044536468, -0.037302267], [-0.035865776, 0...</td>\n      <td>[[0.3777422, 0.11967351, 0.37462753, 0.3544728...</td>\n      <td>[0.2, 0.2, 0.2, 0.2, 0.2, 0.2, 0.2, 0.2, 0.2, ...</td>\n      <td>0.030361</td>\n      <td>0.0</td>\n      <td>0.05</td>\n      <td>[0.9259492769150987, 0.34047559897510815, 7.05...</td>\n      <td>50.0</td>\n      <td>3</td>\n      <td>50</td>\n      <td>3</td>\n      <td>[0.6387435, 0.32728627, 0.033968326, 1.3588361...</td>\n      <td>[19, 17, 18, 17, 19, 20, 15, 17, 19, 17, 18, 1...</td>\n      <td>0.000002</td>\n    </tr>\n    <tr>\n      <th>1786</th>\n      <td>Fafx1qvc</td>\n      <td>[[0.0, -0.07093212, -0.12322645, -0.037161365,...</td>\n      <td>[[-0.026338447, 0.048330456], [0.06303045, -0....</td>\n      <td>[[-0.18728492, 0.38299206, 0.6052442, 0.086496...</td>\n      <td>[0.2, 0.2, 0.2, 0.2, 0.2, 0.2, 0.2, 0.2, 0.2, ...</td>\n      <td>0.030803</td>\n      <td>0.0</td>\n      <td>0.05</td>\n      <td>[0.8525189363582747, 0.3733828659241424, 7.614...</td>\n      <td>50.0</td>\n      <td>3</td>\n      <td>50</td>\n      <td>3</td>\n      <td>[0.5561684, 0.41756567, 0.026263282, 1.322997e...</td>\n      <td>[18, 18, 16, 17, 16, 17, 18, 20, 19, 18, 18, 1...</td>\n      <td>0.000003</td>\n    </tr>\n    <tr>\n      <th>1777</th>\n      <td>r8Z49j3x</td>\n      <td>[[0.0, -0.169528, -0.07637126, -0.0866043, -0....</td>\n      <td>[[-0.03394388, 0.04868187], [0.05034492, -0.03...</td>\n      <td>[[-0.10399532, 0.40333092, 0.17044863, 0.25951...</td>\n      <td>[0.2, 0.2, 0.2, 0.2, 0.2, 0.2, 0.2, 0.2, 0.2, ...</td>\n      <td>0.030724</td>\n      <td>0.0</td>\n      <td>0.05</td>\n      <td>[0.9235168225331405, 0.35969759800217793, 8.86...</td>\n      <td>50.0</td>\n      <td>3</td>\n      <td>50</td>\n      <td>3</td>\n      <td>[0.6313057, 0.33305338, 0.035637934, 1.7319852...</td>\n      <td>[18, 18, 17, 21, 19, 16, 19, 20, 18, 18, 15, 1...</td>\n      <td>0.000003</td>\n    </tr>\n    <tr>\n      <th>...</th>\n      <td>...</td>\n      <td>...</td>\n      <td>...</td>\n      <td>...</td>\n      <td>...</td>\n      <td>...</td>\n      <td>...</td>\n      <td>...</td>\n      <td>...</td>\n      <td>...</td>\n      <td>...</td>\n      <td>...</td>\n      <td>...</td>\n      <td>...</td>\n      <td>...</td>\n      <td>...</td>\n    </tr>\n    <tr>\n      <th>1835</th>\n      <td>42FHoW3J</td>\n      <td>[[0.0, -0.029447515, -0.00028488575, -0.042827...</td>\n      <td>[[-0.016045555, 0.021368409], [-0.015539637, 0...</td>\n      <td>[[0.52684367, 0.28560016, -0.26395777, 0.25013...</td>\n      <td>[0.2, 0.2, 0.2, 0.2, 0.2, 0.2, 0.2, 0.2, 0.2, ...</td>\n      <td>0.027745</td>\n      <td>0.0</td>\n      <td>0.05</td>\n      <td>[0.8165493346983478, 0.27198883221047837, 0.02...</td>\n      <td>50.0</td>\n      <td>4</td>\n      <td>50</td>\n      <td>3</td>\n      <td>[0.5676248, 0.37978253, 0.034265257, 0.0183106...</td>\n      <td>[20, 21, 20, 22, 18, 20, 19, 22, 21, 18, 21, 2...</td>\n      <td>0.018327</td>\n    </tr>\n    <tr>\n      <th>595</th>\n      <td>gdoznDLU</td>\n      <td>[[0.0, -0.004574438, -0.097044036, -0.06645142...</td>\n      <td>[[0.029362805, -0.006976664], [0.122878835, -0...</td>\n      <td>[[1.7567675, 0.520626, 0.009970113, 0.3286349,...</td>\n      <td>[0.2, 0.2, 0.2, 0.2, 0.2, 0.2, 0.2, 0.2, 0.2, ...</td>\n      <td>0.028809</td>\n      <td>0.0</td>\n      <td>0.05</td>\n      <td>[0.8352367983039195, 0.4328657056483747, 0.044...</td>\n      <td>0.2</td>\n      <td>2</td>\n      <td>50</td>\n      <td>3</td>\n      <td>[0.5357448, 0.40565157, 0.040219463, 0.0087189...</td>\n      <td>[22, 21, 22, 21, 24, 20, 21, 22, 21, 21, 21, 2...</td>\n      <td>0.018384</td>\n    </tr>\n    <tr>\n      <th>9</th>\n      <td>0CAd0xYl</td>\n      <td>[[0.0, -0.36195984, -0.061343715, -0.2976796, ...</td>\n      <td>[[-0.20400564, 0.24003439], [-0.033435524, 0.0...</td>\n      <td>[[-0.057435848, -0.11264955, 0.21283947, 0.098...</td>\n      <td>[0.2, 0.2, 0.2, 0.2, 0.2, 0.2, 0.2, 0.2, 0.2, ...</td>\n      <td>0.028788</td>\n      <td>0.0</td>\n      <td>0.05</td>\n      <td>[0.8039241646547042, 0.3241956023598393, 0.036...</td>\n      <td>0.5</td>\n      <td>4</td>\n      <td>50</td>\n      <td>3</td>\n      <td>[0.6234299, 0.3237862, 0.033449113, 0.01188237...</td>\n      <td>[20, 21, 22, 22, 19, 18, 22, 22, 21, 21, 19, 2...</td>\n      <td>0.019335</td>\n    </tr>\n    <tr>\n      <th>1377</th>\n      <td>hXZ71YcQ</td>\n      <td>[[0.0, -0.114449695, -0.12558275, 0.039948963,...</td>\n      <td>[[-0.098105416, 0.113988325], [-0.050019793, 0...</td>\n      <td>[[-0.1867808, -0.35396722, -0.11195817, 0.3930...</td>\n      <td>[0.2, 0.2, 0.2, 0.2, 0.2, 0.2, 0.2, 0.2, 0.2, ...</td>\n      <td>0.032579</td>\n      <td>0.0</td>\n      <td>0.05</td>\n      <td>[0.8755344412848151, 0.3595883580486868, 0.030...</td>\n      <td>10.0</td>\n      <td>4</td>\n      <td>50</td>\n      <td>3</td>\n      <td>[0.5220022, 0.41245022, 0.043239452, 0.0222802...</td>\n      <td>[20, 19, 23, 23, 22, 23, 23, 20, 21, 20, 21, 2...</td>\n      <td>0.022308</td>\n    </tr>\n    <tr>\n      <th>1842</th>\n      <td>CHftHldV</td>\n      <td>[[0.0, -0.1214771, -0.080721416, -0.1175396, -...</td>\n      <td>[[-0.009238932, 0.01812601], [-0.009006683, 0....</td>\n      <td>[[0.5911109, -0.046690457, 0.15061074, -0.2223...</td>\n      <td>[0.2, 0.2, 0.2, 0.2, 0.2, 0.2, 0.2, 0.2, 0.2, ...</td>\n      <td>0.031863</td>\n      <td>0.0</td>\n      <td>0.05</td>\n      <td>[0.8602144059052389, 0.3445838841504463, 0.037...</td>\n      <td>50.0</td>\n      <td>4</td>\n      <td>50</td>\n      <td>3</td>\n      <td>[0.5257771, 0.4098129, 0.038670734, 0.02573099...</td>\n      <td>[22, 20, 22, 22, 20, 22, 24, 22, 22, 21, 20, 2...</td>\n      <td>0.025739</td>\n    </tr>\n  </tbody>\n</table>\n<p>193 rows × 16 columns</p>\n</div>"
     },
     "execution_count": 45,
     "metadata": {},
     "output_type": "execute_result"
    }
   ],
   "source": [
    "df_list = []\n",
    "for filename in os.listdir('Experiment_1/Results_1'):\n",
    "    f = os.path.join('Experiment_1/Results_1', filename)\n",
    "    if os.path.isfile(f):\n",
    "        df_list.append(pd.read_pickle(f))\n",
    "original_df = pd.concat(df_list,ignore_index=True) \n",
    "original_df = original_df[original_df.mse_z<.035]\n",
    "original_df.threshold = original_df.threshold.astype(float)\n",
    "original_df.weight_decay = original_df.weight_decay.astype(float)\n",
    "original_df = original_df[original_df.threshold==.05]\n",
    "original_df = original_df[original_df.weight_decay==0]\n",
    "original_df = original_df[original_df.n_neurons==50]\n",
    "k=3\n",
    "original_df['var'] = original_df.variance.apply(lambda x: compute_var(x,k))\n",
    "original_df = original_df[original_df.k==k]\n",
    "original_df.sort_values('var')"
   ],
   "metadata": {
    "collapsed": false,
    "ExecuteTime": {
     "end_time": "2024-07-22T19:09:16.082775Z",
     "start_time": "2024-07-22T19:09:15.860126Z"
    }
   },
   "id": "64873c4705095188",
   "execution_count": 45
  },
  {
   "cell_type": "code",
   "outputs": [
    {
     "data": {
      "text/plain": "<Figure size 225x300 with 4 Axes>",
      "image/png": "[encoded data removed]"
     },
     "metadata": {},
     "output_type": "display_data"
    }
   ],
   "source": [
    "model_data = original_df[original_df.model_id=='n4WsWOO0']\n",
    "net = Net(n=50,input_size = 2,dale=False)\n",
    "net.recurrent_layer.weight.data = torch.tensor(model_data['w_rec'].item())\n",
    "net.recurrent_layer.bias.data = torch.tensor(model_data['bias'].item())\n",
    "net.input_layer.weight.data = torch.tensor(model_data['w_in'].item())\n",
    "net.output_layer.weight.data = torch.tensor(model_data['w_out'].item())\n",
    "variance = model_data['var'].item()\n",
    "u, z, mask, conditions  = generate_trials(\n",
    "                            n_trials=100)\n",
    "x = net(u).detach().cpu().numpy()\n",
    "rows = []\n",
    "for k in range(u.shape[0]):\n",
    "    rows.append({'trial': k,\n",
    "                 'motion': conditions[k]['motion_coh'],\n",
    "                 'response': x[k, :, :]})\n",
    "df = pd.DataFrame(rows)\n",
    "df = df.groupby('motion').response.apply(lambda r: np.mean(np.stack(r), axis=0)).reset_index()\n",
    "responses = np.stack(df.response.values)\n",
    "responses = responses.reshape(-1, responses.shape[2]).T\n",
    "\n",
    "\n",
    "# Restricting to active neurons\n",
    "responses = (responses - np.mean(responses, axis=1, keepdims=True)) / np.std(responses, axis=1, keepdims=True)\n",
    "responses = responses[~np.isnan(responses).any(axis=1)]\n",
    "\n",
    "responses_jitter = responses + 1*(2*np.random.rand(responses.shape[0],responses.shape[1])-1)\n",
    "\n",
    "\n",
    "\n",
    "rot = special_ortho_group.rvs(responses.shape[0])\n",
    "responses = rot @ responses\n",
    "\n",
    "\n",
    "# pca = PCA(n_components  = 2)\n",
    "# responses = pca.inverse_transform(pca.fit_transform(responses.T)).T\n",
    "#k = model_data.k.values[0]\n",
    "inertia, k= compute_k(responses,n_init=5,max_clusters=25,threshold=.05)\n",
    "clustering = KMeans(n_clusters=k,n_init=20).fit(responses)\n",
    "labels  = clustering.labels_\n",
    "sort = np.argsort(labels)\n",
    "sorted_responses = responses_jitter[sort,:]\n",
    "sns.husl_palette(s=.4)\n",
    "network_pal = sns.husl_palette(pd.Series(np.sort(labels)).unique().size,s=1)\n",
    "lut = dict(zip(pd.Series(np.sort(labels)).unique(),network_pal))\n",
    "row_colors = pd.Series(np.sort(labels)).map(lut)\n",
    "g = sns.clustermap(pd.DataFrame((sorted_responses)),row_cluster=False, col_cluster=False, row_colors=row_colors,figsize=(2.25,3),cbar_pos=None, xticklabels=False, yticklabels=False,center=0)\n",
    "g.savefig('Figures/SIFigure_nulltest_a.jpg',\n",
    "    format='jpeg',\n",
    "    dpi=450,\n",
    "            bbox_inches='tight'\n",
    ")"
   ],
   "metadata": {
    "collapsed": false,
    "ExecuteTime": {
     "end_time": "2024-07-22T19:24:48.910212Z",
     "start_time": "2024-07-22T19:24:47.290024Z"
    }
   },
   "id": "79412e436ef14cdb",
   "execution_count": 86
  },
  {
   "cell_type": "code",
   "outputs": [
    {
     "data": {
      "text/plain": "(900, 75, 50)"
     },
     "execution_count": 87,
     "metadata": {},
     "output_type": "execute_result"
    }
   ],
   "source": [
    "x.shape"
   ],
   "metadata": {
    "collapsed": false,
    "ExecuteTime": {
     "end_time": "2024-07-22T19:24:48.918066Z",
     "start_time": "2024-07-22T19:24:48.912779Z"
    }
   },
   "id": "6b298b9931c5a5e5",
   "execution_count": 87
  },
  {
   "cell_type": "code",
   "outputs": [
    {
     "data": {
      "text/plain": "(900, 75, 50)"
     },
     "execution_count": 88,
     "metadata": {},
     "output_type": "execute_result"
    }
   ],
   "source": [
    "x.shape"
   ],
   "metadata": {
    "collapsed": false,
    "ExecuteTime": {
     "end_time": "2024-07-22T19:24:48.923264Z",
     "start_time": "2024-07-22T19:24:48.917336Z"
    }
   },
   "id": "e4085b3000b460d3",
   "execution_count": 88
  },
  {
   "cell_type": "code",
   "outputs": [
    {
     "data": {
      "text/plain": "<Figure size 150x150 with 1 Axes>",
      "image/png": "[encoded data removed]"
     },
     "metadata": {},
     "output_type": "display_data"
    }
   ],
   "source": [
    "\n",
    "from scipy.stats import special_ortho_group\n",
    "\n",
    "x_rshp = responses\n",
    "pca = PCA(n_components=2)\n",
    "x_proj = pca.fit_transform(x_rshp)\n",
    "x_proj_jitter = x_proj + 4*(2*np.random.rand(x_proj.shape[0],x_proj.shape[1])-1)\n",
    "\n",
    "lut = dict(zip(pd.Series(np.sort(labels)).unique(),network_pal))\n",
    "row_colors = pd.Series(np.sort(labels)).map(lut)\n",
    "\n",
    "fig = plt.figure(figsize=(1.5,1.5))\n",
    "gs = gridspec.GridSpec(1,1)\n",
    "ax=fig.add_subplot(gs[0,0])\n",
    "sns.scatterplot(x=x_proj[np.argsort(labels), 0], y=x_proj[np.argsort(labels), 1], c=row_colors,s=8,alpha=1)\n",
    "sns.scatterplot(x=x_proj_jitter[np.argsort(labels), 0], y=x_proj_jitter[np.argsort(labels), 1], c=row_colors,s=4,alpha=1)\n",
    "#sns.kdeplot(x=x_proj[np.argsort(labels), 0], y=x_proj[np.argsort(labels), 1], hue = ,s=10,alpha=1)\n",
    "\n",
    "#ax.scatter(x_proj[np.argsort(labels), 0],x_proj[np.argsort(labels), 1],x_proj[np.argsort(labels), 2],c=row_colors,s=10)\n",
    "ax.spines['right'].set_visible(False)\n",
    "ax.spines['top'].set_visible(False)\n",
    "ax.xaxis.set_tick_params(labelsize=8,bottom=True)\n",
    "ax.yaxis.set_tick_params(labelsize=8,left=True)\n",
    "ax.spines['left'].set_color('black')\n",
    "ax.spines['bottom'].set_color('black')\n",
    "ax.spines['right'].set_visible(False)\n",
    "ax.spines['top'].set_visible(False)\n",
    "ax.spines['left'].set_visible(False)\n",
    "ax.spines['bottom'].set_visible(False)\n",
    "# ax.set_xlim(-15,15)\n",
    "# ax.set_ylim(-15,15)\n",
    "plt.savefig('Figures/Fig1c.jpg',\n",
    "    format='jpeg',\n",
    "    dpi=450,\n",
    "            bbox_inches='tight'\n",
    ")\n",
    "plt.savefig('Figures/SIFigure_nulltest_b.jpg',\n",
    "    format='jpeg',\n",
    "    dpi=450,\n",
    "            bbox_inches='tight'\n",
    ")"
   ],
   "metadata": {
    "collapsed": false,
    "ExecuteTime": {
     "end_time": "2024-07-22T19:24:49.134735Z",
     "start_time": "2024-07-22T19:24:48.930035Z"
    }
   },
   "id": "a05fb049e5377bf8",
   "execution_count": 89
  },
  {
   "cell_type": "code",
   "outputs": [
    {
     "data": {
      "text/plain": "17"
     },
     "execution_count": 90,
     "metadata": {},
     "output_type": "execute_result"
    }
   ],
   "source": [
    "k"
   ],
   "metadata": {
    "collapsed": false,
    "ExecuteTime": {
     "end_time": "2024-07-22T19:24:50.809451Z",
     "start_time": "2024-07-22T19:24:50.807310Z"
    }
   },
   "id": "ad89a57e309b81c3",
   "execution_count": 90
  },
  {
   "cell_type": "code",
   "outputs": [
    {
     "data": {
      "text/plain": "<Figure size 150x150 with 1 Axes>",
      "image/png": "[encoded data removed]"
     },
     "metadata": {},
     "output_type": "display_data"
    }
   ],
   "source": [
    "\n",
    "net = Net(n=50,input_size = 2,dale=False)\n",
    "net.recurrent_layer.weight.data = torch.tensor(model_data['w_rec'].item())\n",
    "net.recurrent_layer.bias.data = torch.tensor(model_data['bias'].item())\n",
    "net.input_layer.weight.data = torch.tensor(model_data['w_in'].item())\n",
    "net.output_layer.weight.data = torch.tensor(model_data['w_out'].item())\n",
    "palette = sns.color_palette(\"coolwarm\", n_colors=9,as_cmap=False)\n",
    "\n",
    "u, z, mask, conditions  = generate_trials(\n",
    "                            n_trials=100)\n",
    "#net.sigma_in =0.4\n",
    "\n",
    "#x = net.forward(u).detach().numpy()\n",
    "x = net(u).detach().numpy()\n",
    "\n",
    "rot = special_ortho_group.rvs(responses.shape[0])\n",
    "x =  x @ rot\n",
    "\n",
    "\n",
    "\n",
    "#x = x + .4 * (2*torch.rand_like(x) - 1)\n",
    "n_components=3\n",
    "pca = PCA(n_components=n_components)\n",
    "pca.fit(x[:,:,:].reshape(-1, x.shape[2]))\n",
    "x_proj = pca.transform(x.reshape(-1, x.shape[2])).reshape(x.shape[0],x.shape[1],n_components)\n",
    "\n",
    "rows = []\n",
    "for k in range(u.shape[0]):\n",
    "    for t in range(u.shape[1]):\n",
    "        rows.append({'trial':k,\n",
    "                     'motion':conditions[k]['motion_coh'],\n",
    "                    't':t,\n",
    "                    'z_1':x_proj[k,t,0],\n",
    "                    'z_2':x_proj[k,t,1],\n",
    "                     'z_3':x_proj[k,t,2]})\n",
    "new_df = pd.DataFrame(rows)\n",
    "new_df_mean =new_df.groupby(['motion','t']).mean().reset_index()\n",
    "fig = plt.figure(figsize=(1.5,1.5))\n",
    "gs = gridspec.GridSpec(1,1)\n",
    "ax=fig.add_subplot(gs[0,0])\n",
    "# coherences = np.sort(new_df.motion.unique())\n",
    "# for i in range(len(coherences)):    \n",
    "#     motion_df = new_df[new_df.motion == coherences[i]]\n",
    "#     #ax.plot(motion_df[motion_df.t>=30].z_1.values,motion_df[motion_df.t>=30].z_2.values,color=palette[i],lw=1)\n",
    "#     ax.plot(motion_df.z_1.values,motion_df.z_2.values,color=palette[i],lw=1)\n",
    "\n",
    "    # ax.plot(motion_df[motion_df.t<30].z_1.values,motion_df[motion_df.t<30].z_2.values,color='gray',linestyle='--',alpha=.5,lw=1)\n",
    "#new_df = new_df.groupby(['motion','t']).mean().reset_index()\n",
    "sns.scatterplot(data=new_df,x='z_1',y='z_2',hue='t',ax=ax,legend=False,s=1,alpha=.25)\n",
    "\n",
    "sns.scatterplot(data=new_df_mean,x='z_1',y='z_2',hue='t',ax=ax,legend=False,s=4,alpha=1)\n",
    "\n",
    "ax.spines['right'].set_visible(False)\n",
    "ax.spines['top'].set_visible(False)\n",
    "ax.set_xlabel(\"PC 1\",fontsize=7)\n",
    "ax.set_ylabel(\"PC 2\",fontsize=7)\n",
    "ax.set_title(r'$\\sum_{i\\geq 2}\\lambda_i = $'+str(np.round(variance,4)),fontsize=8)\n",
    "ax.xaxis.set_tick_params(labelsize=7,bottom=True)\n",
    "ax.yaxis.set_tick_params(labelsize=7,left=True)\n",
    "ax.spines['left'].set_color('black')\n",
    "ax.spines['bottom'].set_color('black')\n",
    "fig.savefig('Figures/Exp_2_Fig_1.jpg',\n",
    "    format='jpeg',\n",
    "    dpi=450,\n",
    "            bbox_inches='tight')\n"
   ],
   "metadata": {
    "collapsed": false,
    "ExecuteTime": {
     "end_time": "2024-07-22T19:23:16.161159Z",
     "start_time": "2024-07-22T19:23:14.448647Z"
    }
   },
   "id": "cf3e3963e70fd9dc",
   "execution_count": 82
  },
  {
   "cell_type": "code",
   "outputs": [
    {
     "data": {
      "text/plain": "<Figure size 150x150 with 1 Axes>",
      "image/png": "[encoded data removed]"
     },
     "metadata": {},
     "output_type": "display_data"
    }
   ],
   "source": [
    "null_k = model_data['null_k'].item()\n",
    "\n",
    "fig = plt.figure(figsize=(1.5,1.5))\n",
    "gs = gridspec.GridSpec(1,1)\n",
    "ax=fig.add_subplot(gs[0,0])\n",
    "\n",
    "sns.histplot(x = null_k)\n",
    "ax.axvline(3,lw=.5,linestyle='--')\n",
    "ax.spines['right'].set_visible(False)\n",
    "ax.spines['top'].set_visible(False)\n",
    "ax.set_xlabel(\"k\",fontsize=7)\n",
    "ax.set_ylabel(\"Count\",fontsize=7)\n",
    "ax.xaxis.set_tick_params(labelsize=7,bottom=True)\n",
    "ax.yaxis.set_tick_params(labelsize=7,left=True)\n",
    "ax.spines['left'].set_color('black')\n",
    "ax.spines['bottom'].set_color('black')\n",
    "fig.savefig('Figures/Exp_2_Fig_1.jpg',\n",
    "    format='jpeg',\n",
    "    dpi=450,\n",
    "            bbox_inches='tight')\n"
   ],
   "metadata": {
    "collapsed": false,
    "ExecuteTime": {
     "end_time": "2024-07-22T19:29:45.189744Z",
     "start_time": "2024-07-22T19:29:45.093192Z"
    }
   },
   "id": "2cc7ba61b7c5ac25",
   "execution_count": 99
  },
  {
   "cell_type": "code",
   "outputs": [
    {
     "data": {
      "text/plain": "<Figure size 100x50 with 1 Axes>",
      "image/png": "[encoded data removed]"
     },
     "metadata": {},
     "output_type": "display_data"
    }
   ],
   "source": [
    "model_data = original_df[original_df.model_id=='n4WsWOO0']\n",
    "net = Net(n=50,input_size = 2,dale=False)\n",
    "net.recurrent_layer.weight.data = torch.tensor(model_data['w_rec'].item())\n",
    "net.recurrent_layer.bias.data = torch.tensor(model_data['bias'].item())\n",
    "net.input_layer.weight.data = torch.tensor(model_data['w_in'].item())\n",
    "net.output_layer.weight.data = torch.tensor(model_data['w_out'].item())\n",
    "variance = model_data['var'].item()\n",
    "u, z, mask, conditions  = generate_trials(\n",
    "                            n_trials=100)\n",
    "x = net(u).detach().numpy()\n",
    "\n",
    "rot = special_ortho_group.rvs(x.shape[2])\n",
    "x =  x @ rot\n",
    "fig = plt.figure(figsize=(1,.5))\n",
    "gs = gridspec.GridSpec(1,1)\n",
    "ax=fig.add_subplot(gs[0,0])\n",
    "pca = PCA().fit(x.reshape(-1,x.shape[2]))\n",
    "sns.barplot(x = np.arange(1,9),y =-np.log(pca.explained_variance_ratio_[:8]),width=1,alpha=.75)\n",
    "\n",
    "ax.spines['right'].set_visible(False)\n",
    "ax.spines['top'].set_visible(False)\n",
    "ax.xaxis.set_tick_params(labelsize=6,bottom=True)\n",
    "ax.yaxis.set_tick_params(labelsize=6,left=True)\n",
    "ax.spines['left'].set_color('black')\n",
    "ax.spines['bottom'].set_color('black')\n",
    "\n",
    "ax.set_xlabel(\"PC\",fontsize=6)\n",
    "ax.set_ylabel(\"\",fontsize=7)\n",
    "ax.set_ylim(0,15)\n",
    "fig.savefig('Figures/Exp_2_Fig_1.jpg',\n",
    "    format='jpeg',\n",
    "    dpi=450,\n",
    "            bbox_inches='tight')"
   ],
   "metadata": {
    "collapsed": false,
    "ExecuteTime": {
     "end_time": "2024-07-22T19:32:33.743215Z",
     "start_time": "2024-07-22T19:32:33.512286Z"
    }
   },
   "id": "85da7a57f5562725",
   "execution_count": 104
  },
  {
   "cell_type": "code",
   "outputs": [],
   "source": [],
   "metadata": {
    "collapsed": false
   },
   "id": "cf028274164d4283"
  }
 ],
 "metadata": {
  "kernelspec": {
   "display_name": "Python 3",
   "language": "python",
   "name": "python3"
  },
  "language_info": {
   "codemirror_mode": {
    "name": "ipython",
    "version": 2
   },
   "file_extension": ".py",
   "mimetype": "text/x-python",
   "name": "python",
   "nbconvert_exporter": "python",
   "pygments_lexer": "ipython2",
   "version": "2.7.6"
  }
 },
 "nbformat": 4,
 "nbformat_minor": 5
}
