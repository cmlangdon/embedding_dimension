{
 "cells": [
  {
   "cell_type": "code",
   "outputs": [],
   "source": [
    "\n"
   ],
   "metadata": {
    "collapsed": false,
    "ExecuteTime": {
     "end_time": "2025-02-03T20:32:29.987512Z",
     "start_time": "2025-02-03T20:32:29.983702Z"
    }
   },
   "id": "5a32b9dcae85081b",
   "execution_count": null
  },
  {
   "cell_type": "code",
   "outputs": [
    {
     "name": "stdout",
     "output_type": "stream",
     "text": [
      "/Users/cl1704/PycharmProjects/clustering_in_rnns\n"
     ]
    }
   ],
   "source": [
    "cd /Users/cl1704/PycharmProjects/clustering_in_rnns"
   ],
   "metadata": {
    "collapsed": false,
    "ExecuteTime": {
     "end_time": "2025-04-08T14:57:55.209620Z",
     "start_time": "2025-04-08T14:57:55.197208Z"
    }
   },
   "id": "8c47268c1fef7d8",
   "execution_count": 1
  },
  {
   "cell_type": "code",
   "outputs": [],
   "source": [
    "\n",
    "\n",
    "def compute_var(variance, n):\n",
    "    return np.sum(variance[n:])\n",
    "\n",
    "\n",
    "def compute_p(k, null_k):\n",
    "    return (np.sum(null_k < k) / len(null_k))\n",
    "\n",
    "\n",
    "from Experiment_1.TwoAFCTask import generate_trials\n",
    "#from Experiment_5.SiegelMillerTask import generate_trials\n",
    "import networkx as nx\n",
    "import pandas as pd\n",
    "import matplotlib\n",
    "import matplotlib.pyplot as plt\n",
    "from matplotlib import gridspec\n",
    "import seaborn as sns\n",
    "from Experiment_1.net import *\n",
    "import os\n",
    "import statsmodels.api as sm\n",
    "import scipy.optimize as opt\n",
    "import math\n",
    "#from psychometrics import *\n",
    "from sklearn.cluster import DBSCAN\n",
    "from sklearn.decomposition import PCA\n",
    "import networkx as nx\n",
    "from sklearn.cluster import KMeans\n",
    "\n",
    "plt.rcParams[\"axes.grid\"] = False\n",
    "from sklearn.manifold import TSNE\n",
    "\n",
    "matplotlib.rcParams['axes.linewidth'] = .5\n"
   ],
   "metadata": {
    "collapsed": true,
    "ExecuteTime": {
     "end_time": "2025-04-08T14:57:56.302407Z",
     "start_time": "2025-04-08T14:57:55.207801Z"
    }
   },
   "id": "initial_id",
   "execution_count": 2
  },
  {
   "cell_type": "code",
   "outputs": [],
   "source": [
    "def compute_var(variance,n):\n",
    "    return np.sum(variance[n:])\n",
    "\n",
    "def compute_p(k, null_k):\n",
    "    return (np.sum(null_k<k)/len(null_k))"
   ],
   "metadata": {
    "collapsed": false,
    "ExecuteTime": {
     "end_time": "2025-04-08T14:57:56.306673Z",
     "start_time": "2025-04-08T14:57:56.303269Z"
    }
   },
   "id": "97a2973f63638044",
   "execution_count": 3
  },
  {
   "cell_type": "code",
   "outputs": [
    {
     "ename": "ModuleNotFoundError",
     "evalue": "No module named 'numpy._core'",
     "output_type": "error",
     "traceback": [
      "\u001B[0;31m---------------------------------------------------------------------------\u001B[0m",
      "\u001B[0;31mModuleNotFoundError\u001B[0m                       Traceback (most recent call last)",
      "File \u001B[0;32m~/anaconda3/envs/clustering_env/lib/python3.8/site-packages/pandas/io/pickle.py:196\u001B[0m, in \u001B[0;36mread_pickle\u001B[0;34m(filepath_or_buffer, compression, storage_options)\u001B[0m\n\u001B[1;32m    195\u001B[0m         warnings\u001B[38;5;241m.\u001B[39msimplefilter(\u001B[38;5;124m\"\u001B[39m\u001B[38;5;124mignore\u001B[39m\u001B[38;5;124m\"\u001B[39m, \u001B[38;5;167;01mWarning\u001B[39;00m)\n\u001B[0;32m--> 196\u001B[0m         \u001B[38;5;28;01mreturn\u001B[39;00m \u001B[43mpickle\u001B[49m\u001B[38;5;241;43m.\u001B[39;49m\u001B[43mload\u001B[49m\u001B[43m(\u001B[49m\u001B[43mhandles\u001B[49m\u001B[38;5;241;43m.\u001B[39;49m\u001B[43mhandle\u001B[49m\u001B[43m)\u001B[49m\n\u001B[1;32m    197\u001B[0m \u001B[38;5;28;01mexcept\u001B[39;00m excs_to_catch:\n\u001B[1;32m    198\u001B[0m     \u001B[38;5;66;03m# e.g.\u001B[39;00m\n\u001B[1;32m    199\u001B[0m     \u001B[38;5;66;03m#  \"No module named 'pandas.core.sparse.series'\"\u001B[39;00m\n\u001B[1;32m    200\u001B[0m     \u001B[38;5;66;03m#  \"Can't get attribute '__nat_unpickle' on <module 'pandas._libs.tslib\"\u001B[39;00m\n",
      "\u001B[0;31mModuleNotFoundError\u001B[0m: No module named 'numpy._core'",
      "\nDuring handling of the above exception, another exception occurred:\n",
      "\u001B[0;31mModuleNotFoundError\u001B[0m                       Traceback (most recent call last)",
      "Cell \u001B[0;32mIn[8], line 20\u001B[0m\n\u001B[1;32m     18\u001B[0m original_df_act \u001B[38;5;241m=\u001B[39m original_df_act[original_df_act\u001B[38;5;241m.\u001B[39mlambda_std\u001B[38;5;241m==\u001B[39m\u001B[38;5;241m0.1\u001B[39m]\n\u001B[1;32m     19\u001B[0m original_df_act \u001B[38;5;241m=\u001B[39m original_df_act[original_df_act\u001B[38;5;241m.\u001B[39mn\u001B[38;5;241m==\u001B[39m\u001B[38;5;241m100\u001B[39m]\n\u001B[0;32m---> 20\u001B[0m ibloriginal_df \u001B[38;5;241m=\u001B[39m \u001B[43mpd\u001B[49m\u001B[38;5;241;43m.\u001B[39;49m\u001B[43mread_pickle\u001B[49m\u001B[43m(\u001B[49m\u001B[38;5;124;43m\"\u001B[39;49m\u001B[38;5;124;43mIBLdf.pkl\u001B[39;49m\u001B[38;5;124;43m\"\u001B[39;49m\u001B[43m)\u001B[49m  \n\u001B[1;32m     21\u001B[0m \u001B[38;5;66;03m#ibloriginal_df = ibloriginal_df[ibloriginal_df.n_active == 50]\u001B[39;00m\n\u001B[1;32m     22\u001B[0m \u001B[38;5;66;03m#original_df_act = original_df_act[original_df_act.sigma_rec==0.]\u001B[39;00m\n\u001B[1;32m     23\u001B[0m \u001B[38;5;66;03m#original_df_act = original_df_act[original_df_act.n==100]\u001B[39;00m\n\u001B[0;32m   (...)\u001B[0m\n\u001B[1;32m     28\u001B[0m \n\u001B[1;32m     29\u001B[0m \u001B[38;5;66;03m#original_df = original_df[original_df.k>1]\u001B[39;00m\n\u001B[1;32m     30\u001B[0m parameters \u001B[38;5;241m=\u001B[39m []\n",
      "File \u001B[0;32m~/anaconda3/envs/clustering_env/lib/python3.8/site-packages/pandas/io/pickle.py:201\u001B[0m, in \u001B[0;36mread_pickle\u001B[0;34m(filepath_or_buffer, compression, storage_options)\u001B[0m\n\u001B[1;32m    196\u001B[0m             \u001B[38;5;28;01mreturn\u001B[39;00m pickle\u001B[38;5;241m.\u001B[39mload(handles\u001B[38;5;241m.\u001B[39mhandle)\n\u001B[1;32m    197\u001B[0m     \u001B[38;5;28;01mexcept\u001B[39;00m excs_to_catch:\n\u001B[1;32m    198\u001B[0m         \u001B[38;5;66;03m# e.g.\u001B[39;00m\n\u001B[1;32m    199\u001B[0m         \u001B[38;5;66;03m#  \"No module named 'pandas.core.sparse.series'\"\u001B[39;00m\n\u001B[1;32m    200\u001B[0m         \u001B[38;5;66;03m#  \"Can't get attribute '__nat_unpickle' on <module 'pandas._libs.tslib\"\u001B[39;00m\n\u001B[0;32m--> 201\u001B[0m         \u001B[38;5;28;01mreturn\u001B[39;00m \u001B[43mpc\u001B[49m\u001B[38;5;241;43m.\u001B[39;49m\u001B[43mload\u001B[49m\u001B[43m(\u001B[49m\u001B[43mhandles\u001B[49m\u001B[38;5;241;43m.\u001B[39;49m\u001B[43mhandle\u001B[49m\u001B[43m,\u001B[49m\u001B[43m \u001B[49m\u001B[43mencoding\u001B[49m\u001B[38;5;241;43m=\u001B[39;49m\u001B[38;5;28;43;01mNone\u001B[39;49;00m\u001B[43m)\u001B[49m\n\u001B[1;32m    202\u001B[0m \u001B[38;5;28;01mexcept\u001B[39;00m \u001B[38;5;167;01mUnicodeDecodeError\u001B[39;00m:\n\u001B[1;32m    203\u001B[0m     \u001B[38;5;66;03m# e.g. can occur for files written in py27; see GH#28645 and GH#31988\u001B[39;00m\n\u001B[1;32m    204\u001B[0m     \u001B[38;5;28;01mreturn\u001B[39;00m pc\u001B[38;5;241m.\u001B[39mload(handles\u001B[38;5;241m.\u001B[39mhandle, encoding\u001B[38;5;241m=\u001B[39m\u001B[38;5;124m\"\u001B[39m\u001B[38;5;124mlatin-1\u001B[39m\u001B[38;5;124m\"\u001B[39m)\n",
      "File \u001B[0;32m~/anaconda3/envs/clustering_env/lib/python3.8/site-packages/pandas/compat/pickle_compat.py:218\u001B[0m, in \u001B[0;36mload\u001B[0;34m(fh, encoding, is_verbose)\u001B[0m\n\u001B[1;32m    215\u001B[0m     \u001B[38;5;66;03m# \"Unpickler\" has no attribute \"is_verbose\"  [attr-defined]\u001B[39;00m\n\u001B[1;32m    216\u001B[0m     up\u001B[38;5;241m.\u001B[39mis_verbose \u001B[38;5;241m=\u001B[39m is_verbose  \u001B[38;5;66;03m# type: ignore[attr-defined]\u001B[39;00m\n\u001B[0;32m--> 218\u001B[0m     \u001B[38;5;28;01mreturn\u001B[39;00m \u001B[43mup\u001B[49m\u001B[38;5;241;43m.\u001B[39;49m\u001B[43mload\u001B[49m\u001B[43m(\u001B[49m\u001B[43m)\u001B[49m\n\u001B[1;32m    219\u001B[0m \u001B[38;5;28;01mexcept\u001B[39;00m (\u001B[38;5;167;01mValueError\u001B[39;00m, \u001B[38;5;167;01mTypeError\u001B[39;00m):\n\u001B[1;32m    220\u001B[0m     \u001B[38;5;28;01mraise\u001B[39;00m\n",
      "File \u001B[0;32m~/anaconda3/envs/clustering_env/lib/python3.8/pickle.py:1212\u001B[0m, in \u001B[0;36m_Unpickler.load\u001B[0;34m(self)\u001B[0m\n\u001B[1;32m   1210\u001B[0m             \u001B[38;5;28;01mraise\u001B[39;00m \u001B[38;5;167;01mEOFError\u001B[39;00m\n\u001B[1;32m   1211\u001B[0m         \u001B[38;5;28;01massert\u001B[39;00m \u001B[38;5;28misinstance\u001B[39m(key, bytes_types)\n\u001B[0;32m-> 1212\u001B[0m         \u001B[43mdispatch\u001B[49m\u001B[43m[\u001B[49m\u001B[43mkey\u001B[49m\u001B[43m[\u001B[49m\u001B[38;5;241;43m0\u001B[39;49m\u001B[43m]\u001B[49m\u001B[43m]\u001B[49m\u001B[43m(\u001B[49m\u001B[38;5;28;43mself\u001B[39;49m\u001B[43m)\u001B[49m\n\u001B[1;32m   1213\u001B[0m \u001B[38;5;28;01mexcept\u001B[39;00m _Stop \u001B[38;5;28;01mas\u001B[39;00m stopinst:\n\u001B[1;32m   1214\u001B[0m     \u001B[38;5;28;01mreturn\u001B[39;00m stopinst\u001B[38;5;241m.\u001B[39mvalue\n",
      "File \u001B[0;32m~/anaconda3/envs/clustering_env/lib/python3.8/pickle.py:1537\u001B[0m, in \u001B[0;36m_Unpickler.load_stack_global\u001B[0;34m(self)\u001B[0m\n\u001B[1;32m   1535\u001B[0m \u001B[38;5;28;01mif\u001B[39;00m \u001B[38;5;28mtype\u001B[39m(name) \u001B[38;5;129;01mis\u001B[39;00m \u001B[38;5;129;01mnot\u001B[39;00m \u001B[38;5;28mstr\u001B[39m \u001B[38;5;129;01mor\u001B[39;00m \u001B[38;5;28mtype\u001B[39m(module) \u001B[38;5;129;01mis\u001B[39;00m \u001B[38;5;129;01mnot\u001B[39;00m \u001B[38;5;28mstr\u001B[39m:\n\u001B[1;32m   1536\u001B[0m     \u001B[38;5;28;01mraise\u001B[39;00m UnpicklingError(\u001B[38;5;124m\"\u001B[39m\u001B[38;5;124mSTACK_GLOBAL requires str\u001B[39m\u001B[38;5;124m\"\u001B[39m)\n\u001B[0;32m-> 1537\u001B[0m \u001B[38;5;28mself\u001B[39m\u001B[38;5;241m.\u001B[39mappend(\u001B[38;5;28;43mself\u001B[39;49m\u001B[38;5;241;43m.\u001B[39;49m\u001B[43mfind_class\u001B[49m\u001B[43m(\u001B[49m\u001B[43mmodule\u001B[49m\u001B[43m,\u001B[49m\u001B[43m \u001B[49m\u001B[43mname\u001B[49m\u001B[43m)\u001B[49m)\n",
      "File \u001B[0;32m~/anaconda3/envs/clustering_env/lib/python3.8/site-packages/pandas/compat/pickle_compat.py:149\u001B[0m, in \u001B[0;36mUnpickler.find_class\u001B[0;34m(self, module, name)\u001B[0m\n\u001B[1;32m    147\u001B[0m key \u001B[38;5;241m=\u001B[39m (module, name)\n\u001B[1;32m    148\u001B[0m module, name \u001B[38;5;241m=\u001B[39m _class_locations_map\u001B[38;5;241m.\u001B[39mget(key, key)\n\u001B[0;32m--> 149\u001B[0m \u001B[38;5;28;01mreturn\u001B[39;00m \u001B[38;5;28;43msuper\u001B[39;49m\u001B[43m(\u001B[49m\u001B[43m)\u001B[49m\u001B[38;5;241;43m.\u001B[39;49m\u001B[43mfind_class\u001B[49m\u001B[43m(\u001B[49m\u001B[43mmodule\u001B[49m\u001B[43m,\u001B[49m\u001B[43m \u001B[49m\u001B[43mname\u001B[49m\u001B[43m)\u001B[49m\n",
      "File \u001B[0;32m~/anaconda3/envs/clustering_env/lib/python3.8/pickle.py:1579\u001B[0m, in \u001B[0;36m_Unpickler.find_class\u001B[0;34m(self, module, name)\u001B[0m\n\u001B[1;32m   1577\u001B[0m     \u001B[38;5;28;01melif\u001B[39;00m module \u001B[38;5;129;01min\u001B[39;00m _compat_pickle\u001B[38;5;241m.\u001B[39mIMPORT_MAPPING:\n\u001B[1;32m   1578\u001B[0m         module \u001B[38;5;241m=\u001B[39m _compat_pickle\u001B[38;5;241m.\u001B[39mIMPORT_MAPPING[module]\n\u001B[0;32m-> 1579\u001B[0m \u001B[38;5;28;43m__import__\u001B[39;49m\u001B[43m(\u001B[49m\u001B[43mmodule\u001B[49m\u001B[43m,\u001B[49m\u001B[43m \u001B[49m\u001B[43mlevel\u001B[49m\u001B[38;5;241;43m=\u001B[39;49m\u001B[38;5;241;43m0\u001B[39;49m\u001B[43m)\u001B[49m\n\u001B[1;32m   1580\u001B[0m \u001B[38;5;28;01mif\u001B[39;00m \u001B[38;5;28mself\u001B[39m\u001B[38;5;241m.\u001B[39mproto \u001B[38;5;241m>\u001B[39m\u001B[38;5;241m=\u001B[39m \u001B[38;5;241m4\u001B[39m:\n\u001B[1;32m   1581\u001B[0m     \u001B[38;5;28;01mreturn\u001B[39;00m _getattribute(sys\u001B[38;5;241m.\u001B[39mmodules[module], name)[\u001B[38;5;241m0\u001B[39m]\n",
      "\u001B[0;31mModuleNotFoundError\u001B[0m: No module named 'numpy._core'"
     ]
    },
    {
     "data": {
      "text/plain": "<Figure size 800x150 with 4 Axes>",
      "image/png": "[encoded data removed]"
     },
     "metadata": {},
     "output_type": "display_data"
    }
   ],
   "source": [
    "import scipy.optimize as opt\n",
    "import math\n",
    "fig = plt.figure(figsize=(8,1.5))\n",
    "gs = gridspec.GridSpec(1,4,wspace = .35)\n",
    "ax0=fig.add_subplot(gs[0,0])\n",
    "ax1=fig.add_subplot(gs[0,1])\n",
    "ax2=fig.add_subplot(gs[0,2])\n",
    "ax3=fig.add_subplot(gs[0,3])\n",
    "axes = [ax0,ax1,ax2,ax3]\n",
    "\n",
    "df_list = []\n",
    "for filename in os.listdir('Experiment_1/Results_1'):\n",
    "    f = os.path.join('Experiment_1/Results_1', filename)\n",
    "    if os.path.isfile(f):\n",
    "        df_list.append(pd.read_pickle(f))\n",
    "original_df_act = pd.concat(df_list,ignore_index=True) \n",
    "original_df_act = original_df_act[original_df_act.mse_z<.035]\n",
    "original_df_act = original_df_act[original_df_act.lambda_std==0.1]\n",
    "original_df_act = original_df_act[original_df_act.n==100]\n",
    "ibloriginal_df = pd.read_pickle(\"IBLdf.pkl\")  \n",
    "#ibloriginal_df = ibloriginal_df[ibloriginal_df.n_active == 50]\n",
    "#original_df_act = original_df_act[original_df_act.sigma_rec==0.]\n",
    "#original_df_act = original_df_act[original_df_act.n==100]\n",
    "#original_df_act = original_df_act[original_df_act.beta==20.]\n",
    "#original_df_act = original_df_act[original_df_act.activity_std<.01]\n",
    "#original_df_act = original_df_act[original_df_act.beta==5.]\n",
    "\n",
    "\n",
    "#original_df = original_df[original_df.k>1]\n",
    "parameters = []\n",
    "fit_rows = []\n",
    "\n",
    "for i in range(3):\n",
    "    ax = axes[i]\n",
    "    k = i+2\n",
    "    df = original_df_act.copy()\n",
    "    df['var'] = df.variance.apply(lambda x: compute_var(x,k))\n",
    "    df['k_inertia'] = df.inertia.apply(lambda x: x[k-1])\n",
    "    df['var'] = np.log(df['var'])\n",
    "    df = df[df.dim==k]\n",
    "    \n",
    "    ibl_df = ibloriginal_df.copy()\n",
    "    ibl_df['var'] = ibl_df.variance.apply(lambda x: x[k-1])\n",
    "    ibl_df['k_inertia'] = ibl_df.inertia.apply(lambda x: x[k-1])\n",
    "    ibl_df['var'] = np.log(ibl_df['var'])\n",
    "\n",
    "\n",
    "    \n",
    "      # Construct null dataframe\n",
    "    rows = []\n",
    "    for index, row in df.iterrows():\n",
    "        null = row['null_inertia']\n",
    "        for run in range(null.shape[1]):\n",
    "            rows.append({'model_id':row['model_id'],\n",
    "                         'var':row['var'],\n",
    "            'run':run,\n",
    "            'inertia': null[k-1,run]})\n",
    "    null_df = pd.DataFrame(rows)     \n",
    "    null_df = null_df.groupby(['model_id']).mean().reset_index()\n",
    "    \n",
    "    sns.histplot(data=df, x='var',y='k_inertia',ax=ax,legend=False,alpha=.75,bins=(50,50),color='gray')\n",
    "    sns.histplot(data=ibl_df, x='var',y='k_inertia',ax=ax,legend=False,alpha=.75,bins=(25,25))\n",
    "\n",
    "\n",
    "    def f(x, a,b,c,d):\n",
    "        #return a + c * np.log(1 + np.exp(b * (x-d))) / b\n",
    "        #return a + c*np.log(1+np.exp(20 * (x-b)))/20\n",
    "        return  a + b/(1+np.exp(c*(x-d)))\n",
    "    # bounds = ([0,0,-np.inf,-np.inf],\n",
    "    #               [np.inf, np.inf,0,0])\n",
    "    bounds = ([0,0,-np.inf,-np.inf],\n",
    "                  [np.inf, np.inf,0,0])\n",
    "    x_values = np.linspace(df['var'].min(),df['var'].max(),20)\n",
    "    for sigma_rec in [0., 0.2]:\n",
    "        for sample in range(100):   \n",
    "            #try:\n",
    "            frac = .8\n",
    "            sample_df = df.sample(frac=frac)\n",
    "            x = sample_df['var'].values.astype(float)\n",
    "            y = sample_df.k_inertia.values\n",
    "    \n",
    "            sample_null_df = null_df.sample(frac=frac)\n",
    "            x_null = sample_null_df['var'].values.astype(float)\n",
    "            y_null = sample_null_df.inertia.values\n",
    "            \n",
    "            sample_ibl_df = ibl_df.sample(frac=frac)\n",
    "            x_ibl = sample_ibl_df['var'].values.astype(float)\n",
    "            y_ibl = sample_ibl_df.k_inertia.values\n",
    "    \n",
    "            try:\n",
    "                popt, pcov = opt.curve_fit(f, x, y, method=\"trf\",max_nfev=10000,bounds = bounds)\n",
    "                #popt, pcov = opt.curve_fit(f, x, y, method=\"trf\",max_nfev=10000)\n",
    "                y_fit = f(x_values, *popt)\n",
    "    \n",
    "                for step in range(20):\n",
    "                    fit_rows.append({'sample':sample,\n",
    "                                     'step': step,\n",
    "                                     'k':k,\n",
    "                                     'sigma_rec':sigma_rec,\n",
    "                                 'type': 1,\n",
    "                                 'x':x_values[step],\n",
    "                                 'y': y_fit[step],\n",
    "                                 'a':popt[0]})\n",
    "            except:\n",
    "                continue\n",
    "        \n",
    "\n",
    "            try:\n",
    "                popt, pcov = opt.curve_fit(f, x_null, y_null, method=\"trf\",max_nfev=10000,bounds = bounds)\n",
    "                y_fit = f(x_values, *popt)\n",
    "                for step in range(20):\n",
    "                    fit_rows.append({'sample':sample,\n",
    "                                     'step':step,\n",
    "                                     'k':k,\n",
    "                                     'sigma_rec':sigma_rec,\n",
    "                                 'type': 0,\n",
    "                                 'x':x_values[step],\n",
    "                                 'y': y_fit[step],\n",
    "                                 'a':popt[0]})\n",
    "            except:\n",
    "               continue\n",
    "                \n",
    "            #try:\n",
    "            popt, pcov = opt.curve_fit(f, x_ibl, y_ibl, method=\"trf\",max_nfev=10000,bounds = bounds)\n",
    "            y_fit = f(x_values, *popt)\n",
    "            for step in range(20):\n",
    "                fit_rows.append({'sample':sample,\n",
    "                                 'step':step,\n",
    "                                 'k':k,\n",
    "                                 'sigma_rec':sigma_rec,\n",
    "                             'type': 2,\n",
    "                             'x':x_values[step],\n",
    "                             'y': y_fit[step],\n",
    "                             'a':popt[0]})\n",
    "            # except:\n",
    "            #    continue\n",
    "  \n",
    "# \n",
    "# # \n",
    "# fit_df = pd.DataFrame(fit_rows)\n",
    "# for k in range(4):\n",
    "#     ax = axes[k]\n",
    "#     sns.lineplot(data = fit_df[(fit_df.type==1) & (fit_df.k==k+2)], x= 'x', y='y',ax=ax,legend = False,lw=.5,color='gray',alpha = 1,errorbar=None, linestyle='--')\n",
    "#     sns.lineplot(data = fit_df[(fit_df.type==2)& (fit_df.k==k+2)], x= 'x', y='y',ax=ax,legend = False,lw=.5,color='tab:blue',linestyle='--',alpha= 1, errorbar = None)\n",
    "\n",
    "for ax in [ax0,ax1,ax2,ax3]:\n",
    "#     \n",
    "    ax.spines['right'].set_visible(False)\n",
    "    ax.spines['top'].set_visible(False)\n",
    "    ax.set_ylabel('', fontsize=8)\n",
    "    ax.xaxis.set_tick_params(labelsize=7,bottom=True)\n",
    "    ax.yaxis.set_tick_params(labelsize=7,left=True)\n",
    "    ax.spines['left'].set_color('black')\n",
    "    ax.spines['bottom'].set_color('black')\n",
    "   # plt.yticks(list(plt.yticks()[0]) + [5.0])\n",
    "   #  ax.set_ylim(-.05,1)\n",
    "   #  ax.set_xlim(-5,0)\n",
    "ax1.set_yticklabels([])\n",
    "ax2.set_yticklabels([])\n",
    "ax3.set_yticklabels([])\n",
    "\n",
    "\n",
    "ax0.set_xlabel(\"Log \" + r\"$\\sum_{i>2}\\lambda_i$\", fontsize=8)\n",
    "ax1.set_xlabel(\"Log \" +r\"$\\sum_{i>3}\\lambda_i$\", fontsize=8)\n",
    "ax2.set_xlabel(\"Log \" +r\"$\\sum_{i>4}\\lambda_i$\", fontsize=8)\n",
    "ax3.set_xlabel(\"Log \" +r\"$\\sum_{i>5}\\lambda_i$\", fontsize=8)\n",
    "fig.savefig('/Users/cl1704/PycharmProjects/Clustering/Figures/MainFig_1_a.jpg',\n",
    "    format='jpeg',\n",
    "    dpi=450,\n",
    "    bbox_inches='tight'\n",
    "\n",
    "            )"
   ],
   "metadata": {
    "collapsed": false,
    "ExecuteTime": {
     "end_time": "2025-04-08T15:26:50.809648Z",
     "start_time": "2025-04-08T15:26:50.338700Z"
    }
   },
   "id": "5623ceb32ecdb837",
   "execution_count": 8
  },
  {
   "cell_type": "code",
   "outputs": [
    {
     "data": {
      "text/plain": "array([25])"
     },
     "execution_count": 53,
     "metadata": {},
     "output_type": "execute_result"
    }
   ],
   "source": [
    "ibloriginal_df.n_time.unique()"
   ],
   "metadata": {
    "collapsed": false,
    "ExecuteTime": {
     "end_time": "2025-02-03T18:41:53.550850Z",
     "start_time": "2025-02-03T18:41:53.548287Z"
    }
   },
   "id": "f47c8c1bae510a61",
   "execution_count": 53
  },
  {
   "cell_type": "code",
   "outputs": [
    {
     "data": {
      "text/plain": "     beryl     cosmos                                   eid  n_time  n_active  \\\n0      AAA        CNU  7b26ce84-07f9-43d1-957f-bc72aeb730a3      10        50   \n1     ACAd  Isocortex  259927fd-7563-4b03-bc5d-17b4d0fa7a55      10        50   \n2     ACAd  Isocortex  28741f91-c837-4147-939e-918d38d849f2      10        50   \n3     ACAd  Isocortex  a4000c2f-fa75-4b3e-8f06-a7cf599b87ad      10        50   \n4     ACAd  Isocortex  aad23144-0e52-4eac-80c5-c4ee2decb198      10        50   \n...    ...        ...                                   ...     ...       ...   \n1357    ZI         HY  a82800ce-f4e3-4464-9b80-4c3d6fade333      10        50   \n1358    ZI         HY  c557324b-b95d-414c-888f-6ee1329a2329      10        50   \n1359    ZI         HY  cb2ad999-a6cb-42ff-bf71-1774c57e5308      10        50   \n1360    ZI         HY  e8b4fda3-7fe4-4706-8ec2-91036cfee6bd      10        50   \n1361    ZI         HY  eebacd5a-7dcd-4ba6-9dff-ec2a4d2f19e0      10        50   \n\n      sigma trial_length  n_splits  \\\n0       2.0         0.50        25   \n1       2.0         0.50        25   \n2       2.0         0.50        25   \n3       2.0         0.50        25   \n4       2.0         0.50        25   \n...     ...          ...       ...   \n1357    2.0         0.50        25   \n1358    2.0         0.50        25   \n1359    2.0         0.50        25   \n1360    2.0         0.50        25   \n1361    2.0         0.50        25   \n\n                                               variance  \\\n0     [0.7340936777523241, 0.6085556292188727, 0.541...   \n1     [0.8474908665101067, 0.7482332851648377, 0.667...   \n2     [0.8601600118611632, 0.7837466275096385, 0.731...   \n3     [0.8830303327003819, 0.8035140817360182, 0.747...   \n4     [0.730720102294724, 0.6472507966863836, 0.5876...   \n...                                                 ...   \n1357  [0.6710078559363959, 0.5134526958337317, 0.469...   \n1358  [0.7087956401097212, 0.5789447471366111, 0.496...   \n1359  [0.5993960365085564, 0.3951559676998281, 0.359...   \n1360  [0.6699234998322009, 0.5824380317052031, 0.526...   \n1361  [0.6928137447080851, 0.5839887714102442, 0.507...   \n\n                                                inertia  ...  \\\n0     [0.8827532429675637, 0.664061151134736, 0.5604...  ...   \n1     [0.9554771974191157, 0.7219367619542203, 0.597...  ...   \n2     [0.9422736096757702, 0.7698231273866468, 0.678...  ...   \n3     [0.9338120694372506, 0.7634487382820749, 0.649...  ...   \n4     [0.801661853531863, 0.651541512367142, 0.57542...  ...   \n...                                                 ...  ...   \n1357  [0.8417465661943905, 0.5813510758161914, 0.369...  ...   \n1358  [0.7990479783697294, 0.646801984477558, 0.5656...  ...   \n1359  [0.811802397757145, 0.5479273698193085, 0.3510...  ...   \n1360  [0.7906172349321983, 0.5781656627507422, 0.507...  ...   \n1361  [0.770587190545135, 0.6370133597084073, 0.5691...  ...   \n\n                                           null_inertia  activity_std  \\\n0     [[0.9990915347386197, 0.9996048525155004, 0.99...  7.509060e-16   \n1     [[0.9988321319286709, 0.9989979247858606, 0.99...  5.169330e-16   \n2     [[0.9996306652635767, 0.9990486235855318, 0.99...  6.003590e-16   \n3     [[0.9992612512848159, 0.9988461379407533, 0.99...  4.217370e-16   \n4     [[0.9989578584448885, 0.9984666348460992, 0.99...  2.802710e-16   \n...                                                 ...           ...   \n1357  [[0.999683751611799, 0.9989983161353502, 0.999...  5.382770e-16   \n1358  [[0.9994168023743711, 0.9997002442544082, 0.99...  9.592930e-16   \n1359  [[0.9990402602521444, 0.9992550871021363, 0.99...  4.424320e-16   \n1360  [[0.9994075614037555, 0.999456715853113, 0.999...  5.932660e-16   \n1361  [[0.9989225690613749, 0.9978941667679926, 0.99...  4.310230e-16   \n\n      n_neurons                                          responses  \\\n0          1250  [[1.953600537915028, 1.7817473825097987, 1.485...   \n1          1250  [[-1.8383211501467598, -1.7072118989873248, -1...   \n2          1250  [[-0.01738103979758364, -0.002434574551891145,...   \n3          1250  [[-0.9724378288560317, -0.7647943751260255, -0...   \n4          1250  [[0.8537854494754799, 0.6050154901284328, 0.14...   \n...         ...                                                ...   \n1357       1250  [[2.6967182747691196, 2.254769319558357, 1.663...   \n1358       1250  [[0.4725348455630591, 0.31917387291340643, 0.0...   \n1359       1250  [[-0.04035683335450408, -0.20997240290537372, ...   \n1360       1250  [[-0.8089578625999083, -0.6929669870259011, -0...   \n1361       1250  [[0.4766768851013814, 0.6918886953862214, 0.78...   \n\n                                         mean_responses n_trials      p  \\\n0     [[-1.12974788597886, -1.1033301035320764, -1.0...      975  False   \n1     [[-1.0904748535303397, -1.0874415461926823, -1...      646  False   \n2     [[1.0309053999390139, 1.2051208358278636, 1.52...      401  False   \n3     [[-1.0456900926539454, -0.8321298757607403, -0...      653  False   \n4     [[-0.3151054014756504, -0.16332321347107168, 0...      641  False   \n...                                                 ...      ...    ...   \n1357  [[1.7156104197723228, 1.2050018031079694, 0.49...      672  False   \n1358  [[1.4994817804071043, 1.2530972701090892, 0.79...     1053  False   \n1359  [[1.3326863764358332, 0.8388166582764489, 0.07...      872  False   \n1360  [[-0.7637723056144511, -0.6886351147608691, -0...      527  False   \n1361  [[0.09494586173231905, 0.2845153483369505, 0.3...      630  False   \n\n              z       var  k_inertia  \n0    -51.531752  1.680352   0.519668  \n1    -51.249073  1.988552   0.531220  \n2    -51.736356  2.211219   0.619550  \n3    -48.548869  2.212213   0.585443  \n4    -54.697188  1.846440   0.471462  \n...         ...       ...        ...  \n1357 -39.851802  1.528797   0.322199  \n1358 -47.992519  1.533653   0.511476  \n1359 -37.451111  1.116770   0.322040  \n1360 -38.608072  1.681525   0.440061  \n1361 -54.686858  1.639970   0.535568  \n\n[1362 rows x 21 columns]",
      "text/html": "<div>\n<style scoped>\n    .dataframe tbody tr th:only-of-type {\n        vertical-align: middle;\n    }\n\n    .dataframe tbody tr th {\n        vertical-align: top;\n    }\n\n    .dataframe thead th {\n        text-align: right;\n    }\n</style>\n<table border=\"1\" class=\"dataframe\">\n  <thead>\n    <tr style=\"text-align: right;\">\n      <th></th>\n      <th>beryl</th>\n      <th>cosmos</th>\n      <th>eid</th>\n      <th>n_time</th>\n      <th>n_active</th>\n      <th>sigma</th>\n      <th>trial_length</th>\n      <th>n_splits</th>\n      <th>variance</th>\n      <th>inertia</th>\n      <th>...</th>\n      <th>null_inertia</th>\n      <th>activity_std</th>\n      <th>n_neurons</th>\n      <th>responses</th>\n      <th>mean_responses</th>\n      <th>n_trials</th>\n      <th>p</th>\n      <th>z</th>\n      <th>var</th>\n      <th>k_inertia</th>\n    </tr>\n  </thead>\n  <tbody>\n    <tr>\n      <th>0</th>\n      <td>AAA</td>\n      <td>CNU</td>\n      <td>7b26ce84-07f9-43d1-957f-bc72aeb730a3</td>\n      <td>10</td>\n      <td>50</td>\n      <td>2.0</td>\n      <td>0.50</td>\n      <td>25</td>\n      <td>[0.7340936777523241, 0.6085556292188727, 0.541...</td>\n      <td>[0.8827532429675637, 0.664061151134736, 0.5604...</td>\n      <td>...</td>\n      <td>[[0.9990915347386197, 0.9996048525155004, 0.99...</td>\n      <td>7.509060e-16</td>\n      <td>1250</td>\n      <td>[[1.953600537915028, 1.7817473825097987, 1.485...</td>\n      <td>[[-1.12974788597886, -1.1033301035320764, -1.0...</td>\n      <td>975</td>\n      <td>False</td>\n      <td>-51.531752</td>\n      <td>1.680352</td>\n      <td>0.519668</td>\n    </tr>\n    <tr>\n      <th>1</th>\n      <td>ACAd</td>\n      <td>Isocortex</td>\n      <td>259927fd-7563-4b03-bc5d-17b4d0fa7a55</td>\n      <td>10</td>\n      <td>50</td>\n      <td>2.0</td>\n      <td>0.50</td>\n      <td>25</td>\n      <td>[0.8474908665101067, 0.7482332851648377, 0.667...</td>\n      <td>[0.9554771974191157, 0.7219367619542203, 0.597...</td>\n      <td>...</td>\n      <td>[[0.9988321319286709, 0.9989979247858606, 0.99...</td>\n      <td>5.169330e-16</td>\n      <td>1250</td>\n      <td>[[-1.8383211501467598, -1.7072118989873248, -1...</td>\n      <td>[[-1.0904748535303397, -1.0874415461926823, -1...</td>\n      <td>646</td>\n      <td>False</td>\n      <td>-51.249073</td>\n      <td>1.988552</td>\n      <td>0.531220</td>\n    </tr>\n    <tr>\n      <th>2</th>\n      <td>ACAd</td>\n      <td>Isocortex</td>\n      <td>28741f91-c837-4147-939e-918d38d849f2</td>\n      <td>10</td>\n      <td>50</td>\n      <td>2.0</td>\n      <td>0.50</td>\n      <td>25</td>\n      <td>[0.8601600118611632, 0.7837466275096385, 0.731...</td>\n      <td>[0.9422736096757702, 0.7698231273866468, 0.678...</td>\n      <td>...</td>\n      <td>[[0.9996306652635767, 0.9990486235855318, 0.99...</td>\n      <td>6.003590e-16</td>\n      <td>1250</td>\n      <td>[[-0.01738103979758364, -0.002434574551891145,...</td>\n      <td>[[1.0309053999390139, 1.2051208358278636, 1.52...</td>\n      <td>401</td>\n      <td>False</td>\n      <td>-51.736356</td>\n      <td>2.211219</td>\n      <td>0.619550</td>\n    </tr>\n    <tr>\n      <th>3</th>\n      <td>ACAd</td>\n      <td>Isocortex</td>\n      <td>a4000c2f-fa75-4b3e-8f06-a7cf599b87ad</td>\n      <td>10</td>\n      <td>50</td>\n      <td>2.0</td>\n      <td>0.50</td>\n      <td>25</td>\n      <td>[0.8830303327003819, 0.8035140817360182, 0.747...</td>\n      <td>[0.9338120694372506, 0.7634487382820749, 0.649...</td>\n      <td>...</td>\n      <td>[[0.9992612512848159, 0.9988461379407533, 0.99...</td>\n      <td>4.217370e-16</td>\n      <td>1250</td>\n      <td>[[-0.9724378288560317, -0.7647943751260255, -0...</td>\n      <td>[[-1.0456900926539454, -0.8321298757607403, -0...</td>\n      <td>653</td>\n      <td>False</td>\n      <td>-48.548869</td>\n      <td>2.212213</td>\n      <td>0.585443</td>\n    </tr>\n    <tr>\n      <th>4</th>\n      <td>ACAd</td>\n      <td>Isocortex</td>\n      <td>aad23144-0e52-4eac-80c5-c4ee2decb198</td>\n      <td>10</td>\n      <td>50</td>\n      <td>2.0</td>\n      <td>0.50</td>\n      <td>25</td>\n      <td>[0.730720102294724, 0.6472507966863836, 0.5876...</td>\n      <td>[0.801661853531863, 0.651541512367142, 0.57542...</td>\n      <td>...</td>\n      <td>[[0.9989578584448885, 0.9984666348460992, 0.99...</td>\n      <td>2.802710e-16</td>\n      <td>1250</td>\n      <td>[[0.8537854494754799, 0.6050154901284328, 0.14...</td>\n      <td>[[-0.3151054014756504, -0.16332321347107168, 0...</td>\n      <td>641</td>\n      <td>False</td>\n      <td>-54.697188</td>\n      <td>1.846440</td>\n      <td>0.471462</td>\n    </tr>\n    <tr>\n      <th>...</th>\n      <td>...</td>\n      <td>...</td>\n      <td>...</td>\n      <td>...</td>\n      <td>...</td>\n      <td>...</td>\n      <td>...</td>\n      <td>...</td>\n      <td>...</td>\n      <td>...</td>\n      <td>...</td>\n      <td>...</td>\n      <td>...</td>\n      <td>...</td>\n      <td>...</td>\n      <td>...</td>\n      <td>...</td>\n      <td>...</td>\n      <td>...</td>\n      <td>...</td>\n      <td>...</td>\n    </tr>\n    <tr>\n      <th>1357</th>\n      <td>ZI</td>\n      <td>HY</td>\n      <td>a82800ce-f4e3-4464-9b80-4c3d6fade333</td>\n      <td>10</td>\n      <td>50</td>\n      <td>2.0</td>\n      <td>0.50</td>\n      <td>25</td>\n      <td>[0.6710078559363959, 0.5134526958337317, 0.469...</td>\n      <td>[0.8417465661943905, 0.5813510758161914, 0.369...</td>\n      <td>...</td>\n      <td>[[0.999683751611799, 0.9989983161353502, 0.999...</td>\n      <td>5.382770e-16</td>\n      <td>1250</td>\n      <td>[[2.6967182747691196, 2.254769319558357, 1.663...</td>\n      <td>[[1.7156104197723228, 1.2050018031079694, 0.49...</td>\n      <td>672</td>\n      <td>False</td>\n      <td>-39.851802</td>\n      <td>1.528797</td>\n      <td>0.322199</td>\n    </tr>\n    <tr>\n      <th>1358</th>\n      <td>ZI</td>\n      <td>HY</td>\n      <td>c557324b-b95d-414c-888f-6ee1329a2329</td>\n      <td>10</td>\n      <td>50</td>\n      <td>2.0</td>\n      <td>0.50</td>\n      <td>25</td>\n      <td>[0.7087956401097212, 0.5789447471366111, 0.496...</td>\n      <td>[0.7990479783697294, 0.646801984477558, 0.5656...</td>\n      <td>...</td>\n      <td>[[0.9994168023743711, 0.9997002442544082, 0.99...</td>\n      <td>9.592930e-16</td>\n      <td>1250</td>\n      <td>[[0.4725348455630591, 0.31917387291340643, 0.0...</td>\n      <td>[[1.4994817804071043, 1.2530972701090892, 0.79...</td>\n      <td>1053</td>\n      <td>False</td>\n      <td>-47.992519</td>\n      <td>1.533653</td>\n      <td>0.511476</td>\n    </tr>\n    <tr>\n      <th>1359</th>\n      <td>ZI</td>\n      <td>HY</td>\n      <td>cb2ad999-a6cb-42ff-bf71-1774c57e5308</td>\n      <td>10</td>\n      <td>50</td>\n      <td>2.0</td>\n      <td>0.50</td>\n      <td>25</td>\n      <td>[0.5993960365085564, 0.3951559676998281, 0.359...</td>\n      <td>[0.811802397757145, 0.5479273698193085, 0.3510...</td>\n      <td>...</td>\n      <td>[[0.9990402602521444, 0.9992550871021363, 0.99...</td>\n      <td>4.424320e-16</td>\n      <td>1250</td>\n      <td>[[-0.04035683335450408, -0.20997240290537372, ...</td>\n      <td>[[1.3326863764358332, 0.8388166582764489, 0.07...</td>\n      <td>872</td>\n      <td>False</td>\n      <td>-37.451111</td>\n      <td>1.116770</td>\n      <td>0.322040</td>\n    </tr>\n    <tr>\n      <th>1360</th>\n      <td>ZI</td>\n      <td>HY</td>\n      <td>e8b4fda3-7fe4-4706-8ec2-91036cfee6bd</td>\n      <td>10</td>\n      <td>50</td>\n      <td>2.0</td>\n      <td>0.50</td>\n      <td>25</td>\n      <td>[0.6699234998322009, 0.5824380317052031, 0.526...</td>\n      <td>[0.7906172349321983, 0.5781656627507422, 0.507...</td>\n      <td>...</td>\n      <td>[[0.9994075614037555, 0.999456715853113, 0.999...</td>\n      <td>5.932660e-16</td>\n      <td>1250</td>\n      <td>[[-0.8089578625999083, -0.6929669870259011, -0...</td>\n      <td>[[-0.7637723056144511, -0.6886351147608691, -0...</td>\n      <td>527</td>\n      <td>False</td>\n      <td>-38.608072</td>\n      <td>1.681525</td>\n      <td>0.440061</td>\n    </tr>\n    <tr>\n      <th>1361</th>\n      <td>ZI</td>\n      <td>HY</td>\n      <td>eebacd5a-7dcd-4ba6-9dff-ec2a4d2f19e0</td>\n      <td>10</td>\n      <td>50</td>\n      <td>2.0</td>\n      <td>0.50</td>\n      <td>25</td>\n      <td>[0.6928137447080851, 0.5839887714102442, 0.507...</td>\n      <td>[0.770587190545135, 0.6370133597084073, 0.5691...</td>\n      <td>...</td>\n      <td>[[0.9989225690613749, 0.9978941667679926, 0.99...</td>\n      <td>4.310230e-16</td>\n      <td>1250</td>\n      <td>[[0.4766768851013814, 0.6918886953862214, 0.78...</td>\n      <td>[[0.09494586173231905, 0.2845153483369505, 0.3...</td>\n      <td>630</td>\n      <td>False</td>\n      <td>-54.686858</td>\n      <td>1.639970</td>\n      <td>0.535568</td>\n    </tr>\n  </tbody>\n</table>\n<p>1362 rows × 21 columns</p>\n</div>"
     },
     "execution_count": 22,
     "metadata": {},
     "output_type": "execute_result"
    }
   ],
   "source": [
    "ibl_df"
   ],
   "metadata": {
    "collapsed": false,
    "ExecuteTime": {
     "end_time": "2025-02-03T16:28:45.542841Z",
     "start_time": "2025-02-03T16:28:45.172778Z"
    }
   },
   "id": "e90b848c76d6bdb3",
   "execution_count": 22
  },
  {
   "cell_type": "code",
   "outputs": [
    {
     "data": {
      "text/plain": "     beryl     cosmos                                   eid  n_time  n_active  \\\n0      AAA        CNU  7b26ce84-07f9-43d1-957f-bc72aeb730a3      10        50   \n1     ACAd  Isocortex  259927fd-7563-4b03-bc5d-17b4d0fa7a55      10        50   \n2     ACAd  Isocortex  28741f91-c837-4147-939e-918d38d849f2      10        50   \n3     ACAd  Isocortex  a4000c2f-fa75-4b3e-8f06-a7cf599b87ad      10        50   \n4     ACAd  Isocortex  aad23144-0e52-4eac-80c5-c4ee2decb198      10        50   \n...    ...        ...                                   ...     ...       ...   \n1357    ZI         HY  a82800ce-f4e3-4464-9b80-4c3d6fade333      10        50   \n1358    ZI         HY  c557324b-b95d-414c-888f-6ee1329a2329      10        50   \n1359    ZI         HY  cb2ad999-a6cb-42ff-bf71-1774c57e5308      10        50   \n1360    ZI         HY  e8b4fda3-7fe4-4706-8ec2-91036cfee6bd      10        50   \n1361    ZI         HY  eebacd5a-7dcd-4ba6-9dff-ec2a4d2f19e0      10        50   \n\n      sigma trial_length  n_splits  \\\n0       2.0         0.50        25   \n1       2.0         0.50        25   \n2       2.0         0.50        25   \n3       2.0         0.50        25   \n4       2.0         0.50        25   \n...     ...          ...       ...   \n1357    2.0         0.50        25   \n1358    2.0         0.50        25   \n1359    2.0         0.50        25   \n1360    2.0         0.50        25   \n1361    2.0         0.50        25   \n\n                                               variance  \\\n0     [0.7340936777523241, 0.6085556292188727, 0.541...   \n1     [0.8474908665101067, 0.7482332851648377, 0.667...   \n2     [0.8601600118611632, 0.7837466275096385, 0.731...   \n3     [0.8830303327003819, 0.8035140817360182, 0.747...   \n4     [0.730720102294724, 0.6472507966863836, 0.5876...   \n...                                                 ...   \n1357  [0.6710078559363959, 0.5134526958337317, 0.469...   \n1358  [0.7087956401097212, 0.5789447471366111, 0.496...   \n1359  [0.5993960365085564, 0.3951559676998281, 0.359...   \n1360  [0.6699234998322009, 0.5824380317052031, 0.526...   \n1361  [0.6928137447080851, 0.5839887714102442, 0.507...   \n\n                                                inertia  ...  \\\n0     [0.8827532429675637, 0.664061151134736, 0.5604...  ...   \n1     [0.9554771974191157, 0.7219367619542203, 0.597...  ...   \n2     [0.9422736096757702, 0.7698231273866468, 0.678...  ...   \n3     [0.9338120694372506, 0.7634487382820749, 0.649...  ...   \n4     [0.801661853531863, 0.651541512367142, 0.57542...  ...   \n...                                                 ...  ...   \n1357  [0.8417465661943905, 0.5813510758161914, 0.369...  ...   \n1358  [0.7990479783697294, 0.646801984477558, 0.5656...  ...   \n1359  [0.811802397757145, 0.5479273698193085, 0.3510...  ...   \n1360  [0.7906172349321983, 0.5781656627507422, 0.507...  ...   \n1361  [0.770587190545135, 0.6370133597084073, 0.5691...  ...   \n\n                                           null_inertia  activity_std  \\\n0     [[0.9990915347386197, 0.9996048525155004, 0.99...  7.509060e-16   \n1     [[0.9988321319286709, 0.9989979247858606, 0.99...  5.169330e-16   \n2     [[0.9996306652635767, 0.9990486235855318, 0.99...  6.003590e-16   \n3     [[0.9992612512848159, 0.9988461379407533, 0.99...  4.217370e-16   \n4     [[0.9989578584448885, 0.9984666348460992, 0.99...  2.802710e-16   \n...                                                 ...           ...   \n1357  [[0.999683751611799, 0.9989983161353502, 0.999...  5.382770e-16   \n1358  [[0.9994168023743711, 0.9997002442544082, 0.99...  9.592930e-16   \n1359  [[0.9990402602521444, 0.9992550871021363, 0.99...  4.424320e-16   \n1360  [[0.9994075614037555, 0.999456715853113, 0.999...  5.932660e-16   \n1361  [[0.9989225690613749, 0.9978941667679926, 0.99...  4.310230e-16   \n\n      n_neurons                                          responses  \\\n0          1250  [[1.953600537915028, 1.7817473825097987, 1.485...   \n1          1250  [[-1.8383211501467598, -1.7072118989873248, -1...   \n2          1250  [[-0.01738103979758364, -0.002434574551891145,...   \n3          1250  [[-0.9724378288560317, -0.7647943751260255, -0...   \n4          1250  [[0.8537854494754799, 0.6050154901284328, 0.14...   \n...         ...                                                ...   \n1357       1250  [[2.6967182747691196, 2.254769319558357, 1.663...   \n1358       1250  [[0.4725348455630591, 0.31917387291340643, 0.0...   \n1359       1250  [[-0.04035683335450408, -0.20997240290537372, ...   \n1360       1250  [[-0.8089578625999083, -0.6929669870259011, -0...   \n1361       1250  [[0.4766768851013814, 0.6918886953862214, 0.78...   \n\n                                         mean_responses n_trials      p  \\\n0     [[-1.12974788597886, -1.1033301035320764, -1.0...      975  False   \n1     [[-1.0904748535303397, -1.0874415461926823, -1...      646  False   \n2     [[1.0309053999390139, 1.2051208358278636, 1.52...      401  False   \n3     [[-1.0456900926539454, -0.8321298757607403, -0...      653  False   \n4     [[-0.3151054014756504, -0.16332321347107168, 0...      641  False   \n...                                                 ...      ...    ...   \n1357  [[1.7156104197723228, 1.2050018031079694, 0.49...      672  False   \n1358  [[1.4994817804071043, 1.2530972701090892, 0.79...     1053  False   \n1359  [[1.3326863764358332, 0.8388166582764489, 0.07...      872  False   \n1360  [[-0.7637723056144511, -0.6886351147608691, -0...      527  False   \n1361  [[0.09494586173231905, 0.2845153483369505, 0.3...      630  False   \n\n              z  var  k_inertia  \n0    -51.531752  NaN        NaN  \n1    -51.249073  NaN        NaN  \n2    -51.736356  NaN        NaN  \n3    -48.548869  NaN        NaN  \n4    -54.697188  NaN        NaN  \n...         ...  ...        ...  \n1357 -39.851802  NaN        NaN  \n1358 -47.992519  NaN        NaN  \n1359 -37.451111  NaN        NaN  \n1360 -38.608072  NaN        NaN  \n1361 -54.686858  NaN        NaN  \n\n[1362 rows x 21 columns]",
      "text/html": "<div>\n<style scoped>\n    .dataframe tbody tr th:only-of-type {\n        vertical-align: middle;\n    }\n\n    .dataframe tbody tr th {\n        vertical-align: top;\n    }\n\n    .dataframe thead th {\n        text-align: right;\n    }\n</style>\n<table border=\"1\" class=\"dataframe\">\n  <thead>\n    <tr style=\"text-align: right;\">\n      <th></th>\n      <th>beryl</th>\n      <th>cosmos</th>\n      <th>eid</th>\n      <th>n_time</th>\n      <th>n_active</th>\n      <th>sigma</th>\n      <th>trial_length</th>\n      <th>n_splits</th>\n      <th>variance</th>\n      <th>inertia</th>\n      <th>...</th>\n      <th>null_inertia</th>\n      <th>activity_std</th>\n      <th>n_neurons</th>\n      <th>responses</th>\n      <th>mean_responses</th>\n      <th>n_trials</th>\n      <th>p</th>\n      <th>z</th>\n      <th>var</th>\n      <th>k_inertia</th>\n    </tr>\n  </thead>\n  <tbody>\n    <tr>\n      <th>0</th>\n      <td>AAA</td>\n      <td>CNU</td>\n      <td>7b26ce84-07f9-43d1-957f-bc72aeb730a3</td>\n      <td>10</td>\n      <td>50</td>\n      <td>2.0</td>\n      <td>0.50</td>\n      <td>25</td>\n      <td>[0.7340936777523241, 0.6085556292188727, 0.541...</td>\n      <td>[0.8827532429675637, 0.664061151134736, 0.5604...</td>\n      <td>...</td>\n      <td>[[0.9990915347386197, 0.9996048525155004, 0.99...</td>\n      <td>7.509060e-16</td>\n      <td>1250</td>\n      <td>[[1.953600537915028, 1.7817473825097987, 1.485...</td>\n      <td>[[-1.12974788597886, -1.1033301035320764, -1.0...</td>\n      <td>975</td>\n      <td>False</td>\n      <td>-51.531752</td>\n      <td>NaN</td>\n      <td>NaN</td>\n    </tr>\n    <tr>\n      <th>1</th>\n      <td>ACAd</td>\n      <td>Isocortex</td>\n      <td>259927fd-7563-4b03-bc5d-17b4d0fa7a55</td>\n      <td>10</td>\n      <td>50</td>\n      <td>2.0</td>\n      <td>0.50</td>\n      <td>25</td>\n      <td>[0.8474908665101067, 0.7482332851648377, 0.667...</td>\n      <td>[0.9554771974191157, 0.7219367619542203, 0.597...</td>\n      <td>...</td>\n      <td>[[0.9988321319286709, 0.9989979247858606, 0.99...</td>\n      <td>5.169330e-16</td>\n      <td>1250</td>\n      <td>[[-1.8383211501467598, -1.7072118989873248, -1...</td>\n      <td>[[-1.0904748535303397, -1.0874415461926823, -1...</td>\n      <td>646</td>\n      <td>False</td>\n      <td>-51.249073</td>\n      <td>NaN</td>\n      <td>NaN</td>\n    </tr>\n    <tr>\n      <th>2</th>\n      <td>ACAd</td>\n      <td>Isocortex</td>\n      <td>28741f91-c837-4147-939e-918d38d849f2</td>\n      <td>10</td>\n      <td>50</td>\n      <td>2.0</td>\n      <td>0.50</td>\n      <td>25</td>\n      <td>[0.8601600118611632, 0.7837466275096385, 0.731...</td>\n      <td>[0.9422736096757702, 0.7698231273866468, 0.678...</td>\n      <td>...</td>\n      <td>[[0.9996306652635767, 0.9990486235855318, 0.99...</td>\n      <td>6.003590e-16</td>\n      <td>1250</td>\n      <td>[[-0.01738103979758364, -0.002434574551891145,...</td>\n      <td>[[1.0309053999390139, 1.2051208358278636, 1.52...</td>\n      <td>401</td>\n      <td>False</td>\n      <td>-51.736356</td>\n      <td>NaN</td>\n      <td>NaN</td>\n    </tr>\n    <tr>\n      <th>3</th>\n      <td>ACAd</td>\n      <td>Isocortex</td>\n      <td>a4000c2f-fa75-4b3e-8f06-a7cf599b87ad</td>\n      <td>10</td>\n      <td>50</td>\n      <td>2.0</td>\n      <td>0.50</td>\n      <td>25</td>\n      <td>[0.8830303327003819, 0.8035140817360182, 0.747...</td>\n      <td>[0.9338120694372506, 0.7634487382820749, 0.649...</td>\n      <td>...</td>\n      <td>[[0.9992612512848159, 0.9988461379407533, 0.99...</td>\n      <td>4.217370e-16</td>\n      <td>1250</td>\n      <td>[[-0.9724378288560317, -0.7647943751260255, -0...</td>\n      <td>[[-1.0456900926539454, -0.8321298757607403, -0...</td>\n      <td>653</td>\n      <td>False</td>\n      <td>-48.548869</td>\n      <td>NaN</td>\n      <td>NaN</td>\n    </tr>\n    <tr>\n      <th>4</th>\n      <td>ACAd</td>\n      <td>Isocortex</td>\n      <td>aad23144-0e52-4eac-80c5-c4ee2decb198</td>\n      <td>10</td>\n      <td>50</td>\n      <td>2.0</td>\n      <td>0.50</td>\n      <td>25</td>\n      <td>[0.730720102294724, 0.6472507966863836, 0.5876...</td>\n      <td>[0.801661853531863, 0.651541512367142, 0.57542...</td>\n      <td>...</td>\n      <td>[[0.9989578584448885, 0.9984666348460992, 0.99...</td>\n      <td>2.802710e-16</td>\n      <td>1250</td>\n      <td>[[0.8537854494754799, 0.6050154901284328, 0.14...</td>\n      <td>[[-0.3151054014756504, -0.16332321347107168, 0...</td>\n      <td>641</td>\n      <td>False</td>\n      <td>-54.697188</td>\n      <td>NaN</td>\n      <td>NaN</td>\n    </tr>\n    <tr>\n      <th>...</th>\n      <td>...</td>\n      <td>...</td>\n      <td>...</td>\n      <td>...</td>\n      <td>...</td>\n      <td>...</td>\n      <td>...</td>\n      <td>...</td>\n      <td>...</td>\n      <td>...</td>\n      <td>...</td>\n      <td>...</td>\n      <td>...</td>\n      <td>...</td>\n      <td>...</td>\n      <td>...</td>\n      <td>...</td>\n      <td>...</td>\n      <td>...</td>\n      <td>...</td>\n      <td>...</td>\n    </tr>\n    <tr>\n      <th>1357</th>\n      <td>ZI</td>\n      <td>HY</td>\n      <td>a82800ce-f4e3-4464-9b80-4c3d6fade333</td>\n      <td>10</td>\n      <td>50</td>\n      <td>2.0</td>\n      <td>0.50</td>\n      <td>25</td>\n      <td>[0.6710078559363959, 0.5134526958337317, 0.469...</td>\n      <td>[0.8417465661943905, 0.5813510758161914, 0.369...</td>\n      <td>...</td>\n      <td>[[0.999683751611799, 0.9989983161353502, 0.999...</td>\n      <td>5.382770e-16</td>\n      <td>1250</td>\n      <td>[[2.6967182747691196, 2.254769319558357, 1.663...</td>\n      <td>[[1.7156104197723228, 1.2050018031079694, 0.49...</td>\n      <td>672</td>\n      <td>False</td>\n      <td>-39.851802</td>\n      <td>NaN</td>\n      <td>NaN</td>\n    </tr>\n    <tr>\n      <th>1358</th>\n      <td>ZI</td>\n      <td>HY</td>\n      <td>c557324b-b95d-414c-888f-6ee1329a2329</td>\n      <td>10</td>\n      <td>50</td>\n      <td>2.0</td>\n      <td>0.50</td>\n      <td>25</td>\n      <td>[0.7087956401097212, 0.5789447471366111, 0.496...</td>\n      <td>[0.7990479783697294, 0.646801984477558, 0.5656...</td>\n      <td>...</td>\n      <td>[[0.9994168023743711, 0.9997002442544082, 0.99...</td>\n      <td>9.592930e-16</td>\n      <td>1250</td>\n      <td>[[0.4725348455630591, 0.31917387291340643, 0.0...</td>\n      <td>[[1.4994817804071043, 1.2530972701090892, 0.79...</td>\n      <td>1053</td>\n      <td>False</td>\n      <td>-47.992519</td>\n      <td>NaN</td>\n      <td>NaN</td>\n    </tr>\n    <tr>\n      <th>1359</th>\n      <td>ZI</td>\n      <td>HY</td>\n      <td>cb2ad999-a6cb-42ff-bf71-1774c57e5308</td>\n      <td>10</td>\n      <td>50</td>\n      <td>2.0</td>\n      <td>0.50</td>\n      <td>25</td>\n      <td>[0.5993960365085564, 0.3951559676998281, 0.359...</td>\n      <td>[0.811802397757145, 0.5479273698193085, 0.3510...</td>\n      <td>...</td>\n      <td>[[0.9990402602521444, 0.9992550871021363, 0.99...</td>\n      <td>4.424320e-16</td>\n      <td>1250</td>\n      <td>[[-0.04035683335450408, -0.20997240290537372, ...</td>\n      <td>[[1.3326863764358332, 0.8388166582764489, 0.07...</td>\n      <td>872</td>\n      <td>False</td>\n      <td>-37.451111</td>\n      <td>NaN</td>\n      <td>NaN</td>\n    </tr>\n    <tr>\n      <th>1360</th>\n      <td>ZI</td>\n      <td>HY</td>\n      <td>e8b4fda3-7fe4-4706-8ec2-91036cfee6bd</td>\n      <td>10</td>\n      <td>50</td>\n      <td>2.0</td>\n      <td>0.50</td>\n      <td>25</td>\n      <td>[0.6699234998322009, 0.5824380317052031, 0.526...</td>\n      <td>[0.7906172349321983, 0.5781656627507422, 0.507...</td>\n      <td>...</td>\n      <td>[[0.9994075614037555, 0.999456715853113, 0.999...</td>\n      <td>5.932660e-16</td>\n      <td>1250</td>\n      <td>[[-0.8089578625999083, -0.6929669870259011, -0...</td>\n      <td>[[-0.7637723056144511, -0.6886351147608691, -0...</td>\n      <td>527</td>\n      <td>False</td>\n      <td>-38.608072</td>\n      <td>NaN</td>\n      <td>NaN</td>\n    </tr>\n    <tr>\n      <th>1361</th>\n      <td>ZI</td>\n      <td>HY</td>\n      <td>eebacd5a-7dcd-4ba6-9dff-ec2a4d2f19e0</td>\n      <td>10</td>\n      <td>50</td>\n      <td>2.0</td>\n      <td>0.50</td>\n      <td>25</td>\n      <td>[0.6928137447080851, 0.5839887714102442, 0.507...</td>\n      <td>[0.770587190545135, 0.6370133597084073, 0.5691...</td>\n      <td>...</td>\n      <td>[[0.9989225690613749, 0.9978941667679926, 0.99...</td>\n      <td>4.310230e-16</td>\n      <td>1250</td>\n      <td>[[0.4766768851013814, 0.6918886953862214, 0.78...</td>\n      <td>[[0.09494586173231905, 0.2845153483369505, 0.3...</td>\n      <td>630</td>\n      <td>False</td>\n      <td>-54.686858</td>\n      <td>NaN</td>\n      <td>NaN</td>\n    </tr>\n  </tbody>\n</table>\n<p>1362 rows × 21 columns</p>\n</div>"
     },
     "execution_count": 16,
     "metadata": {},
     "output_type": "execute_result"
    }
   ],
   "source": [
    "ibl_df"
   ],
   "metadata": {
    "collapsed": false,
    "ExecuteTime": {
     "end_time": "2025-02-03T16:24:04.673381Z",
     "start_time": "2025-02-03T16:24:04.309746Z"
    }
   },
   "id": "1ae529b70ac03c90",
   "execution_count": 16
  },
  {
   "cell_type": "code",
   "outputs": [],
   "source": [],
   "metadata": {
    "collapsed": false
   },
   "id": "2eea16fb9840bf34"
  }
 ],
 "metadata": {
  "kernelspec": {
   "display_name": "Python 3",
   "language": "python",
   "name": "python3"
  },
  "language_info": {
   "codemirror_mode": {
    "name": "ipython",
    "version": 2
   },
   "file_extension": ".py",
   "mimetype": "text/x-python",
   "name": "python",
   "nbconvert_exporter": "python",
   "pygments_lexer": "ipython2",
   "version": "2.7.6"
  }
 },
 "nbformat": 4,
 "nbformat_minor": 5
}
