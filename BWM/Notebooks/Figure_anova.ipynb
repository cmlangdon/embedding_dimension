{
 "cells": [
  {
   "cell_type": "markdown",
   "source": [
    "### Figure\n",
    "#### ANOVA for number of clusters and regions"
   ],
   "metadata": {
    "collapsed": false
   },
   "id": "7342fad5e625018e"
  },
  {
   "cell_type": "code",
   "outputs": [
    {
     "name": "stdout",
     "output_type": "stream",
     "text": [
      "/Users/cl1704/PycharmProjects/embedding_dimension/BWM\n"
     ]
    }
   ],
   "source": [
    "cd /Users/cl1704/PycharmProjects/embedding_dimension/BWM"
   ],
   "metadata": {
    "collapsed": false,
    "ExecuteTime": {
     "end_time": "2025-05-12T14:52:44.442405Z",
     "start_time": "2025-05-12T14:52:44.438705Z"
    }
   },
   "id": "8e780b954a4c6027",
   "execution_count": 1
  },
  {
   "cell_type": "code",
   "outputs": [
    {
     "name": "stderr",
     "output_type": "stream",
     "text": [
      "[2025-05-12 10:52:45,011][INFO]: Connecting cl1704@datajoint-tengel.pni.princeton.edu:3306\n",
      "[2025-05-12 10:52:45,907][INFO]: Connected cl1704@datajoint-tengel.pni.princeton.edu:3306\n"
     ]
    }
   ],
   "source": [
    "import numpy as np\n",
    "import pandas as pd\n",
    "#from scipy.ndimage import gaussian_filter1d\n",
    "from sklearn.decomposition import PCA\n",
    "#from kneed import KneeLocator\n",
    "from sklearn.manifold import Isomap\n",
    "from matplotlib import gridspec\n",
    "from sklearn.manifold import TSNE\n",
    "from sklearn.cluster import KMeans\n",
    "from scipy.stats import special_ortho_group\n",
    "\n",
    "from scipy import stats\n",
    "import seaborn as sns\n",
    "import matplotlib.pyplot as plt\n",
    "from datajoint_tables import *\n",
    "import datajoint as dj_langdon\n",
    "dj_langdon.config['database.host'] = 'datajoint-tengel.pni.princeton.edu'\n",
    "dj_langdon.config['database.user'] = 'cl1704'\n",
    "dj_langdon.config['database.password'] = 'wuxty2-mYdxej-kerxaq'\n",
    "schema = dj_langdon.schema('langdon_ibl_manifold')\n",
    "schema.spawn_missing_classes()\n",
    "\n",
    "from sklearn.metrics import silhouette_score\n",
    "import os\n",
    "import scipy.optimize as opt\n",
    "plt.rcParams[\"axes.grid\"] = False\n",
    "import matplotlib\n",
    "matplotlib.rcParams['axes.linewidth'] = .75"
   ],
   "metadata": {
    "collapsed": false,
    "ExecuteTime": {
     "end_time": "2025-05-12T14:52:46.549789Z",
     "start_time": "2025-05-12T14:52:44.689755Z"
    }
   },
   "id": "f8887a920a4037f1",
   "execution_count": 2
  },
  {
   "cell_type": "code",
   "outputs": [],
   "source": [],
   "metadata": {
    "collapsed": false,
    "ExecuteTime": {
     "end_time": "2025-05-12T14:52:46.554748Z",
     "start_time": "2025-05-12T14:52:46.550434Z"
    }
   },
   "id": "6380261af1b786b3",
   "execution_count": 2
  },
  {
   "cell_type": "code",
   "outputs": [],
   "source": [
    "df = pd.DataFrame((Experiment_1() ).proj('eid','beryl','cosmos','n_neurons','variance','inertia','n_trials','null_param','activity_std','k','responses','p','null_inertia').fetch())\n",
    "df = df[df.n_neurons>=50]\n",
    "\n",
    "counts = df.groupby(['beryl']).size().reset_index(name='c')\n",
    "acronyms = counts[(counts.c>=4)  ].beryl.values\n",
    "df = df[df.beryl.isin(acronyms)]\n",
    "df = df[df.cosmos!='void']\n",
    "df = df[df.cosmos!='OLF']"
   ],
   "metadata": {
    "collapsed": false,
    "ExecuteTime": {
     "end_time": "2025-05-12T15:15:12.488188Z",
     "start_time": "2025-05-12T15:15:02.786810Z"
    }
   },
   "id": "c6a90eaac75cacc8",
   "execution_count": 15
  },
  {
   "cell_type": "code",
   "outputs": [
    {
     "data": {
      "text/plain": "F_onewayResult(statistic=5.662307270709675, pvalue=2.390913546019317e-06)"
     },
     "execution_count": 16,
     "metadata": {},
     "output_type": "execute_result"
    }
   ],
   "source": [
    "from scipy.stats import f_oneway\n",
    "groups = [df[df['cosmos'] == g]['k'] for g in df['cosmos'].unique()]\n",
    "f_oneway(*groups)"
   ],
   "metadata": {
    "collapsed": false,
    "ExecuteTime": {
     "end_time": "2025-05-12T15:15:12.495489Z",
     "start_time": "2025-05-12T15:15:12.492810Z"
    }
   },
   "id": "48100260d4fe2ca1",
   "execution_count": 16
  },
  {
   "cell_type": "code",
   "outputs": [
    {
     "data": {
      "text/plain": "<Axes: >"
     },
     "execution_count": 18,
     "metadata": {},
     "output_type": "execute_result"
    },
    {
     "data": {
      "text/plain": "<Figure size 640x480 with 2 Axes>",
      "image/png": "[encoded data removed]"
     },
     "metadata": {},
     "output_type": "display_data"
    }
   ],
   "source": [
    "from scipy.stats import tukey_hsd\n",
    "results =tukey_hsd(*groups)\n",
    "\n",
    "plt.figure()\n",
    "sns.heatmap((results.pvalue<.05).astype(int),xticklabels = df['cosmos'].unique(),yticklabels = df['cosmos'].unique())"
   ],
   "metadata": {
    "collapsed": false,
    "ExecuteTime": {
     "end_time": "2025-05-12T15:16:11.447478Z",
     "start_time": "2025-05-12T15:16:10.930819Z"
    }
   },
   "id": "7699823ae45f1343",
   "execution_count": 18
  },
  {
   "cell_type": "code",
   "outputs": [
    {
     "name": "stdout",
     "output_type": "stream",
     "text": [
      "Tukey's HSD Pairwise Group Comparisons (95.0% Confidence Interval)\n",
      "Comparison  Statistic  p-value  Lower CI  Upper CI\n",
      " (0 - 1)     -0.617     0.611    -1.652     0.418\n",
      " (0 - 2)     -0.518     0.755    -1.509     0.472\n",
      " (0 - 3)     -1.398     0.000    -2.375    -0.422\n",
      " (0 - 4)      0.182     1.000    -0.895     1.259\n",
      " (0 - 5)     -0.561     0.835    -1.741     0.619\n",
      " (0 - 6)      0.068     1.000    -1.186     1.323\n",
      " (0 - 7)      0.046     1.000    -3.287     3.379\n",
      " (1 - 0)      0.617     0.611    -0.418     1.652\n",
      " (1 - 2)      0.099     1.000    -0.776     0.973\n",
      " (1 - 3)     -0.781     0.105    -1.640     0.077\n",
      " (1 - 4)      0.799     0.197    -0.172     1.771\n",
      " (1 - 5)      0.056     1.000    -1.028     1.140\n",
      " (1 - 6)      0.685     0.627    -0.479     1.850\n",
      " (1 - 7)      0.663     0.999    -2.637     3.963\n",
      " (2 - 0)      0.518     0.755    -0.472     1.509\n",
      " (2 - 1)     -0.099     1.000    -0.973     0.776\n",
      " (2 - 3)     -0.880     0.021    -1.685    -0.075\n",
      " (2 - 4)      0.700     0.293    -0.224     1.625\n",
      " (2 - 5)     -0.043     1.000    -1.084     0.999\n",
      " (2 - 6)      0.587     0.759    -0.539     1.713\n",
      " (2 - 7)      0.565     1.000    -2.722     3.851\n",
      " (3 - 0)      1.398     0.000     0.422     2.375\n",
      " (3 - 1)      0.781     0.105    -0.077     1.640\n",
      " (3 - 2)      0.880     0.021     0.075     1.685\n",
      " (3 - 4)      1.580     0.000     0.671     2.490\n",
      " (3 - 5)      0.837     0.207    -0.191     1.866\n",
      " (3 - 6)      1.467     0.002     0.353     2.580\n",
      " (3 - 7)      1.444     0.884    -1.838     4.727\n",
      " (4 - 0)     -0.182     1.000    -1.259     0.895\n",
      " (4 - 1)     -0.799     0.197    -1.771     0.172\n",
      " (4 - 2)     -0.700     0.293    -1.625     0.224\n",
      " (4 - 3)     -1.580     0.000    -2.490    -0.671\n",
      " (4 - 5)     -0.743     0.476    -1.867     0.381\n",
      " (4 - 6)     -0.114     1.000    -1.316     1.089\n",
      " (4 - 7)     -0.136     1.000    -3.449     3.178\n",
      " (5 - 0)      0.561     0.835    -0.619     1.741\n",
      " (5 - 1)     -0.056     1.000    -1.140     1.028\n",
      " (5 - 2)      0.043     1.000    -0.999     1.084\n",
      " (5 - 3)     -0.837     0.207    -1.866     0.191\n",
      " (5 - 4)      0.743     0.476    -0.381     1.867\n",
      " (5 - 6)      0.629     0.819    -0.666     1.925\n",
      " (5 - 7)      0.607     0.999    -2.741     3.955\n",
      " (6 - 0)     -0.068     1.000    -1.323     1.186\n",
      " (6 - 1)     -0.685     0.627    -1.850     0.479\n",
      " (6 - 2)     -0.587     0.759    -1.713     0.539\n",
      " (6 - 3)     -1.467     0.002    -2.580    -0.353\n",
      " (6 - 4)      0.114     1.000    -1.089     1.316\n",
      " (6 - 5)     -0.629     0.819    -1.925     0.666\n",
      " (6 - 7)     -0.022     1.000    -3.398     3.353\n",
      " (7 - 0)     -0.046     1.000    -3.379     3.287\n",
      " (7 - 1)     -0.663     0.999    -3.963     2.637\n",
      " (7 - 2)     -0.565     1.000    -3.851     2.722\n",
      " (7 - 3)     -1.444     0.884    -4.727     1.838\n",
      " (7 - 4)      0.136     1.000    -3.178     3.449\n",
      " (7 - 5)     -0.607     0.999    -3.955     2.741\n",
      " (7 - 6)      0.022     1.000    -3.353     3.398\n"
     ]
    }
   ],
   "source": [
    "print(results)"
   ],
   "metadata": {
    "collapsed": false,
    "ExecuteTime": {
     "end_time": "2025-05-12T15:25:13.359236Z",
     "start_time": "2025-05-12T15:25:13.351828Z"
    }
   },
   "id": "78dd91e7831e0d1f",
   "execution_count": 20
  },
  {
   "cell_type": "code",
   "outputs": [
    {
     "data": {
      "text/plain": "<Figure size 100x75 with 1 Axes>",
      "image/png": "[encoded data removed]"
     },
     "metadata": {},
     "output_type": "display_data"
    }
   ],
   "source": [
    "\n",
    "\n",
    "df = df.sort_values('cosmos')\n",
    "#df = df[df.silhouette>=.1] \n",
    "fig = plt.figure(figsize=(1,.75))\n",
    "gs = gridspec.GridSpec(1,1)\n",
    "ax=fig.add_subplot(gs[0,0])\n",
    "\n",
    "#sns.boxplot(data = df, x = 'cosmos',y='k',legend=True,linewidth=0.5,color='tab:blue',boxprops=dict(alpha=.5))\n",
    "sns.boxplot(data = df, x = 'cosmos',y='k',legend=True,linewidth=0.5,boxprops=dict(alpha=.75),fliersize=1,fill=True)\n",
    "#sns.stripplot(data = df, x = 'cosmos',y='k',s=1.5,color='gray')\n",
    "ax.xaxis.set_tick_params(labelsize=5,bottom=True)\n",
    "ax.yaxis.set_tick_params(labelsize=7,left=True)\n",
    "ax.spines['left'].set_color('black')\n",
    "ax.spines['bottom'].set_color('black')\n",
    "ax.tick_params(axis='x', labelrotation=90)\n",
    "ax.spines['right'].set_visible(False)\n",
    "ax.spines['top'].set_visible(False)\n",
    "ax.set_xlabel('Region', fontsize=8)\n",
    "ax.set_ylabel('k', fontsize=8)\n",
    "fig.savefig('/Users/cl1704/PycharmProjects/Clustering/Figures/SIFigure_anova_a.jpg',\n",
    "    format='jpeg',\n",
    "    dpi=450,\n",
    "            bbox_inches='tight'\n",
    ")\n",
    "#df.to_pickle('/Users/cl1704/PycharmProjects/int-brain-lab/beryl_df.pkl')  "
   ],
   "metadata": {
    "collapsed": false,
    "ExecuteTime": {
     "end_time": "2025-05-12T14:59:36.368775Z",
     "start_time": "2025-05-12T14:59:36.221502Z"
    }
   },
   "id": "b83aec17350db765",
   "execution_count": 14
  },
  {
   "cell_type": "code",
   "outputs": [],
   "source": [
    "df = pd.DataFrame((Experiment_1() ).proj('eid','beryl','cosmos','n_neurons','variance','inertia','n_trials','null_param','activity_std','k','responses','p','null_inertia').fetch())\n",
    "df = df[df.n_neurons>=50]\n",
    "\n",
    "counts = df.groupby(['beryl']).size().reset_index(name='c')\n",
    "acronyms = counts[(counts.c>=4)  ].beryl.values\n",
    "df = df[df.beryl.isin(acronyms)]\n",
    "df = df[df.cosmos!='void']\n",
    "df = df[df.cosmos!='OLF']\n",
    "\n",
    "df = df[df.cosmos==\"TH\"]\n",
    "df = df.sort_values('beryl')\n",
    "#df = df[df.silhouette>=.1] \n",
    "\n",
    "#df.to_pickle('/Users/cl1704/PycharmProjects/int-brain-lab/beryl_df.pkl')  "
   ],
   "metadata": {
    "collapsed": false,
    "ExecuteTime": {
     "end_time": "2025-05-12T15:27:04.013979Z",
     "start_time": "2025-05-12T15:26:52.307414Z"
    }
   },
   "id": "33ea191015727c38",
   "execution_count": 21
  },
  {
   "cell_type": "code",
   "outputs": [
    {
     "data": {
      "text/plain": "F_onewayResult(statistic=3.7985929354664822, pvalue=6.508398053472722e-05)"
     },
     "execution_count": 22,
     "metadata": {},
     "output_type": "execute_result"
    }
   ],
   "source": [
    "from scipy.stats import f_oneway\n",
    "groups = [df[df['beryl'] == g]['k'] for g in df['beryl'].unique()]\n",
    "f_oneway(*groups)"
   ],
   "metadata": {
    "collapsed": false,
    "ExecuteTime": {
     "end_time": "2025-05-12T15:27:22.232430Z",
     "start_time": "2025-05-12T15:27:22.228325Z"
    }
   },
   "id": "328f173dd525e424",
   "execution_count": 22
  },
  {
   "cell_type": "code",
   "outputs": [
    {
     "data": {
      "text/plain": "<Axes: >"
     },
     "execution_count": 24,
     "metadata": {},
     "output_type": "execute_result"
    },
    {
     "data": {
      "text/plain": "<Figure size 640x480 with 2 Axes>",
      "image/png": "[encoded data removed]"
     },
     "metadata": {},
     "output_type": "display_data"
    }
   ],
   "source": [
    "from scipy.stats import tukey_hsd\n",
    "results =tukey_hsd(*groups)\n",
    "\n",
    "plt.figure()\n",
    "sns.heatmap((results.pvalue<.05).astype(int),xticklabels = df['beryl'].unique(),yticklabels = df['beryl'].unique())"
   ],
   "metadata": {
    "collapsed": false,
    "ExecuteTime": {
     "end_time": "2025-05-12T15:27:54.721106Z",
     "start_time": "2025-05-12T15:27:53.508787Z"
    }
   },
   "id": "3885eb8afeb042af",
   "execution_count": 24
  },
  {
   "cell_type": "code",
   "outputs": [
    {
     "data": {
      "text/plain": "<Figure size 150x75 with 1 Axes>",
      "image/png": "[encoded data removed]"
     },
     "metadata": {},
     "output_type": "display_data"
    }
   ],
   "source": [
    "fig = plt.figure(figsize=(1.5,.75))\n",
    "gs = gridspec.GridSpec(1,1)\n",
    "ax=fig.add_subplot(gs[0,0])\n",
    "\n",
    "#sns.boxplot(data = df, x = 'cosmos',y='k',legend=True,linewidth=0.5,color='tab:blue',boxprops=dict(alpha=.5))\n",
    "sns.boxplot(data = df, x = 'beryl',y='k',legend=True,linewidth=0.5,boxprops=dict(alpha=.75),fliersize=1,fill=True)\n",
    "#sns.stripplot(data = df, x = 'cosmos',y='k',s=1.5,color='gray')\n",
    "ax.xaxis.set_tick_params(labelsize=5,bottom=True)\n",
    "ax.yaxis.set_tick_params(labelsize=7,left=True)\n",
    "ax.spines['left'].set_color('black')\n",
    "ax.spines['bottom'].set_color('black')\n",
    "ax.tick_params(axis='x', labelrotation=90)\n",
    "ax.spines['right'].set_visible(False)\n",
    "ax.spines['top'].set_visible(False)\n",
    "ax.set_xlabel('Region', fontsize=8)\n",
    "ax.set_ylabel('k', fontsize=8)\n",
    "fig.savefig('/Users/cl1704/PycharmProjects/Clustering/Figures/SIFigure_anova_a.jpg',\n",
    "    format='jpeg',\n",
    "    dpi=450,\n",
    "            bbox_inches='tight'\n",
    ")"
   ],
   "metadata": {
    "collapsed": false,
    "ExecuteTime": {
     "end_time": "2025-05-12T14:57:07.419977Z",
     "start_time": "2025-05-12T14:57:07.292427Z"
    }
   },
   "id": "cfc58f6750dbec35",
   "execution_count": 9
  },
  {
   "cell_type": "code",
   "outputs": [],
   "source": [
    "### Isocortex\n",
    "\n",
    "df = pd.DataFrame((Experiment_1() ).proj('eid','beryl','cosmos','n_neurons','variance','inertia','n_trials','null_param','activity_std','k','responses','p','null_inertia').fetch())\n",
    "df = df[df.n_neurons>=50]\n",
    "\n",
    "counts = df.groupby(['beryl']).size().reset_index(name='c')\n",
    "acronyms = counts[(counts.c>=4)  ].beryl.values\n",
    "df = df[df.beryl.isin(acronyms)]\n",
    "df = df[df.cosmos!='void']\n",
    "df = df[df.cosmos!='OLF']\n",
    "\n",
    "df = df[df.cosmos==\"Isocortex\"]\n",
    "df = df.sort_values('beryl')\n",
    "#df = df[df.silhouette>=.1] \n",
    "\n",
    "#df.to_pickle('/Users/cl1704/PycharmProjects/int-brain-lab/beryl_df.pkl')  "
   ],
   "metadata": {
    "collapsed": false,
    "ExecuteTime": {
     "end_time": "2025-05-12T15:29:39.775866Z",
     "start_time": "2025-05-12T15:29:31.669349Z"
    }
   },
   "id": "830a271098709eae",
   "execution_count": 25
  },
  {
   "cell_type": "code",
   "outputs": [
    {
     "data": {
      "text/plain": "F_onewayResult(statistic=1.2873718695325491, pvalue=0.22260540562996006)"
     },
     "execution_count": 26,
     "metadata": {},
     "output_type": "execute_result"
    }
   ],
   "source": [
    "groups = [df[df['beryl'] == g]['k'] for g in df['beryl'].unique()]\n",
    "f_oneway(*groups)"
   ],
   "metadata": {
    "collapsed": false,
    "ExecuteTime": {
     "end_time": "2025-05-12T15:29:41.821229Z",
     "start_time": "2025-05-12T15:29:41.812789Z"
    }
   },
   "id": "e3a68c50fb411f15",
   "execution_count": 26
  },
  {
   "cell_type": "code",
   "outputs": [],
   "source": [],
   "metadata": {
    "collapsed": false
   },
   "id": "3d0f04c91d86ce3a"
  }
 ],
 "metadata": {
  "kernelspec": {
   "display_name": "Python 3",
   "language": "python",
   "name": "python3"
  },
  "language_info": {
   "codemirror_mode": {
    "name": "ipython",
    "version": 2
   },
   "file_extension": ".py",
   "mimetype": "text/x-python",
   "name": "python",
   "nbconvert_exporter": "python",
   "pygments_lexer": "ipython2",
   "version": "2.7.6"
  }
 },
 "nbformat": 4,
 "nbformat_minor": 5
}
