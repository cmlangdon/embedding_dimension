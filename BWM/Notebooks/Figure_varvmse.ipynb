{
 "cells": [
  {
   "cell_type": "markdown",
   "source": [
    "### Figure\n",
    "#### K-Means error as a function of variance above dimension n"
   ],
   "metadata": {
    "collapsed": false
   },
   "id": "a552b4988810bcd7"
  },
  {
   "cell_type": "code",
   "outputs": [
    {
     "name": "stdout",
     "output_type": "stream",
     "text": [
      "/Users/cl1704/PycharmProjects/embedding_dimension/BWM\n"
     ]
    }
   ],
   "source": [
    "cd /Users/cl1704/PycharmProjects/embedding_dimension/BWM"
   ],
   "metadata": {
    "collapsed": false,
    "ExecuteTime": {
     "end_time": "2025-05-02T18:36:38.172049Z",
     "start_time": "2025-05-02T18:36:38.164976Z"
    }
   },
   "id": "23f342ce5a7caa24",
   "execution_count": 2
  },
  {
   "cell_type": "code",
   "outputs": [
    {
     "name": "stderr",
     "output_type": "stream",
     "text": [
      "[2025-05-02 14:36:38,578][INFO]: Connecting cl1704@datajoint-tengel.pni.princeton.edu:3306\n",
      "[2025-05-02 14:36:39,370][INFO]: Connected cl1704@datajoint-tengel.pni.princeton.edu:3306\n"
     ]
    }
   ],
   "source": [
    "import numpy as np\n",
    "import pandas as pd\n",
    "#from scipy.ndimage import gaussian_filter1d\n",
    "from sklearn.decomposition import PCA\n",
    "#from kneed import KneeLocator\n",
    "from sklearn.manifold import Isomap\n",
    "from matplotlib import gridspec\n",
    "from sklearn.manifold import TSNE\n",
    "from sklearn.cluster import KMeans\n",
    "from scipy.stats import special_ortho_group\n",
    "\n",
    "from scipy import stats\n",
    "import seaborn as sns\n",
    "import matplotlib.pyplot as plt\n",
    "from datajoint_tables import *\n",
    "import datajoint as dj_langdon\n",
    "dj_langdon.config['database.host'] = 'datajoint-tengel.pni.princeton.edu'\n",
    "dj_langdon.config['database.user'] = 'cl1704'\n",
    "dj_langdon.config['database.password'] = 'wuxty2-mYdxej-kerxaq'\n",
    "schema = dj_langdon.schema('langdon_ibl_manifold')\n",
    "schema.spawn_missing_classes()\n",
    "\n",
    "from sklearn.metrics import silhouette_score\n",
    "import os\n",
    "import scipy.optimize as opt\n",
    "plt.rcParams[\"axes.grid\"] = False\n",
    "import matplotlib\n",
    "matplotlib.rcParams['axes.linewidth'] = .75"
   ],
   "metadata": {
    "collapsed": false,
    "ExecuteTime": {
     "end_time": "2025-05-02T18:36:40.175604Z",
     "start_time": "2025-05-02T18:36:38.291093Z"
    }
   },
   "id": "7ca2f3aa55b60029",
   "execution_count": 3
  },
  {
   "cell_type": "code",
   "outputs": [],
   "source": [
    "original_df = pd.DataFrame((Experiment_1() ).proj('eid','beryl','cosmos','n_neurons','variance','inertia','n_trials','null_param','activity_std','k','responses','p','null_inertia').fetch())\n",
    "original_df = original_df[original_df.n_neurons>=50]\n",
    "original_df = original_df[original_df.activity_std<7]"
   ],
   "metadata": {
    "collapsed": false,
    "ExecuteTime": {
     "end_time": "2025-05-02T19:55:47.308795Z",
     "start_time": "2025-05-02T19:55:45.550608Z"
    }
   },
   "id": "65adb236c0a99b13",
   "execution_count": 68
  },
  {
   "cell_type": "code",
   "outputs": [
    {
     "name": "stdout",
     "output_type": "stream",
     "text": [
      "SSp-n\n",
      "SSp-n\n",
      "SSp-n\n",
      "SSp-n\n"
     ]
    },
    {
     "data": {
      "text/plain": "<Figure size 800x135 with 4 Axes>",
      "image/png": "[encoded data removed]"
     },
     "metadata": {},
     "output_type": "display_data"
    }
   ],
   "source": [
    "fig = plt.figure(figsize=(8,1.35))\n",
    "gs = gridspec.GridSpec(1,4,wspace = .5)\n",
    "ax0=fig.add_subplot(gs[0,0])\n",
    "ax1=fig.add_subplot(gs[0,1])\n",
    "ax2=fig.add_subplot(gs[0,2])\n",
    "ax3=fig.add_subplot(gs[0,3])\n",
    "axes = [ax0,ax1,ax2,ax3]\n",
    "\n",
    "\n",
    "for i in range(4):\n",
    "    ax = axes[i]\n",
    "    df = original_df.copy()\n",
    "    k = i+2\n",
    "    #df = df[df.k>=k]\n",
    "\n",
    "    #df['var'] = df.responses.apply(lambda x: compute_var(x,k)) \n",
    "    df['var'] = df.variance.apply(lambda x: 100*x[k-1]) \n",
    "    df['var_prev'] = df.variance.apply(lambda x: 100*x[k-2]) \n",
    "    df['k_inertia'] = df.inertia.apply(lambda x: 100*x[k-1])\n",
    "    df['z'] = (df.var_prev - df.var_prev.mean()) / np.std(df.var_prev)\n",
    "    q = df.var_prev.quantile(0.01)\n",
    "    df = df.sort_values('var_prev')\n",
    "    #df = df.iloc[2*k+2:,:]\n",
    "    print(df.beryl.values[0])\n",
    "    #df = df[df.var_prev>20]\n",
    "    #df['var']  = np.log(df['var'] )\n",
    "    #df = df[df.activity_std<5]\n",
    "    # df['p'] = df.apply(lambda x : compute_p(x['k'],x['inertia'],x['null_inertia']),axis=1)\n",
    "    \n",
    "    \n",
    "    #df = df[df['var']>-3]\n",
    "    #Get inertia for rotated data and k clusters\n",
    "    rows = []\n",
    "    for index, row in df.iterrows():\n",
    "        null = row['null_inertia']\n",
    "        for run in range(null.shape[1]):\n",
    "            rows.append({'eid':row['eid'],\n",
    "            'beryl': row['beryl'],\n",
    "                         'var':row['var'],\n",
    "            'run':run,\n",
    "            'inertia': 100*null[k-1,run]})\n",
    "    null_df = pd.DataFrame(rows)       \n",
    "\n",
    "    null_df = null_df.groupby(['eid','beryl']).mean().reset_index()\n",
    "   \n",
    "    def f(x, a,b,c,d,e):\n",
    "        #return a + c*np.log(1+np.exp(b * (x-d)))/b\n",
    "       # return a + c*np.log(1+np.exp(20 * (-x-b)))/20\n",
    "        #return  a + b/(1+np.exp(c*(x-d)))\n",
    "        return a+b*x+c*x**2\n",
    "        #return a + b*np.log(c*(x-d))\n",
    "        #return b*np.log(x-a)\n",
    "    \n",
    "    fit_rows = []\n",
    "    med = df['var'].quantile(1)\n",
    "    max = df['var'].quantile(1)\n",
    "    for sample in range(100):   \n",
    "        #try:\n",
    "        frac = 1\n",
    "        \n",
    "        x_values = np.linspace(0,med,20)\n",
    "        sample_df = df[df['var']<=med].sample(frac=frac)\n",
    "        x = sample_df['var'].values.astype(float)\n",
    "        y = sample_df.k_inertia.values\n",
    "\n",
    "        sample_null_df = null_df[null_df['var']<=med].sample(frac=frac)\n",
    "        x_null = sample_null_df['var'].values.astype(float)\n",
    "        y_null = sample_null_df.inertia.values\n",
    "\n",
    "        # bounds = ([0,0,0,-np.inf],\n",
    "        #           [1, np.inf,np.inf,0])\n",
    "        bounds = ([-np.inf,-np.inf,-np.inf],\n",
    "                  [np.inf,np.inf,np.inf])\n",
    "        try:\n",
    "            popt, pcov = opt.curve_fit(f, x, y, method=\"trf\",max_nfev=10000)\n",
    "            y_fit = f(x_values, *popt)\n",
    "\n",
    "            for step in range(20):\n",
    "                fit_rows.append({'sample':sample,\n",
    "                                 'step': step,\n",
    "                                 'k':k,\n",
    "                             'type': 1,\n",
    "                             'x':x_values[step],\n",
    "                             'y': y_fit[step],\n",
    "                             'a': f(df['var'].min(),*popt)})\n",
    "        except:\n",
    "            continue\n",
    "\n",
    "        try:\n",
    "            #popt, pcov = opt.curve_fit(f, x_null, y_null, method=\"trf\",max_nfev=10000)\n",
    "            popt, pcov = opt.curve_fit(f, x_null, y_null, method=\"trf\",max_nfev=10000)\n",
    "            y_fit = f(x_values, *popt)\n",
    "            for step in range(20):\n",
    "                fit_rows.append({'sample':sample,\n",
    "                                 'step':step,\n",
    "                                 'k':k,\n",
    "                             'type': 0,\n",
    "                             'x':x_values[step],\n",
    "                             'y': y_fit[step],\n",
    "                             'a':f(df['var'].min(),*popt)})\n",
    "        except:\n",
    "           continue\n",
    "\n",
    "    fit_df = pd.DataFrame(fit_rows)\n",
    "    # for k in range(4):\n",
    "    #     ax = axes[k]\n",
    "    sns.lineplot(data = fit_df[(fit_df.type==1) ], x= 'x', y='y',ax=ax,legend = False,lw=.35,color='tab:blue',alpha = 1,errorbar='sd')\n",
    "    sns.lineplot(data = fit_df[(fit_df.type==0)], x= 'x', y='y',ax=ax,legend = False,lw=.35,color='gray',alpha= 1, errorbar = None)\n",
    "\n",
    "    \n",
    "    sns.histplot(data=null_df, x='var',y='inertia',ax=ax,legend=False,color='gray',alpha=1,bins=(30,30))\n",
    "    #sns.histplot(data=df, x='var',y='k_inertia',ax=ax,legend=False,alpha=.75,bins=(35,35),color='gray')\n",
    "    sns.histplot(data=df, x='var',y='k_inertia',ax=ax,legend=False,alpha=1,bins=(30,30))\n",
    "    #sns.regplot(data=df, x=\"var\", y=\"k_inertia\", lowess=True,ax=ax,scatter_kws={'s':3,'alpha':.5})\n",
    "    #sns.histplot(data=df[df.cosmos=='TH'], x='var',y='k_inertia',ax=ax,legend=False,alpha=.75,color='red')\n",
    "\n",
    "\n",
    "    \n",
    "for ax in [ax0,ax1,ax2,ax3]:\n",
    "#     \n",
    "    ax.spines['right'].set_visible(False)\n",
    "    ax.spines['top'].set_visible(False)\n",
    "    ax.set_ylabel('', fontsize=8)\n",
    "    ax.xaxis.set_tick_params(labelsize=6,bottom=True)\n",
    "    ax.yaxis.set_tick_params(labelsize=6,left=True)\n",
    "    ax.spines['left'].set_color('black')\n",
    "    ax.spines['bottom'].set_color('black')\n",
    "   # plt.yticks(list(plt.yticks()[0]) + [5.0])\n",
    "    ax.set_ylim(-1,100)\n",
    "    #ax.set_xlim(-1,100)\n",
    "   \n",
    "ax1.set_yticklabels([])\n",
    "ax2.set_yticklabels([])\n",
    "ax3.set_yticklabels([])\n",
    "\n",
    "\n",
    "ax0.set_xlabel( r\"$\\sum_{i>2}\\lambda_i$\", fontsize=6)\n",
    "ax1.set_xlabel(r\"$\\sum_{i>3}\\lambda_i$\", fontsize=6)\n",
    "ax2.set_xlabel(r\"$\\sum_{i>4}\\lambda_i$\", fontsize=6)\n",
    "ax3.set_xlabel(r\"$\\sum_{i>5}\\lambda_i$\", fontsize=6)\n",
    "fig.savefig('/Users/cl1704/PycharmProjects/Clustering/Figures/MainFig_1_a.jpg',\n",
    "    format='jpeg',\n",
    "    dpi=450,\n",
    "            bbox_inches='tight'\n",
    "            )"
   ],
   "metadata": {
    "collapsed": false,
    "ExecuteTime": {
     "end_time": "2025-05-02T20:06:04.929197Z",
     "start_time": "2025-05-02T20:06:02.484071Z"
    }
   },
   "id": "b7fa046386309fa",
   "execution_count": 75
  },
  {
   "cell_type": "code",
   "outputs": [
    {
     "data": {
      "text/plain": "<Axes: xlabel='a', ylabel='Count'>"
     },
     "execution_count": 49,
     "metadata": {},
     "output_type": "execute_result"
    },
    {
     "data": {
      "text/plain": "<Figure size 640x480 with 1 Axes>",
      "image/png": "[encoded data removed]"
     },
     "metadata": {},
     "output_type": "display_data"
    }
   ],
   "source": [
    "plt.figure()\n",
    "sns.histplot(data = fit_df, x = 'a')"
   ],
   "metadata": {
    "collapsed": false,
    "ExecuteTime": {
     "end_time": "2025-05-02T19:15:27.129429Z",
     "start_time": "2025-05-02T19:15:27.036145Z"
    }
   },
   "id": "36515ec059782d1d",
   "execution_count": 49
  },
  {
   "cell_type": "code",
   "outputs": [
    {
     "data": {
      "text/plain": "      beryl     cosmos                                   eid  n_time  \\\n634   SSp-n  Isocortex  35ed605c-1a1a-47b1-86ff-2b56144f55af      10   \n645  SSp-ul  Isocortex  e56541a5-a6d5-4750-b1fe-f6b5257bfe7c      10   \n14    ANcr1         CB  a9138924-4395-4981-83d1-530f6ff7c8fc      10   \n693    VISp  Isocortex  07dc4b76-5b93-4a03-82a0-b3d9cc73f412      10   \n674     VCO         HB  71855308-7e54-41d7-a7a4-b042e78e3b4f      10   \n..      ...        ...                                   ...     ...   \n48      APN         MB  e1931de1-cf7b-49af-af33-2ade15e8abe7      10   \n415    ORBm  Isocortex  3f6e25ae-c007-4dc3-aa77-450fd5705046      10   \n17    ANcr2         CB  83d85891-bd75-4557-91b4-1cbb5f8bfc9d      10   \n514    PRNr         HB  15f742e1-1043-45c9-9504-f1e8a53c1744      10   \n600     SNc         MB  a92c4b1d-46bd-457e-a1f4-414265f0e2d4      10   \n\n     n_active  sigma trial_length  n_splits  null_param  \\\n634       100    2.0         0.50        25         1.0   \n645       100    2.0         0.50        25         1.0   \n14        100    2.0         0.50        25         1.0   \n693       100    2.0         0.50        25         1.0   \n674       100    2.0         0.50        25         1.0   \n..        ...    ...          ...       ...         ...   \n48        100    2.0         0.50        25         1.0   \n415       100    2.0         0.50        25         1.0   \n17        100    2.0         0.50        25         1.0   \n514       100    2.0         0.50        25         1.0   \n600       100    2.0         0.50        25         1.0   \n\n                                              variance  ...  \\\n634  [0.11757835522782162, 0.06662523166376577, 0.0...  ...   \n645  [0.17559382323820297, 0.12659288855678705, 0.0...  ...   \n14   [0.19570175214251329, 0.13119946275705271, 0.0...  ...   \n693  [0.3713338868407103, 0.1850088906662997, 0.118...  ...   \n674  [0.4415085953089621, 0.2648157334721474, 0.127...  ...   \n..                                                 ...  ...   \n48   [0.7236762406205933, 0.6034122602012053, 0.506...  ...   \n415  [0.7980841506688486, 0.6346671760999177, 0.494...  ...   \n17   [0.8326120270638526, 0.679708601358941, 0.5552...  ...   \n514  [0.8353499914851581, 0.69454030063002, 0.56474...  ...   \n600  [0.7998255885256949, 0.6546929342267345, 0.530...  ...   \n\n                                          null_inertia   k activity_std  \\\n634  [[0.996956710392738, 0.9960237152192334, 0.996...   1     0.444148   \n645  [[0.991080092702839, 0.9895028090793769, 0.967...   1     0.788856   \n14   [[0.985197297221326, 0.994010441669226, 0.9788...   1     7.311750   \n693  [[0.95751637625293, 0.9963771701630877, 0.9959...   2     3.577370   \n674  [[0.996450603801403, 0.9946813766155979, 0.987...   3    13.967900   \n..                                                 ...  ..          ...   \n48   [[0.9927426086938801, 0.9909316403268743, 0.98...  17     9.202400   \n415  [[0.9858934472773134, 0.9934070794425617, 0.98...  17     4.692150   \n17   [[0.9807890208276876, 0.9893340012531023, 0.98...  21    20.102500   \n514  [[0.9921547200156059, 0.9909516207890778, 0.98...  22     7.745150   \n600  [[0.9939175409853339, 0.992578159629464, 0.993...  19     4.585890   \n\n     n_neurons                                          responses  n_trials  \\\n634         90  [[-0.9942171951408938, -0.9942171951408938, -0...       522   \n645         50  [[-0.6555839919802758, -0.5593456614939574, -0...       583   \n14          67  [[-0.622399451209695, -0.622399451209695, -0.6...       884   \n693         68  [[-0.7399260946472193, -0.7399260946472193, -0...       692   \n674        192  [[-1.0662186389729307, -0.8851475366264534, -0...       516   \n..         ...                                                ...       ...   \n48         104  [[1.6308495894913522, 1.0334962308125097, 0.34...       688   \n415         87  [[-0.597949288838507, -0.597949288838507, -0.5...       401   \n17         369  [[0.5336799048265353, 0.5696285068171756, 0.38...       443   \n514        260  [[-0.10118209490519413, 0.057191144140061025, ...       826   \n600         95  [[-1.4519060034632656, -1.1680102411207285, -0...       800   \n\n           var   var_prev  k_inertia         z  \n634   2.129602   3.134416   6.169673 -3.343942  \n645   4.861489   6.428758   9.814170 -2.814777  \n14    4.910938   6.800251  10.452866 -2.755105  \n693   6.321929   8.747186  16.932239 -2.442371  \n674   6.647478   8.624500  24.211161 -2.462078  \n..         ...        ...        ...       ...  \n48   33.885226  41.944525  56.980812  2.890065  \n415  33.951872  41.416021  61.177065  2.805172  \n17   34.800891  43.344420  65.519858  3.114928  \n514  36.673037  45.013567  67.478676  3.383041  \n600  36.713958  44.250223  61.325038  3.260426  \n\n[744 rows x 22 columns]",
      "text/html": "<div>\n<style scoped>\n    .dataframe tbody tr th:only-of-type {\n        vertical-align: middle;\n    }\n\n    .dataframe tbody tr th {\n        vertical-align: top;\n    }\n\n    .dataframe thead th {\n        text-align: right;\n    }\n</style>\n<table border=\"1\" class=\"dataframe\">\n  <thead>\n    <tr style=\"text-align: right;\">\n      <th></th>\n      <th>beryl</th>\n      <th>cosmos</th>\n      <th>eid</th>\n      <th>n_time</th>\n      <th>n_active</th>\n      <th>sigma</th>\n      <th>trial_length</th>\n      <th>n_splits</th>\n      <th>null_param</th>\n      <th>variance</th>\n      <th>...</th>\n      <th>null_inertia</th>\n      <th>k</th>\n      <th>activity_std</th>\n      <th>n_neurons</th>\n      <th>responses</th>\n      <th>n_trials</th>\n      <th>var</th>\n      <th>var_prev</th>\n      <th>k_inertia</th>\n      <th>z</th>\n    </tr>\n  </thead>\n  <tbody>\n    <tr>\n      <th>634</th>\n      <td>SSp-n</td>\n      <td>Isocortex</td>\n      <td>35ed605c-1a1a-47b1-86ff-2b56144f55af</td>\n      <td>10</td>\n      <td>100</td>\n      <td>2.0</td>\n      <td>0.50</td>\n      <td>25</td>\n      <td>1.0</td>\n      <td>[0.11757835522782162, 0.06662523166376577, 0.0...</td>\n      <td>...</td>\n      <td>[[0.996956710392738, 0.9960237152192334, 0.996...</td>\n      <td>1</td>\n      <td>0.444148</td>\n      <td>90</td>\n      <td>[[-0.9942171951408938, -0.9942171951408938, -0...</td>\n      <td>522</td>\n      <td>2.129602</td>\n      <td>3.134416</td>\n      <td>6.169673</td>\n      <td>-3.343942</td>\n    </tr>\n    <tr>\n      <th>645</th>\n      <td>SSp-ul</td>\n      <td>Isocortex</td>\n      <td>e56541a5-a6d5-4750-b1fe-f6b5257bfe7c</td>\n      <td>10</td>\n      <td>100</td>\n      <td>2.0</td>\n      <td>0.50</td>\n      <td>25</td>\n      <td>1.0</td>\n      <td>[0.17559382323820297, 0.12659288855678705, 0.0...</td>\n      <td>...</td>\n      <td>[[0.991080092702839, 0.9895028090793769, 0.967...</td>\n      <td>1</td>\n      <td>0.788856</td>\n      <td>50</td>\n      <td>[[-0.6555839919802758, -0.5593456614939574, -0...</td>\n      <td>583</td>\n      <td>4.861489</td>\n      <td>6.428758</td>\n      <td>9.814170</td>\n      <td>-2.814777</td>\n    </tr>\n    <tr>\n      <th>14</th>\n      <td>ANcr1</td>\n      <td>CB</td>\n      <td>a9138924-4395-4981-83d1-530f6ff7c8fc</td>\n      <td>10</td>\n      <td>100</td>\n      <td>2.0</td>\n      <td>0.50</td>\n      <td>25</td>\n      <td>1.0</td>\n      <td>[0.19570175214251329, 0.13119946275705271, 0.0...</td>\n      <td>...</td>\n      <td>[[0.985197297221326, 0.994010441669226, 0.9788...</td>\n      <td>1</td>\n      <td>7.311750</td>\n      <td>67</td>\n      <td>[[-0.622399451209695, -0.622399451209695, -0.6...</td>\n      <td>884</td>\n      <td>4.910938</td>\n      <td>6.800251</td>\n      <td>10.452866</td>\n      <td>-2.755105</td>\n    </tr>\n    <tr>\n      <th>693</th>\n      <td>VISp</td>\n      <td>Isocortex</td>\n      <td>07dc4b76-5b93-4a03-82a0-b3d9cc73f412</td>\n      <td>10</td>\n      <td>100</td>\n      <td>2.0</td>\n      <td>0.50</td>\n      <td>25</td>\n      <td>1.0</td>\n      <td>[0.3713338868407103, 0.1850088906662997, 0.118...</td>\n      <td>...</td>\n      <td>[[0.95751637625293, 0.9963771701630877, 0.9959...</td>\n      <td>2</td>\n      <td>3.577370</td>\n      <td>68</td>\n      <td>[[-0.7399260946472193, -0.7399260946472193, -0...</td>\n      <td>692</td>\n      <td>6.321929</td>\n      <td>8.747186</td>\n      <td>16.932239</td>\n      <td>-2.442371</td>\n    </tr>\n    <tr>\n      <th>674</th>\n      <td>VCO</td>\n      <td>HB</td>\n      <td>71855308-7e54-41d7-a7a4-b042e78e3b4f</td>\n      <td>10</td>\n      <td>100</td>\n      <td>2.0</td>\n      <td>0.50</td>\n      <td>25</td>\n      <td>1.0</td>\n      <td>[0.4415085953089621, 0.2648157334721474, 0.127...</td>\n      <td>...</td>\n      <td>[[0.996450603801403, 0.9946813766155979, 0.987...</td>\n      <td>3</td>\n      <td>13.967900</td>\n      <td>192</td>\n      <td>[[-1.0662186389729307, -0.8851475366264534, -0...</td>\n      <td>516</td>\n      <td>6.647478</td>\n      <td>8.624500</td>\n      <td>24.211161</td>\n      <td>-2.462078</td>\n    </tr>\n    <tr>\n      <th>...</th>\n      <td>...</td>\n      <td>...</td>\n      <td>...</td>\n      <td>...</td>\n      <td>...</td>\n      <td>...</td>\n      <td>...</td>\n      <td>...</td>\n      <td>...</td>\n      <td>...</td>\n      <td>...</td>\n      <td>...</td>\n      <td>...</td>\n      <td>...</td>\n      <td>...</td>\n      <td>...</td>\n      <td>...</td>\n      <td>...</td>\n      <td>...</td>\n      <td>...</td>\n      <td>...</td>\n    </tr>\n    <tr>\n      <th>48</th>\n      <td>APN</td>\n      <td>MB</td>\n      <td>e1931de1-cf7b-49af-af33-2ade15e8abe7</td>\n      <td>10</td>\n      <td>100</td>\n      <td>2.0</td>\n      <td>0.50</td>\n      <td>25</td>\n      <td>1.0</td>\n      <td>[0.7236762406205933, 0.6034122602012053, 0.506...</td>\n      <td>...</td>\n      <td>[[0.9927426086938801, 0.9909316403268743, 0.98...</td>\n      <td>17</td>\n      <td>9.202400</td>\n      <td>104</td>\n      <td>[[1.6308495894913522, 1.0334962308125097, 0.34...</td>\n      <td>688</td>\n      <td>33.885226</td>\n      <td>41.944525</td>\n      <td>56.980812</td>\n      <td>2.890065</td>\n    </tr>\n    <tr>\n      <th>415</th>\n      <td>ORBm</td>\n      <td>Isocortex</td>\n      <td>3f6e25ae-c007-4dc3-aa77-450fd5705046</td>\n      <td>10</td>\n      <td>100</td>\n      <td>2.0</td>\n      <td>0.50</td>\n      <td>25</td>\n      <td>1.0</td>\n      <td>[0.7980841506688486, 0.6346671760999177, 0.494...</td>\n      <td>...</td>\n      <td>[[0.9858934472773134, 0.9934070794425617, 0.98...</td>\n      <td>17</td>\n      <td>4.692150</td>\n      <td>87</td>\n      <td>[[-0.597949288838507, -0.597949288838507, -0.5...</td>\n      <td>401</td>\n      <td>33.951872</td>\n      <td>41.416021</td>\n      <td>61.177065</td>\n      <td>2.805172</td>\n    </tr>\n    <tr>\n      <th>17</th>\n      <td>ANcr2</td>\n      <td>CB</td>\n      <td>83d85891-bd75-4557-91b4-1cbb5f8bfc9d</td>\n      <td>10</td>\n      <td>100</td>\n      <td>2.0</td>\n      <td>0.50</td>\n      <td>25</td>\n      <td>1.0</td>\n      <td>[0.8326120270638526, 0.679708601358941, 0.5552...</td>\n      <td>...</td>\n      <td>[[0.9807890208276876, 0.9893340012531023, 0.98...</td>\n      <td>21</td>\n      <td>20.102500</td>\n      <td>369</td>\n      <td>[[0.5336799048265353, 0.5696285068171756, 0.38...</td>\n      <td>443</td>\n      <td>34.800891</td>\n      <td>43.344420</td>\n      <td>65.519858</td>\n      <td>3.114928</td>\n    </tr>\n    <tr>\n      <th>514</th>\n      <td>PRNr</td>\n      <td>HB</td>\n      <td>15f742e1-1043-45c9-9504-f1e8a53c1744</td>\n      <td>10</td>\n      <td>100</td>\n      <td>2.0</td>\n      <td>0.50</td>\n      <td>25</td>\n      <td>1.0</td>\n      <td>[0.8353499914851581, 0.69454030063002, 0.56474...</td>\n      <td>...</td>\n      <td>[[0.9921547200156059, 0.9909516207890778, 0.98...</td>\n      <td>22</td>\n      <td>7.745150</td>\n      <td>260</td>\n      <td>[[-0.10118209490519413, 0.057191144140061025, ...</td>\n      <td>826</td>\n      <td>36.673037</td>\n      <td>45.013567</td>\n      <td>67.478676</td>\n      <td>3.383041</td>\n    </tr>\n    <tr>\n      <th>600</th>\n      <td>SNc</td>\n      <td>MB</td>\n      <td>a92c4b1d-46bd-457e-a1f4-414265f0e2d4</td>\n      <td>10</td>\n      <td>100</td>\n      <td>2.0</td>\n      <td>0.50</td>\n      <td>25</td>\n      <td>1.0</td>\n      <td>[0.7998255885256949, 0.6546929342267345, 0.530...</td>\n      <td>...</td>\n      <td>[[0.9939175409853339, 0.992578159629464, 0.993...</td>\n      <td>19</td>\n      <td>4.585890</td>\n      <td>95</td>\n      <td>[[-1.4519060034632656, -1.1680102411207285, -0...</td>\n      <td>800</td>\n      <td>36.713958</td>\n      <td>44.250223</td>\n      <td>61.325038</td>\n      <td>3.260426</td>\n    </tr>\n  </tbody>\n</table>\n<p>744 rows × 22 columns</p>\n</div>"
     },
     "execution_count": 13,
     "metadata": {},
     "output_type": "execute_result"
    }
   ],
   "source": [
    "df.sort_values('var')"
   ],
   "metadata": {
    "collapsed": false,
    "ExecuteTime": {
     "end_time": "2025-05-02T13:29:45.204408Z",
     "start_time": "2025-05-02T13:29:45.005962Z"
    }
   },
   "id": "da511ee7912de963",
   "execution_count": 13
  },
  {
   "cell_type": "code",
   "outputs": [],
   "source": [],
   "metadata": {
    "collapsed": false
   },
   "id": "2aeb95b3e93d85f7"
  }
 ],
 "metadata": {
  "kernelspec": {
   "display_name": "Python 3",
   "language": "python",
   "name": "python3"
  },
  "language_info": {
   "codemirror_mode": {
    "name": "ipython",
    "version": 2
   },
   "file_extension": ".py",
   "mimetype": "text/x-python",
   "name": "python",
   "nbconvert_exporter": "python",
   "pygments_lexer": "ipython2",
   "version": "2.7.6"
  }
 },
 "nbformat": 4,
 "nbformat_minor": 5
}
