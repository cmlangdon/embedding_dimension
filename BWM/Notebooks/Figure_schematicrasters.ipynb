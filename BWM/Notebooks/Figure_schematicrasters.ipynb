{
 "cells": [
  {
   "cell_type": "markdown",
   "source": [
    "### Figure\n",
    "#### Rasters for schematic "
   ],
   "metadata": {
    "collapsed": false
   },
   "id": "9c6e2b39df800422"
  },
  {
   "cell_type": "code",
   "outputs": [
    {
     "name": "stdout",
     "output_type": "stream",
     "text": [
      "/Users/cl1704/PycharmProjects/embedding_dimension/BWM\n"
     ]
    }
   ],
   "source": [
    "cd /Users/cl1704/PycharmProjects/embedding_dimension/BWM"
   ],
   "metadata": {
    "collapsed": false,
    "ExecuteTime": {
     "end_time": "2025-05-02T13:18:07.922259Z",
     "start_time": "2025-05-02T13:18:07.917497Z"
    }
   },
   "id": "9d1c9b01e802c002",
   "execution_count": 6
  },
  {
   "cell_type": "code",
   "outputs": [],
   "source": [
    "import datajoint as dj_langdon\n",
    "import numpy as np\n",
    "import pandas as pd\n",
    "from scipy.ndimage import gaussian_filter1d\n",
    "from scipy.stats import ks_2samp\n",
    "import matplotlib.pyplot as plt\n",
    "import seaborn as sns\n",
    "from datajoint_tables import *\n",
    "dj_langdon.config['database.host'] = 'datajoint-tengel.pni.princeton.edu'\n",
    "dj_langdon.config['database.user'] = 'cl1704'\n",
    "dj_langdon.config['database.password'] = 'wuxty2-mYdxej-kerxaq'\n",
    "schema = dj_langdon.schema('langdon_ibl_manifold')\n",
    "schema.spawn_missing_classes()"
   ],
   "metadata": {
    "collapsed": false,
    "ExecuteTime": {
     "end_time": "2025-05-02T13:18:20.474894Z",
     "start_time": "2025-05-02T13:18:19.947468Z"
    }
   },
   "id": "1f8ce11a1d5d7d1",
   "execution_count": 7
  },
  {
   "cell_type": "code",
   "outputs": [],
   "source": [
    "original_df = pd.DataFrame((Experiment_1() ).proj('eid','beryl','cosmos','n_neurons','variance','inertia','n_trials','null_param','activity_std','k','responses','p','null_inertia').fetch())\n",
    "original_df = original_df[original_df.n_neurons>=100]"
   ],
   "metadata": {
    "collapsed": false,
    "ExecuteTime": {
     "end_time": "2025-05-02T13:18:26.500033Z",
     "start_time": "2025-05-02T13:18:21.306544Z"
    }
   },
   "id": "2b483be62d41d626",
   "execution_count": 8
  },
  {
   "cell_type": "code",
   "outputs": [
    {
     "data": {
      "text/plain": "(268, 18)"
     },
     "execution_count": 9,
     "metadata": {},
     "output_type": "execute_result"
    }
   ],
   "source": [
    "original_df.shape"
   ],
   "metadata": {
    "collapsed": false,
    "ExecuteTime": {
     "end_time": "2025-05-02T13:18:40.331323Z",
     "start_time": "2025-05-02T13:18:40.323465Z"
    }
   },
   "id": "5f1ef716072a3c2c",
   "execution_count": 9
  },
  {
   "cell_type": "code",
   "outputs": [],
   "source": [
    "def session_data(eid):\n",
    "    data = (Session() & {'eid': eid}).fetch1()\n",
    "    stimon_times = data['stimon_times']\n",
    "    choices = data['choice']\n",
    "    contrasts = np.nan_to_num(-data['contrast_left'], copy=True, nan=1.0) * np.nan_to_num(\n",
    "        data['contrast_right'], copy=True, nan=1.0)\n",
    "    contrasts[contrasts == 0.] = 0\n",
    "    sides = np.sign(contrasts)\n",
    "    p_left = data['probability_left']\n",
    "    previous_choice = np.roll(choices,1)\n",
    "    return stimon_times, choices, sides\n",
    "\n",
    "\n",
    "\n",
    "\n",
    "def binned_trials(spike_times,stimon_times,choices,sides,n_time, trial_length):\n",
    "    statistics = []\n",
    "    p_values = []\n",
    "    for neuron in range(spike_times.shape[0]):\n",
    "        neuron_spikes = spike_times[neuron]\n",
    "        pre_spikes = []\n",
    "        post_spikes = []\n",
    "        for trial in range(1, len(stimon_times)):\n",
    "            # Align to stimon\n",
    "            pre_trial_spikes = neuron_spikes[np.logical_and(neuron_spikes > stimon_times[trial] - trial_length,\n",
    "                                                            neuron_spikes < stimon_times[trial])]\n",
    "            pre_spikes.append(len(pre_trial_spikes))\n",
    "\n",
    "            post_trial_spikes = neuron_spikes[np.logical_and(neuron_spikes > stimon_times[trial],\n",
    "                                                             neuron_spikes < stimon_times[trial] + trial_length)]\n",
    "            post_spikes.append(len(post_trial_spikes))\n",
    "\n",
    "        try:\n",
    "            statistic, p = ks_2samp(pre_spikes, post_spikes)\n",
    "            statistics.append(statistic)\n",
    "            p_values.append(p)\n",
    "        except:\n",
    "            statistics.append(0.0)\n",
    "            p_values.append(1.0)\n",
    "\n",
    "    statistics = np.array(statistics)\n",
    "    p_values = np.array(p_values)\n",
    "\n",
    "    good_units = np.argwhere(np.array(p_values) < .05)[:, 0]\n",
    "\n",
    "    rows = []\n",
    "    for neuron in good_units:\n",
    "        neuron_spikes = spike_times[neuron]\n",
    "        for trial in range(1,len(stimon_times)):\n",
    "            # Align to stimon\n",
    "            trial_spikes = neuron_spikes[np.logical_and(neuron_spikes > stimon_times[trial],\n",
    "                                                        neuron_spikes < stimon_times[trial] + trial_length)]\n",
    "            hist, _ = np.histogram(trial_spikes, bins=n_time,\n",
    "                                   range=(stimon_times[trial], stimon_times[trial] + trial_length))\n",
    "            response = hist * n_time / trial_length\n",
    "            rows.append({\n",
    "                'trial':trial,\n",
    "                'choice': choices[trial],\n",
    "                'side': sides[trial],\n",
    "                'neuron': neuron,\n",
    "                'response': response})\n",
    "\n",
    "    df = pd.DataFrame(rows)\n",
    "\n",
    "    return df"
   ],
   "metadata": {
    "collapsed": false,
    "ExecuteTime": {
     "end_time": "2025-04-30T16:49:02.156494Z",
     "start_time": "2025-04-30T16:49:02.149048Z"
    }
   },
   "id": "3160c6713b1392bf",
   "execution_count": 2
  },
  {
   "cell_type": "code",
   "outputs": [
    {
     "name": "stdout",
     "output_type": "stream",
     "text": [
      "646\n"
     ]
    },
    {
     "name": "stderr",
     "output_type": "stream",
     "text": [
      "/var/folders/9_/yjc4d8zx4tj6kw6h4xgj4zd80000gn/T/ipykernel_98821/3803476922.py:34: RuntimeWarning: ks_2samp: Exact calculation unsuccessful. Switching to method=asymp.\n",
      "  statistic, p = ks_2samp(pre_spikes, post_spikes)\n"
     ]
    }
   ],
   "source": [
    "n_time = 10\n",
    "n_splits = 10\n",
    "trial_length = .5\n",
    "n_active = 100\n",
    "beryl = 'ACAd'\n",
    "eid = '259927fd-7563-4b03-bc5d-17b4d0fa7a55'\n",
    "sigma = 2\n",
    "# Fetch data\n",
    "spike_times = (Cluster() & {'beryl': beryl} & {'eid': eid}).fetch('spike_times')\n",
    "stimon_times, choices, sides = session_data(eid)\n",
    "n_trials = len(choices)\n",
    "print(n_trials)\n",
    "# Build response matrix. \n",
    "response_df = binned_trials(spike_times, stimon_times, choices,\n",
    "                            sides, n_time, trial_length)"
   ],
   "metadata": {
    "collapsed": false,
    "ExecuteTime": {
     "end_time": "2025-04-30T16:51:18.187293Z",
     "start_time": "2025-04-30T16:51:13.367640Z"
    }
   },
   "id": "f3a397236d460a92",
   "execution_count": 16
  },
  {
   "cell_type": "code",
   "outputs": [],
   "source": [
    "response_df = response_df[response_df.trial<25]"
   ],
   "metadata": {
    "collapsed": false,
    "ExecuteTime": {
     "end_time": "2025-04-30T16:51:18.192116Z",
     "start_time": "2025-04-30T16:51:18.187958Z"
    }
   },
   "id": "5dc09aadff4d42d1",
   "execution_count": 17
  },
  {
   "cell_type": "code",
   "outputs": [],
   "source": [
    "response_df = response_df.groupby(['neuron'])['response'].apply(lambda x: np.hstack(x)).reset_index()"
   ],
   "metadata": {
    "collapsed": false,
    "ExecuteTime": {
     "end_time": "2025-04-30T16:51:18.196669Z",
     "start_time": "2025-04-30T16:51:18.193192Z"
    }
   },
   "id": "f8ed35109fb3222a",
   "execution_count": 18
  },
  {
   "cell_type": "code",
   "outputs": [],
   "source": [
    "responses = np.stack(response_df.response.values)"
   ],
   "metadata": {
    "collapsed": false,
    "ExecuteTime": {
     "end_time": "2025-04-30T16:51:18.200207Z",
     "start_time": "2025-04-30T16:51:18.197961Z"
    }
   },
   "id": "1fa74bea53e1c530",
   "execution_count": 19
  },
  {
   "cell_type": "code",
   "outputs": [
    {
     "data": {
      "text/plain": "<Figure size 640x480 with 2 Axes>",
      "image/png": "[encoded data removed]"
     },
     "metadata": {},
     "output_type": "display_data"
    }
   ],
   "source": [
    "plt.figure()\n",
    "sns.heatmap(responses,cmap='Greys_r')\n",
    "plt.savefig('/Users/cl1704/PycharmProjects/embedding_dimension/BWM/Figures/Figure_schematicraster.jpg',\n",
    "    format='jpeg',\n",
    "    dpi=450,\n",
    "    bbox_inches='tight'\n",
    "\n",
    "            )"
   ],
   "metadata": {
    "collapsed": false,
    "ExecuteTime": {
     "end_time": "2025-04-30T16:53:24.156846Z",
     "start_time": "2025-04-30T16:53:23.730562Z"
    }
   },
   "id": "1367f15072be6d5",
   "execution_count": 22
  },
  {
   "cell_type": "code",
   "outputs": [],
   "source": [],
   "metadata": {
    "collapsed": false
   },
   "id": "140dc4eb9561d2e0"
  }
 ],
 "metadata": {
  "kernelspec": {
   "display_name": "Python 3",
   "language": "python",
   "name": "python3"
  },
  "language_info": {
   "codemirror_mode": {
    "name": "ipython",
    "version": 2
   },
   "file_extension": ".py",
   "mimetype": "text/x-python",
   "name": "python",
   "nbconvert_exporter": "python",
   "pygments_lexer": "ipython2",
   "version": "2.7.6"
  }
 },
 "nbformat": 4,
 "nbformat_minor": 5
}
